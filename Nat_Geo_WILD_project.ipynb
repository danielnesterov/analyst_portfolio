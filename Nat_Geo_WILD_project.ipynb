{
 "cells": [
  {
   "cell_type": "markdown",
   "id": "e3bb9b56",
   "metadata": {},
   "source": [
    "# Анализ показателей YouTube-канала Nat Geo WILD\n",
    "![](https://yt3.googleusercontent.com/Cyj_vFn-diYInY0Ib2pfWsZphMi0h5DTfSoQWKtyUhfndXzv_6kfbbKR67OagtyHlkI8NYId=w2560-fcrop64=1,00005a57ffffa5a8-k-c0xffffffff-no-nd-rj)"
   ]
  },
  {
   "cell_type": "markdown",
   "id": "bdec17b9",
   "metadata": {},
   "source": [
    "[Nat Geo WILD](https://www.youtube.com/NatGeoWild) - это популярный YouTube-канал, на котором публикуются документальные фильмы и сериалы о животном мире и природе.\n",
    "\n",
    "В рамках проекта будут рассмотрены данные о полных выпусках (более 20 минут) за период май 2022 - сентябрь 2023 года. "
   ]
  },
  {
   "cell_type": "markdown",
   "id": "7fe84027",
   "metadata": {},
   "source": [
    "**Проблема**:\n",
    "\n",
    "Пользовательская активность в 2023 году снизилась: упали просмотры, лайки и комментарии. Необходимо разобраться в причинах снижения показателей. \n",
    "\n",
    "**Цели проекта**:\n",
    "\n",
    "1. Сравнить статистику канала за 2 года в разрезе месяцов, серий и выпусков.\n",
    "\n",
    "2. Определить высокорейтинговые и низкорейтинговые серии.\n",
    "\n",
    "3. Проверить гипотезы о снижении пользовательской активности в 2023 году.\n",
    "\n",
    "**План проекта**:\n",
    "\n",
    "1. [Обзор и предобработка данных](#section2)\n",
    "\n",
    "2. [Анализ данных](#section3)\n",
    "\n",
    "3. [Проверка гипотез](#section4)\n",
    "\n",
    "4. [Общие выводы](#section5)\n",
    "\n",
    "5. [Рекомендации](#section6)"
   ]
  },
  {
   "cell_type": "markdown",
   "id": "80bdae24",
   "metadata": {},
   "source": [
    "<a id='section2'></a>\n",
    "# Обзор и предобработка данных  \n",
    "## Импорт библиотек"
   ]
  },
  {
   "cell_type": "code",
   "execution_count": 1,
   "id": "a97c3825",
   "metadata": {},
   "outputs": [],
   "source": [
    "import pandas as pd\n",
    "import datetime as dt                               # для работы с датой \n",
    "import seaborn as sns                               # для визуализации данных\n",
    "from matplotlib import pyplot as plt                # для визуализации данных\n",
    "%matplotlib inline\n",
    "\n",
    "import warnings                                     # для предупреждений в программе \n",
    "warnings.filterwarnings('ignore')                   # игнорировать предупреждения\n",
    "\n",
    "# с помощью pd.option настроим вывод так чтобы\n",
    "pd.options.display.max_columns = None               # чтобы не обрезались колонки\n",
    "pd.options.display.max_rows = None                  # чтобы видеть все содержимое вывода\n",
    "pd.options.display.max_colwidth = -1                # текст в ячейке отражался полностью вне зависимости от длины;\n",
    "pd.options.display.float_format = '{:.2f}'.format   # все числа отражались с двумя знаками после запятой."
   ]
  },
  {
   "cell_type": "code",
   "execution_count": 2,
   "id": "65f26af7",
   "metadata": {
    "scrolled": true
   },
   "outputs": [],
   "source": [
    "data = pd.read_csv('downloads/Nat_Geo_WILD_data_file/data.csv',sep=';')"
   ]
  },
  {
   "cell_type": "code",
   "execution_count": 3,
   "id": "c9b6b97e",
   "metadata": {
    "scrolled": false
   },
   "outputs": [
    {
     "name": "stdout",
     "output_type": "stream",
     "text": [
      "5 первых строк таблицы:\n"
     ]
    },
    {
     "data": {
      "text/html": [
       "<div>\n",
       "<style scoped>\n",
       "    .dataframe tbody tr th:only-of-type {\n",
       "        vertical-align: middle;\n",
       "    }\n",
       "\n",
       "    .dataframe tbody tr th {\n",
       "        vertical-align: top;\n",
       "    }\n",
       "\n",
       "    .dataframe thead th {\n",
       "        text-align: right;\n",
       "    }\n",
       "</style>\n",
       "<table border=\"1\" class=\"dataframe\">\n",
       "  <thead>\n",
       "    <tr style=\"text-align: right;\">\n",
       "      <th></th>\n",
       "      <th>title</th>\n",
       "      <th>likes</th>\n",
       "      <th>views</th>\n",
       "      <th>comments</th>\n",
       "      <th>duration</th>\n",
       "      <th>created_at</th>\n",
       "      <th>observation_date</th>\n",
       "    </tr>\n",
       "  </thead>\n",
       "  <tbody>\n",
       "    <tr>\n",
       "      <th>0</th>\n",
       "      <td>Shark Attack: California Coast Carnage (Full Episode) | When Sharks Attack</td>\n",
       "      <td>463</td>\n",
       "      <td>17010</td>\n",
       "      <td>26</td>\n",
       "      <td>44:25</td>\n",
       "      <td>07-09-2023</td>\n",
       "      <td>09-09-2023</td>\n",
       "    </tr>\n",
       "    <tr>\n",
       "      <th>1</th>\n",
       "      <td>In the Operating Room: A White Bengal Tiger Emergency (Full Episode) | Animal ER</td>\n",
       "      <td>427</td>\n",
       "      <td>13824</td>\n",
       "      <td>18</td>\n",
       "      <td>44:36</td>\n",
       "      <td>31-08-2023</td>\n",
       "      <td>09-09-2023</td>\n",
       "    </tr>\n",
       "    <tr>\n",
       "      <th>2</th>\n",
       "      <td>The Vet Detective and the Amputee Alligator (Full Episode) | The Wild Life of Dr. Ole</td>\n",
       "      <td>485</td>\n",
       "      <td>20340</td>\n",
       "      <td>16</td>\n",
       "      <td>44:24</td>\n",
       "      <td>24-08-2023</td>\n",
       "      <td>09-09-2023</td>\n",
       "    </tr>\n",
       "    <tr>\n",
       "      <th>3</th>\n",
       "      <td>Tortoise Surgery, Chinchilla Emergency, and the Chicken (Full Episode) | Dr. K's Exotic Animal ER</td>\n",
       "      <td>462</td>\n",
       "      <td>20611</td>\n",
       "      <td>15</td>\n",
       "      <td>44:24</td>\n",
       "      <td>17-08-2023</td>\n",
       "      <td>09-09-2023</td>\n",
       "    </tr>\n",
       "    <tr>\n",
       "      <th>4</th>\n",
       "      <td>Salmon Slaughterhouse: Black Bear Survival (Full Episode) | Alaska's Grizzly Gauntlet</td>\n",
       "      <td>662</td>\n",
       "      <td>31088</td>\n",
       "      <td>27</td>\n",
       "      <td>44:24</td>\n",
       "      <td>14-08-2023</td>\n",
       "      <td>09-09-2023</td>\n",
       "    </tr>\n",
       "  </tbody>\n",
       "</table>\n",
       "</div>"
      ],
      "text/plain": [
       "                                                                                               title  \\\n",
       "0  Shark Attack: California Coast Carnage (Full Episode) | When Sharks Attack                          \n",
       "1  In the Operating Room: A White Bengal Tiger Emergency (Full Episode) | Animal ER                    \n",
       "2  The Vet Detective and the Amputee Alligator (Full Episode) | The Wild Life of Dr. Ole               \n",
       "3  Tortoise Surgery, Chinchilla Emergency, and the Chicken (Full Episode) | Dr. K's Exotic Animal ER   \n",
       "4  Salmon Slaughterhouse: Black Bear Survival (Full Episode) | Alaska's Grizzly Gauntlet               \n",
       "\n",
       "   likes  views  comments duration  created_at observation_date  \n",
       "0  463    17010  26        44:25    07-09-2023  09-09-2023       \n",
       "1  427    13824  18        44:36    31-08-2023  09-09-2023       \n",
       "2  485    20340  16        44:24    24-08-2023  09-09-2023       \n",
       "3  462    20611  15        44:24    17-08-2023  09-09-2023       \n",
       "4  662    31088  27        44:24    14-08-2023  09-09-2023       "
      ]
     },
     "metadata": {},
     "output_type": "display_data"
    },
    {
     "name": "stdout",
     "output_type": "stream",
     "text": [
      "Статистика данных:\n"
     ]
    },
    {
     "data": {
      "text/html": [
       "<div>\n",
       "<style scoped>\n",
       "    .dataframe tbody tr th:only-of-type {\n",
       "        vertical-align: middle;\n",
       "    }\n",
       "\n",
       "    .dataframe tbody tr th {\n",
       "        vertical-align: top;\n",
       "    }\n",
       "\n",
       "    .dataframe thead th {\n",
       "        text-align: right;\n",
       "    }\n",
       "</style>\n",
       "<table border=\"1\" class=\"dataframe\">\n",
       "  <thead>\n",
       "    <tr style=\"text-align: right;\">\n",
       "      <th></th>\n",
       "      <th>count</th>\n",
       "      <th>mean</th>\n",
       "      <th>std</th>\n",
       "      <th>min</th>\n",
       "      <th>25%</th>\n",
       "      <th>50%</th>\n",
       "      <th>75%</th>\n",
       "      <th>max</th>\n",
       "    </tr>\n",
       "  </thead>\n",
       "  <tbody>\n",
       "    <tr>\n",
       "      <th>likes</th>\n",
       "      <td>100.00</td>\n",
       "      <td>7099.97</td>\n",
       "      <td>13937.68</td>\n",
       "      <td>174.00</td>\n",
       "      <td>597.75</td>\n",
       "      <td>1750.00</td>\n",
       "      <td>5025.00</td>\n",
       "      <td>79000.00</td>\n",
       "    </tr>\n",
       "    <tr>\n",
       "      <th>views</th>\n",
       "      <td>100.00</td>\n",
       "      <td>1030913.53</td>\n",
       "      <td>2370997.79</td>\n",
       "      <td>8879.00</td>\n",
       "      <td>33069.50</td>\n",
       "      <td>88919.50</td>\n",
       "      <td>629260.00</td>\n",
       "      <td>13260600.00</td>\n",
       "    </tr>\n",
       "    <tr>\n",
       "      <th>comments</th>\n",
       "      <td>100.00</td>\n",
       "      <td>203.02</td>\n",
       "      <td>380.80</td>\n",
       "      <td>5.00</td>\n",
       "      <td>20.00</td>\n",
       "      <td>53.00</td>\n",
       "      <td>244.75</td>\n",
       "      <td>2779.00</td>\n",
       "    </tr>\n",
       "  </tbody>\n",
       "</table>\n",
       "</div>"
      ],
      "text/plain": [
       "          count       mean        std     min      25%      50%       75%  \\\n",
       "likes    100.00 7099.97    13937.68   174.00  597.75   1750.00  5025.00     \n",
       "views    100.00 1030913.53 2370997.79 8879.00 33069.50 88919.50 629260.00   \n",
       "comments 100.00 203.02     380.80     5.00    20.00    53.00    244.75      \n",
       "\n",
       "                 max  \n",
       "likes    79000.00     \n",
       "views    13260600.00  \n",
       "comments 2779.00      "
      ]
     },
     "metadata": {},
     "output_type": "display_data"
    },
    {
     "data": {
      "text/html": [
       "<div>\n",
       "<style scoped>\n",
       "    .dataframe tbody tr th:only-of-type {\n",
       "        vertical-align: middle;\n",
       "    }\n",
       "\n",
       "    .dataframe tbody tr th {\n",
       "        vertical-align: top;\n",
       "    }\n",
       "\n",
       "    .dataframe thead th {\n",
       "        text-align: right;\n",
       "    }\n",
       "</style>\n",
       "<table border=\"1\" class=\"dataframe\">\n",
       "  <thead>\n",
       "    <tr style=\"text-align: right;\">\n",
       "      <th></th>\n",
       "      <th>count</th>\n",
       "      <th>unique</th>\n",
       "      <th>top</th>\n",
       "      <th>freq</th>\n",
       "    </tr>\n",
       "  </thead>\n",
       "  <tbody>\n",
       "    <tr>\n",
       "      <th>title</th>\n",
       "      <td>100</td>\n",
       "      <td>100</td>\n",
       "      <td>Shark Attack: California Coast Carnage (Full Episode) | When Sharks Attack</td>\n",
       "      <td>1</td>\n",
       "    </tr>\n",
       "    <tr>\n",
       "      <th>duration</th>\n",
       "      <td>100</td>\n",
       "      <td>20</td>\n",
       "      <td>44:24</td>\n",
       "      <td>49</td>\n",
       "    </tr>\n",
       "    <tr>\n",
       "      <th>created_at</th>\n",
       "      <td>100</td>\n",
       "      <td>100</td>\n",
       "      <td>07-09-2023</td>\n",
       "      <td>1</td>\n",
       "    </tr>\n",
       "    <tr>\n",
       "      <th>observation_date</th>\n",
       "      <td>100</td>\n",
       "      <td>1</td>\n",
       "      <td>09-09-2023</td>\n",
       "      <td>100</td>\n",
       "    </tr>\n",
       "  </tbody>\n",
       "</table>\n",
       "</div>"
      ],
      "text/plain": [
       "                 count unique  \\\n",
       "title             100   100     \n",
       "duration          100   20      \n",
       "created_at        100   100     \n",
       "observation_date  100   1       \n",
       "\n",
       "                                                                                         top  \\\n",
       "title             Shark Attack: California Coast Carnage (Full Episode) | When Sharks Attack   \n",
       "duration          44:24                                                                        \n",
       "created_at        07-09-2023                                                                   \n",
       "observation_date  09-09-2023                                                                   \n",
       "\n",
       "                 freq  \n",
       "title             1    \n",
       "duration          49   \n",
       "created_at        1    \n",
       "observation_date  100  "
      ]
     },
     "metadata": {},
     "output_type": "display_data"
    },
    {
     "name": "stdout",
     "output_type": "stream",
     "text": [
      "Общая информация о данных:\n",
      "<class 'pandas.core.frame.DataFrame'>\n",
      "RangeIndex: 100 entries, 0 to 99\n",
      "Data columns (total 7 columns):\n",
      " #   Column            Non-Null Count  Dtype \n",
      "---  ------            --------------  ----- \n",
      " 0   title             100 non-null    object\n",
      " 1   likes             100 non-null    int64 \n",
      " 2   views             100 non-null    int64 \n",
      " 3   comments          100 non-null    int64 \n",
      " 4   duration          100 non-null    object\n",
      " 5   created_at        100 non-null    object\n",
      " 6   observation_date  100 non-null    object\n",
      "dtypes: int64(3), object(4)\n",
      "memory usage: 5.6+ KB\n"
     ]
    }
   ],
   "source": [
    "def info_df(dataframe):\n",
    "    print(\"5 первых строк таблицы:\")\n",
    "    display(dataframe.head())\n",
    "    print(\"Статистика данных:\")\n",
    "    display(dataframe.describe().T)\n",
    "    display(dataframe.describe(include='object').T)\n",
    "    print(\"Общая информация о данных:\")\n",
    "    dataframe.info()\n",
    "    \n",
    "info_df(data)"
   ]
  },
  {
   "cell_type": "markdown",
   "id": "4edb7050",
   "metadata": {},
   "source": [
    "## Описание данных\n",
    "\n",
    "`title` - название видео в формате *эпизод | серия*;\n",
    "\n",
    "`likes` - количество лайков под видео  на момент сбора данных;\n",
    "\n",
    "`views` - количество просмотров видео на момент сбора данных;\n",
    "\n",
    "`comments` - количество комментариев под видео на момент сбора данных;\n",
    "\n",
    "`duration` - длительность видео в формате *мин:сек*;\n",
    "\n",
    "`created_at` - дата публикации видео в формате *день-месяц-год*;\n",
    "\n",
    "`observation_date` - дата выгрузки данных в формате *день-месяц-год*.\n"
   ]
  },
  {
   "cell_type": "markdown",
   "id": "4d4f6e3c",
   "metadata": {},
   "source": [
    "## Изменение типа данных\n",
    "Исправим тип данных в столбцах `created_at` и `observation_date` на *datetime*"
   ]
  },
  {
   "cell_type": "code",
   "execution_count": 4,
   "id": "34229d7c",
   "metadata": {
    "scrolled": true
   },
   "outputs": [
    {
     "name": "stdout",
     "output_type": "stream",
     "text": [
      "<class 'pandas.core.frame.DataFrame'>\n",
      "RangeIndex: 100 entries, 0 to 99\n",
      "Data columns (total 7 columns):\n",
      " #   Column            Non-Null Count  Dtype         \n",
      "---  ------            --------------  -----         \n",
      " 0   title             100 non-null    object        \n",
      " 1   likes             100 non-null    int64         \n",
      " 2   views             100 non-null    int64         \n",
      " 3   comments          100 non-null    int64         \n",
      " 4   duration          100 non-null    object        \n",
      " 5   created_at        100 non-null    datetime64[ns]\n",
      " 6   observation_date  100 non-null    datetime64[ns]\n",
      "dtypes: datetime64[ns](2), int64(3), object(2)\n",
      "memory usage: 5.6+ KB\n"
     ]
    }
   ],
   "source": [
    "data['observation_date'] = pd.to_datetime(data['observation_date'])\n",
    "data['created_at'] = data['created_at'].map(lambda x: dt.datetime.strptime(x, '%d-%m-%Y'))\n",
    "\n",
    "data.info()"
   ]
  },
  {
   "cell_type": "markdown",
   "id": "d331edba",
   "metadata": {},
   "source": [
    "## Создание колонки `month` и `year`\n",
    "`month`- месяц публикации видео;\n",
    "\n",
    "`year` - год публикации видео."
   ]
  },
  {
   "cell_type": "code",
   "execution_count": 5,
   "id": "98b30f7e",
   "metadata": {},
   "outputs": [
    {
     "data": {
      "text/html": [
       "<div>\n",
       "<style scoped>\n",
       "    .dataframe tbody tr th:only-of-type {\n",
       "        vertical-align: middle;\n",
       "    }\n",
       "\n",
       "    .dataframe tbody tr th {\n",
       "        vertical-align: top;\n",
       "    }\n",
       "\n",
       "    .dataframe thead th {\n",
       "        text-align: right;\n",
       "    }\n",
       "</style>\n",
       "<table border=\"1\" class=\"dataframe\">\n",
       "  <thead>\n",
       "    <tr style=\"text-align: right;\">\n",
       "      <th></th>\n",
       "      <th>title</th>\n",
       "      <th>likes</th>\n",
       "      <th>views</th>\n",
       "      <th>comments</th>\n",
       "      <th>duration</th>\n",
       "      <th>created_at</th>\n",
       "      <th>observation_date</th>\n",
       "      <th>month</th>\n",
       "      <th>year</th>\n",
       "    </tr>\n",
       "  </thead>\n",
       "  <tbody>\n",
       "    <tr>\n",
       "      <th>0</th>\n",
       "      <td>Shark Attack: California Coast Carnage (Full Episode) | When Sharks Attack</td>\n",
       "      <td>463</td>\n",
       "      <td>17010</td>\n",
       "      <td>26</td>\n",
       "      <td>44:25</td>\n",
       "      <td>2023-09-07</td>\n",
       "      <td>2023-09-09</td>\n",
       "      <td>9</td>\n",
       "      <td>2023</td>\n",
       "    </tr>\n",
       "    <tr>\n",
       "      <th>1</th>\n",
       "      <td>In the Operating Room: A White Bengal Tiger Emergency (Full Episode) | Animal ER</td>\n",
       "      <td>427</td>\n",
       "      <td>13824</td>\n",
       "      <td>18</td>\n",
       "      <td>44:36</td>\n",
       "      <td>2023-08-31</td>\n",
       "      <td>2023-09-09</td>\n",
       "      <td>8</td>\n",
       "      <td>2023</td>\n",
       "    </tr>\n",
       "    <tr>\n",
       "      <th>2</th>\n",
       "      <td>The Vet Detective and the Amputee Alligator (Full Episode) | The Wild Life of Dr. Ole</td>\n",
       "      <td>485</td>\n",
       "      <td>20340</td>\n",
       "      <td>16</td>\n",
       "      <td>44:24</td>\n",
       "      <td>2023-08-24</td>\n",
       "      <td>2023-09-09</td>\n",
       "      <td>8</td>\n",
       "      <td>2023</td>\n",
       "    </tr>\n",
       "  </tbody>\n",
       "</table>\n",
       "</div>"
      ],
      "text/plain": [
       "                                                                                   title  \\\n",
       "0  Shark Attack: California Coast Carnage (Full Episode) | When Sharks Attack              \n",
       "1  In the Operating Room: A White Bengal Tiger Emergency (Full Episode) | Animal ER        \n",
       "2  The Vet Detective and the Amputee Alligator (Full Episode) | The Wild Life of Dr. Ole   \n",
       "\n",
       "   likes  views  comments duration created_at observation_date  month  year  \n",
       "0  463    17010  26        44:25   2023-09-07 2023-09-09        9      2023  \n",
       "1  427    13824  18        44:36   2023-08-31 2023-09-09        8      2023  \n",
       "2  485    20340  16        44:24   2023-08-24 2023-09-09        8      2023  "
      ]
     },
     "execution_count": 5,
     "metadata": {},
     "output_type": "execute_result"
    }
   ],
   "source": [
    "data['month'] = data['created_at'].dt.month\n",
    "data['year'] = data['created_at'].dt.year\n",
    "\n",
    "data.head(3)"
   ]
  },
  {
   "cell_type": "markdown",
   "id": "0d2bf05c",
   "metadata": {},
   "source": [
    "## Временное распределение данных\n",
    "Посмотрим, в каком временном интервале находятся данные"
   ]
  },
  {
   "cell_type": "code",
   "execution_count": 6,
   "id": "788f2f63",
   "metadata": {
    "scrolled": true
   },
   "outputs": [
    {
     "name": "stdout",
     "output_type": "stream",
     "text": [
      "Минимальная дата публикации: 2022-05-02 00:00:00\n",
      "Максимальная дата публикации: 2023-09-07 00:00:00\n"
     ]
    }
   ],
   "source": [
    "print('Минимальная дата публикации:', data['created_at'].min())\n",
    "print('Максимальная дата публикации:', data['created_at'].max())"
   ]
  },
  {
   "cell_type": "markdown",
   "id": "4b485d5d",
   "metadata": {},
   "source": [
    "В датесете имеются данные за первую неделю сентября 2023 года, этого недостаточно для включения сентября в анализ, поэтому исключим его из выборки"
   ]
  },
  {
   "cell_type": "code",
   "execution_count": 7,
   "id": "100ec446",
   "metadata": {},
   "outputs": [
    {
     "name": "stdout",
     "output_type": "stream",
     "text": [
      "Число строк до обработки: 100\n",
      "Число строк после обработки: 99\n"
     ]
    }
   ],
   "source": [
    "print('Число строк до обработки:', data.shape[0])\n",
    "\n",
    "data = data.query('not (month == 9 and year == 2023)')\n",
    "data = data.reset_index(drop = True)\n",
    "\n",
    "print('Число строк после обработки:',data.shape[0])"
   ]
  },
  {
   "cell_type": "markdown",
   "id": "3e969de2",
   "metadata": {},
   "source": [
    "Посмотрим, сколько выпусков вышло в 2022 и 2023 году"
   ]
  },
  {
   "cell_type": "code",
   "execution_count": 8,
   "id": "03662428",
   "metadata": {},
   "outputs": [
    {
     "data": {
      "text/html": [
       "<div>\n",
       "<style scoped>\n",
       "    .dataframe tbody tr th:only-of-type {\n",
       "        vertical-align: middle;\n",
       "    }\n",
       "\n",
       "    .dataframe tbody tr th {\n",
       "        vertical-align: top;\n",
       "    }\n",
       "\n",
       "    .dataframe thead th {\n",
       "        text-align: right;\n",
       "    }\n",
       "</style>\n",
       "<table border=\"1\" class=\"dataframe\">\n",
       "  <thead>\n",
       "    <tr style=\"text-align: right;\">\n",
       "      <th></th>\n",
       "      <th>year</th>\n",
       "      <th>title</th>\n",
       "    </tr>\n",
       "  </thead>\n",
       "  <tbody>\n",
       "    <tr>\n",
       "      <th>0</th>\n",
       "      <td>2022</td>\n",
       "      <td>66</td>\n",
       "    </tr>\n",
       "    <tr>\n",
       "      <th>1</th>\n",
       "      <td>2023</td>\n",
       "      <td>33</td>\n",
       "    </tr>\n",
       "  </tbody>\n",
       "</table>\n",
       "</div>"
      ],
      "text/plain": [
       "   year  title\n",
       "0  2022  66   \n",
       "1  2023  33   "
      ]
     },
     "execution_count": 8,
     "metadata": {},
     "output_type": "execute_result"
    }
   ],
   "source": [
    "data.groupby('year', as_index = False).agg({'title':'nunique'})"
   ]
  },
  {
   "cell_type": "markdown",
   "id": "db7c42e9",
   "metadata": {},
   "source": [
    " В 2022 году вышло 66 выпусков, в 2023 - 33."
   ]
  },
  {
   "cell_type": "markdown",
   "id": "db2753c7",
   "metadata": {},
   "source": [
    "## Создание колонки `series`\n",
    "\n",
    "Создадим колонку `series`, в которой будет отображена серия выпусков.\n",
    "\n",
    "Для начала создадим список  `chapter` с уникальными названиями фильмов и пустой список `empty`"
   ]
  },
  {
   "cell_type": "code",
   "execution_count": 9,
   "id": "de93fb8e",
   "metadata": {},
   "outputs": [
    {
     "data": {
      "text/plain": [
       "['In the Operating Room: A White Bengal Tiger Emergency (Full Episode) | Animal ER',\n",
       " 'The Vet Detective and the Amputee Alligator (Full Episode) | The Wild Life of Dr. Ole',\n",
       " \"Tortoise Surgery, Chinchilla Emergency, and the Chicken (Full Episode) | Dr. K's Exotic Animal ER\",\n",
       " \"Salmon Slaughterhouse: Black Bear Survival (Full Episode) | Alaska's Grizzly Gauntlet\",\n",
       " 'A Fungus Among Us (Full Episode) | Pop Goes the Vet with Dr. Joya']"
      ]
     },
     "execution_count": 9,
     "metadata": {},
     "output_type": "execute_result"
    }
   ],
   "source": [
    "chapter = list(data['title'].unique())\n",
    "empty = []\n",
    "\n",
    "chapter[:5]"
   ]
  },
  {
   "cell_type": "markdown",
   "id": "0ef93548",
   "metadata": {},
   "source": [
    "Видно, что большинство данных можно разделить по наличию ` (Full Episode) | ` в названии.\n",
    "\n",
    "Однако такие выпуски, как `'Man V. Lion | Full Episode'` и `'Jaguar vs. Croc | Full Episode'`, нужно обработать отдельно."
   ]
  },
  {
   "cell_type": "markdown",
   "id": "da231af1",
   "metadata": {},
   "source": [
    "Добавим в пустой список `empty` название серий"
   ]
  },
  {
   "cell_type": "code",
   "execution_count": 10,
   "id": "e85ca307",
   "metadata": {},
   "outputs": [
    {
     "data": {
      "text/plain": [
       "['In the Operating Room: A White Bengal Tiger Emergency',\n",
       " 'Animal ER',\n",
       " 'The Vet Detective and the Amputee Alligator',\n",
       " 'The Wild Life of Dr. Ole',\n",
       " 'Tortoise Surgery, Chinchilla Emergency, and the Chicken']"
      ]
     },
     "execution_count": 10,
     "metadata": {},
     "output_type": "execute_result"
    }
   ],
   "source": [
    "for i in chapter:\n",
    "    if ' (Full Episode) | ' in i :\n",
    "        empty += (i.split(' (Full Episode) | '))\n",
    "    else:\n",
    "        empty += reversed(i.split(' | '))\n",
    "        \n",
    "empty[:5]"
   ]
  },
  {
   "cell_type": "markdown",
   "id": "aa757967",
   "metadata": {},
   "source": [
    "Создадим колонку `series`. А также заменим названия серий `'Man V. Lion'` и `'Jaguar vs. Croc'` на `'Battle'`"
   ]
  },
  {
   "cell_type": "code",
   "execution_count": 11,
   "id": "097a87e0",
   "metadata": {},
   "outputs": [
    {
     "data": {
      "text/html": [
       "<div>\n",
       "<style scoped>\n",
       "    .dataframe tbody tr th:only-of-type {\n",
       "        vertical-align: middle;\n",
       "    }\n",
       "\n",
       "    .dataframe tbody tr th {\n",
       "        vertical-align: top;\n",
       "    }\n",
       "\n",
       "    .dataframe thead th {\n",
       "        text-align: right;\n",
       "    }\n",
       "</style>\n",
       "<table border=\"1\" class=\"dataframe\">\n",
       "  <thead>\n",
       "    <tr style=\"text-align: right;\">\n",
       "      <th></th>\n",
       "      <th>title</th>\n",
       "      <th>likes</th>\n",
       "      <th>views</th>\n",
       "      <th>comments</th>\n",
       "      <th>duration</th>\n",
       "      <th>created_at</th>\n",
       "      <th>observation_date</th>\n",
       "      <th>month</th>\n",
       "      <th>year</th>\n",
       "      <th>series</th>\n",
       "    </tr>\n",
       "  </thead>\n",
       "  <tbody>\n",
       "    <tr>\n",
       "      <th>0</th>\n",
       "      <td>In the Operating Room: A White Bengal Tiger Emergency (Full Episode) | Animal ER</td>\n",
       "      <td>427</td>\n",
       "      <td>13824</td>\n",
       "      <td>18</td>\n",
       "      <td>44:36</td>\n",
       "      <td>2023-08-31</td>\n",
       "      <td>2023-09-09</td>\n",
       "      <td>8</td>\n",
       "      <td>2023</td>\n",
       "      <td>Animal ER</td>\n",
       "    </tr>\n",
       "    <tr>\n",
       "      <th>1</th>\n",
       "      <td>The Vet Detective and the Amputee Alligator (Full Episode) | The Wild Life of Dr. Ole</td>\n",
       "      <td>485</td>\n",
       "      <td>20340</td>\n",
       "      <td>16</td>\n",
       "      <td>44:24</td>\n",
       "      <td>2023-08-24</td>\n",
       "      <td>2023-09-09</td>\n",
       "      <td>8</td>\n",
       "      <td>2023</td>\n",
       "      <td>The Wild Life of Dr. Ole</td>\n",
       "    </tr>\n",
       "    <tr>\n",
       "      <th>2</th>\n",
       "      <td>Tortoise Surgery, Chinchilla Emergency, and the Chicken (Full Episode) | Dr. K's Exotic Animal ER</td>\n",
       "      <td>462</td>\n",
       "      <td>20611</td>\n",
       "      <td>15</td>\n",
       "      <td>44:24</td>\n",
       "      <td>2023-08-17</td>\n",
       "      <td>2023-09-09</td>\n",
       "      <td>8</td>\n",
       "      <td>2023</td>\n",
       "      <td>Dr. K's Exotic Animal ER</td>\n",
       "    </tr>\n",
       "  </tbody>\n",
       "</table>\n",
       "</div>"
      ],
      "text/plain": [
       "                                                                                               title  \\\n",
       "0  In the Operating Room: A White Bengal Tiger Emergency (Full Episode) | Animal ER                    \n",
       "1  The Vet Detective and the Amputee Alligator (Full Episode) | The Wild Life of Dr. Ole               \n",
       "2  Tortoise Surgery, Chinchilla Emergency, and the Chicken (Full Episode) | Dr. K's Exotic Animal ER   \n",
       "\n",
       "   likes  views  comments duration created_at observation_date  month  year  \\\n",
       "0  427    13824  18        44:36   2023-08-31 2023-09-09        8      2023   \n",
       "1  485    20340  16        44:24   2023-08-24 2023-09-09        8      2023   \n",
       "2  462    20611  15        44:24   2023-08-17 2023-09-09        8      2023   \n",
       "\n",
       "                     series  \n",
       "0  Animal ER                 \n",
       "1  The Wild Life of Dr. Ole  \n",
       "2  Dr. K's Exotic Animal ER  "
      ]
     },
     "execution_count": 11,
     "metadata": {},
     "output_type": "execute_result"
    }
   ],
   "source": [
    "data['series'] = pd.Series(empty[1::2])\n",
    "data.loc[(data['series'] == 'Man V. Lion')|(data['series'] == 'Jaguar vs. Croc'), 'series'] = 'Battle'\n",
    "\n",
    "data.head(3)"
   ]
  },
  {
   "cell_type": "markdown",
   "id": "40663fe7",
   "metadata": {},
   "source": [
    "## Создание колонки `days_online`\n",
    "\n",
    "Колонка `days_online` показывает сколько дней видео находится на канале к моменту сбора данных"
   ]
  },
  {
   "cell_type": "code",
   "execution_count": 12,
   "id": "24fd6b54",
   "metadata": {
    "scrolled": true
   },
   "outputs": [
    {
     "data": {
      "text/html": [
       "<div>\n",
       "<style scoped>\n",
       "    .dataframe tbody tr th:only-of-type {\n",
       "        vertical-align: middle;\n",
       "    }\n",
       "\n",
       "    .dataframe tbody tr th {\n",
       "        vertical-align: top;\n",
       "    }\n",
       "\n",
       "    .dataframe thead th {\n",
       "        text-align: right;\n",
       "    }\n",
       "</style>\n",
       "<table border=\"1\" class=\"dataframe\">\n",
       "  <thead>\n",
       "    <tr style=\"text-align: right;\">\n",
       "      <th></th>\n",
       "      <th>title</th>\n",
       "      <th>likes</th>\n",
       "      <th>views</th>\n",
       "      <th>comments</th>\n",
       "      <th>duration</th>\n",
       "      <th>created_at</th>\n",
       "      <th>observation_date</th>\n",
       "      <th>month</th>\n",
       "      <th>year</th>\n",
       "      <th>series</th>\n",
       "      <th>days_online</th>\n",
       "    </tr>\n",
       "  </thead>\n",
       "  <tbody>\n",
       "    <tr>\n",
       "      <th>0</th>\n",
       "      <td>In the Operating Room: A White Bengal Tiger Emergency (Full Episode) | Animal ER</td>\n",
       "      <td>427</td>\n",
       "      <td>13824</td>\n",
       "      <td>18</td>\n",
       "      <td>44:36</td>\n",
       "      <td>2023-08-31</td>\n",
       "      <td>2023-09-09</td>\n",
       "      <td>8</td>\n",
       "      <td>2023</td>\n",
       "      <td>Animal ER</td>\n",
       "      <td>9</td>\n",
       "    </tr>\n",
       "    <tr>\n",
       "      <th>1</th>\n",
       "      <td>The Vet Detective and the Amputee Alligator (Full Episode) | The Wild Life of Dr. Ole</td>\n",
       "      <td>485</td>\n",
       "      <td>20340</td>\n",
       "      <td>16</td>\n",
       "      <td>44:24</td>\n",
       "      <td>2023-08-24</td>\n",
       "      <td>2023-09-09</td>\n",
       "      <td>8</td>\n",
       "      <td>2023</td>\n",
       "      <td>The Wild Life of Dr. Ole</td>\n",
       "      <td>16</td>\n",
       "    </tr>\n",
       "    <tr>\n",
       "      <th>2</th>\n",
       "      <td>Tortoise Surgery, Chinchilla Emergency, and the Chicken (Full Episode) | Dr. K's Exotic Animal ER</td>\n",
       "      <td>462</td>\n",
       "      <td>20611</td>\n",
       "      <td>15</td>\n",
       "      <td>44:24</td>\n",
       "      <td>2023-08-17</td>\n",
       "      <td>2023-09-09</td>\n",
       "      <td>8</td>\n",
       "      <td>2023</td>\n",
       "      <td>Dr. K's Exotic Animal ER</td>\n",
       "      <td>23</td>\n",
       "    </tr>\n",
       "  </tbody>\n",
       "</table>\n",
       "</div>"
      ],
      "text/plain": [
       "                                                                                               title  \\\n",
       "0  In the Operating Room: A White Bengal Tiger Emergency (Full Episode) | Animal ER                    \n",
       "1  The Vet Detective and the Amputee Alligator (Full Episode) | The Wild Life of Dr. Ole               \n",
       "2  Tortoise Surgery, Chinchilla Emergency, and the Chicken (Full Episode) | Dr. K's Exotic Animal ER   \n",
       "\n",
       "   likes  views  comments duration created_at observation_date  month  year  \\\n",
       "0  427    13824  18        44:36   2023-08-31 2023-09-09        8      2023   \n",
       "1  485    20340  16        44:24   2023-08-24 2023-09-09        8      2023   \n",
       "2  462    20611  15        44:24   2023-08-17 2023-09-09        8      2023   \n",
       "\n",
       "                     series  days_online  \n",
       "0  Animal ER                 9            \n",
       "1  The Wild Life of Dr. Ole  16           \n",
       "2  Dr. K's Exotic Animal ER  23           "
      ]
     },
     "execution_count": 12,
     "metadata": {},
     "output_type": "execute_result"
    }
   ],
   "source": [
    "data['days_online'] = (data['observation_date'] - data['created_at']).dt.days \n",
    "\n",
    "data.head(3)"
   ]
  },
  {
   "cell_type": "markdown",
   "id": "566ed3f1",
   "metadata": {},
   "source": [
    "## Обработка пропусков"
   ]
  },
  {
   "cell_type": "code",
   "execution_count": 13,
   "id": "fb53f2a5",
   "metadata": {
    "scrolled": true
   },
   "outputs": [
    {
     "data": {
      "text/plain": [
       "'Количество пропусков в датафреме data'"
      ]
     },
     "metadata": {},
     "output_type": "display_data"
    },
    {
     "data": {
      "text/plain": [
       "title               0\n",
       "likes               0\n",
       "views               0\n",
       "comments            0\n",
       "duration            0\n",
       "created_at          0\n",
       "observation_date    0\n",
       "month               0\n",
       "year                0\n",
       "series              0\n",
       "days_online         0\n",
       "dtype: int64"
      ]
     },
     "metadata": {},
     "output_type": "display_data"
    }
   ],
   "source": [
    "display('Количество пропусков в датафреме data', data.isna().sum())"
   ]
  },
  {
   "cell_type": "markdown",
   "id": "e41b7302",
   "metadata": {},
   "source": [
    "## Обработка дубликатов"
   ]
  },
  {
   "cell_type": "code",
   "execution_count": 14,
   "id": "b7b61e39",
   "metadata": {
    "scrolled": false
   },
   "outputs": [
    {
     "name": "stdout",
     "output_type": "stream",
     "text": [
      "Явных дубликатов в датафреме data: 0\n"
     ]
    }
   ],
   "source": [
    "print('Явных дубликатов в датафреме data:', data.duplicated().sum())"
   ]
  },
  {
   "cell_type": "markdown",
   "id": "1af0f215",
   "metadata": {},
   "source": [
    "## Обработка неявных дубликатов"
   ]
  },
  {
   "cell_type": "code",
   "execution_count": 15,
   "id": "dad0d1c3",
   "metadata": {
    "scrolled": true
   },
   "outputs": [
    {
     "name": "stdout",
     "output_type": "stream",
     "text": [
      "[\"Alaska's Grizzly Gauntlet\" 'America the Wild' 'Animal ER'\n",
      " 'Animal Fight Night' 'Bandit Patrol' 'Battle'\n",
      " 'Cesar Millan: Better Human Better Dog'\n",
      " 'Cesar Millan: Better Human, Better Dog' 'Critter Fixers'\n",
      " \"Dr. K's Exotic Animal ER\" 'Dr. Oakley, Yukon Vet'\n",
      " \"Everything You Didn't Know About Animals\"\n",
      " 'Fish My City with Mike Iaconelli' 'Florida Untamed'\n",
      " 'Heartland Docs, DVM' 'Jungle Animal Rescue' 'Man v. Animal'\n",
      " 'Pop Goes the Vet with Dr. Joya' 'Predator Fail' 'Savage Kingdom'\n",
      " 'Secrets of the Zoo' 'Secrets of the Zoo: North Carolina'\n",
      " 'The Incredible Dr. Pol' 'The Wild Life of Dr. Ole' 'Trackers'\n",
      " \"World's Deadliest\"]\n"
     ]
    }
   ],
   "source": [
    "print(data['series'].sort_values().unique())"
   ]
  },
  {
   "cell_type": "markdown",
   "id": "e6e6e83c",
   "metadata": {},
   "source": [
    "Приведем названия серий к одному типу :\n",
    "+ `'Cesar Millan: Better Human Better Dog'`, `'Cesar Millan: Better Human, Better Dog'` \n",
    "\n",
    "+ `'Secrets of the Zoo: North Carolina'`,`'Secrets of the Zoo'`\n",
    " \n",
    "+ `'Dr. K's Exotic Animal ER'`, `'Animal ER'`"
   ]
  },
  {
   "cell_type": "code",
   "execution_count": 16,
   "id": "bbb9979a",
   "metadata": {},
   "outputs": [
    {
     "name": "stdout",
     "output_type": "stream",
     "text": [
      "Число серий до обработки: 26\n",
      "Число серий после обработки: 23\n"
     ]
    }
   ],
   "source": [
    "print('Число серий до обработки:',data['series'].nunique())\n",
    "\n",
    "data.loc[(data['series'] == 'Cesar Millan: Better Human Better Dog'), 'series'] = 'Cesar Millan: Better Human, Better Dog'\n",
    "data.loc[(data['series'] == 'Secrets of the Zoo: North Carolina'), 'series'] = 'Secrets of the Zoo'\n",
    "data.loc[(data['series'] == \"Dr. K's Exotic Animal ER\"), 'series'] = 'Animal ER'\n",
    "\n",
    "print('Число серий после обработки:',data['series'].nunique())"
   ]
  },
  {
   "cell_type": "markdown",
   "id": "3420d0b5",
   "metadata": {},
   "source": [
    "## Выводы\n",
    "+ В датафрейме`data` собрана информация о 99 видео за период май 2022 - август 2023. В 2022 году было опубликовано 66 выпусков, в 2023 - 33. За 2 года вышло 23 серии видео. Удалены данные за первую неделю сентября 2023. \n",
    "+ Пропусков и дубликатов **не обнаружено**; неявные дубликаты **устранены**.\n",
    "+ Изменен тип данных в колонках `created_at` и `observation_date` на *datetime*.\n",
    "+ Добавлены колонки `month`, `year`, `series`, `days_online`.\n",
    "\n",
    "\n",
    "Данные **готовы** для анализа."
   ]
  },
  {
   "cell_type": "markdown",
   "id": "7132ba36",
   "metadata": {},
   "source": [
    "<a id='section3'></a>\n",
    "# Анализ данных\n",
    "\n",
    "## Временная статистика по месяцам\n",
    "\n",
    "Посмотрим показатели эпизодов по месяцам за 2022 и 2023 год"
   ]
  },
  {
   "cell_type": "markdown",
   "id": "0ac3cfee",
   "metadata": {},
   "source": [
    "### Статистика числа  выпусков"
   ]
  },
  {
   "cell_type": "code",
   "execution_count": 17,
   "id": "6d94de94",
   "metadata": {
    "scrolled": false
   },
   "outputs": [
    {
     "data": {
      "image/png": "[encoded data removed]",
      "text/plain": [
       "<Figure size 576x360 with 1 Axes>"
      ]
     },
     "metadata": {
      "needs_background": "light"
     },
     "output_type": "display_data"
    }
   ],
   "source": [
    "videos_per_month = data.pivot_table(index = 'month', columns = 'year', values = 'title', aggfunc = 'nunique')\n",
    "\n",
    "videos_per_month.plot(kind='bar', figsize = (8,5), color = ('royalblue', 'coral'))\n",
    "plt.title('Число выпусков по месяцам', size = 15)\n",
    "plt.xlabel('месяц', size = 10)\n",
    "plt.ylabel('количество выпусков', size = 10)\n",
    "plt.show()"
   ]
  },
  {
   "cell_type": "code",
   "execution_count": 18,
   "id": "afee5ef9",
   "metadata": {},
   "outputs": [
    {
     "name": "stdout",
     "output_type": "stream",
     "text": [
      "Среднее число выпусков за месяц в 2022 году: 8\n",
      "Среднее число выпусков за месяц в 2023 году: 4\n"
     ]
    }
   ],
   "source": [
    "videos_per_month_upd = videos_per_month.reset_index()  \n",
    "videos_per_month_upd.columns = ['month','2022','2023']\n",
    "\n",
    "print ('Среднее число выпусков за месяц в 2022 году:',\n",
    "                               round(videos_per_month_upd['2022'].sum()/videos_per_month_upd['2022']\\\n",
    "                                                                                             .notnull().sum()))\n",
    "print ('Среднее число выпусков за месяц в 2023 году:',\n",
    "                               round(videos_per_month_upd['2023'].sum()/videos_per_month_upd['2022']\\\n",
    "                                                                                             .notnull().sum()))"
   ]
  },
  {
   "cell_type": "markdown",
   "id": "0ccfff68",
   "metadata": {},
   "source": [
    "В 2022 году в среднем выходило по 8 видео в месяц, за 2023 год показатели в 2 раза ниже."
   ]
  },
  {
   "cell_type": "markdown",
   "id": "1b0972e4",
   "metadata": {},
   "source": [
    "### Статистика просмотров\n",
    "Посмотрим среднее* количество просмотров за каждый месяц. \n",
    "\n",
    "*Смотрим среднее, а не медиану, чтобы учесть популярные выпуски."
   ]
  },
  {
   "cell_type": "code",
   "execution_count": 19,
   "id": "fe5f439b",
   "metadata": {
    "scrolled": false
   },
   "outputs": [
    {
     "data": {
      "image/png": "[encoded data removed]",
      "text/plain": [
       "<Figure size 576x360 with 1 Axes>"
      ]
     },
     "metadata": {
      "needs_background": "light"
     },
     "output_type": "display_data"
    }
   ],
   "source": [
    "views_per_month = data.pivot_table(index = 'month', columns = 'year', values = 'views', aggfunc = 'mean')\n",
    "\n",
    "views_per_month.plot(kind = 'bar', figsize = (8,5), color = ('royalblue','coral'))\n",
    "plt.title('Среднее число просмотров по месяцам', size = 15)\n",
    "plt.xlabel('месяц', size = 10)\n",
    "plt.ylabel('количество просмотров', size = 10)\n",
    "plt.show()"
   ]
  },
  {
   "cell_type": "markdown",
   "id": "cd4e5a2f",
   "metadata": {},
   "source": [
    "+ Бум просмотров под видео, опубликованных в мае 2022, вероятно, связан с появлением на канале полноценных выпусков (20+ мин): ранее размещались лишь короткие ролики (~5 мин). Высокие просмотры также были у июньских, июльских и сентябрьских выпусков.\n",
    "+ В 2023 больше всего просмотров под видео, опубликованных в марте, апреле, мае и июне."
   ]
  },
  {
   "cell_type": "code",
   "execution_count": 20,
   "id": "bf096ced",
   "metadata": {
    "scrolled": false
   },
   "outputs": [
    {
     "name": "stdout",
     "output_type": "stream",
     "text": [
      "Среднее число просмотров под видео за 2022 год: 1.33 млн.\n",
      "Среднее число просмотров под видео за 2023 год: 0.46 млн.\n"
     ]
    }
   ],
   "source": [
    "print('Среднее число просмотров под видео за 2022 год:',round(data.query('year == 2022')['views'].mean()/1000000,2),'млн.')\n",
    "print('Среднее число просмотров под видео за 2023 год:',round(data.query('year == 2023')['views'].mean()/1000000,2),'млн.')"
   ]
  },
  {
   "cell_type": "markdown",
   "id": "64240333",
   "metadata": {},
   "source": [
    "### Статистика лайков\n",
    "Посмотрим cреднее количество лайков за каждый месяц"
   ]
  },
  {
   "cell_type": "code",
   "execution_count": 21,
   "id": "397e85a6",
   "metadata": {
    "scrolled": true
   },
   "outputs": [
    {
     "data": {
      "image/png": "[encoded data removed]",
      "text/plain": [
       "<Figure size 576x360 with 1 Axes>"
      ]
     },
     "metadata": {
      "needs_background": "light"
     },
     "output_type": "display_data"
    }
   ],
   "source": [
    "likes_per_month = data.pivot_table(index = 'month', columns = 'year', values = 'likes', aggfunc = 'mean')\n",
    "\n",
    "likes_per_month.plot(kind = 'bar', figsize = (8,5), color = ('royalblue', 'coral'))\n",
    "plt.title('Среднее число лайков по месяцам', size = 15)\n",
    "plt.xlabel('месяц', size = 10)\n",
    "plt.ylabel('количество лайков', size = 10)\n",
    "plt.show()"
   ]
  },
  {
   "cell_type": "markdown",
   "id": "5d82b46c",
   "metadata": {},
   "source": [
    "+ В 2022 больше всего лайков получили видео, опубликованные в мае, июле и декабре.\n",
    "+ В 2023 больше всего лайков получили видео, опубликованные в апреле, мае и июне. Апрельские выпуски получили рекордное количество лайков за 2 года."
   ]
  },
  {
   "cell_type": "code",
   "execution_count": 22,
   "id": "525d1694",
   "metadata": {},
   "outputs": [
    {
     "name": "stdout",
     "output_type": "stream",
     "text": [
      "Среднее число лайков под видео за 2022 год: 8014\n",
      "Среднее число лайков под видео за 2023 год: 5473\n"
     ]
    }
   ],
   "source": [
    "print('Среднее число лайков под видео за 2022 год:',round(data.query('year == 2022')['likes'].mean()))\n",
    "print('Среднее число лайков под видео за 2023 год:',round(data.query('year == 2023')['likes'].mean()))"
   ]
  },
  {
   "cell_type": "markdown",
   "id": "151da97f",
   "metadata": {},
   "source": [
    "### Статистика комментариев\n",
    "Посмотрим cреднее количество комментариев за каждый месяц"
   ]
  },
  {
   "cell_type": "code",
   "execution_count": 23,
   "id": "36887886",
   "metadata": {
    "scrolled": false
   },
   "outputs": [
    {
     "data": {
      "image/png": "[encoded data removed]",
      "text/plain": [
       "<Figure size 576x360 with 1 Axes>"
      ]
     },
     "metadata": {
      "needs_background": "light"
     },
     "output_type": "display_data"
    }
   ],
   "source": [
    "comments_per_month = data.pivot_table(index = 'month', columns = 'year', values = 'comments', aggfunc = 'mean')\n",
    "\n",
    "comments_per_month.plot(kind = 'bar', figsize = (8,5), color = ('royalblue','coral'))\n",
    "plt.title('Среднее число комментариев по месяцам', size = 15)\n",
    "plt.xlabel('месяц', size = 10)\n",
    "plt.ylabel('количество комментариев', size = 10)\n",
    "plt.show()"
   ]
  },
  {
   "cell_type": "markdown",
   "id": "7daaf7a5",
   "metadata": {},
   "source": [
    "+ В 2022 больше всего комментировали выпуски, вышедшие в мае, июле и декабре. Майские выпуски получили рекордное количество комментариев за 2 года.\n",
    "+ В 2023 больше всего комментировали выпуски, вышедшие в апреле, мае и июне."
   ]
  },
  {
   "cell_type": "code",
   "execution_count": 24,
   "id": "bce32c1f",
   "metadata": {},
   "outputs": [
    {
     "name": "stdout",
     "output_type": "stream",
     "text": [
      "Среднее число комментариев под видео за 2022 год: 247\n",
      "Среднее число комментариев под видео за 2023 год: 121\n"
     ]
    }
   ],
   "source": [
    "print('Среднее число комментариев под видео за 2022 год:',round(data.query('year == 2022')['comments'].mean()))\n",
    "print('Среднее число комментариев под видео за 2023 год:',round(data.query('year == 2023')['comments'].mean()))"
   ]
  },
  {
   "cell_type": "markdown",
   "id": "0007c95d",
   "metadata": {},
   "source": [
    "### Выводы\n",
    "+ В 2022 году в среднем выходило по 8 **видео в месяц**, за 2023 год показатели **в 2 раза ниже**.\n",
    "+ В 2022 году среднее **число просмотров под видео** составило 1.33 млн., за 2023 год показатели **в 2.9 раза ниже**.\n",
    "+ В 2022 году среднее **число лайков под видео** составило 8014, в 2023 показатели **в 1.5 раза ниже**.\n",
    "+ В 2022 году среднее **число комментариев под видео** составило 247, за 2023 год показатели **в 2 раза ниже**.\n",
    "\n",
    "**Сформулируем гипотезы**: \n",
    "\n",
    "+ **H1**: Пользовательская активность в 2023 году ниже, т.к. доля рейтинговых выпусков в 2022 была выше.\n",
    "\n",
    "+ **H2**: Пользовательская активность в 2023 году ниже, т.к. выпуски 2022 года находились в сети дольше."
   ]
  },
  {
   "cell_type": "markdown",
   "id": "e2a41145",
   "metadata": {},
   "source": [
    "## Вовлеченность аудитории (ERV)\n",
    "Коэффициент вовлеченности *ERV (Engagement Rate Value)* - это показатель, используемый для оценки уровня вовлеченности аудитории в контент на платформе YouTube или в других социальных медиа. \n",
    "\n",
    "*ERV* измеряет, насколько активно зрители взаимодействуют с контентом, выражая свой интерес через комментарии, лайки и другие формы взаимодействия.\n",
    "\n",
    "$\n",
    "\\text{ERV} = {\\text{Количество взаимодействий}\\over \\text{Количество просмотров}} * \\text{100%}\n",
    "$\n"
   ]
  },
  {
   "cell_type": "markdown",
   "id": "f754935e",
   "metadata": {},
   "source": [
    "### Вовлеченность по лайкам"
   ]
  },
  {
   "cell_type": "code",
   "execution_count": 25,
   "id": "f34ae0da",
   "metadata": {
    "scrolled": true
   },
   "outputs": [
    {
     "data": {
      "image/png": "[encoded data removed]",
      "text/plain": [
       "<Figure size 576x360 with 1 Axes>"
      ]
     },
     "metadata": {
      "needs_background": "light"
     },
     "output_type": "display_data"
    }
   ],
   "source": [
    "data['likes_to_views_ratio'] = 100*data['likes']/data['views'] \n",
    "\n",
    "likes_to_views_ratio = data.pivot_table(index = 'month', columns = 'year', values = 'likes_to_views_ratio', aggfunc = 'mean')\n",
    "likes_to_views_ratio.plot(kind = 'bar', figsize = (8,5), color = ('royalblue','coral'))\n",
    "\n",
    "plt.title('Среднее значение лайк-вовлеченности по месяцам', size = 15)\n",
    "plt.xlabel('месяц', size = 10)\n",
    "plt.ylabel('лайк-вовлеченность, %', size = 10)\n",
    "plt.show()"
   ]
  },
  {
   "cell_type": "code",
   "execution_count": 26,
   "id": "2312c42f",
   "metadata": {
    "scrolled": false
   },
   "outputs": [
    {
     "name": "stdout",
     "output_type": "stream",
     "text": [
      "Средняя вовлеченность по лайкам за 2022 год: 1.54 %\n",
      "Средняя вовлеченность по лайкам за 2023 год: 1.94 %\n"
     ]
    }
   ],
   "source": [
    "print('Средняя вовлеченность по лайкам за 2022 год:',round(data.query('year==2022')['likes_to_views_ratio'].mean(),2),'%')\n",
    "print('Средняя вовлеченность по лайкам за 2023 год:',round(data.query('year==2023')['likes_to_views_ratio'].mean(),2),'%')"
   ]
  },
  {
   "cell_type": "markdown",
   "id": "a36eb3db",
   "metadata": {},
   "source": [
    "Хорошим показателем вовлеченности по лайкам для канала о дикой природе, считается уровень в 2%. \n",
    "\n",
    "В 2023 году показатель лайк-вовлеченности составил 1.94%, в 2022 показатель на 0.4 процентных пункта меньше."
   ]
  },
  {
   "cell_type": "markdown",
   "id": "50a9d8c2",
   "metadata": {},
   "source": [
    "Посмотрим гистограмму вовлеченности по лайкам за 2 года"
   ]
  },
  {
   "cell_type": "code",
   "execution_count": 27,
   "id": "1808845b",
   "metadata": {
    "scrolled": false
   },
   "outputs": [
    {
     "data": {
      "image/png": "[encoded data removed]",
      "text/plain": [
       "<Figure size 576x360 with 1 Axes>"
      ]
     },
     "metadata": {
      "needs_background": "light"
     },
     "output_type": "display_data"
    }
   ],
   "source": [
    "plt.figure(figsize=(8, 5))\n",
    "sns.histplot(data = data.query('year==2022')['likes_to_views_ratio'], label = '2022', color = 'royalblue', kde = True)\n",
    "sns.histplot(data = data.query('year==2023')['likes_to_views_ratio'], label = '2023', color = 'orange', kde = True)\n",
    "plt.legend()\n",
    "plt.xlabel('отношение лайков к просмотрам, %', size = 10)\n",
    "plt.ylabel('частота', size = 10)\n",
    "plt.title('Гистограмма вовлеченности по лайкам', size = 15)\n",
    "plt.show()"
   ]
  },
  {
   "cell_type": "markdown",
   "id": "916fa9da",
   "metadata": {},
   "source": [
    "+ В 2022 максимальное значение лайк-вовлеченности составило 12%. Медианное значение лайк-вовлеченности - 1.3% \n",
    "+ В 2023 максимальное значение лайк-вовлеченности составило 7%. Медианное значение лайк-вовлеченности - 1.9%"
   ]
  },
  {
   "cell_type": "markdown",
   "id": "19989c3f",
   "metadata": {},
   "source": [
    "### Вовлеченность по комментариям"
   ]
  },
  {
   "cell_type": "code",
   "execution_count": 28,
   "id": "1d7d3f8a",
   "metadata": {
    "scrolled": true
   },
   "outputs": [
    {
     "data": {
      "image/png": "[encoded data removed]",
      "text/plain": [
       "<Figure size 576x360 with 1 Axes>"
      ]
     },
     "metadata": {
      "needs_background": "light"
     },
     "output_type": "display_data"
    }
   ],
   "source": [
    "data['comments_to_views_ratio'] = 100*data['comments']/data['views']\n",
    "comments_to_views_ratio = data.pivot_table(index = 'month', columns = 'year', values = 'comments_to_views_ratio', aggfunc = 'mean')\n",
    "comments_to_views_ratio.plot(kind = 'bar', figsize = (8,5), color = ('royalblue','coral'))\n",
    "\n",
    "plt.title('Среднее значение коммент-вовлеченности по месяцам', size = 15)\n",
    "plt.xlabel('месяц', size = 10)\n",
    "plt.ylabel('коммент-вовлеченность, %', size = 10)\n",
    "plt.show()"
   ]
  },
  {
   "cell_type": "code",
   "execution_count": 29,
   "id": "0f0595d9",
   "metadata": {
    "scrolled": true
   },
   "outputs": [
    {
     "name": "stdout",
     "output_type": "stream",
     "text": [
      "Средняя вовлеченность по комментариям за 2022 год: 0.053 %\n",
      "Средняя вовлеченность по комментариям за 2023 год: 0.062 %\n"
     ]
    }
   ],
   "source": [
    "print('Средняя вовлеченность по комментариям за 2022 год:',round(data.query('year==2022')['comments_to_views_ratio'].mean(),3),'%')\n",
    "print('Средняя вовлеченность по комментариям за 2023 год:',round(data.query('year==2023')['comments_to_views_ratio'].mean(),3),'%')"
   ]
  },
  {
   "cell_type": "markdown",
   "id": "bd235f7f",
   "metadata": {},
   "source": [
    "Хорошим показателем вовлеченности по комментариям для канала о дикой природе, считается уровень в 0.1%.\n",
    "\n",
    "В 2023 году показатель коммент-вовлеченности составил 0.062%, в 2022 показатель на 0.009 процентных пункта меньше."
   ]
  },
  {
   "cell_type": "markdown",
   "id": "d12df4fc",
   "metadata": {},
   "source": [
    "Посмотрим гистограмму вовлеченности по комментариям за 2 года"
   ]
  },
  {
   "cell_type": "code",
   "execution_count": 30,
   "id": "4d06cabd",
   "metadata": {
    "scrolled": true
   },
   "outputs": [
    {
     "data": {
      "image/png": "[encoded data removed]",
      "text/plain": [
       "<Figure size 576x360 with 1 Axes>"
      ]
     },
     "metadata": {
      "needs_background": "light"
     },
     "output_type": "display_data"
    }
   ],
   "source": [
    "plt.figure(figsize=(8, 5))\n",
    "sns.histplot(data = data.query('year==2022')['comments_to_views_ratio'], label = '2022', color = 'royalblue', kde=True)\n",
    "sns.histplot(data = data.query('year==2023')['comments_to_views_ratio'], label = '2023', color = 'orange', kde=True)\n",
    "plt.legend()\n",
    "plt.xlabel('отношение комментариев к просмотрам, %', size = 10)\n",
    "plt.ylabel('частота', size = 10)\n",
    "plt.title('Гистограмма вовлеченности по комментариям', size = 15)\n",
    "plt.show()"
   ]
  },
  {
   "cell_type": "markdown",
   "id": "9b2500ca",
   "metadata": {},
   "source": [
    "+ В 2022 максимальное значение коммент-вовлеченности составило 16%. Медианное значение лайк-вовлеченности - 0.042% \n",
    "+ В 2023 максимальное значение коммент-вовлеченности составило 16%. Медианное значение лайк-вовлеченности - 0.063%"
   ]
  },
  {
   "cell_type": "markdown",
   "id": "c56de773",
   "metadata": {},
   "source": [
    "### Выводы\n",
    "+ В 2023 году средний показатель **лайк-вовлеченности** составил 1.94%, в 2022 показатель на 0.4 процентных пункта **меньше**.\n",
    "\n",
    "+ В 2023 году средний показатель **коммент-вовлеченности** составил 0.062%, в 2022 показатель на 0.009 процентных пункта **меньше**.\n",
    "\n",
    "В 2023 пресмотрели **стратегию** ведения YouTube-канала, акцент был сделан на повышение **вовлеченности** аудитории по лайкам и комментариям."
   ]
  },
  {
   "cell_type": "markdown",
   "id": "9defa597",
   "metadata": {},
   "source": [
    "## Количественная статистика по сериям \n",
    "### Датасет `data_groupped`"
   ]
  },
  {
   "cell_type": "markdown",
   "id": "04af9592",
   "metadata": {},
   "source": [
    "Сгруппируем данные по средним серийным показателям"
   ]
  },
  {
   "cell_type": "code",
   "execution_count": 31,
   "id": "59c8c1a1",
   "metadata": {
    "scrolled": true
   },
   "outputs": [
    {
     "data": {
      "text/html": [
       "<div>\n",
       "<style scoped>\n",
       "    .dataframe tbody tr th:only-of-type {\n",
       "        vertical-align: middle;\n",
       "    }\n",
       "\n",
       "    .dataframe tbody tr th {\n",
       "        vertical-align: top;\n",
       "    }\n",
       "\n",
       "    .dataframe thead th {\n",
       "        text-align: right;\n",
       "    }\n",
       "</style>\n",
       "<table border=\"1\" class=\"dataframe\">\n",
       "  <thead>\n",
       "    <tr style=\"text-align: right;\">\n",
       "      <th></th>\n",
       "      <th>series</th>\n",
       "      <th>number</th>\n",
       "      <th>likes</th>\n",
       "      <th>views</th>\n",
       "      <th>comments</th>\n",
       "      <th>days_online</th>\n",
       "    </tr>\n",
       "  </thead>\n",
       "  <tbody>\n",
       "    <tr>\n",
       "      <th>0</th>\n",
       "      <td>Alaska's Grizzly Gauntlet</td>\n",
       "      <td>1</td>\n",
       "      <td>662.00</td>\n",
       "      <td>31088.00</td>\n",
       "      <td>27.00</td>\n",
       "      <td>26.00</td>\n",
       "    </tr>\n",
       "    <tr>\n",
       "      <th>1</th>\n",
       "      <td>America the Wild</td>\n",
       "      <td>6</td>\n",
       "      <td>1318.33</td>\n",
       "      <td>143500.00</td>\n",
       "      <td>84.33</td>\n",
       "      <td>373.50</td>\n",
       "    </tr>\n",
       "    <tr>\n",
       "      <th>2</th>\n",
       "      <td>Animal ER</td>\n",
       "      <td>2</td>\n",
       "      <td>444.50</td>\n",
       "      <td>17217.50</td>\n",
       "      <td>16.50</td>\n",
       "      <td>16.00</td>\n",
       "    </tr>\n",
       "    <tr>\n",
       "      <th>3</th>\n",
       "      <td>Animal Fight Night</td>\n",
       "      <td>8</td>\n",
       "      <td>13025.00</td>\n",
       "      <td>2510241.75</td>\n",
       "      <td>475.00</td>\n",
       "      <td>290.50</td>\n",
       "    </tr>\n",
       "    <tr>\n",
       "      <th>4</th>\n",
       "      <td>Bandit Patrol</td>\n",
       "      <td>5</td>\n",
       "      <td>495.00</td>\n",
       "      <td>23021.80</td>\n",
       "      <td>21.60</td>\n",
       "      <td>329.40</td>\n",
       "    </tr>\n",
       "  </tbody>\n",
       "</table>\n",
       "</div>"
      ],
      "text/plain": [
       "                      series  number    likes      views  comments  \\\n",
       "0  Alaska's Grizzly Gauntlet  1      662.00   31088.00   27.00       \n",
       "1  America the Wild           6      1318.33  143500.00  84.33       \n",
       "2  Animal ER                  2      444.50   17217.50   16.50       \n",
       "3  Animal Fight Night         8      13025.00 2510241.75 475.00      \n",
       "4  Bandit Patrol              5      495.00   23021.80   21.60       \n",
       "\n",
       "   days_online  \n",
       "0 26.00         \n",
       "1 373.50        \n",
       "2 16.00         \n",
       "3 290.50        \n",
       "4 329.40        "
      ]
     },
     "execution_count": 31,
     "metadata": {},
     "output_type": "execute_result"
    }
   ],
   "source": [
    "data_groupped = data.groupby('series', as_index = False)\\\n",
    "                        .agg({'title':'nunique', 'likes':'mean', 'views':'mean',\\\n",
    "                              'comments':'mean', 'days_online':'mean'}).reset_index(drop = True)\n",
    "data_groupped.columns = ['series', 'number', 'likes', 'views', 'comments', 'days_online']\n",
    "\n",
    "data_groupped.head()"
   ]
  },
  {
   "cell_type": "markdown",
   "id": "da89e217",
   "metadata": {},
   "source": [
    "`number` - число выпусков в серии"
   ]
  },
  {
   "cell_type": "markdown",
   "id": "85615952",
   "metadata": {},
   "source": [
    "### Статистика числа выпусков"
   ]
  },
  {
   "cell_type": "code",
   "execution_count": 32,
   "id": "71140705",
   "metadata": {
    "scrolled": false
   },
   "outputs": [
    {
     "data": {
      "image/png": "[encoded data removed]",
      "text/plain": [
       "<Figure size 576x360 with 1 Axes>"
      ]
     },
     "metadata": {
      "needs_background": "light"
     },
     "output_type": "display_data"
    }
   ],
   "source": [
    "number_of_series = data_groupped.sort_values('number', ascending = False)\n",
    "\n",
    "plt.figure(figsize = (8,5))\n",
    "ax = sns.barplot(x = \"number\", y = 'series', data = number_of_series, color = 'royalblue')\n",
    "plt.title('Число выпусков в серии', size = 15)\n",
    "plt.xlabel('число выпусков', size = 10)\n",
    "plt.ylabel('название серии', size = 10)\n",
    "plt.show()"
   ]
  },
  {
   "cell_type": "markdown",
   "id": "8c72b13e",
   "metadata": {},
   "source": [
    "Чаще прочих на канале выходили выпуски `Savage Kingdom`, `World's Deadliest`, `Animal Fight Night`"
   ]
  },
  {
   "cell_type": "markdown",
   "id": "459c2cd7",
   "metadata": {},
   "source": [
    "### Статистика просмотров"
   ]
  },
  {
   "cell_type": "code",
   "execution_count": 33,
   "id": "26d79d54",
   "metadata": {
    "scrolled": false
   },
   "outputs": [
    {
     "data": {
      "image/png": "[encoded data removed]",
      "text/plain": [
       "<Figure size 576x360 with 1 Axes>"
      ]
     },
     "metadata": {
      "needs_background": "light"
     },
     "output_type": "display_data"
    }
   ],
   "source": [
    "views_per_series = data_groupped.sort_values('views', ascending = False)\n",
    "\n",
    "plt.figure(figsize = (8,5))\n",
    "ax = sns.barplot(x = \"views\", y = 'series', data = views_per_series, color = 'royalblue')\n",
    "plt.title('Среднее число просмотров по серии', size = 15)\n",
    "plt.xlabel('число просмотров', size = 10)\n",
    "plt.ylabel('название серии', size = 10)\n",
    "plt.show()"
   ]
  },
  {
   "cell_type": "markdown",
   "id": "4812a4c9",
   "metadata": {},
   "source": [
    "По просмотрам лидируют выпуски серий `Savage Kingdom`, `Animal Fight Night` и `World's Deadliest`"
   ]
  },
  {
   "cell_type": "markdown",
   "id": "8ce6dc41",
   "metadata": {},
   "source": [
    "### Статистика лайков"
   ]
  },
  {
   "cell_type": "code",
   "execution_count": 34,
   "id": "d4648b94",
   "metadata": {
    "scrolled": false
   },
   "outputs": [
    {
     "data": {
      "image/png": "[encoded data removed]",
      "text/plain": [
       "<Figure size 576x360 with 1 Axes>"
      ]
     },
     "metadata": {
      "needs_background": "light"
     },
     "output_type": "display_data"
    }
   ],
   "source": [
    "likes_per_series = data_groupped.sort_values('likes', ascending = False)\n",
    "\n",
    "plt.figure(figsize = (8,5))\n",
    "ax = sns.barplot(x = \"likes\", y = 'series', data = likes_per_series, color = 'royalblue')\n",
    "plt.title('Среднее число лайков по серии', size = 15)\n",
    "plt.xlabel('число лайков', size = 10)\n",
    "plt.ylabel('название серии', size = 10)\n",
    "plt.show()"
   ]
  },
  {
   "cell_type": "markdown",
   "id": "d1dc5611",
   "metadata": {},
   "source": [
    "Больше всего лайкают выпуски серий `Savage Kingdom`, `Cesar Millan: Better Human, Better Dog` и `Animal Fight Night`"
   ]
  },
  {
   "cell_type": "markdown",
   "id": "8d915c5d",
   "metadata": {},
   "source": [
    "### Статистика комментариев"
   ]
  },
  {
   "cell_type": "code",
   "execution_count": 35,
   "id": "8a1d0a6c",
   "metadata": {},
   "outputs": [
    {
     "data": {
      "image/png": "[encoded data removed]",
      "text/plain": [
       "<Figure size 576x360 with 1 Axes>"
      ]
     },
     "metadata": {
      "needs_background": "light"
     },
     "output_type": "display_data"
    }
   ],
   "source": [
    "comments_per_series = data_groupped.sort_values(by = 'comments', ascending = False)\n",
    "\n",
    "plt.figure(figsize = (8,5))\n",
    "ax = sns.barplot(x = \"comments\", y = 'series', data = comments_per_series, color = 'royalblue')\n",
    "plt.title('Среднее количество комментариев по серии', size = 15)\n",
    "plt.xlabel('число комментариев', size = 10)\n",
    "plt.ylabel('название серии', size = 10)\n",
    "plt.show()"
   ]
  },
  {
   "cell_type": "markdown",
   "id": "aaa004db",
   "metadata": {},
   "source": [
    "Самые комментируемые выпуски серий `Savage Kingdom`, `Animal Fight Night` и `Cesar Millan: Better Human, Better Dog`"
   ]
  },
  {
   "cell_type": "markdown",
   "id": "73750939",
   "metadata": {},
   "source": [
    "### Статистика дней в сети"
   ]
  },
  {
   "cell_type": "code",
   "execution_count": 36,
   "id": "c62756dc",
   "metadata": {},
   "outputs": [
    {
     "data": {
      "image/png": "[encoded data removed]",
      "text/plain": [
       "<Figure size 576x360 with 1 Axes>"
      ]
     },
     "metadata": {
      "needs_background": "light"
     },
     "output_type": "display_data"
    }
   ],
   "source": [
    "views_per_series = data_groupped.sort_values('days_online', ascending = False)\n",
    "\n",
    "plt.figure(figsize = (8,5))\n",
    "ax = sns.barplot(x = \"days_online\", y = 'series', data = views_per_series, color = 'royalblue')\n",
    "plt.title('Среднее число дней в сети по серии', size = 15)\n",
    "plt.xlabel('число дней в сети', size = 10)\n",
    "plt.ylabel('название серии', size = 10)\n",
    "plt.show()"
   ]
  },
  {
   "cell_type": "markdown",
   "id": "34e0b08f",
   "metadata": {},
   "source": [
    "Дольше всего в сети находятся выпуски серий `Fish My City with Mike Iaconelli`, `Predator Fail` и `World's Deadliest`"
   ]
  },
  {
   "cell_type": "markdown",
   "id": "05b15204",
   "metadata": {},
   "source": [
    "### Выводы\n",
    "+ Чаще прочих на канале выходили выпуски `Savage Kingdom`, `World's Deadliest`, `Animal Fight Night`\n",
    "+ По просмотрам лидируют выпуски серий `Savage Kingdom`, `Animal Fight Night` и `World's Deadliest`\n",
    "+ Больше всего лайкают выпуски серий `Savage Kingdom`, `Cesar Millan: Better Human, Better Dog` и `Animal Fight Night`\n",
    "+ Самые комментируемые выпуски серий `Savage Kingdom`, `Animal Fight Night` и `Cesar Millan: Better Human, Better Dog`\n",
    "+ Дольше всего в сети находятся выпуски серий `Fish My City with Mike Iaconelli`, `Predator Fail` и `World's Deadliest`"
   ]
  },
  {
   "cell_type": "markdown",
   "id": "019125e2",
   "metadata": {},
   "source": [
    "## Анализ рейтинговых показателей\n",
    "### Подсчет рейтинга\n",
    "Добавим колонку с рейтингом в датафрейм `data`\n",
    "\n",
    "`rating` - отображает рейтинг выпуска с учетом просмотров/лайков/коментариев\n",
    "\n",
    "$\n",
    "\\text{rating = 0.5*views + 0.3*likes + 0.2*comments}\n",
    "$\n",
    "\n",
    "\n",
    "Коэффициенты подобраны с учетом того, что просмотры на канале играют бóльшую роль, чем лайки и комментарии"
   ]
  },
  {
   "cell_type": "code",
   "execution_count": 37,
   "id": "b347128d",
   "metadata": {},
   "outputs": [
    {
     "data": {
      "text/html": [
       "<div>\n",
       "<style scoped>\n",
       "    .dataframe tbody tr th:only-of-type {\n",
       "        vertical-align: middle;\n",
       "    }\n",
       "\n",
       "    .dataframe tbody tr th {\n",
       "        vertical-align: top;\n",
       "    }\n",
       "\n",
       "    .dataframe thead th {\n",
       "        text-align: right;\n",
       "    }\n",
       "</style>\n",
       "<table border=\"1\" class=\"dataframe\">\n",
       "  <thead>\n",
       "    <tr style=\"text-align: right;\">\n",
       "      <th></th>\n",
       "      <th>title</th>\n",
       "      <th>series</th>\n",
       "      <th>views</th>\n",
       "      <th>likes</th>\n",
       "      <th>comments</th>\n",
       "      <th>created_at</th>\n",
       "      <th>rating</th>\n",
       "    </tr>\n",
       "  </thead>\n",
       "  <tbody>\n",
       "    <tr>\n",
       "      <th>0</th>\n",
       "      <td>In the Operating Room: A White Bengal Tiger Emergency (Full Episode) | Animal ER</td>\n",
       "      <td>Animal ER</td>\n",
       "      <td>13824</td>\n",
       "      <td>427</td>\n",
       "      <td>18</td>\n",
       "      <td>2023-08-31</td>\n",
       "      <td>7043.70</td>\n",
       "    </tr>\n",
       "    <tr>\n",
       "      <th>1</th>\n",
       "      <td>The Vet Detective and the Amputee Alligator (Full Episode) | The Wild Life of Dr. Ole</td>\n",
       "      <td>The Wild Life of Dr. Ole</td>\n",
       "      <td>20340</td>\n",
       "      <td>485</td>\n",
       "      <td>16</td>\n",
       "      <td>2023-08-24</td>\n",
       "      <td>10318.70</td>\n",
       "    </tr>\n",
       "    <tr>\n",
       "      <th>2</th>\n",
       "      <td>Tortoise Surgery, Chinchilla Emergency, and the Chicken (Full Episode) | Dr. K's Exotic Animal ER</td>\n",
       "      <td>Animal ER</td>\n",
       "      <td>20611</td>\n",
       "      <td>462</td>\n",
       "      <td>15</td>\n",
       "      <td>2023-08-17</td>\n",
       "      <td>10447.10</td>\n",
       "    </tr>\n",
       "  </tbody>\n",
       "</table>\n",
       "</div>"
      ],
      "text/plain": [
       "                                                                                               title  \\\n",
       "0  In the Operating Room: A White Bengal Tiger Emergency (Full Episode) | Animal ER                    \n",
       "1  The Vet Detective and the Amputee Alligator (Full Episode) | The Wild Life of Dr. Ole               \n",
       "2  Tortoise Surgery, Chinchilla Emergency, and the Chicken (Full Episode) | Dr. K's Exotic Animal ER   \n",
       "\n",
       "                     series  views  likes  comments created_at   rating  \n",
       "0  Animal ER                 13824  427    18       2023-08-31 7043.70   \n",
       "1  The Wild Life of Dr. Ole  20340  485    16       2023-08-24 10318.70  \n",
       "2  Animal ER                 20611  462    15       2023-08-17 10447.10  "
      ]
     },
     "execution_count": 37,
     "metadata": {},
     "output_type": "execute_result"
    }
   ],
   "source": [
    "data['rating'] = 0.5*data['views'] + 0.3*data['likes'] + 0.2*data['comments']\n",
    "data_rating = data[['title','series','views','likes','comments','created_at','rating']]\n",
    "\n",
    "data_rating.head(3)"
   ]
  },
  {
   "cell_type": "markdown",
   "id": "4207c309",
   "metadata": {},
   "source": [
    "Сгруппируем данные по сериям"
   ]
  },
  {
   "cell_type": "code",
   "execution_count": 38,
   "id": "f33b256f",
   "metadata": {},
   "outputs": [
    {
     "name": "stdout",
     "output_type": "stream",
     "text": [
      "Число серий на канале: 23\n"
     ]
    }
   ],
   "source": [
    "rating_per_series = data_rating.groupby('series', as_index = False).agg({'rating':'mean', 'title':'nunique', 'created_at':'max'}).reset_index(drop=True)\n",
    "rating_per_series.columns=['series','rating','number','latest_date']\n",
    "\n",
    "print('Число серий на канале:',rating_per_series.shape[0])"
   ]
  },
  {
   "cell_type": "markdown",
   "id": "97e7aff4",
   "metadata": {},
   "source": [
    "Отберем самые высоко- и низкирейтинговые серии по 7 штук: топ-7 и лоу-7. Серий со средним рейтингом останется 9."
   ]
  },
  {
   "cell_type": "markdown",
   "id": "4efd95a5",
   "metadata": {},
   "source": [
    "#### Серии с низким рейтингом"
   ]
  },
  {
   "cell_type": "markdown",
   "id": "a43a7bec",
   "metadata": {},
   "source": [
    "Посмотрим, какие серии попали в рейтинг лоу-7"
   ]
  },
  {
   "cell_type": "code",
   "execution_count": 39,
   "id": "4b71ec17",
   "metadata": {
    "scrolled": false
   },
   "outputs": [
    {
     "data": {
      "text/html": [
       "<div>\n",
       "<style scoped>\n",
       "    .dataframe tbody tr th:only-of-type {\n",
       "        vertical-align: middle;\n",
       "    }\n",
       "\n",
       "    .dataframe tbody tr th {\n",
       "        vertical-align: top;\n",
       "    }\n",
       "\n",
       "    .dataframe thead th {\n",
       "        text-align: right;\n",
       "    }\n",
       "</style>\n",
       "<table border=\"1\" class=\"dataframe\">\n",
       "  <thead>\n",
       "    <tr style=\"text-align: right;\">\n",
       "      <th></th>\n",
       "      <th>series</th>\n",
       "      <th>rating</th>\n",
       "      <th>number</th>\n",
       "      <th>latest_date</th>\n",
       "    </tr>\n",
       "  </thead>\n",
       "  <tbody>\n",
       "    <tr>\n",
       "      <th>0</th>\n",
       "      <td>Fish My City with Mike Iaconelli</td>\n",
       "      <td>5841.83</td>\n",
       "      <td>6</td>\n",
       "      <td>2022-07-07</td>\n",
       "    </tr>\n",
       "    <tr>\n",
       "      <th>1</th>\n",
       "      <td>Animal ER</td>\n",
       "      <td>8745.40</td>\n",
       "      <td>2</td>\n",
       "      <td>2023-08-31</td>\n",
       "    </tr>\n",
       "    <tr>\n",
       "      <th>2</th>\n",
       "      <td>Pop Goes the Vet with Dr. Joya</td>\n",
       "      <td>8766.60</td>\n",
       "      <td>1</td>\n",
       "      <td>2023-08-07</td>\n",
       "    </tr>\n",
       "    <tr>\n",
       "      <th>3</th>\n",
       "      <td>The Wild Life of Dr. Ole</td>\n",
       "      <td>10318.70</td>\n",
       "      <td>1</td>\n",
       "      <td>2023-08-24</td>\n",
       "    </tr>\n",
       "    <tr>\n",
       "      <th>4</th>\n",
       "      <td>Bandit Patrol</td>\n",
       "      <td>11663.72</td>\n",
       "      <td>5</td>\n",
       "      <td>2022-10-30</td>\n",
       "    </tr>\n",
       "    <tr>\n",
       "      <th>5</th>\n",
       "      <td>Jungle Animal Rescue</td>\n",
       "      <td>13948.85</td>\n",
       "      <td>2</td>\n",
       "      <td>2023-05-15</td>\n",
       "    </tr>\n",
       "    <tr>\n",
       "      <th>6</th>\n",
       "      <td>Alaska's Grizzly Gauntlet</td>\n",
       "      <td>15748.00</td>\n",
       "      <td>1</td>\n",
       "      <td>2023-08-14</td>\n",
       "    </tr>\n",
       "  </tbody>\n",
       "</table>\n",
       "</div>"
      ],
      "text/plain": [
       "                             series   rating  number latest_date\n",
       "0  Fish My City with Mike Iaconelli 5841.83   6      2022-07-07 \n",
       "1  Animal ER                        8745.40   2      2023-08-31 \n",
       "2  Pop Goes the Vet with Dr. Joya   8766.60   1      2023-08-07 \n",
       "3  The Wild Life of Dr. Ole         10318.70  1      2023-08-24 \n",
       "4  Bandit Patrol                    11663.72  5      2022-10-30 \n",
       "5  Jungle Animal Rescue             13948.85  2      2023-05-15 \n",
       "6  Alaska's Grizzly Gauntlet        15748.00  1      2023-08-14 "
      ]
     },
     "execution_count": 39,
     "metadata": {},
     "output_type": "execute_result"
    }
   ],
   "source": [
    "low_seven_rating = rating_per_series.sort_values(by = ['rating']).reset_index(drop=True)\n",
    "low_seven_rating_list = list(low_seven_rating['series'][:7])\n",
    "low_seven_rating_series = low_seven_rating.query('series in @low_seven_rating_list')\n",
    "\n",
    "low_seven_rating_series"
   ]
  },
  {
   "cell_type": "markdown",
   "id": "50cfe4b0",
   "metadata": {},
   "source": [
    "+ Самые низкорейтинговые (лоу-7): `Fish My City with Mike Iaconelli`, `Animal ER`, `Pop Goes the Vet with Dr. Joya`, `The Wild Life of Dr. Ole`, `Bandit Patrol`, `Jungle Animal Rescue` и `Alaska's Grizzly Gauntlet`.\n",
    "+ Серии `Animal ER`, `Pop Goes the Vet with Dr. Joya`, `Alaska's Grizzly Gauntlet` новые для канала: начали выходить в августе. Несмотря на то, что они на канале находятся около месяца, рейтинг у серий низкий (рейтинговые видео за первую неделю набирают много просмотров).\n",
    "\n",
    "Посмотрим на динамику выхода серий с низким рейтингом "
   ]
  },
  {
   "cell_type": "code",
   "execution_count": 40,
   "id": "52041e7b",
   "metadata": {
    "scrolled": true
   },
   "outputs": [
    {
     "data": {
      "image/png": "[encoded data removed]",
      "text/plain": [
       "<Figure size 576x360 with 1 Axes>"
      ]
     },
     "metadata": {
      "needs_background": "light"
     },
     "output_type": "display_data"
    }
   ],
   "source": [
    "low_seven_rating_series_pivot = data.query('series in @low_seven_rating_list')\\\n",
    "                             .pivot_table(index = 'month',columns = 'year', values = 'title', aggfunc = 'nunique')\n",
    "\n",
    "low_seven_rating_series_pivot.plot(kind = 'bar', figsize = (8,5), color = ('royalblue','coral'))\n",
    "plt.title('Число серий с низким рейтингом по месяцам', size = 15)\n",
    "plt.xlabel('месяц', size = 10)\n",
    "plt.ylabel('количество выпусков', size = 10)\n",
    "plt.show()"
   ]
  },
  {
   "cell_type": "markdown",
   "id": "389a8309",
   "metadata": {},
   "source": [
    "+ В 2022 серии с низким рейтингом чаще выходили в июне и октябре. \n",
    "+ В 2023 серии с низким рейтингом чаще выходили в августе."
   ]
  },
  {
   "cell_type": "code",
   "execution_count": 41,
   "id": "b734ca04",
   "metadata": {},
   "outputs": [
    {
     "name": "stdout",
     "output_type": "stream",
     "text": [
      "Среднее число серий с низким рейтингом за месяц в 2022 году: 1.4\n",
      "Среднее число серий с низким рейтингом за месяц в 2023 году: 0.9\n"
     ]
    }
   ],
   "source": [
    "low_seven_rating_stat = low_seven_rating_series_pivot.reset_index()  \n",
    "low_seven_rating_stat.columns = ['month','2022','2023']\n",
    "\n",
    "print ('Среднее число серий с низким рейтингом за месяц в 2022 году:', round(low_seven_rating_stat['2022'].sum()/8,1))\n",
    "print ('Среднее число серий с низким рейтингом за месяц в 2023 году:', round(low_seven_rating_stat['2023'].sum()/8,1))"
   ]
  },
  {
   "cell_type": "markdown",
   "id": "8e643930",
   "metadata": {},
   "source": [
    "В 2022 году в среднем выходило 1.4  серии с низким рейтингом в месяц, в 2023 в 1.5 раза меньше"
   ]
  },
  {
   "cell_type": "markdown",
   "id": "a92c98ed",
   "metadata": {},
   "source": [
    "### Серии с высоким рейтингом\n",
    "\n",
    "Посмотрим, какие серии попали в рейтинг топ-7"
   ]
  },
  {
   "cell_type": "code",
   "execution_count": 42,
   "id": "84c20391",
   "metadata": {
    "scrolled": true
   },
   "outputs": [
    {
     "data": {
      "text/html": [
       "<div>\n",
       "<style scoped>\n",
       "    .dataframe tbody tr th:only-of-type {\n",
       "        vertical-align: middle;\n",
       "    }\n",
       "\n",
       "    .dataframe tbody tr th {\n",
       "        vertical-align: top;\n",
       "    }\n",
       "\n",
       "    .dataframe thead th {\n",
       "        text-align: right;\n",
       "    }\n",
       "</style>\n",
       "<table border=\"1\" class=\"dataframe\">\n",
       "  <thead>\n",
       "    <tr style=\"text-align: right;\">\n",
       "      <th></th>\n",
       "      <th>series</th>\n",
       "      <th>rating</th>\n",
       "      <th>number</th>\n",
       "      <th>latest_date</th>\n",
       "    </tr>\n",
       "  </thead>\n",
       "  <tbody>\n",
       "    <tr>\n",
       "      <th>0</th>\n",
       "      <td>Savage Kingdom</td>\n",
       "      <td>2274039.02</td>\n",
       "      <td>11</td>\n",
       "      <td>2023-05-01</td>\n",
       "    </tr>\n",
       "    <tr>\n",
       "      <th>1</th>\n",
       "      <td>Animal Fight Night</td>\n",
       "      <td>1259123.38</td>\n",
       "      <td>8</td>\n",
       "      <td>2023-07-03</td>\n",
       "    </tr>\n",
       "    <tr>\n",
       "      <th>2</th>\n",
       "      <td>World's Deadliest</td>\n",
       "      <td>960315.29</td>\n",
       "      <td>9</td>\n",
       "      <td>2023-06-19</td>\n",
       "    </tr>\n",
       "    <tr>\n",
       "      <th>3</th>\n",
       "      <td>Battle</td>\n",
       "      <td>888490.10</td>\n",
       "      <td>2</td>\n",
       "      <td>2022-10-13</td>\n",
       "    </tr>\n",
       "    <tr>\n",
       "      <th>4</th>\n",
       "      <td>Predator Fail</td>\n",
       "      <td>523853.37</td>\n",
       "      <td>3</td>\n",
       "      <td>2022-08-04</td>\n",
       "    </tr>\n",
       "    <tr>\n",
       "      <th>5</th>\n",
       "      <td>Cesar Millan: Better Human, Better Dog</td>\n",
       "      <td>384775.33</td>\n",
       "      <td>6</td>\n",
       "      <td>2023-05-29</td>\n",
       "    </tr>\n",
       "    <tr>\n",
       "      <th>6</th>\n",
       "      <td>Florida Untamed</td>\n",
       "      <td>280401.70</td>\n",
       "      <td>2</td>\n",
       "      <td>2022-10-27</td>\n",
       "    </tr>\n",
       "  </tbody>\n",
       "</table>\n",
       "</div>"
      ],
      "text/plain": [
       "                                   series     rating  number latest_date\n",
       "0  Savage Kingdom                         2274039.02  11     2023-05-01 \n",
       "1  Animal Fight Night                     1259123.38  8      2023-07-03 \n",
       "2  World's Deadliest                      960315.29   9      2023-06-19 \n",
       "3  Battle                                 888490.10   2      2022-10-13 \n",
       "4  Predator Fail                          523853.37   3      2022-08-04 \n",
       "5  Cesar Millan: Better Human, Better Dog 384775.33   6      2023-05-29 \n",
       "6  Florida Untamed                        280401.70   2      2022-10-27 "
      ]
     },
     "execution_count": 42,
     "metadata": {},
     "output_type": "execute_result"
    }
   ],
   "source": [
    "top_seven_rating = rating_per_series.sort_values(by = ['rating'], ascending = False).reset_index(drop=True)\n",
    "top_seven_rating_list = list(top_seven_rating['series'][:7])\n",
    "top_seven_rating_series = top_seven_rating.query('series in @top_seven_rating_list')\n",
    "\n",
    "top_seven_rating_series"
   ]
  },
  {
   "cell_type": "markdown",
   "id": "52ad4aec",
   "metadata": {},
   "source": [
    "+ Cамые рейтинговые (топ-7): `Savage Kingdom`, `Animal Fight Night`, `World's Deadliest`,`Battle`, `Predator Fail`, `Cesar Millan: Better Human, Better Dog` и `Florida Untamed`\n",
    "+ Серии `Battle`, `Predator Fail` и  `Florida Untamed` не выходили более года, их можно продолжить снимать далее, так как у них высокие рейтинги.\n",
    "\n",
    "Посмотрим динамику выхода серий с высоким рейтингом"
   ]
  },
  {
   "cell_type": "code",
   "execution_count": 43,
   "id": "322e67a6",
   "metadata": {
    "scrolled": true
   },
   "outputs": [
    {
     "data": {
      "image/png": "[encoded data removed]",
      "text/plain": [
       "<Figure size 576x360 with 1 Axes>"
      ]
     },
     "metadata": {
      "needs_background": "light"
     },
     "output_type": "display_data"
    }
   ],
   "source": [
    "top_seven_rating_series_pivot = data.query('series in @top_seven_rating_list')\\\n",
    "                             .pivot_table(index = 'month',columns = 'year', values = 'title', aggfunc = 'nunique')                                                                                          \n",
    "\n",
    "top_seven_rating_series_pivot.plot(kind = 'bar', figsize = (8,5), color = ('royalblue','coral'))\n",
    "plt.title('Число серий с высоким рейтингом по месяцам', size = 15)\n",
    "plt.xlabel('месяц', size = 10)\n",
    "plt.ylabel('количество выпусков', size = 10)\n",
    "plt.show()"
   ]
  },
  {
   "cell_type": "markdown",
   "id": "4547b768",
   "metadata": {},
   "source": [
    "+ В 2022 году наблюдается уменьшение количества выпускаемых серий с высоким рейтингом. В ноябре 2022 не вышло ни одной рейтинговой серии.\n",
    "+ В начале 2023 году видна положительная динамика: в месяц выходит все больше серий с высоким рейтингом. Начиная с июня, число рейтинговых серий уменьшается. В феврале и августе 2023 не вышло ни одной рейтинговой серии. "
   ]
  },
  {
   "cell_type": "code",
   "execution_count": 44,
   "id": "f06f7b7e",
   "metadata": {},
   "outputs": [
    {
     "name": "stdout",
     "output_type": "stream",
     "text": [
      "Среднее число рейтинговых выпусков за месяц в 2022 году: 3.8\n",
      "Среднее число рейтинговых выпусков за месяц в 2023 году: 1.4\n"
     ]
    }
   ],
   "source": [
    "top_seven_rating_stat = top_seven_rating_series_pivot.reset_index()  \n",
    "top_seven_rating_stat.columns = ['month','2022','2023']\n",
    "\n",
    "print ('Среднее число рейтинговых выпусков за месяц в 2022 году:', round(top_seven_rating_stat['2022'].sum()/8,1))\n",
    "print ('Среднее число рейтинговых выпусков за месяц в 2023 году:', round(top_seven_rating_stat['2023'].sum()/8,1))"
   ]
  },
  {
   "cell_type": "markdown",
   "id": "c21db4b4",
   "metadata": {},
   "source": [
    "В 2022 году в среднем выходило 3.8 серии с высоким рейтингом в месяц, в 2022 показатели в 2.7 раза ниже."
   ]
  },
  {
   "cell_type": "markdown",
   "id": "5e299220",
   "metadata": {},
   "source": [
    "### Выводы\n",
    "+ Самые низкорейтинговые (лоу-7): `Fish My City with Mike Iaconelli`, `Animal ER`, `Pop Goes the Vet with Dr. Joya`, `The Wild Life of Dr. Ole`, `Bandit Patrol`, `Jungle Animal Rescue` и `Alaska's Grizzly Gauntlet`. В 2022 году в среднем выходило 1.4 серии с **низким рейтингом** в месяц, в 2023 показатели в 1.5 раза **ниже**.\n",
    "+ Серии `Animal ER`, `Pop Goes the Vet with Dr. Joya`, `Alaska's Grizzly Gauntlet` новые для канала: начали выходить в августе. Несмотря на то, что они на канале находятся около месяца, рейтинг у серий низкий (рейтинговые видео за первую неделю набирают много просмотров).\n",
    "\n",
    "\n",
    "\n",
    "\n",
    "+ Cамые рейтинговые (топ-7): `Savage Kingdom`, `Animal Fight Night`, `World's Deadliest`,`Battle`, `Predator Fail`, `Cesar Millan: Better Human, Better Dog` и `Florida Untamed`. В 2022 году в среднем выходило 3.8 серии с **высоким рейтингом** в месяц, в 2022 показатели в 2.7 раза **ниже**.\n",
    "+ Серии `Battle`, `Predator Fail` и  `Florida Untamed` не выходили более года, их можно продолжить снимать далее, так как у них высокие рейтинги."
   ]
  },
  {
   "cell_type": "markdown",
   "id": "8f5ee47c",
   "metadata": {},
   "source": [
    "<a id='section4'></a>\n",
    "# Проверка гипотез "
   ]
  },
  {
   "cell_type": "markdown",
   "id": "54b48c11",
   "metadata": {},
   "source": [
    "## Проверка гипотезы №1\n",
    "+ **H1**: Пользовательская активность в 2023 году ниже, т.к. доля рейтинговых выпусков в 2022 была выше.\n",
    "\n",
    "Объединим таблицы с суммарным числом видео и числом топ-выпусков за месяц "
   ]
  },
  {
   "cell_type": "code",
   "execution_count": 45,
   "id": "bdb911d2",
   "metadata": {
    "scrolled": false
   },
   "outputs": [
    {
     "data": {
      "text/html": [
       "<div>\n",
       "<style scoped>\n",
       "    .dataframe tbody tr th:only-of-type {\n",
       "        vertical-align: middle;\n",
       "    }\n",
       "\n",
       "    .dataframe tbody tr th {\n",
       "        vertical-align: top;\n",
       "    }\n",
       "\n",
       "    .dataframe thead th {\n",
       "        text-align: right;\n",
       "    }\n",
       "</style>\n",
       "<table border=\"1\" class=\"dataframe\">\n",
       "  <thead>\n",
       "    <tr style=\"text-align: right;\">\n",
       "      <th></th>\n",
       "      <th>month</th>\n",
       "      <th>2022_sum</th>\n",
       "      <th>2023_sum</th>\n",
       "      <th>2022_top</th>\n",
       "      <th>2023_top</th>\n",
       "    </tr>\n",
       "  </thead>\n",
       "  <tbody>\n",
       "    <tr>\n",
       "      <th>0</th>\n",
       "      <td>1</td>\n",
       "      <td>0.00</td>\n",
       "      <td>5.00</td>\n",
       "      <td>0.00</td>\n",
       "      <td>1.00</td>\n",
       "    </tr>\n",
       "    <tr>\n",
       "      <th>1</th>\n",
       "      <td>2</td>\n",
       "      <td>0.00</td>\n",
       "      <td>3.00</td>\n",
       "      <td>0.00</td>\n",
       "      <td>0.00</td>\n",
       "    </tr>\n",
       "    <tr>\n",
       "      <th>2</th>\n",
       "      <td>3</td>\n",
       "      <td>0.00</td>\n",
       "      <td>4.00</td>\n",
       "      <td>0.00</td>\n",
       "      <td>1.00</td>\n",
       "    </tr>\n",
       "    <tr>\n",
       "      <th>3</th>\n",
       "      <td>4</td>\n",
       "      <td>0.00</td>\n",
       "      <td>4.00</td>\n",
       "      <td>0.00</td>\n",
       "      <td>2.00</td>\n",
       "    </tr>\n",
       "    <tr>\n",
       "      <th>4</th>\n",
       "      <td>5</td>\n",
       "      <td>9.00</td>\n",
       "      <td>5.00</td>\n",
       "      <td>9.00</td>\n",
       "      <td>4.00</td>\n",
       "    </tr>\n",
       "    <tr>\n",
       "      <th>5</th>\n",
       "      <td>6</td>\n",
       "      <td>9.00</td>\n",
       "      <td>4.00</td>\n",
       "      <td>4.00</td>\n",
       "      <td>2.00</td>\n",
       "    </tr>\n",
       "    <tr>\n",
       "      <th>6</th>\n",
       "      <td>7</td>\n",
       "      <td>7.00</td>\n",
       "      <td>3.00</td>\n",
       "      <td>6.00</td>\n",
       "      <td>1.00</td>\n",
       "    </tr>\n",
       "    <tr>\n",
       "      <th>7</th>\n",
       "      <td>8</td>\n",
       "      <td>8.00</td>\n",
       "      <td>5.00</td>\n",
       "      <td>2.00</td>\n",
       "      <td>0.00</td>\n",
       "    </tr>\n",
       "    <tr>\n",
       "      <th>8</th>\n",
       "      <td>9</td>\n",
       "      <td>10.00</td>\n",
       "      <td>0.00</td>\n",
       "      <td>2.00</td>\n",
       "      <td>0.00</td>\n",
       "    </tr>\n",
       "    <tr>\n",
       "      <th>9</th>\n",
       "      <td>10</td>\n",
       "      <td>9.00</td>\n",
       "      <td>0.00</td>\n",
       "      <td>4.00</td>\n",
       "      <td>0.00</td>\n",
       "    </tr>\n",
       "    <tr>\n",
       "      <th>10</th>\n",
       "      <td>11</td>\n",
       "      <td>7.00</td>\n",
       "      <td>0.00</td>\n",
       "      <td>0.00</td>\n",
       "      <td>0.00</td>\n",
       "    </tr>\n",
       "    <tr>\n",
       "      <th>11</th>\n",
       "      <td>12</td>\n",
       "      <td>7.00</td>\n",
       "      <td>0.00</td>\n",
       "      <td>3.00</td>\n",
       "      <td>0.00</td>\n",
       "    </tr>\n",
       "  </tbody>\n",
       "</table>\n",
       "</div>"
      ],
      "text/plain": [
       "    month  2022_sum  2023_sum  2022_top  2023_top\n",
       "0   1     0.00      5.00      0.00      1.00     \n",
       "1   2     0.00      3.00      0.00      0.00     \n",
       "2   3     0.00      4.00      0.00      1.00     \n",
       "3   4     0.00      4.00      0.00      2.00     \n",
       "4   5     9.00      5.00      9.00      4.00     \n",
       "5   6     9.00      4.00      4.00      2.00     \n",
       "6   7     7.00      3.00      6.00      1.00     \n",
       "7   8     8.00      5.00      2.00      0.00     \n",
       "8   9     10.00     0.00      2.00      0.00     \n",
       "9   10    9.00      0.00      4.00      0.00     \n",
       "10  11    7.00      0.00      0.00      0.00     \n",
       "11  12    7.00      0.00      3.00      0.00     "
      ]
     },
     "execution_count": 45,
     "metadata": {},
     "output_type": "execute_result"
    }
   ],
   "source": [
    "merged_stat = videos_per_month_upd.merge(top_seven_rating_stat, how = 'left', on = 'month')\n",
    "merged_stat.columns = ['month','2022_sum','2023_sum','2022_top','2023_top']\n",
    "merged_stat = merged_stat.fillna(0)\n",
    "\n",
    "merged_stat"
   ]
  },
  {
   "cell_type": "code",
   "execution_count": 46,
   "id": "fc71584b",
   "metadata": {},
   "outputs": [
    {
     "name": "stdout",
     "output_type": "stream",
     "text": [
      "Число рейтинговых выпусков за 2022 год: 30\n",
      "Доля рейтинговых выпусков за 2022 год: 0.45\n",
      "Число рейтинговых выпусков за 2023 год: 11\n",
      "Доля рейтинговых выпусков за 2023 год: 0.33\n"
     ]
    }
   ],
   "source": [
    "print('Число рейтинговых выпусков за 2022 год:',round(merged_stat['2022_top'].sum()))\n",
    "print('Доля рейтинговых выпусков за 2022 год:',round(merged_stat['2022_top'].sum()/merged_stat['2022_sum'].sum(),2))\n",
    "print('Число рейтинговых выпусков за 2023 год:',round(merged_stat['2023_top'].sum()))\n",
    "print('Доля рейтинговых выпусков за 2023 год:',round(merged_stat['2023_top'].sum()/merged_stat['2023_sum'].sum(),2))"
   ]
  },
  {
   "cell_type": "markdown",
   "id": "55a45d02",
   "metadata": {},
   "source": [
    "+ В 2022 году рейтинговые выпуски выходили в 2.7 раза чаще, чем в 2023\n",
    "+ В 2022 году доля рейтинговых выпусков составила 0.45, в 2023 показатель в 1.36 раза меньше.\n",
    "\n",
    "**Гипотеза №1 подтверждена**"
   ]
  },
  {
   "cell_type": "markdown",
   "id": "8ca8dad9",
   "metadata": {},
   "source": [
    "## Проверка гипотезы №2\n",
    "\n",
    "+ **H2**: Пользовательская активность в 2023 году ниже, т.к. выпуски 2022 года находились в сети дольше.\n",
    "\n",
    "Построим графики числа лайков/просмотров/комментариев по дням в сети "
   ]
  },
  {
   "cell_type": "code",
   "execution_count": 47,
   "id": "81749a8e",
   "metadata": {
    "scrolled": true
   },
   "outputs": [
    {
     "data": {
      "image/png": "[encoded data removed]",
      "text/plain": [
       "<Figure size 1440x360 with 3 Axes>"
      ]
     },
     "metadata": {
      "needs_background": "light"
     },
     "output_type": "display_data"
    }
   ],
   "source": [
    "fig, axs = plt.subplots(1, 3, figsize=(20, 5))\n",
    "\n",
    "sns.barplot(x = \"days_online\", y = \"likes\", data = data, ax = axs[0])\n",
    "axs[0].set_title('Число лайков по дням в сети')\n",
    "\n",
    "sns.barplot(x = \"days_online\", y = \"views\", data = data, ax = axs[1])\n",
    "axs[1].set_title('Число просмотров по дням в сети')\n",
    "\n",
    "sns.barplot(x = \"days_online\", y = \"comments\", data = data, ax = axs[2])\n",
    "axs[2].set_title('Число комментариев по дням в сети')\n",
    "\n",
    "axs[0].set_xticks(range(0, len(data), 8))  \n",
    "axs[1].set_xticks(range(0, len(data), 8))  \n",
    "axs[2].set_xticks(range(0, len(data), 8))\n",
    "\n",
    "plt.tight_layout()\n",
    "plt.show()"
   ]
  },
  {
   "cell_type": "markdown",
   "id": "81b19a53",
   "metadata": {},
   "source": [
    "Популярные видео на канале выходят с периодичностью три-четыре месяца. Провала по статистике не наблюдается.\n",
    "\n",
    "Посмотрим на общую корреляцию данных"
   ]
  },
  {
   "cell_type": "code",
   "execution_count": 48,
   "id": "546dac34",
   "metadata": {
    "scrolled": true
   },
   "outputs": [
    {
     "data": {
      "text/html": [
       "<div>\n",
       "<style scoped>\n",
       "    .dataframe tbody tr th:only-of-type {\n",
       "        vertical-align: middle;\n",
       "    }\n",
       "\n",
       "    .dataframe tbody tr th {\n",
       "        vertical-align: top;\n",
       "    }\n",
       "\n",
       "    .dataframe thead th {\n",
       "        text-align: right;\n",
       "    }\n",
       "</style>\n",
       "<table border=\"1\" class=\"dataframe\">\n",
       "  <thead>\n",
       "    <tr style=\"text-align: right;\">\n",
       "      <th></th>\n",
       "      <th>likes</th>\n",
       "      <th>views</th>\n",
       "      <th>comments</th>\n",
       "      <th>days_online</th>\n",
       "    </tr>\n",
       "  </thead>\n",
       "  <tbody>\n",
       "    <tr>\n",
       "      <th>likes</th>\n",
       "      <td>1.00</td>\n",
       "      <td>0.78</td>\n",
       "      <td>0.80</td>\n",
       "      <td>0.17</td>\n",
       "    </tr>\n",
       "    <tr>\n",
       "      <th>views</th>\n",
       "      <td>0.78</td>\n",
       "      <td>1.00</td>\n",
       "      <td>0.92</td>\n",
       "      <td>0.29</td>\n",
       "    </tr>\n",
       "    <tr>\n",
       "      <th>comments</th>\n",
       "      <td>0.80</td>\n",
       "      <td>0.92</td>\n",
       "      <td>1.00</td>\n",
       "      <td>0.25</td>\n",
       "    </tr>\n",
       "    <tr>\n",
       "      <th>days_online</th>\n",
       "      <td>0.17</td>\n",
       "      <td>0.29</td>\n",
       "      <td>0.25</td>\n",
       "      <td>1.00</td>\n",
       "    </tr>\n",
       "  </tbody>\n",
       "</table>\n",
       "</div>"
      ],
      "text/plain": [
       "             likes  views  comments  days_online\n",
       "likes       1.00   0.78   0.80      0.17        \n",
       "views       0.78   1.00   0.92      0.29        \n",
       "comments    0.80   0.92   1.00      0.25        \n",
       "days_online 0.17   0.29   0.25      1.00        "
      ]
     },
     "execution_count": 48,
     "metadata": {},
     "output_type": "execute_result"
    }
   ],
   "source": [
    "data[['likes', 'views', 'comments', 'days_online']].corr()"
   ]
  },
  {
   "cell_type": "markdown",
   "id": "944704bc",
   "metadata": {},
   "source": [
    "**Выводы**\n",
    "+ **Высокая** зависимость между **просмотрами и комментариями** (0.92)\n",
    "+ **Высокая** зависимость между **лайками и комментариями** (0.80)\n",
    "+ **Высокая** зависимость между **лайками и просмотрами** (0.78)\n",
    "+ **Низкая** зависимость между **длительностью нахождения в сети и лайками/просмотрами/комментариями** (<0.3)\n",
    "\n",
    "Низкая активность пользователей в 2023 году не связана с тем, что выпуски предыдущего года находились в сети дольше.\n",
    "\n",
    "**Гипотеза №2 не подтверждена**"
   ]
  },
  {
   "cell_type": "markdown",
   "id": "fef3fb5e",
   "metadata": {},
   "source": [
    "<a id='section5'></a>\n",
    "# Общие выводы \n",
    "1. В 2022 году в среднем выходило по 8 **видео в месяц**, за 2023 год показатели **в 2 раза ниже**.\n",
    "\n",
    "\n",
    "2. В 2022 году среднее **число просмотров под видео** составило 1.33 млн., за 2023 год показатели **в 2.9 раза ниже**.\n",
    "\n",
    "\n",
    "3. В 2022 году среднее **число лайков под видео** составило 8014, в 2023 показатели **в 1.5 раза ниже**.\n",
    "\n",
    "\n",
    "4. В 2022 году среднее **число комментариев под видео** составило 247, за 2023 год показатели **в 2 раза ниже**.\n",
    "\n",
    "\n",
    "5. В 2023 году средний показатель **лайк-вовлеченности** составил 1.94%, в 2022 показатель на 0.4 процентных пункта **меньше**.\n",
    "\n",
    "\n",
    "\n",
    "6. В 2023 году средний показатель **коммент-вовлеченности** составил 0.062%, в 2022 показатель на 0.009 процентных пункта **меньше**.\n",
    "\n",
    "\n",
    "7. В 2022 году в среднем выходило 1.4 серии с **низким рейтингом** в месяц, в 2023 в 1.5 раза **меньше**.\n",
    "\n",
    "\n",
    "8. В 2022 году в среднем выходило 3.8 серии с **высоким рейтингом** в месяц, в 2022 показатели в 2.7 раза **ниже**.\n",
    "\n",
    "\n",
    "9. В начале 2023 году видна **положительная динамика**: в месяц выходило все **больше** серий с высоким рейтингом. Начиная с июня, число рейтинговых серий **уменьшалось**. В августе не вышло **ни одной** серии с высоким рейтингом.\n",
    "\n",
    "\n",
    "10. Самые низкорейтинговые (лоу-7): `Fish My City with Mike Iaconelli`, `Animal ER`, `Pop Goes the Vet with Dr. Joya`, `The Wild Life of Dr. Ole`, `Bandit Patrol`, `Jungle Animal Rescue` и `Alaska's Grizzly Gauntlet`. В августе 2023 вышло аж 5 выпусков из этих серий.\n",
    "\n",
    "\n",
    "11. Cамые рейтинговые (топ-7): `Savage Kingdom`, `Animal Fight Night`, `World's Deadliest`,`Battle`, `Predator Fail`, `Cesar Millan: Better Human, Better Dog` и `Florida Untamed`. Некоторые из них продолжают выходить на канале, но реже, чем в 2022.\n",
    "\n",
    "\n",
    "12. Гипотеза №1 **подтверждена**. Доля рейтинговых выпусков в 2023 году составила 0.33, что в 1.36 раза **меньше**, чем в 2022. Поэтому, в 2023 пользовательская активность ниже.\n",
    "\n",
    "\n",
    "13. Гипотеза №2 **не подтверждена**. Низкая активность пользователей в 2023 году **не связана** с тем, что выпуски предыдущего года находились в сети **дольше**.\n",
    "\n",
    "\n",
    "В 2023 Nat Geo WILD пресмотрели **стратегию** ведения YouTube-канала: акцент был сделан на повышение **вовлеченности** аудитории по лайкам и комментариям. В 2023 выпуски стали выходить реже, вовлеченность аудитории увеличилась (доля лайков и комментариев от просмотров). Появились новые серии, но многие из них не стали рейтинговыми, в следствие чего средние показатели канала уменьшились.\n",
    "\n",
    "Можно выделить 2 рекомендации для улучшения показателей канала Nat Geo WILD."
   ]
  },
  {
   "cell_type": "markdown",
   "id": "ad01f72f",
   "metadata": {},
   "source": [
    "<a id='section6'></a>\n",
    "# Рекомендации \n",
    "\n",
    "1. Серии `Animal ER`, `Pop Goes the Vet with Dr. Joya`, `Alaska's Grizzly Gauntlet` новые для канала, и они попали в топ-7 низкорейтинговых за все время, их можно больше не снимать.\n",
    "\n",
    "\n",
    "2. Серии `Battle`, `Predator Fail` и  `Florida Untamed` не выходили более года, их можно продолжить снимать далее, так как у них высокие рейтинги."
   ]
  }
 ],
 "metadata": {
  "kernelspec": {
   "display_name": "Python 3 (ipykernel)",
   "language": "python",
   "name": "python3"
  },
  "language_info": {
   "codemirror_mode": {
    "name": "ipython",
    "version": 3
   },
   "file_extension": ".py",
   "mimetype": "text/x-python",
   "name": "python",
   "nbconvert_exporter": "python",
   "pygments_lexer": "ipython3",
   "version": "3.9.12"
  },
  "toc": {
   "base_numbering": 1,
   "nav_menu": {},
   "number_sections": true,
   "sideBar": true,
   "skip_h1_title": false,
   "title_cell": "Table of Contents",
   "title_sidebar": "Contents",
   "toc_cell": false,
   "toc_position": {
    "height": "calc(100% - 180px)",
    "left": "10px",
    "top": "150px",
    "width": "296px"
   },
   "toc_section_display": true,
   "toc_window_display": false
  }
 },
 "nbformat": 4,
 "nbformat_minor": 5
}
