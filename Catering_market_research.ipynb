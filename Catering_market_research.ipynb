{
 "cells": [
  {
   "cell_type": "markdown",
   "metadata": {},
   "source": [
    "# Исследование рынка общепита\n",
    "\n",
    "**Цели проекта**\n",
    "\n",
    "Подготовить исследование рынка Москвы за 2022 год по сегментам (кафе, ресторан, пиццерия, паб, бар). Определить оптимальные район, меню и цены для кофейни.\n",
    "\n",
    "**План проекта**\n",
    "1. Обзор и предобработка данных\n",
    "2. Анализ данных\n",
    "3. Кейс кофейня\n",
    "4. Рекомендации"
   ]
  },
  {
   "cell_type": "markdown",
   "metadata": {},
   "source": [
    "# Обзор и предобработка данных"
   ]
  },
  {
   "cell_type": "code",
   "execution_count": 1,
   "metadata": {},
   "outputs": [],
   "source": [
    "import pandas as pd\n",
    "import datetime as dt                               # для работы с датой \n",
    "import plotly.express as px\n",
    "from plotly import graph_objects as go              # для визуализации данных\n",
    "from folium import Map, Marker, Choropleth          # импортируем карту, маркер и хороплет\n",
    "from folium.plugins import MarkerCluster            # импортируем кластер\n",
    "from folium.features import CustomIcon              # импортируем собственные иконки\n",
    "from IPython.display import IFrame\n",
    "\n",
    "\n",
    "import warnings                                     # для предупреждений в программе \n",
    "warnings.filterwarnings('ignore')                   # игнорировать предупреждения\n",
    "\n",
    "# с помощью pd.option настроим вывод так чтобы\n",
    "pd.options.display.max_columns = None               # чтобы не обрезались колонки\n",
    "pd.options.display.max_rows = None                  # чтобы видеть все содержимое вывода\n",
    "pd.options.display.max_colwidth = -1                # текст в ячейке отражался полностью вне зависимости от длины;\n",
    "pd.options.display.float_format = '{:.2f}'.format   # все числа отражались с двумя знаками после запятой."
   ]
  },
  {
   "cell_type": "code",
   "execution_count": 2,
   "metadata": {
    "scrolled": false
   },
   "outputs": [],
   "source": [
    "data = pd.read_csv('/datasets/moscow_places.csv')"
   ]
  },
  {
   "cell_type": "code",
   "execution_count": 3,
   "metadata": {
    "scrolled": false
   },
   "outputs": [
    {
     "name": "stdout",
     "output_type": "stream",
     "text": [
      "5 первых строк таблицы:\n"
     ]
    },
    {
     "data": {
      "text/html": [
       "<div>\n",
       "<style scoped>\n",
       "    .dataframe tbody tr th:only-of-type {\n",
       "        vertical-align: middle;\n",
       "    }\n",
       "\n",
       "    .dataframe tbody tr th {\n",
       "        vertical-align: top;\n",
       "    }\n",
       "\n",
       "    .dataframe thead th {\n",
       "        text-align: right;\n",
       "    }\n",
       "</style>\n",
       "<table border=\"1\" class=\"dataframe\">\n",
       "  <thead>\n",
       "    <tr style=\"text-align: right;\">\n",
       "      <th></th>\n",
       "      <th>name</th>\n",
       "      <th>category</th>\n",
       "      <th>address</th>\n",
       "      <th>district</th>\n",
       "      <th>hours</th>\n",
       "      <th>lat</th>\n",
       "      <th>lng</th>\n",
       "      <th>rating</th>\n",
       "      <th>price</th>\n",
       "      <th>avg_bill</th>\n",
       "      <th>middle_avg_bill</th>\n",
       "      <th>middle_coffee_cup</th>\n",
       "      <th>chain</th>\n",
       "      <th>seats</th>\n",
       "    </tr>\n",
       "  </thead>\n",
       "  <tbody>\n",
       "    <tr>\n",
       "      <th>0</th>\n",
       "      <td>WoWфли</td>\n",
       "      <td>кафе</td>\n",
       "      <td>Москва, улица Дыбенко, 7/1</td>\n",
       "      <td>Северный административный округ</td>\n",
       "      <td>ежедневно, 10:00–22:00</td>\n",
       "      <td>55.88</td>\n",
       "      <td>37.48</td>\n",
       "      <td>5.00</td>\n",
       "      <td>NaN</td>\n",
       "      <td>NaN</td>\n",
       "      <td>NaN</td>\n",
       "      <td>NaN</td>\n",
       "      <td>0</td>\n",
       "      <td>NaN</td>\n",
       "    </tr>\n",
       "    <tr>\n",
       "      <th>1</th>\n",
       "      <td>Четыре комнаты</td>\n",
       "      <td>ресторан</td>\n",
       "      <td>Москва, улица Дыбенко, 36, корп. 1</td>\n",
       "      <td>Северный административный округ</td>\n",
       "      <td>ежедневно, 10:00–22:00</td>\n",
       "      <td>55.88</td>\n",
       "      <td>37.48</td>\n",
       "      <td>4.50</td>\n",
       "      <td>выше среднего</td>\n",
       "      <td>Средний счёт:1500–1600 ₽</td>\n",
       "      <td>1550.00</td>\n",
       "      <td>NaN</td>\n",
       "      <td>0</td>\n",
       "      <td>4.00</td>\n",
       "    </tr>\n",
       "    <tr>\n",
       "      <th>2</th>\n",
       "      <td>Хазри</td>\n",
       "      <td>кафе</td>\n",
       "      <td>Москва, Клязьминская улица, 15</td>\n",
       "      <td>Северный административный округ</td>\n",
       "      <td>пн-чт 11:00–02:00; пт,сб 11:00–05:00; вс 11:00–02:00</td>\n",
       "      <td>55.89</td>\n",
       "      <td>37.53</td>\n",
       "      <td>4.60</td>\n",
       "      <td>средние</td>\n",
       "      <td>Средний счёт:от 1000 ₽</td>\n",
       "      <td>1000.00</td>\n",
       "      <td>NaN</td>\n",
       "      <td>0</td>\n",
       "      <td>45.00</td>\n",
       "    </tr>\n",
       "    <tr>\n",
       "      <th>3</th>\n",
       "      <td>Dormouse Coffee Shop</td>\n",
       "      <td>кофейня</td>\n",
       "      <td>Москва, улица Маршала Федоренко, 12</td>\n",
       "      <td>Северный административный округ</td>\n",
       "      <td>ежедневно, 09:00–22:00</td>\n",
       "      <td>55.88</td>\n",
       "      <td>37.49</td>\n",
       "      <td>5.00</td>\n",
       "      <td>NaN</td>\n",
       "      <td>Цена чашки капучино:155–185 ₽</td>\n",
       "      <td>NaN</td>\n",
       "      <td>170.00</td>\n",
       "      <td>0</td>\n",
       "      <td>NaN</td>\n",
       "    </tr>\n",
       "    <tr>\n",
       "      <th>4</th>\n",
       "      <td>Иль Марко</td>\n",
       "      <td>пиццерия</td>\n",
       "      <td>Москва, Правобережная улица, 1Б</td>\n",
       "      <td>Северный административный округ</td>\n",
       "      <td>ежедневно, 10:00–22:00</td>\n",
       "      <td>55.88</td>\n",
       "      <td>37.45</td>\n",
       "      <td>5.00</td>\n",
       "      <td>средние</td>\n",
       "      <td>Средний счёт:400–600 ₽</td>\n",
       "      <td>500.00</td>\n",
       "      <td>NaN</td>\n",
       "      <td>1</td>\n",
       "      <td>148.00</td>\n",
       "    </tr>\n",
       "  </tbody>\n",
       "</table>\n",
       "</div>"
      ],
      "text/plain": [
       "                   name  category                              address  \\\n",
       "0  WoWфли                кафе      Москва, улица Дыбенко, 7/1            \n",
       "1  Четыре комнаты        ресторан  Москва, улица Дыбенко, 36, корп. 1    \n",
       "2  Хазри                 кафе      Москва, Клязьминская улица, 15        \n",
       "3  Dormouse Coffee Shop  кофейня   Москва, улица Маршала Федоренко, 12   \n",
       "4  Иль Марко             пиццерия  Москва, Правобережная улица, 1Б       \n",
       "\n",
       "                          district  \\\n",
       "0  Северный административный округ   \n",
       "1  Северный административный округ   \n",
       "2  Северный административный округ   \n",
       "3  Северный административный округ   \n",
       "4  Северный административный округ   \n",
       "\n",
       "                                                  hours   lat   lng  rating  \\\n",
       "0  ежедневно, 10:00–22:00                               55.88 37.48 5.00      \n",
       "1  ежедневно, 10:00–22:00                               55.88 37.48 4.50      \n",
       "2  пн-чт 11:00–02:00; пт,сб 11:00–05:00; вс 11:00–02:00 55.89 37.53 4.60      \n",
       "3  ежедневно, 09:00–22:00                               55.88 37.49 5.00      \n",
       "4  ежедневно, 10:00–22:00                               55.88 37.45 5.00      \n",
       "\n",
       "           price                       avg_bill  middle_avg_bill  \\\n",
       "0  NaN            NaN                           NaN                \n",
       "1  выше среднего  Средний счёт:1500–1600 ₽      1550.00            \n",
       "2  средние        Средний счёт:от 1000 ₽        1000.00            \n",
       "3  NaN            Цена чашки капучино:155–185 ₽ NaN                \n",
       "4  средние        Средний счёт:400–600 ₽        500.00             \n",
       "\n",
       "   middle_coffee_cup  chain  seats  \n",
       "0 NaN                 0     NaN     \n",
       "1 NaN                 0     4.00    \n",
       "2 NaN                 0     45.00   \n",
       "3 170.00              0     NaN     \n",
       "4 NaN                 1     148.00  "
      ]
     },
     "metadata": {},
     "output_type": "display_data"
    },
    {
     "name": "stdout",
     "output_type": "stream",
     "text": [
      "Статистика данных:\n"
     ]
    },
    {
     "data": {
      "text/html": [
       "<div>\n",
       "<style scoped>\n",
       "    .dataframe tbody tr th:only-of-type {\n",
       "        vertical-align: middle;\n",
       "    }\n",
       "\n",
       "    .dataframe tbody tr th {\n",
       "        vertical-align: top;\n",
       "    }\n",
       "\n",
       "    .dataframe thead th {\n",
       "        text-align: right;\n",
       "    }\n",
       "</style>\n",
       "<table border=\"1\" class=\"dataframe\">\n",
       "  <thead>\n",
       "    <tr style=\"text-align: right;\">\n",
       "      <th></th>\n",
       "      <th>count</th>\n",
       "      <th>mean</th>\n",
       "      <th>std</th>\n",
       "      <th>min</th>\n",
       "      <th>25%</th>\n",
       "      <th>50%</th>\n",
       "      <th>75%</th>\n",
       "      <th>max</th>\n",
       "    </tr>\n",
       "  </thead>\n",
       "  <tbody>\n",
       "    <tr>\n",
       "      <th>lat</th>\n",
       "      <td>8406.00</td>\n",
       "      <td>55.75</td>\n",
       "      <td>0.07</td>\n",
       "      <td>55.57</td>\n",
       "      <td>55.71</td>\n",
       "      <td>55.75</td>\n",
       "      <td>55.80</td>\n",
       "      <td>55.93</td>\n",
       "    </tr>\n",
       "    <tr>\n",
       "      <th>lng</th>\n",
       "      <td>8406.00</td>\n",
       "      <td>37.61</td>\n",
       "      <td>0.10</td>\n",
       "      <td>37.36</td>\n",
       "      <td>37.54</td>\n",
       "      <td>37.61</td>\n",
       "      <td>37.66</td>\n",
       "      <td>37.87</td>\n",
       "    </tr>\n",
       "    <tr>\n",
       "      <th>rating</th>\n",
       "      <td>8406.00</td>\n",
       "      <td>4.23</td>\n",
       "      <td>0.47</td>\n",
       "      <td>1.00</td>\n",
       "      <td>4.10</td>\n",
       "      <td>4.30</td>\n",
       "      <td>4.40</td>\n",
       "      <td>5.00</td>\n",
       "    </tr>\n",
       "    <tr>\n",
       "      <th>middle_avg_bill</th>\n",
       "      <td>3149.00</td>\n",
       "      <td>958.05</td>\n",
       "      <td>1009.73</td>\n",
       "      <td>0.00</td>\n",
       "      <td>375.00</td>\n",
       "      <td>750.00</td>\n",
       "      <td>1250.00</td>\n",
       "      <td>35000.00</td>\n",
       "    </tr>\n",
       "    <tr>\n",
       "      <th>middle_coffee_cup</th>\n",
       "      <td>535.00</td>\n",
       "      <td>174.72</td>\n",
       "      <td>88.95</td>\n",
       "      <td>60.00</td>\n",
       "      <td>124.50</td>\n",
       "      <td>169.00</td>\n",
       "      <td>225.00</td>\n",
       "      <td>1568.00</td>\n",
       "    </tr>\n",
       "    <tr>\n",
       "      <th>chain</th>\n",
       "      <td>8406.00</td>\n",
       "      <td>0.38</td>\n",
       "      <td>0.49</td>\n",
       "      <td>0.00</td>\n",
       "      <td>0.00</td>\n",
       "      <td>0.00</td>\n",
       "      <td>1.00</td>\n",
       "      <td>1.00</td>\n",
       "    </tr>\n",
       "    <tr>\n",
       "      <th>seats</th>\n",
       "      <td>4795.00</td>\n",
       "      <td>108.42</td>\n",
       "      <td>122.83</td>\n",
       "      <td>0.00</td>\n",
       "      <td>40.00</td>\n",
       "      <td>75.00</td>\n",
       "      <td>140.00</td>\n",
       "      <td>1288.00</td>\n",
       "    </tr>\n",
       "  </tbody>\n",
       "</table>\n",
       "</div>"
      ],
      "text/plain": [
       "                    count   mean     std   min    25%    50%     75%      max\n",
       "lat               8406.00 55.75  0.07    55.57 55.71  55.75  55.80   55.93   \n",
       "lng               8406.00 37.61  0.10    37.36 37.54  37.61  37.66   37.87   \n",
       "rating            8406.00 4.23   0.47    1.00  4.10   4.30   4.40    5.00    \n",
       "middle_avg_bill   3149.00 958.05 1009.73 0.00  375.00 750.00 1250.00 35000.00\n",
       "middle_coffee_cup 535.00  174.72 88.95   60.00 124.50 169.00 225.00  1568.00 \n",
       "chain             8406.00 0.38   0.49    0.00  0.00   0.00   1.00    1.00    \n",
       "seats             4795.00 108.42 122.83  0.00  40.00  75.00  140.00  1288.00 "
      ]
     },
     "metadata": {},
     "output_type": "display_data"
    },
    {
     "data": {
      "text/html": [
       "<div>\n",
       "<style scoped>\n",
       "    .dataframe tbody tr th:only-of-type {\n",
       "        vertical-align: middle;\n",
       "    }\n",
       "\n",
       "    .dataframe tbody tr th {\n",
       "        vertical-align: top;\n",
       "    }\n",
       "\n",
       "    .dataframe thead th {\n",
       "        text-align: right;\n",
       "    }\n",
       "</style>\n",
       "<table border=\"1\" class=\"dataframe\">\n",
       "  <thead>\n",
       "    <tr style=\"text-align: right;\">\n",
       "      <th></th>\n",
       "      <th>count</th>\n",
       "      <th>unique</th>\n",
       "      <th>top</th>\n",
       "      <th>freq</th>\n",
       "    </tr>\n",
       "  </thead>\n",
       "  <tbody>\n",
       "    <tr>\n",
       "      <th>name</th>\n",
       "      <td>8406</td>\n",
       "      <td>5614</td>\n",
       "      <td>Кафе</td>\n",
       "      <td>189</td>\n",
       "    </tr>\n",
       "    <tr>\n",
       "      <th>category</th>\n",
       "      <td>8406</td>\n",
       "      <td>8</td>\n",
       "      <td>кафе</td>\n",
       "      <td>2378</td>\n",
       "    </tr>\n",
       "    <tr>\n",
       "      <th>address</th>\n",
       "      <td>8406</td>\n",
       "      <td>5753</td>\n",
       "      <td>Москва, проспект Вернадского, 86В</td>\n",
       "      <td>28</td>\n",
       "    </tr>\n",
       "    <tr>\n",
       "      <th>district</th>\n",
       "      <td>8406</td>\n",
       "      <td>9</td>\n",
       "      <td>Центральный административный округ</td>\n",
       "      <td>2242</td>\n",
       "    </tr>\n",
       "    <tr>\n",
       "      <th>hours</th>\n",
       "      <td>7870</td>\n",
       "      <td>1307</td>\n",
       "      <td>ежедневно, 10:00–22:00</td>\n",
       "      <td>759</td>\n",
       "    </tr>\n",
       "    <tr>\n",
       "      <th>price</th>\n",
       "      <td>3315</td>\n",
       "      <td>4</td>\n",
       "      <td>средние</td>\n",
       "      <td>2117</td>\n",
       "    </tr>\n",
       "    <tr>\n",
       "      <th>avg_bill</th>\n",
       "      <td>3816</td>\n",
       "      <td>897</td>\n",
       "      <td>Средний счёт:1000–1500 ₽</td>\n",
       "      <td>241</td>\n",
       "    </tr>\n",
       "  </tbody>\n",
       "</table>\n",
       "</div>"
      ],
      "text/plain": [
       "         count unique                                 top  freq\n",
       "name      8406  5614   Кафе                                189 \n",
       "category  8406  8      кафе                                2378\n",
       "address   8406  5753   Москва, проспект Вернадского, 86В   28  \n",
       "district  8406  9      Центральный административный округ  2242\n",
       "hours     7870  1307   ежедневно, 10:00–22:00              759 \n",
       "price     3315  4      средние                             2117\n",
       "avg_bill  3816  897    Средний счёт:1000–1500 ₽            241 "
      ]
     },
     "metadata": {},
     "output_type": "display_data"
    },
    {
     "name": "stdout",
     "output_type": "stream",
     "text": [
      "Общая информация о данных:\n",
      "<class 'pandas.core.frame.DataFrame'>\n",
      "RangeIndex: 8406 entries, 0 to 8405\n",
      "Data columns (total 14 columns):\n",
      " #   Column             Non-Null Count  Dtype  \n",
      "---  ------             --------------  -----  \n",
      " 0   name               8406 non-null   object \n",
      " 1   category           8406 non-null   object \n",
      " 2   address            8406 non-null   object \n",
      " 3   district           8406 non-null   object \n",
      " 4   hours              7870 non-null   object \n",
      " 5   lat                8406 non-null   float64\n",
      " 6   lng                8406 non-null   float64\n",
      " 7   rating             8406 non-null   float64\n",
      " 8   price              3315 non-null   object \n",
      " 9   avg_bill           3816 non-null   object \n",
      " 10  middle_avg_bill    3149 non-null   float64\n",
      " 11  middle_coffee_cup  535 non-null    float64\n",
      " 12  chain              8406 non-null   int64  \n",
      " 13  seats              4795 non-null   float64\n",
      "dtypes: float64(6), int64(1), object(7)\n",
      "memory usage: 919.5+ KB\n"
     ]
    }
   ],
   "source": [
    "def info_df(dataframe):\n",
    "    print(\"5 первых строк таблицы:\")\n",
    "    display(dataframe.head())\n",
    "    print(\"Статистика данных:\")\n",
    "    display(dataframe.describe().T)\n",
    "    display(dataframe.describe(include='object').T)\n",
    "    print(\"Общая информация о данных:\")\n",
    "    dataframe.info()\n",
    "    \n",
    "info_df(data)"
   ]
  },
  {
   "cell_type": "markdown",
   "metadata": {},
   "source": [
    "Таблица содержит данные о 8406 точках питания в Москве.\n",
    "\n",
    "Необходимо заменить тип данных в колонках `middle_avg_bill`, `middle_coffee_cup` и `seats` на *int* и разобраться с пропусками."
   ]
  },
  {
   "cell_type": "markdown",
   "metadata": {},
   "source": [
    "## Описание данных\n",
    "`name` - название заведения;\n",
    "\n",
    "`category` - вид деятельности ;\n",
    "\n",
    "`address` - адрес;\n",
    "\n",
    "`district` — административный район расположения;\n",
    "\n",
    "`hours` - часы работы;\n",
    "\n",
    "`lat` - координаты заведения на карте (широта);\n",
    "\n",
    "`lng` - координаты заведения на карте (долгота);\n",
    "\n",
    "`rating` - рейтинг заведения по оценкам пользователей в Яндекс Картах (высшая оценка — 5.0);\n",
    "\n",
    "`price` - категория цен в заведении, например «средние», «ниже среднего», «выше среднего»;\n",
    "\n",
    "`avg_bill` - средний чек в виде диапазона;\n",
    "\n",
    "`middle_avg_bill` - число с оценкой среднего чека, которое указано только для значений из столбца `avg_bill`, начинающихся с подстроки «Средний счёт»;\n",
    "\n",
    "`middle_coffee_cup` - число с оценкой одной чашки капучино, которое указано только для значений из столбца `avg_bill`, начинающихся с подстроки «Цена одной чашки капучино»;\n",
    "\n",
    "`chain` - число, выраженное 0 или 1, которое показывает, является ли заведение сетевым;\n",
    "\n",
    "`seats` - число посадочных мест."
   ]
  },
  {
   "cell_type": "markdown",
   "metadata": {},
   "source": [
    "## Обработка пропусков"
   ]
  },
  {
   "cell_type": "code",
   "execution_count": 4,
   "metadata": {},
   "outputs": [
    {
     "data": {
      "text/plain": [
       "'Количество пропусков в датафреме data'"
      ]
     },
     "metadata": {},
     "output_type": "display_data"
    },
    {
     "data": {
      "text/plain": [
       "name                 0   \n",
       "category             0   \n",
       "address              0   \n",
       "district             0   \n",
       "hours                536 \n",
       "lat                  0   \n",
       "lng                  0   \n",
       "rating               0   \n",
       "price                5091\n",
       "avg_bill             4590\n",
       "middle_avg_bill      5257\n",
       "middle_coffee_cup    7871\n",
       "chain                0   \n",
       "seats                3611\n",
       "dtype: int64"
      ]
     },
     "metadata": {},
     "output_type": "display_data"
    }
   ],
   "source": [
    "display('Количество пропусков в датафреме data', data.isna().sum())"
   ]
  },
  {
   "cell_type": "markdown",
   "metadata": {},
   "source": [
    "Пропуски в датафрейме заменить не получится, оставим все без изменений"
   ]
  },
  {
   "cell_type": "markdown",
   "metadata": {},
   "source": [
    "## Обработка дубликатов"
   ]
  },
  {
   "cell_type": "code",
   "execution_count": 5,
   "metadata": {
    "scrolled": true
   },
   "outputs": [
    {
     "name": "stdout",
     "output_type": "stream",
     "text": [
      "Явных дубликатов в датафреме data: 0\n"
     ]
    }
   ],
   "source": [
    "print('Явных дубликатов в датафреме data:', data.duplicated().sum())"
   ]
  },
  {
   "cell_type": "markdown",
   "metadata": {},
   "source": [
    "## Обработка неявных дубликатов"
   ]
  },
  {
   "cell_type": "code",
   "execution_count": 6,
   "metadata": {},
   "outputs": [
    {
     "data": {
      "text/plain": [
       "array(['кафе', 'ресторан', 'кофейня', 'пиццерия', 'бар,паб',\n",
       "       'быстрое питание', 'булочная', 'столовая'], dtype=object)"
      ]
     },
     "execution_count": 6,
     "metadata": {},
     "output_type": "execute_result"
    }
   ],
   "source": [
    "data['name']=data['name'].str.lower()\n",
    "\n",
    "data['category'].unique()"
   ]
  },
  {
   "cell_type": "code",
   "execution_count": 7,
   "metadata": {},
   "outputs": [
    {
     "name": "stdout",
     "output_type": "stream",
     "text": [
      "Дубликатов по колонкам `name`, `address` до обработки: 3\n"
     ]
    }
   ],
   "source": [
    "print('Дубликатов по колонкам `name`, `address` до обработки:',data.duplicated(subset=['name','address']).sum())"
   ]
  },
  {
   "cell_type": "code",
   "execution_count": 8,
   "metadata": {},
   "outputs": [
    {
     "name": "stdout",
     "output_type": "stream",
     "text": [
      "Дубликатов по колонкам `name`, `address` после обработки: 0\n"
     ]
    }
   ],
   "source": [
    "data = data.drop_duplicates(subset=['name','address'])\n",
    "print('Дубликатов по колонкам `name`, `address` после обработки:',data.duplicated(subset=['name','address']).sum())"
   ]
  },
  {
   "cell_type": "markdown",
   "metadata": {},
   "source": [
    "Неявные дубликаты удалены"
   ]
  },
  {
   "cell_type": "markdown",
   "metadata": {},
   "source": [
    "## Создание колонок"
   ]
  },
  {
   "cell_type": "markdown",
   "metadata": {},
   "source": [
    "## `street`\n",
    "Добавим колонку, где будет указана улица заведения"
   ]
  },
  {
   "cell_type": "code",
   "execution_count": 9,
   "metadata": {},
   "outputs": [
    {
     "data": {
      "text/html": [
       "<div>\n",
       "<style scoped>\n",
       "    .dataframe tbody tr th:only-of-type {\n",
       "        vertical-align: middle;\n",
       "    }\n",
       "\n",
       "    .dataframe tbody tr th {\n",
       "        vertical-align: top;\n",
       "    }\n",
       "\n",
       "    .dataframe thead th {\n",
       "        text-align: right;\n",
       "    }\n",
       "</style>\n",
       "<table border=\"1\" class=\"dataframe\">\n",
       "  <thead>\n",
       "    <tr style=\"text-align: right;\">\n",
       "      <th></th>\n",
       "      <th>name</th>\n",
       "      <th>category</th>\n",
       "      <th>address</th>\n",
       "      <th>district</th>\n",
       "      <th>hours</th>\n",
       "      <th>lat</th>\n",
       "      <th>lng</th>\n",
       "      <th>rating</th>\n",
       "      <th>price</th>\n",
       "      <th>avg_bill</th>\n",
       "      <th>middle_avg_bill</th>\n",
       "      <th>middle_coffee_cup</th>\n",
       "      <th>chain</th>\n",
       "      <th>seats</th>\n",
       "      <th>street</th>\n",
       "    </tr>\n",
       "  </thead>\n",
       "  <tbody>\n",
       "    <tr>\n",
       "      <th>0</th>\n",
       "      <td>wowфли</td>\n",
       "      <td>кафе</td>\n",
       "      <td>Москва, улица Дыбенко, 7/1</td>\n",
       "      <td>Северный административный округ</td>\n",
       "      <td>ежедневно, 10:00–22:00</td>\n",
       "      <td>55.88</td>\n",
       "      <td>37.48</td>\n",
       "      <td>5.00</td>\n",
       "      <td>NaN</td>\n",
       "      <td>NaN</td>\n",
       "      <td>NaN</td>\n",
       "      <td>NaN</td>\n",
       "      <td>0</td>\n",
       "      <td>NaN</td>\n",
       "      <td>улица Дыбенко</td>\n",
       "    </tr>\n",
       "    <tr>\n",
       "      <th>1</th>\n",
       "      <td>четыре комнаты</td>\n",
       "      <td>ресторан</td>\n",
       "      <td>Москва, улица Дыбенко, 36, корп. 1</td>\n",
       "      <td>Северный административный округ</td>\n",
       "      <td>ежедневно, 10:00–22:00</td>\n",
       "      <td>55.88</td>\n",
       "      <td>37.48</td>\n",
       "      <td>4.50</td>\n",
       "      <td>выше среднего</td>\n",
       "      <td>Средний счёт:1500–1600 ₽</td>\n",
       "      <td>1550.00</td>\n",
       "      <td>NaN</td>\n",
       "      <td>0</td>\n",
       "      <td>4.00</td>\n",
       "      <td>улица Дыбенко</td>\n",
       "    </tr>\n",
       "    <tr>\n",
       "      <th>2</th>\n",
       "      <td>хазри</td>\n",
       "      <td>кафе</td>\n",
       "      <td>Москва, Клязьминская улица, 15</td>\n",
       "      <td>Северный административный округ</td>\n",
       "      <td>пн-чт 11:00–02:00; пт,сб 11:00–05:00; вс 11:00–02:00</td>\n",
       "      <td>55.89</td>\n",
       "      <td>37.53</td>\n",
       "      <td>4.60</td>\n",
       "      <td>средние</td>\n",
       "      <td>Средний счёт:от 1000 ₽</td>\n",
       "      <td>1000.00</td>\n",
       "      <td>NaN</td>\n",
       "      <td>0</td>\n",
       "      <td>45.00</td>\n",
       "      <td>Клязьминская улица</td>\n",
       "    </tr>\n",
       "  </tbody>\n",
       "</table>\n",
       "</div>"
      ],
      "text/plain": [
       "             name  category                             address  \\\n",
       "0  wowфли          кафе      Москва, улица Дыбенко, 7/1           \n",
       "1  четыре комнаты  ресторан  Москва, улица Дыбенко, 36, корп. 1   \n",
       "2  хазри           кафе      Москва, Клязьминская улица, 15       \n",
       "\n",
       "                          district  \\\n",
       "0  Северный административный округ   \n",
       "1  Северный административный округ   \n",
       "2  Северный административный округ   \n",
       "\n",
       "                                                  hours   lat   lng  rating  \\\n",
       "0  ежедневно, 10:00–22:00                               55.88 37.48 5.00      \n",
       "1  ежедневно, 10:00–22:00                               55.88 37.48 4.50      \n",
       "2  пн-чт 11:00–02:00; пт,сб 11:00–05:00; вс 11:00–02:00 55.89 37.53 4.60      \n",
       "\n",
       "           price                  avg_bill  middle_avg_bill  \\\n",
       "0  NaN            NaN                      NaN                \n",
       "1  выше среднего  Средний счёт:1500–1600 ₽ 1550.00            \n",
       "2  средние        Средний счёт:от 1000 ₽   1000.00            \n",
       "\n",
       "   middle_coffee_cup  chain  seats              street  \n",
       "0 NaN                 0     NaN     улица Дыбенко       \n",
       "1 NaN                 0     4.00    улица Дыбенко       \n",
       "2 NaN                 0     45.00   Клязьминская улица  "
      ]
     },
     "execution_count": 9,
     "metadata": {},
     "output_type": "execute_result"
    }
   ],
   "source": [
    "final = []                            # пустой список, куда добавим названия улиц\n",
    "\n",
    "for i in list(data['address']):       # пройдемся циклом по адресам\n",
    "    words = i.split(', ')             # разделим адреса по ', '\n",
    "    final.append(words[1])            # добавляем второй элемент из words, где указана улица, в final\n",
    "        \n",
    "data['street'] = pd.Series(final)     # добавляем улицы в датафрейм\n",
    "\n",
    "data.head(3)"
   ]
  },
  {
   "cell_type": "markdown",
   "metadata": {},
   "source": [
    "### `is_24/7`\n",
    "Добавим колонку с обозначением, что заведение работает ежедневно и круглосуточно (24/7)"
   ]
  },
  {
   "cell_type": "code",
   "execution_count": 10,
   "metadata": {},
   "outputs": [
    {
     "data": {
      "text/html": [
       "<div>\n",
       "<style scoped>\n",
       "    .dataframe tbody tr th:only-of-type {\n",
       "        vertical-align: middle;\n",
       "    }\n",
       "\n",
       "    .dataframe tbody tr th {\n",
       "        vertical-align: top;\n",
       "    }\n",
       "\n",
       "    .dataframe thead th {\n",
       "        text-align: right;\n",
       "    }\n",
       "</style>\n",
       "<table border=\"1\" class=\"dataframe\">\n",
       "  <thead>\n",
       "    <tr style=\"text-align: right;\">\n",
       "      <th></th>\n",
       "      <th>name</th>\n",
       "      <th>category</th>\n",
       "      <th>address</th>\n",
       "      <th>district</th>\n",
       "      <th>hours</th>\n",
       "      <th>lat</th>\n",
       "      <th>lng</th>\n",
       "      <th>rating</th>\n",
       "      <th>price</th>\n",
       "      <th>avg_bill</th>\n",
       "      <th>middle_avg_bill</th>\n",
       "      <th>middle_coffee_cup</th>\n",
       "      <th>chain</th>\n",
       "      <th>seats</th>\n",
       "      <th>street</th>\n",
       "      <th>is_24/7</th>\n",
       "    </tr>\n",
       "  </thead>\n",
       "  <tbody>\n",
       "    <tr>\n",
       "      <th>0</th>\n",
       "      <td>wowфли</td>\n",
       "      <td>кафе</td>\n",
       "      <td>Москва, улица Дыбенко, 7/1</td>\n",
       "      <td>Северный административный округ</td>\n",
       "      <td>ежедневно, 10:00–22:00</td>\n",
       "      <td>55.88</td>\n",
       "      <td>37.48</td>\n",
       "      <td>5.00</td>\n",
       "      <td>NaN</td>\n",
       "      <td>NaN</td>\n",
       "      <td>NaN</td>\n",
       "      <td>NaN</td>\n",
       "      <td>0</td>\n",
       "      <td>NaN</td>\n",
       "      <td>улица Дыбенко</td>\n",
       "      <td>0</td>\n",
       "    </tr>\n",
       "    <tr>\n",
       "      <th>1</th>\n",
       "      <td>четыре комнаты</td>\n",
       "      <td>ресторан</td>\n",
       "      <td>Москва, улица Дыбенко, 36, корп. 1</td>\n",
       "      <td>Северный административный округ</td>\n",
       "      <td>ежедневно, 10:00–22:00</td>\n",
       "      <td>55.88</td>\n",
       "      <td>37.48</td>\n",
       "      <td>4.50</td>\n",
       "      <td>выше среднего</td>\n",
       "      <td>Средний счёт:1500–1600 ₽</td>\n",
       "      <td>1550.00</td>\n",
       "      <td>NaN</td>\n",
       "      <td>0</td>\n",
       "      <td>4.00</td>\n",
       "      <td>улица Дыбенко</td>\n",
       "      <td>0</td>\n",
       "    </tr>\n",
       "    <tr>\n",
       "      <th>2</th>\n",
       "      <td>хазри</td>\n",
       "      <td>кафе</td>\n",
       "      <td>Москва, Клязьминская улица, 15</td>\n",
       "      <td>Северный административный округ</td>\n",
       "      <td>пн-чт 11:00–02:00; пт,сб 11:00–05:00; вс 11:00–02:00</td>\n",
       "      <td>55.89</td>\n",
       "      <td>37.53</td>\n",
       "      <td>4.60</td>\n",
       "      <td>средние</td>\n",
       "      <td>Средний счёт:от 1000 ₽</td>\n",
       "      <td>1000.00</td>\n",
       "      <td>NaN</td>\n",
       "      <td>0</td>\n",
       "      <td>45.00</td>\n",
       "      <td>Клязьминская улица</td>\n",
       "      <td>0</td>\n",
       "    </tr>\n",
       "  </tbody>\n",
       "</table>\n",
       "</div>"
      ],
      "text/plain": [
       "             name  category                             address  \\\n",
       "0  wowфли          кафе      Москва, улица Дыбенко, 7/1           \n",
       "1  четыре комнаты  ресторан  Москва, улица Дыбенко, 36, корп. 1   \n",
       "2  хазри           кафе      Москва, Клязьминская улица, 15       \n",
       "\n",
       "                          district  \\\n",
       "0  Северный административный округ   \n",
       "1  Северный административный округ   \n",
       "2  Северный административный округ   \n",
       "\n",
       "                                                  hours   lat   lng  rating  \\\n",
       "0  ежедневно, 10:00–22:00                               55.88 37.48 5.00      \n",
       "1  ежедневно, 10:00–22:00                               55.88 37.48 4.50      \n",
       "2  пн-чт 11:00–02:00; пт,сб 11:00–05:00; вс 11:00–02:00 55.89 37.53 4.60      \n",
       "\n",
       "           price                  avg_bill  middle_avg_bill  \\\n",
       "0  NaN            NaN                      NaN                \n",
       "1  выше среднего  Средний счёт:1500–1600 ₽ 1550.00            \n",
       "2  средние        Средний счёт:от 1000 ₽   1000.00            \n",
       "\n",
       "   middle_coffee_cup  chain  seats              street  is_24/7  \n",
       "0 NaN                 0     NaN     улица Дыбенко       0        \n",
       "1 NaN                 0     4.00    улица Дыбенко       0        \n",
       "2 NaN                 0     45.00   Клязьминская улица  0        "
      ]
     },
     "execution_count": 10,
     "metadata": {},
     "output_type": "execute_result"
    }
   ],
   "source": [
    "data.loc[data['hours']==\"ежедневно, круглосуточно\", 'is_24/7'] = 1    # ежедневным и круглосуточным заведениям присваиваем 1\n",
    "data['is_24/7'] = data['is_24/7'].fillna(0)                       # остальным 0\n",
    "data['is_24/7'] = data['is_24/7'].astype('int')\n",
    "\n",
    "data.head(3)"
   ]
  },
  {
   "cell_type": "markdown",
   "metadata": {},
   "source": [
    "### `url`\n",
    "Добавим колонку, где будет указан URL-адрес изображения по категориям"
   ]
  },
  {
   "cell_type": "code",
   "execution_count": 11,
   "metadata": {
    "scrolled": true
   },
   "outputs": [
    {
     "data": {
      "text/html": [
       "<div>\n",
       "<style scoped>\n",
       "    .dataframe tbody tr th:only-of-type {\n",
       "        vertical-align: middle;\n",
       "    }\n",
       "\n",
       "    .dataframe tbody tr th {\n",
       "        vertical-align: top;\n",
       "    }\n",
       "\n",
       "    .dataframe thead th {\n",
       "        text-align: right;\n",
       "    }\n",
       "</style>\n",
       "<table border=\"1\" class=\"dataframe\">\n",
       "  <thead>\n",
       "    <tr style=\"text-align: right;\">\n",
       "      <th></th>\n",
       "      <th>name</th>\n",
       "      <th>category</th>\n",
       "      <th>address</th>\n",
       "      <th>district</th>\n",
       "      <th>hours</th>\n",
       "      <th>lat</th>\n",
       "      <th>lng</th>\n",
       "      <th>rating</th>\n",
       "      <th>price</th>\n",
       "      <th>avg_bill</th>\n",
       "      <th>middle_avg_bill</th>\n",
       "      <th>middle_coffee_cup</th>\n",
       "      <th>chain</th>\n",
       "      <th>seats</th>\n",
       "      <th>street</th>\n",
       "      <th>is_24/7</th>\n",
       "      <th>url</th>\n",
       "    </tr>\n",
       "  </thead>\n",
       "  <tbody>\n",
       "    <tr>\n",
       "      <th>0</th>\n",
       "      <td>wowфли</td>\n",
       "      <td>кафе</td>\n",
       "      <td>Москва, улица Дыбенко, 7/1</td>\n",
       "      <td>Северный административный округ</td>\n",
       "      <td>ежедневно, 10:00–22:00</td>\n",
       "      <td>55.88</td>\n",
       "      <td>37.48</td>\n",
       "      <td>5.00</td>\n",
       "      <td>NaN</td>\n",
       "      <td>NaN</td>\n",
       "      <td>NaN</td>\n",
       "      <td>NaN</td>\n",
       "      <td>0</td>\n",
       "      <td>NaN</td>\n",
       "      <td>улица Дыбенко</td>\n",
       "      <td>0</td>\n",
       "      <td>https://img.icons8.com/?size=100&amp;id=37211&amp;format=png</td>\n",
       "    </tr>\n",
       "    <tr>\n",
       "      <th>1</th>\n",
       "      <td>четыре комнаты</td>\n",
       "      <td>ресторан</td>\n",
       "      <td>Москва, улица Дыбенко, 36, корп. 1</td>\n",
       "      <td>Северный административный округ</td>\n",
       "      <td>ежедневно, 10:00–22:00</td>\n",
       "      <td>55.88</td>\n",
       "      <td>37.48</td>\n",
       "      <td>4.50</td>\n",
       "      <td>выше среднего</td>\n",
       "      <td>Средний счёт:1500–1600 ₽</td>\n",
       "      <td>1550.00</td>\n",
       "      <td>NaN</td>\n",
       "      <td>0</td>\n",
       "      <td>4.00</td>\n",
       "      <td>улица Дыбенко</td>\n",
       "      <td>0</td>\n",
       "      <td>https://img.icons8.com/?size=160&amp;id=j0OYwRn0d2aX&amp;format=png</td>\n",
       "    </tr>\n",
       "    <tr>\n",
       "      <th>2</th>\n",
       "      <td>хазри</td>\n",
       "      <td>кафе</td>\n",
       "      <td>Москва, Клязьминская улица, 15</td>\n",
       "      <td>Северный административный округ</td>\n",
       "      <td>пн-чт 11:00–02:00; пт,сб 11:00–05:00; вс 11:00–02:00</td>\n",
       "      <td>55.89</td>\n",
       "      <td>37.53</td>\n",
       "      <td>4.60</td>\n",
       "      <td>средние</td>\n",
       "      <td>Средний счёт:от 1000 ₽</td>\n",
       "      <td>1000.00</td>\n",
       "      <td>NaN</td>\n",
       "      <td>0</td>\n",
       "      <td>45.00</td>\n",
       "      <td>Клязьминская улица</td>\n",
       "      <td>0</td>\n",
       "      <td>https://img.icons8.com/?size=100&amp;id=37211&amp;format=png</td>\n",
       "    </tr>\n",
       "  </tbody>\n",
       "</table>\n",
       "</div>"
      ],
      "text/plain": [
       "             name  category                             address  \\\n",
       "0  wowфли          кафе      Москва, улица Дыбенко, 7/1           \n",
       "1  четыре комнаты  ресторан  Москва, улица Дыбенко, 36, корп. 1   \n",
       "2  хазри           кафе      Москва, Клязьминская улица, 15       \n",
       "\n",
       "                          district  \\\n",
       "0  Северный административный округ   \n",
       "1  Северный административный округ   \n",
       "2  Северный административный округ   \n",
       "\n",
       "                                                  hours   lat   lng  rating  \\\n",
       "0  ежедневно, 10:00–22:00                               55.88 37.48 5.00      \n",
       "1  ежедневно, 10:00–22:00                               55.88 37.48 4.50      \n",
       "2  пн-чт 11:00–02:00; пт,сб 11:00–05:00; вс 11:00–02:00 55.89 37.53 4.60      \n",
       "\n",
       "           price                  avg_bill  middle_avg_bill  \\\n",
       "0  NaN            NaN                      NaN                \n",
       "1  выше среднего  Средний счёт:1500–1600 ₽ 1550.00            \n",
       "2  средние        Средний счёт:от 1000 ₽   1000.00            \n",
       "\n",
       "   middle_coffee_cup  chain  seats              street  is_24/7  \\\n",
       "0 NaN                 0     NaN     улица Дыбенко       0         \n",
       "1 NaN                 0     4.00    улица Дыбенко       0         \n",
       "2 NaN                 0     45.00   Клязьминская улица  0         \n",
       "\n",
       "                                                           url  \n",
       "0  https://img.icons8.com/?size=100&id=37211&format=png         \n",
       "1  https://img.icons8.com/?size=160&id=j0OYwRn0d2aX&format=png  \n",
       "2  https://img.icons8.com/?size=100&id=37211&format=png         "
      ]
     },
     "execution_count": 11,
     "metadata": {},
     "output_type": "execute_result"
    }
   ],
   "source": [
    "data.loc[(data['category']=='кафе') | (data['category']=='кофейня'),'url'] = 'https://img.icons8.com/?size=100&id=37211&format=png'\n",
    "data.loc[data['category']=='ресторан','url'] = 'https://img.icons8.com/?size=160&id=j0OYwRn0d2aX&format=png'\n",
    "data.loc[data['category']=='пиццерия','url'] = 'https://img.icons8.com/?size=100&id=1911&format=png'\n",
    "data.loc[data['category']=='бар,паб','url'] = 'https://img.icons8.com/?size=100&id=4925&format=png'\n",
    "data.loc[data['category']=='быстрое питание','url'] = 'https://img.icons8.com/?size=160&id=bI1LowN2fISM&format=png'\n",
    "data.loc[data['category']=='булочная','url'] = 'https://img.icons8.com/?size=160&id=iA9qOyQRvv25&format=png'\n",
    "data.loc[data['category']=='столовая','url'] = 'https://img.icons8.com/?size=100&id=10719&format=png'\n",
    "\n",
    "data.head(3)"
   ]
  },
  {
   "cell_type": "markdown",
   "metadata": {},
   "source": [
    "## Выводы"
   ]
  },
  {
   "cell_type": "markdown",
   "metadata": {},
   "source": [
    "+ В данных сожержится информация о 8406 заведениях Москвы;\n",
    "\n",
    "\n",
    "+ Дубликатов не обнаружено, неявные дубликаты ликвидированы (3 шт). Пропуски в столбцах заменить нельзя;\n",
    "\n",
    "\n",
    "+ Добавлены колонки `street`, `is_24/7` и `url`;\n",
    "\n",
    "\n",
    "+ Данные **готовы** к анализу."
   ]
  },
  {
   "cell_type": "markdown",
   "metadata": {},
   "source": [
    "# Анализ данных"
   ]
  },
  {
   "cell_type": "markdown",
   "metadata": {},
   "source": [
    "## Количество заведений по категориям"
   ]
  },
  {
   "cell_type": "code",
   "execution_count": 12,
   "metadata": {
    "scrolled": false
   },
   "outputs": [
    {
     "data": {
      "text/html": [
       "<div>\n",
       "<style scoped>\n",
       "    .dataframe tbody tr th:only-of-type {\n",
       "        vertical-align: middle;\n",
       "    }\n",
       "\n",
       "    .dataframe tbody tr th {\n",
       "        vertical-align: top;\n",
       "    }\n",
       "\n",
       "    .dataframe thead th {\n",
       "        text-align: right;\n",
       "    }\n",
       "</style>\n",
       "<table border=\"1\" class=\"dataframe\">\n",
       "  <thead>\n",
       "    <tr style=\"text-align: right;\">\n",
       "      <th></th>\n",
       "      <th>category</th>\n",
       "      <th>number</th>\n",
       "    </tr>\n",
       "  </thead>\n",
       "  <tbody>\n",
       "    <tr>\n",
       "      <th>0</th>\n",
       "      <td>кафе</td>\n",
       "      <td>2377</td>\n",
       "    </tr>\n",
       "    <tr>\n",
       "      <th>1</th>\n",
       "      <td>ресторан</td>\n",
       "      <td>2042</td>\n",
       "    </tr>\n",
       "    <tr>\n",
       "      <th>2</th>\n",
       "      <td>кофейня</td>\n",
       "      <td>1413</td>\n",
       "    </tr>\n",
       "    <tr>\n",
       "      <th>3</th>\n",
       "      <td>бар,паб</td>\n",
       "      <td>764</td>\n",
       "    </tr>\n",
       "    <tr>\n",
       "      <th>4</th>\n",
       "      <td>пиццерия</td>\n",
       "      <td>633</td>\n",
       "    </tr>\n",
       "    <tr>\n",
       "      <th>5</th>\n",
       "      <td>быстрое питание</td>\n",
       "      <td>603</td>\n",
       "    </tr>\n",
       "    <tr>\n",
       "      <th>6</th>\n",
       "      <td>столовая</td>\n",
       "      <td>315</td>\n",
       "    </tr>\n",
       "    <tr>\n",
       "      <th>7</th>\n",
       "      <td>булочная</td>\n",
       "      <td>256</td>\n",
       "    </tr>\n",
       "  </tbody>\n",
       "</table>\n",
       "</div>"
      ],
      "text/plain": [
       "          category  number\n",
       "0  кафе             2377  \n",
       "1  ресторан         2042  \n",
       "2  кофейня          1413  \n",
       "3  бар,паб          764   \n",
       "4  пиццерия         633   \n",
       "5  быстрое питание  603   \n",
       "6  столовая         315   \n",
       "7  булочная         256   "
      ]
     },
     "execution_count": 12,
     "metadata": {},
     "output_type": "execute_result"
    }
   ],
   "source": [
    "categories_number = data.groupby('category', as_index=False).agg({'name':'count'})\\\n",
    "                                                            .sort_values(by='name', ascending=False)\\\n",
    "                                                            .reset_index(drop=True)\n",
    "categories_number.columns=['category','number']\n",
    "categories_number"
   ]
  },
  {
   "cell_type": "code",
   "execution_count": 13,
   "metadata": {
    "scrolled": false
   },
   "outputs": [
    {
     "data": {
      "image/png": "[encoded data removed]"
     },
     "metadata": {},
     "output_type": "display_data"
    }
   ],
   "source": [
    "fig = px.bar(categories_number, x='category', y='number', title='Количество заведений по категориям')\n",
    "fig.show('png')"
   ]
  },
  {
   "cell_type": "markdown",
   "metadata": {},
   "source": [
    "Более всех среди общепитов распространены кафе, рестораны и кофейни. Менее всех - булочные, столовые и быстрое питание (fast-food)"
   ]
  },
  {
   "cell_type": "markdown",
   "metadata": {},
   "source": [
    "## Количество посадочных мест в заведениях по категориям"
   ]
  },
  {
   "cell_type": "code",
   "execution_count": 14,
   "metadata": {
    "scrolled": false
   },
   "outputs": [
    {
     "data": {
      "image/png": "[encoded data removed]"
     },
     "metadata": {},
     "output_type": "display_data"
    }
   ],
   "source": [
    "fig = go.Figure()\n",
    "fig.add_trace(go.Box(x=data['category'],y=data['seats']))\n",
    "fig.update_layout(title='Количество посадочных мест в заведениях по категориям')\n",
    "\n",
    "seats_median = data.groupby('category')['seats'].median().reset_index()         # вычисляем медиану для каждой категории\n",
    "sorted_seats = seats_median.sort_values(by='seats', ascending=False)            # сортируем категории по уменьшению медианы\n",
    "fig.update_xaxes(categoryorder='array', categoryarray=sorted_seats['category']) # обновляем порядок на графике\n",
    "\n",
    "fig.show('png')"
   ]
  },
  {
   "cell_type": "markdown",
   "metadata": {},
   "source": [
    "В среднем, меньше всего посадочных мест в булочных, пиццериях и кафе. Больше всего - в ресторанах, барах, пабах и кофейнях"
   ]
  },
  {
   "cell_type": "markdown",
   "metadata": {},
   "source": [
    "##  Соотношение сетевых и несетевых заведений"
   ]
  },
  {
   "cell_type": "code",
   "execution_count": 15,
   "metadata": {
    "scrolled": false
   },
   "outputs": [
    {
     "data": {
      "text/html": [
       "<div>\n",
       "<style scoped>\n",
       "    .dataframe tbody tr th:only-of-type {\n",
       "        vertical-align: middle;\n",
       "    }\n",
       "\n",
       "    .dataframe tbody tr th {\n",
       "        vertical-align: top;\n",
       "    }\n",
       "\n",
       "    .dataframe thead th {\n",
       "        text-align: right;\n",
       "    }\n",
       "</style>\n",
       "<table border=\"1\" class=\"dataframe\">\n",
       "  <thead>\n",
       "    <tr style=\"text-align: right;\">\n",
       "      <th></th>\n",
       "      <th>chain</th>\n",
       "      <th>name</th>\n",
       "    </tr>\n",
       "  </thead>\n",
       "  <tbody>\n",
       "    <tr>\n",
       "      <th>0</th>\n",
       "      <td>0</td>\n",
       "      <td>5200</td>\n",
       "    </tr>\n",
       "    <tr>\n",
       "      <th>1</th>\n",
       "      <td>1</td>\n",
       "      <td>3203</td>\n",
       "    </tr>\n",
       "  </tbody>\n",
       "</table>\n",
       "</div>"
      ],
      "text/plain": [
       "   chain  name\n",
       "0  0      5200\n",
       "1  1      3203"
      ]
     },
     "execution_count": 15,
     "metadata": {},
     "output_type": "execute_result"
    }
   ],
   "source": [
    "chain_number = data.groupby('chain', as_index=False).agg({'name':'count'})\n",
    "chain_number"
   ]
  },
  {
   "cell_type": "code",
   "execution_count": 16,
   "metadata": {
    "scrolled": false
   },
   "outputs": [
    {
     "data": {
      "image/png": "[encoded data removed]"
     },
     "metadata": {},
     "output_type": "display_data"
    }
   ],
   "source": [
    "name_rest = ['несетевые заведения', 'сетевые заведения']\n",
    "values = chain_number['name']\n",
    "\n",
    "fig = go.Figure(data=[go.Pie(labels=name_rest, values=values, hole=0.5)])\n",
    "fig.update_layout(title='Соотношение сетевых и несетевых заведений')\n",
    "fig.show('png')"
   ]
  },
  {
   "cell_type": "markdown",
   "metadata": {},
   "source": [
    "Доля несетевых заведений - 61.9%. Доля сетевых в 1.6 раза ниже"
   ]
  },
  {
   "cell_type": "markdown",
   "metadata": {},
   "source": [
    "## Доля сетевых заведений по категориям"
   ]
  },
  {
   "cell_type": "code",
   "execution_count": 17,
   "metadata": {},
   "outputs": [
    {
     "data": {
      "text/html": [
       "<div>\n",
       "<style scoped>\n",
       "    .dataframe tbody tr th:only-of-type {\n",
       "        vertical-align: middle;\n",
       "    }\n",
       "\n",
       "    .dataframe tbody tr th {\n",
       "        vertical-align: top;\n",
       "    }\n",
       "\n",
       "    .dataframe thead th {\n",
       "        text-align: right;\n",
       "    }\n",
       "</style>\n",
       "<table border=\"1\" class=\"dataframe\">\n",
       "  <thead>\n",
       "    <tr style=\"text-align: right;\">\n",
       "      <th></th>\n",
       "      <th>category</th>\n",
       "      <th>number</th>\n",
       "      <th>chain</th>\n",
       "      <th>share, %</th>\n",
       "    </tr>\n",
       "  </thead>\n",
       "  <tbody>\n",
       "    <tr>\n",
       "      <th>0</th>\n",
       "      <td>бар,паб</td>\n",
       "      <td>764</td>\n",
       "      <td>168</td>\n",
       "      <td>21.99</td>\n",
       "    </tr>\n",
       "    <tr>\n",
       "      <th>1</th>\n",
       "      <td>столовая</td>\n",
       "      <td>315</td>\n",
       "      <td>88</td>\n",
       "      <td>27.94</td>\n",
       "    </tr>\n",
       "    <tr>\n",
       "      <th>2</th>\n",
       "      <td>кафе</td>\n",
       "      <td>2377</td>\n",
       "      <td>779</td>\n",
       "      <td>32.77</td>\n",
       "    </tr>\n",
       "    <tr>\n",
       "      <th>3</th>\n",
       "      <td>ресторан</td>\n",
       "      <td>2042</td>\n",
       "      <td>729</td>\n",
       "      <td>35.70</td>\n",
       "    </tr>\n",
       "    <tr>\n",
       "      <th>4</th>\n",
       "      <td>быстрое питание</td>\n",
       "      <td>603</td>\n",
       "      <td>232</td>\n",
       "      <td>38.47</td>\n",
       "    </tr>\n",
       "    <tr>\n",
       "      <th>5</th>\n",
       "      <td>кофейня</td>\n",
       "      <td>1413</td>\n",
       "      <td>720</td>\n",
       "      <td>50.96</td>\n",
       "    </tr>\n",
       "    <tr>\n",
       "      <th>6</th>\n",
       "      <td>пиццерия</td>\n",
       "      <td>633</td>\n",
       "      <td>330</td>\n",
       "      <td>52.13</td>\n",
       "    </tr>\n",
       "    <tr>\n",
       "      <th>7</th>\n",
       "      <td>булочная</td>\n",
       "      <td>256</td>\n",
       "      <td>157</td>\n",
       "      <td>61.33</td>\n",
       "    </tr>\n",
       "  </tbody>\n",
       "</table>\n",
       "</div>"
      ],
      "text/plain": [
       "          category  number  chain  share, %\n",
       "0  бар,паб          764     168   21.99    \n",
       "1  столовая         315     88    27.94    \n",
       "2  кафе             2377    779   32.77    \n",
       "3  ресторан         2042    729   35.70    \n",
       "4  быстрое питание  603     232   38.47    \n",
       "5  кофейня          1413    720   50.96    \n",
       "6  пиццерия         633     330   52.13    \n",
       "7  булочная         256     157   61.33    "
      ]
     },
     "execution_count": 17,
     "metadata": {},
     "output_type": "execute_result"
    }
   ],
   "source": [
    "chain_share = data.groupby('category', as_index=False).agg({'name':'count','chain':'sum'})\n",
    "chain_share['share, %'] = 100*chain_share['chain']/chain_share['name']\n",
    "chain_share.columns=['category', 'number', 'chain', 'share, %']\n",
    "chain_share = chain_share.sort_values(by='share, %').reset_index(drop=True)\n",
    "chain_share"
   ]
  },
  {
   "cell_type": "code",
   "execution_count": 18,
   "metadata": {},
   "outputs": [
    {
     "data": {
      "image/png": "[encoded data removed]"
     },
     "metadata": {},
     "output_type": "display_data"
    }
   ],
   "source": [
    "fig = px.bar(chain_share, x='number', y='category',color='share, %', title='Доля сетевых заведений по категориям')\n",
    "fig.show('png')"
   ]
  },
  {
   "cell_type": "markdown",
   "metadata": {},
   "source": [
    "Максимальная доля сетевых заведений в булочных - 60%. Также высокие доли у пиццерий и кофеен. \n",
    "\n",
    "Минимальная доля сетевых заведений у баров, пабов - 22%. Также низкие доли у столовых и кафе. "
   ]
  },
  {
   "cell_type": "markdown",
   "metadata": {},
   "source": [
    "## Топ-15 популярных сетей в Москве"
   ]
  },
  {
   "cell_type": "code",
   "execution_count": 19,
   "metadata": {
    "scrolled": false
   },
   "outputs": [
    {
     "data": {
      "text/html": [
       "<div>\n",
       "<style scoped>\n",
       "    .dataframe tbody tr th:only-of-type {\n",
       "        vertical-align: middle;\n",
       "    }\n",
       "\n",
       "    .dataframe tbody tr th {\n",
       "        vertical-align: top;\n",
       "    }\n",
       "\n",
       "    .dataframe thead th {\n",
       "        text-align: right;\n",
       "    }\n",
       "</style>\n",
       "<table border=\"1\" class=\"dataframe\">\n",
       "  <thead>\n",
       "    <tr style=\"text-align: right;\">\n",
       "      <th></th>\n",
       "      <th>name</th>\n",
       "      <th>count</th>\n",
       "    </tr>\n",
       "  </thead>\n",
       "  <tbody>\n",
       "    <tr>\n",
       "      <th>0</th>\n",
       "      <td>шоколадница</td>\n",
       "      <td>120</td>\n",
       "    </tr>\n",
       "    <tr>\n",
       "      <th>1</th>\n",
       "      <td>домино'с пицца</td>\n",
       "      <td>76</td>\n",
       "    </tr>\n",
       "    <tr>\n",
       "      <th>2</th>\n",
       "      <td>додо пицца</td>\n",
       "      <td>74</td>\n",
       "    </tr>\n",
       "    <tr>\n",
       "      <th>3</th>\n",
       "      <td>one price coffee</td>\n",
       "      <td>71</td>\n",
       "    </tr>\n",
       "    <tr>\n",
       "      <th>4</th>\n",
       "      <td>яндекс лавка</td>\n",
       "      <td>69</td>\n",
       "    </tr>\n",
       "    <tr>\n",
       "      <th>5</th>\n",
       "      <td>cofix</td>\n",
       "      <td>65</td>\n",
       "    </tr>\n",
       "    <tr>\n",
       "      <th>6</th>\n",
       "      <td>prime</td>\n",
       "      <td>50</td>\n",
       "    </tr>\n",
       "    <tr>\n",
       "      <th>7</th>\n",
       "      <td>хинкальная</td>\n",
       "      <td>44</td>\n",
       "    </tr>\n",
       "    <tr>\n",
       "      <th>8</th>\n",
       "      <td>кофепорт</td>\n",
       "      <td>42</td>\n",
       "    </tr>\n",
       "    <tr>\n",
       "      <th>9</th>\n",
       "      <td>кулинарная лавка братьев караваевых</td>\n",
       "      <td>39</td>\n",
       "    </tr>\n",
       "    <tr>\n",
       "      <th>10</th>\n",
       "      <td>теремок</td>\n",
       "      <td>38</td>\n",
       "    </tr>\n",
       "    <tr>\n",
       "      <th>11</th>\n",
       "      <td>чайхана</td>\n",
       "      <td>37</td>\n",
       "    </tr>\n",
       "    <tr>\n",
       "      <th>12</th>\n",
       "      <td>cofefest</td>\n",
       "      <td>32</td>\n",
       "    </tr>\n",
       "    <tr>\n",
       "      <th>13</th>\n",
       "      <td>буханка</td>\n",
       "      <td>32</td>\n",
       "    </tr>\n",
       "    <tr>\n",
       "      <th>14</th>\n",
       "      <td>му-му</td>\n",
       "      <td>27</td>\n",
       "    </tr>\n",
       "  </tbody>\n",
       "</table>\n",
       "</div>"
      ],
      "text/plain": [
       "                                   name  count\n",
       "0   шоколадница                          120  \n",
       "1   домино'с пицца                       76   \n",
       "2   додо пицца                           74   \n",
       "3   one price coffee                     71   \n",
       "4   яндекс лавка                         69   \n",
       "5   cofix                                65   \n",
       "6   prime                                50   \n",
       "7   хинкальная                           44   \n",
       "8   кофепорт                             42   \n",
       "9   кулинарная лавка братьев караваевых  39   \n",
       "10  теремок                              38   \n",
       "11  чайхана                              37   \n",
       "12  cofefest                             32   \n",
       "13  буханка                              32   \n",
       "14  му-му                                27   "
      ]
     },
     "execution_count": 19,
     "metadata": {},
     "output_type": "execute_result"
    }
   ],
   "source": [
    "top_fifteen = data.query('chain==1').groupby('name', as_index=False).agg({'address':'count'})\\\n",
    "                                                  .sort_values(by='address', ascending=False).reset_index(drop=True)\n",
    "top_fifteen=top_fifteen.head(15)\n",
    "top_fifteen.columns=['name','count']\n",
    "\n",
    "top_fifteen"
   ]
  },
  {
   "cell_type": "code",
   "execution_count": 20,
   "metadata": {},
   "outputs": [
    {
     "data": {
      "image/png": "[encoded data removed]"
     },
     "metadata": {},
     "output_type": "display_data"
    }
   ],
   "source": [
    "fig = px.bar(top_fifteen, x='name', y='count', title='Топ-15 популярных сетей в Москве')\n",
    "fig.show('png')"
   ]
  },
  {
   "cell_type": "markdown",
   "metadata": {},
   "source": [
    "Самые популярные сети общепита в Москве (топ-5): \"Шоколадница\", \"Домино'с Пицца\", \"Додо Пицца\", \"One Price Coffee\" и \"Яндекс Лавка\"; открыто более 70 точек"
   ]
  },
  {
   "cell_type": "markdown",
   "metadata": {},
   "source": [
    "## Распределение категорий заведений по районам"
   ]
  },
  {
   "cell_type": "code",
   "execution_count": 21,
   "metadata": {
    "scrolled": false
   },
   "outputs": [
    {
     "data": {
      "image/png": "[encoded data removed]"
     },
     "metadata": {},
     "output_type": "display_data"
    }
   ],
   "source": [
    "category_stat = data.groupby(['district','category'],as_index=False).agg({'name':'count'})\n",
    "category_stat.columns = ['district', 'category', 'number']\n",
    "category_stat=category_stat.sort_values(by='district', ascending=False)\n",
    "\n",
    "fig = px.bar(category_stat, x='district', y='number', color='category', title='Распределение категорий заведений по районам')\n",
    "\n",
    "number_stat = data.groupby('district').agg({'name':'count'}).reset_index()                      \n",
    "sorted_number = number_stat.sort_values(by='name', ascending=False)                             \n",
    "fig.update_xaxes(categoryorder='array', categoryarray=sorted_number['district'], tickangle=45)\n",
    "\n",
    "fig.show('png')"
   ]
  },
  {
   "cell_type": "markdown",
   "metadata": {},
   "source": [
    "Представлены 9 районов Москвы. Больше всего заведений находится в ЦАО. Меньше всего - в СЗАО"
   ]
  },
  {
   "cell_type": "markdown",
   "metadata": {},
   "source": [
    "## Распределение рейтингов по категориям заведений"
   ]
  },
  {
   "cell_type": "code",
   "execution_count": 22,
   "metadata": {},
   "outputs": [
    {
     "data": {
      "image/png": "[encoded data removed]"
     },
     "metadata": {},
     "output_type": "display_data"
    }
   ],
   "source": [
    "fig = go.Figure()\n",
    "fig.add_trace(go.Box(x=data['category'],y=data['rating']))\n",
    "fig.update_layout(title='Распределение рейтингов по категориям заведений')\n",
    "rate_stat = data.groupby('category').agg({'rating':'median'}).reset_index()                      \n",
    "sorted_rate = rate_stat.sort_values(by='rating', ascending=False)                             \n",
    "fig.update_xaxes(categoryorder='array', categoryarray=sorted_rate['category'])\n",
    "fig.show('png')"
   ]
  },
  {
   "cell_type": "markdown",
   "metadata": {},
   "source": [
    "Средние рейтинги по категориям заведений находятся в диапазоне 4-4.5. Больше всего низких оценок ставят кафе и быстрому питанию."
   ]
  },
  {
   "cell_type": "markdown",
   "metadata": {},
   "source": [
    "## Хороплет со средним рейтингом заведений каждого района"
   ]
  },
  {
   "cell_type": "code",
   "execution_count": 23,
   "metadata": {},
   "outputs": [
    {
     "data": {
      "text/html": [
       "<div>\n",
       "<style scoped>\n",
       "    .dataframe tbody tr th:only-of-type {\n",
       "        vertical-align: middle;\n",
       "    }\n",
       "\n",
       "    .dataframe tbody tr th {\n",
       "        vertical-align: top;\n",
       "    }\n",
       "\n",
       "    .dataframe thead th {\n",
       "        text-align: right;\n",
       "    }\n",
       "</style>\n",
       "<table border=\"1\" class=\"dataframe\">\n",
       "  <thead>\n",
       "    <tr style=\"text-align: right;\">\n",
       "      <th></th>\n",
       "      <th>district</th>\n",
       "      <th>rating</th>\n",
       "    </tr>\n",
       "  </thead>\n",
       "  <tbody>\n",
       "    <tr>\n",
       "      <th>0</th>\n",
       "      <td>Восточный административный округ</td>\n",
       "      <td>4.17</td>\n",
       "    </tr>\n",
       "    <tr>\n",
       "      <th>1</th>\n",
       "      <td>Западный административный округ</td>\n",
       "      <td>4.18</td>\n",
       "    </tr>\n",
       "    <tr>\n",
       "      <th>2</th>\n",
       "      <td>Северный административный округ</td>\n",
       "      <td>4.24</td>\n",
       "    </tr>\n",
       "    <tr>\n",
       "      <th>3</th>\n",
       "      <td>Северо-Восточный административный округ</td>\n",
       "      <td>4.15</td>\n",
       "    </tr>\n",
       "    <tr>\n",
       "      <th>4</th>\n",
       "      <td>Северо-Западный административный округ</td>\n",
       "      <td>4.21</td>\n",
       "    </tr>\n",
       "    <tr>\n",
       "      <th>5</th>\n",
       "      <td>Центральный административный округ</td>\n",
       "      <td>4.38</td>\n",
       "    </tr>\n",
       "    <tr>\n",
       "      <th>6</th>\n",
       "      <td>Юго-Восточный административный округ</td>\n",
       "      <td>4.10</td>\n",
       "    </tr>\n",
       "    <tr>\n",
       "      <th>7</th>\n",
       "      <td>Юго-Западный административный округ</td>\n",
       "      <td>4.17</td>\n",
       "    </tr>\n",
       "    <tr>\n",
       "      <th>8</th>\n",
       "      <td>Южный административный округ</td>\n",
       "      <td>4.18</td>\n",
       "    </tr>\n",
       "  </tbody>\n",
       "</table>\n",
       "</div>"
      ],
      "text/plain": [
       "                                  district  rating\n",
       "0  Восточный административный округ        4.17   \n",
       "1  Западный административный округ         4.18   \n",
       "2  Северный административный округ         4.24   \n",
       "3  Северо-Восточный административный округ 4.15   \n",
       "4  Северо-Западный административный округ  4.21   \n",
       "5  Центральный административный округ      4.38   \n",
       "6  Юго-Восточный административный округ    4.10   \n",
       "7  Юго-Западный административный округ     4.17   \n",
       "8  Южный административный округ            4.18   "
      ]
     },
     "execution_count": 23,
     "metadata": {},
     "output_type": "execute_result"
    }
   ],
   "source": [
    "rating_df = data.groupby('district', as_index=False)['rating'].agg('mean')\n",
    "rating_df"
   ]
  },
  {
   "cell_type": "code",
   "execution_count": 24,
   "metadata": {
    "scrolled": false
   },
   "outputs": [
    {
     "data": {
      "text/html": [
       "\n",
       "        <iframe\n",
       "            width=\"700\"\n",
       "            height=\"500\"\n",
       "            src=\"my_map.html\"\n",
       "            frameborder=\"0\"\n",
       "            allowfullscreen\n",
       "        ></iframe>\n",
       "        "
      ],
      "text/plain": [
       "<IPython.lib.display.IFrame at 0x7fe7e92d8fd0>"
      ]
     },
     "execution_count": 24,
     "metadata": {},
     "output_type": "execute_result"
    }
   ],
   "source": [
    "# загружаем JSON-файл с границами округов Москвы\n",
    "state_geo = '/datasets/admin_level_geomap.geojson'\n",
    "# moscow_lat - широта центра Москвы, moscow_lng - долгота центра Москвы\n",
    "moscow_lat, moscow_lng = 55.751244, 37.618423\n",
    "\n",
    "# создаём карту Москвы\n",
    "m = Map(location=[moscow_lat, moscow_lng], zoom_start=10, tiles='Cartodb Positron')\n",
    "\n",
    "# создаём хороплет с помощью конструктора Choropleth и добавляем его на карту\n",
    "Choropleth(\n",
    "    geo_data=state_geo,\n",
    "    data=rating_df,\n",
    "    columns=['district', 'rating'],\n",
    "    key_on='feature.name',\n",
    "    fill_color='YlGn',\n",
    "    fill_opacity=0.8,\n",
    "    legend_name='Средний рейтинг заведений по районам',\n",
    ").add_to(m)\n",
    "\n",
    "# выводим карту\n",
    "#m\n",
    "# Save the map to an HTML file\n",
    "m.save(\"my_map.html\")\n",
    "\n",
    "# Display the saved map in the notebook\n",
    "IFrame(\"my_map.html\", width=700, height=500)"
   ]
  },
  {
   "cell_type": "markdown",
   "metadata": {},
   "source": [
    "Самый высокий средний рейтинг у заведений в ЦАО - 4.38. У заведений СВАО и ЮВАО минимальный средний рейтинг по Москве, ниже 4.15. У остальных заведений в оставшихся районов рейтинг средний"
   ]
  },
  {
   "cell_type": "markdown",
   "metadata": {},
   "source": [
    "## Карта заведений по категориям"
   ]
  },
  {
   "cell_type": "markdown",
   "metadata": {},
   "source": [
    "Посмотрим на географию заведений"
   ]
  },
  {
   "cell_type": "code",
   "execution_count": 25,
   "metadata": {
    "scrolled": false
   },
   "outputs": [
    {
     "data": {
      "text/html": [
       "\n",
       "        <iframe\n",
       "            width=\"700\"\n",
       "            height=\"500\"\n",
       "            src=\"my_map.html\"\n",
       "            frameborder=\"0\"\n",
       "            allowfullscreen\n",
       "        ></iframe>\n",
       "        "
      ],
      "text/plain": [
       "<IPython.lib.display.IFrame at 0x7fe7e91faa90>"
      ]
     },
     "execution_count": 25,
     "metadata": {},
     "output_type": "execute_result"
    }
   ],
   "source": [
    "# moscow_lat - широта центра Москвы, moscow_lng - долгота центра Москвы\n",
    "moscow_lat, moscow_lng = 55.751244, 37.618423\n",
    "# создаём карту Москвы\n",
    "m = Map(location=[moscow_lat, moscow_lng], zoom_start=10, tiles='Cartodb Positron')\n",
    "# создаём пустой кластер, добавляем его на карту\n",
    "marker_cluster = MarkerCluster().add_to(m)\n",
    "\n",
    "def create_clusters(row):\n",
    "    # сохраняем URL-адрес изображения со значком торгового центра с icons8,\n",
    "    # это путь к файлу на сервере icons8\n",
    "    icon_url = row['url']  \n",
    "    # создаём объект с собственной иконкой размером 30x30\n",
    "    icon = CustomIcon(icon_url, icon_size=(30, 30))\n",
    "    # создаём маркер с иконкой icon и добавляем его в кластер\n",
    "    Marker(\n",
    "        [row['lat'], row['lng']],\n",
    "        popup=f\"{row['name']} {row['rating']}\",\n",
    "        icon=icon,\n",
    "    ).add_to(marker_cluster)\n",
    "\n",
    "# применяем функцию для создания кластеров к каждой строке датафрейма\n",
    "data.apply(create_clusters, axis=1)\n",
    "\n",
    "# выводим карту\n",
    "m.save(\"my_map.html\")\n",
    "\n",
    "# Display the saved map in the notebook\n",
    "IFrame(\"my_map.html\", width=700, height=500)"
   ]
  },
  {
   "cell_type": "markdown",
   "metadata": {},
   "source": [
    "## Топ-15 улиц по количеству заведений"
   ]
  },
  {
   "cell_type": "code",
   "execution_count": 26,
   "metadata": {
    "scrolled": false
   },
   "outputs": [
    {
     "data": {
      "text/html": [
       "<div>\n",
       "<style scoped>\n",
       "    .dataframe tbody tr th:only-of-type {\n",
       "        vertical-align: middle;\n",
       "    }\n",
       "\n",
       "    .dataframe tbody tr th {\n",
       "        vertical-align: top;\n",
       "    }\n",
       "\n",
       "    .dataframe thead th {\n",
       "        text-align: right;\n",
       "    }\n",
       "</style>\n",
       "<table border=\"1\" class=\"dataframe\">\n",
       "  <thead>\n",
       "    <tr style=\"text-align: right;\">\n",
       "      <th></th>\n",
       "      <th>street</th>\n",
       "      <th>number</th>\n",
       "    </tr>\n",
       "  </thead>\n",
       "  <tbody>\n",
       "    <tr>\n",
       "      <th>0</th>\n",
       "      <td>проспект Мира</td>\n",
       "      <td>183</td>\n",
       "    </tr>\n",
       "    <tr>\n",
       "      <th>1</th>\n",
       "      <td>Профсоюзная улица</td>\n",
       "      <td>122</td>\n",
       "    </tr>\n",
       "    <tr>\n",
       "      <th>2</th>\n",
       "      <td>проспект Вернадского</td>\n",
       "      <td>108</td>\n",
       "    </tr>\n",
       "    <tr>\n",
       "      <th>3</th>\n",
       "      <td>Ленинский проспект</td>\n",
       "      <td>107</td>\n",
       "    </tr>\n",
       "    <tr>\n",
       "      <th>4</th>\n",
       "      <td>Ленинградский проспект</td>\n",
       "      <td>95</td>\n",
       "    </tr>\n",
       "    <tr>\n",
       "      <th>5</th>\n",
       "      <td>Дмитровское шоссе</td>\n",
       "      <td>88</td>\n",
       "    </tr>\n",
       "    <tr>\n",
       "      <th>6</th>\n",
       "      <td>Каширское шоссе</td>\n",
       "      <td>77</td>\n",
       "    </tr>\n",
       "    <tr>\n",
       "      <th>7</th>\n",
       "      <td>Варшавское шоссе</td>\n",
       "      <td>76</td>\n",
       "    </tr>\n",
       "    <tr>\n",
       "      <th>8</th>\n",
       "      <td>Ленинградское шоссе</td>\n",
       "      <td>69</td>\n",
       "    </tr>\n",
       "    <tr>\n",
       "      <th>9</th>\n",
       "      <td>МКАД</td>\n",
       "      <td>65</td>\n",
       "    </tr>\n",
       "    <tr>\n",
       "      <th>10</th>\n",
       "      <td>Люблинская улица</td>\n",
       "      <td>60</td>\n",
       "    </tr>\n",
       "    <tr>\n",
       "      <th>11</th>\n",
       "      <td>улица Вавилова</td>\n",
       "      <td>55</td>\n",
       "    </tr>\n",
       "    <tr>\n",
       "      <th>12</th>\n",
       "      <td>Кутузовский проспект</td>\n",
       "      <td>54</td>\n",
       "    </tr>\n",
       "    <tr>\n",
       "      <th>13</th>\n",
       "      <td>улица Миклухо-Маклая</td>\n",
       "      <td>49</td>\n",
       "    </tr>\n",
       "    <tr>\n",
       "      <th>14</th>\n",
       "      <td>Пятницкая улица</td>\n",
       "      <td>48</td>\n",
       "    </tr>\n",
       "  </tbody>\n",
       "</table>\n",
       "</div>"
      ],
      "text/plain": [
       "                    street  number\n",
       "0   проспект Мира           183   \n",
       "1   Профсоюзная улица       122   \n",
       "2   проспект Вернадского    108   \n",
       "3   Ленинский проспект      107   \n",
       "4   Ленинградский проспект  95    \n",
       "5   Дмитровское шоссе       88    \n",
       "6   Каширское шоссе         77    \n",
       "7   Варшавское шоссе        76    \n",
       "8   Ленинградское шоссе     69    \n",
       "9   МКАД                    65    \n",
       "10  Люблинская улица        60    \n",
       "11  улица Вавилова          55    \n",
       "12  Кутузовский проспект    54    \n",
       "13  улица Миклухо-Маклая    49    \n",
       "14  Пятницкая улица         48    "
      ]
     },
     "execution_count": 26,
     "metadata": {},
     "output_type": "execute_result"
    }
   ],
   "source": [
    "street_stat = data.groupby('street', as_index=False).agg({'name':'count'})\n",
    "street_stat.columns=['street','number']\n",
    "top_fifteen_street = street_stat.sort_values(by='number', ascending=False).head(15).reset_index(drop=True)\n",
    "\n",
    "top_fifteen_street"
   ]
  },
  {
   "cell_type": "code",
   "execution_count": 27,
   "metadata": {
    "scrolled": false
   },
   "outputs": [
    {
     "data": {
      "image/png": "[encoded data removed]"
     },
     "metadata": {},
     "output_type": "display_data"
    }
   ],
   "source": [
    "top_street_stat = data.query(\"street in @top_fifteen_street['street']\").groupby(['street','category'],as_index=False).agg({'name':'count'})\n",
    "top_street_stat.columns = ['street', 'category', 'number']\n",
    "top_street_stat=top_street_stat.sort_values(by='street', ascending=False)\n",
    "\n",
    "fig = px.bar(top_street_stat, x='street', y='number', color='category', title='Распределение категорий заведений по улицам')\n",
    "street_stats = data.query(\"street in @top_fifteen_street['street']\").groupby('street').agg({'name':'count'}).reset_index()                      \n",
    "sorted_street = street_stats.sort_values(by='name', ascending=False)                             \n",
    "fig.update_xaxes(categoryorder='array', categoryarray=sorted_street['street'], tickangle=45)\n",
    "\n",
    "fig.show('png')"
   ]
  },
  {
   "cell_type": "markdown",
   "metadata": {},
   "source": [
    "Больше всего заведений находится на проспекте Мира - 184. Далее идут Профсоюзная улица, проспект Вернадского, Ленинский и Ленинградский проспект - более 90 заведений. Вероятно, там выгодно открывать точки."
   ]
  },
  {
   "cell_type": "markdown",
   "metadata": {},
   "source": [
    "## Заведения без конкурентов на улице\n",
    "Посмотрим, какие заведения единственные на улице"
   ]
  },
  {
   "cell_type": "code",
   "execution_count": 28,
   "metadata": {},
   "outputs": [],
   "source": [
    "street_stat_one=street_stat.query('number==1')"
   ]
  },
  {
   "cell_type": "code",
   "execution_count": 29,
   "metadata": {},
   "outputs": [
    {
     "data": {
      "text/html": [
       "<div>\n",
       "<style scoped>\n",
       "    .dataframe tbody tr th:only-of-type {\n",
       "        vertical-align: middle;\n",
       "    }\n",
       "\n",
       "    .dataframe tbody tr th {\n",
       "        vertical-align: top;\n",
       "    }\n",
       "\n",
       "    .dataframe thead th {\n",
       "        text-align: right;\n",
       "    }\n",
       "</style>\n",
       "<table border=\"1\" class=\"dataframe\">\n",
       "  <thead>\n",
       "    <tr style=\"text-align: right;\">\n",
       "      <th></th>\n",
       "      <th>category</th>\n",
       "      <th>name</th>\n",
       "    </tr>\n",
       "  </thead>\n",
       "  <tbody>\n",
       "    <tr>\n",
       "      <th>0</th>\n",
       "      <td>кафе</td>\n",
       "      <td>134</td>\n",
       "    </tr>\n",
       "    <tr>\n",
       "      <th>1</th>\n",
       "      <td>ресторан</td>\n",
       "      <td>129</td>\n",
       "    </tr>\n",
       "    <tr>\n",
       "      <th>2</th>\n",
       "      <td>кофейня</td>\n",
       "      <td>78</td>\n",
       "    </tr>\n",
       "    <tr>\n",
       "      <th>3</th>\n",
       "      <td>бар,паб</td>\n",
       "      <td>38</td>\n",
       "    </tr>\n",
       "    <tr>\n",
       "      <th>4</th>\n",
       "      <td>пиццерия</td>\n",
       "      <td>35</td>\n",
       "    </tr>\n",
       "    <tr>\n",
       "      <th>5</th>\n",
       "      <td>быстрое питание</td>\n",
       "      <td>18</td>\n",
       "    </tr>\n",
       "    <tr>\n",
       "      <th>6</th>\n",
       "      <td>столовая</td>\n",
       "      <td>15</td>\n",
       "    </tr>\n",
       "    <tr>\n",
       "      <th>7</th>\n",
       "      <td>булочная</td>\n",
       "      <td>11</td>\n",
       "    </tr>\n",
       "  </tbody>\n",
       "</table>\n",
       "</div>"
      ],
      "text/plain": [
       "          category  name\n",
       "0  кафе             134 \n",
       "1  ресторан         129 \n",
       "2  кофейня          78  \n",
       "3  бар,паб          38  \n",
       "4  пиццерия         35  \n",
       "5  быстрое питание  18  \n",
       "6  столовая         15  \n",
       "7  булочная         11  "
      ]
     },
     "execution_count": 29,
     "metadata": {},
     "output_type": "execute_result"
    }
   ],
   "source": [
    "data_street_stat_one = data.query('street in @street_stat_one[\"street\"]')\n",
    "\n",
    "data_street_stat_one.groupby(['category'], as_index=False).agg({'name':'count'})\\\n",
    "                                                          .sort_values(by='name', ascending=False)\\\n",
    "                                                          .reset_index(drop=True)"
   ]
  },
  {
   "cell_type": "markdown",
   "metadata": {},
   "source": [
    "Кафе, рестораны и кофейни чаще открывают на улицах без конкурентов.\n",
    "\n",
    "Посмотрим, как распределены эти заведения по районам"
   ]
  },
  {
   "cell_type": "code",
   "execution_count": 30,
   "metadata": {
    "scrolled": true
   },
   "outputs": [
    {
     "data": {
      "text/html": [
       "<div>\n",
       "<style scoped>\n",
       "    .dataframe tbody tr th:only-of-type {\n",
       "        vertical-align: middle;\n",
       "    }\n",
       "\n",
       "    .dataframe tbody tr th {\n",
       "        vertical-align: top;\n",
       "    }\n",
       "\n",
       "    .dataframe thead th {\n",
       "        text-align: right;\n",
       "    }\n",
       "</style>\n",
       "<table border=\"1\" class=\"dataframe\">\n",
       "  <thead>\n",
       "    <tr style=\"text-align: right;\">\n",
       "      <th></th>\n",
       "      <th>district</th>\n",
       "      <th>name</th>\n",
       "    </tr>\n",
       "  </thead>\n",
       "  <tbody>\n",
       "    <tr>\n",
       "      <th>0</th>\n",
       "      <td>Центральный административный округ</td>\n",
       "      <td>154</td>\n",
       "    </tr>\n",
       "    <tr>\n",
       "      <th>1</th>\n",
       "      <td>Северо-Восточный административный округ</td>\n",
       "      <td>63</td>\n",
       "    </tr>\n",
       "    <tr>\n",
       "      <th>2</th>\n",
       "      <td>Восточный административный округ</td>\n",
       "      <td>45</td>\n",
       "    </tr>\n",
       "    <tr>\n",
       "      <th>3</th>\n",
       "      <td>Северный административный округ</td>\n",
       "      <td>43</td>\n",
       "    </tr>\n",
       "    <tr>\n",
       "      <th>4</th>\n",
       "      <td>Западный административный округ</td>\n",
       "      <td>41</td>\n",
       "    </tr>\n",
       "    <tr>\n",
       "      <th>5</th>\n",
       "      <td>Южный административный округ</td>\n",
       "      <td>40</td>\n",
       "    </tr>\n",
       "    <tr>\n",
       "      <th>6</th>\n",
       "      <td>Юго-Восточный административный округ</td>\n",
       "      <td>35</td>\n",
       "    </tr>\n",
       "    <tr>\n",
       "      <th>7</th>\n",
       "      <td>Юго-Западный административный округ</td>\n",
       "      <td>21</td>\n",
       "    </tr>\n",
       "    <tr>\n",
       "      <th>8</th>\n",
       "      <td>Северо-Западный административный округ</td>\n",
       "      <td>16</td>\n",
       "    </tr>\n",
       "  </tbody>\n",
       "</table>\n",
       "</div>"
      ],
      "text/plain": [
       "                                  district  name\n",
       "0  Центральный административный округ       154 \n",
       "1  Северо-Восточный административный округ  63  \n",
       "2  Восточный административный округ         45  \n",
       "3  Северный административный округ          43  \n",
       "4  Западный административный округ          41  \n",
       "5  Южный административный округ             40  \n",
       "6  Юго-Восточный административный округ     35  \n",
       "7  Юго-Западный административный округ      21  \n",
       "8  Северо-Западный административный округ   16  "
      ]
     },
     "execution_count": 30,
     "metadata": {},
     "output_type": "execute_result"
    }
   ],
   "source": [
    "data_street_stat_one.groupby(['district'], as_index=False).agg({'name':'count'})\\\n",
    "                                                          .sort_values(by='name', ascending=False)\\\n",
    "                                                          .reset_index(drop=True)"
   ]
  },
  {
   "cell_type": "markdown",
   "metadata": {},
   "source": [
    "Посмотрим на карту"
   ]
  },
  {
   "cell_type": "code",
   "execution_count": 31,
   "metadata": {
    "scrolled": false
   },
   "outputs": [
    {
     "data": {
      "text/html": [
       "\n",
       "        <iframe\n",
       "            width=\"700\"\n",
       "            height=\"500\"\n",
       "            src=\"my_map.html\"\n",
       "            frameborder=\"0\"\n",
       "            allowfullscreen\n",
       "        ></iframe>\n",
       "        "
      ],
      "text/plain": [
       "<IPython.lib.display.IFrame at 0x7fe7852fe0a0>"
      ]
     },
     "execution_count": 31,
     "metadata": {},
     "output_type": "execute_result"
    }
   ],
   "source": [
    "# moscow_lat - широта центра Москвы, moscow_lng - долгота центра Москвы\n",
    "moscow_lat, moscow_lng = 55.751244, 37.618423\n",
    "# создаём карту Москвы\n",
    "m = Map(location=[moscow_lat, moscow_lng], zoom_start=10, tiles='Cartodb Positron')\n",
    "# создаём пустой кластер, добавляем его на карту\n",
    "marker_cluster = MarkerCluster().add_to(m)\n",
    "\n",
    "def create_clusters(row):\n",
    "    # сохраняем URL-адрес изображения со значком торгового центра с icons8,\n",
    "    # это путь к файлу на сервере icons8\n",
    "    icon_url = row['url']  \n",
    "    # создаём объект с собственной иконкой размером 30x30\n",
    "    icon = CustomIcon(icon_url, icon_size=(30, 30))\n",
    "    # создаём маркер с иконкой icon и добавляем его в кластер\n",
    "    Marker(\n",
    "        [row['lat'], row['lng']],\n",
    "        popup=f\"{row['name']} {row['rating']}\",\n",
    "        icon=icon,\n",
    "    ).add_to(marker_cluster)\n",
    "\n",
    "# применяем функцию для создания кластеров к каждой строке датафрейма\n",
    "data.query('street in @street_stat_one[\"street\"]').apply(create_clusters, axis=1)\n",
    "\n",
    "# выводим карту\n",
    "#m\n",
    "# Save the map to an HTML file\n",
    "m.save(\"my_map.html\")\n",
    "\n",
    "# Display the saved map in the notebook\n",
    "IFrame(\"my_map.html\", width=700, height=500)"
   ]
  },
  {
   "cell_type": "markdown",
   "metadata": {},
   "source": [
    "Больше всего заведений без конкурентов на улице расположено в ЦАО, СВАО, ВАО и САО"
   ]
  },
  {
   "cell_type": "markdown",
   "metadata": {},
   "source": [
    "## Средний чек по районам \n",
    "Посмотрим на средний счет по районам Москвы"
   ]
  },
  {
   "cell_type": "code",
   "execution_count": 32,
   "metadata": {},
   "outputs": [
    {
     "data": {
      "text/html": [
       "<div>\n",
       "<style scoped>\n",
       "    .dataframe tbody tr th:only-of-type {\n",
       "        vertical-align: middle;\n",
       "    }\n",
       "\n",
       "    .dataframe tbody tr th {\n",
       "        vertical-align: top;\n",
       "    }\n",
       "\n",
       "    .dataframe thead th {\n",
       "        text-align: right;\n",
       "    }\n",
       "</style>\n",
       "<table border=\"1\" class=\"dataframe\">\n",
       "  <thead>\n",
       "    <tr style=\"text-align: right;\">\n",
       "      <th></th>\n",
       "      <th>district</th>\n",
       "      <th>middle_avg_bill</th>\n",
       "    </tr>\n",
       "  </thead>\n",
       "  <tbody>\n",
       "    <tr>\n",
       "      <th>0</th>\n",
       "      <td>Западный административный округ</td>\n",
       "      <td>1000.00</td>\n",
       "    </tr>\n",
       "    <tr>\n",
       "      <th>1</th>\n",
       "      <td>Центральный административный округ</td>\n",
       "      <td>1000.00</td>\n",
       "    </tr>\n",
       "    <tr>\n",
       "      <th>2</th>\n",
       "      <td>Северо-Западный административный округ</td>\n",
       "      <td>700.00</td>\n",
       "    </tr>\n",
       "    <tr>\n",
       "      <th>3</th>\n",
       "      <td>Северный административный округ</td>\n",
       "      <td>650.00</td>\n",
       "    </tr>\n",
       "    <tr>\n",
       "      <th>4</th>\n",
       "      <td>Юго-Западный административный округ</td>\n",
       "      <td>600.00</td>\n",
       "    </tr>\n",
       "    <tr>\n",
       "      <th>5</th>\n",
       "      <td>Восточный административный округ</td>\n",
       "      <td>575.00</td>\n",
       "    </tr>\n",
       "    <tr>\n",
       "      <th>6</th>\n",
       "      <td>Северо-Восточный административный округ</td>\n",
       "      <td>500.00</td>\n",
       "    </tr>\n",
       "    <tr>\n",
       "      <th>7</th>\n",
       "      <td>Южный административный округ</td>\n",
       "      <td>500.00</td>\n",
       "    </tr>\n",
       "    <tr>\n",
       "      <th>8</th>\n",
       "      <td>Юго-Восточный административный округ</td>\n",
       "      <td>450.00</td>\n",
       "    </tr>\n",
       "  </tbody>\n",
       "</table>\n",
       "</div>"
      ],
      "text/plain": [
       "                                  district  middle_avg_bill\n",
       "0  Западный административный округ         1000.00         \n",
       "1  Центральный административный округ      1000.00         \n",
       "2  Северо-Западный административный округ  700.00          \n",
       "3  Северный административный округ         650.00          \n",
       "4  Юго-Западный административный округ     600.00          \n",
       "5  Восточный административный округ        575.00          \n",
       "6  Северо-Восточный административный округ 500.00          \n",
       "7  Южный административный округ            500.00          \n",
       "8  Юго-Восточный административный округ    450.00          "
      ]
     },
     "execution_count": 32,
     "metadata": {},
     "output_type": "execute_result"
    }
   ],
   "source": [
    "bill_per_district = data.groupby('district', as_index=False)['middle_avg_bill'].agg('median')\n",
    "bill_per_district.sort_values(by='middle_avg_bill', ascending=False).reset_index(drop=True)"
   ]
  },
  {
   "cell_type": "code",
   "execution_count": 33,
   "metadata": {
    "scrolled": false
   },
   "outputs": [
    {
     "data": {
      "text/html": [
       "\n",
       "        <iframe\n",
       "            width=\"700\"\n",
       "            height=\"500\"\n",
       "            src=\"my_map.html\"\n",
       "            frameborder=\"0\"\n",
       "            allowfullscreen\n",
       "        ></iframe>\n",
       "        "
      ],
      "text/plain": [
       "<IPython.lib.display.IFrame at 0x7fe7852e0ee0>"
      ]
     },
     "execution_count": 33,
     "metadata": {},
     "output_type": "execute_result"
    }
   ],
   "source": [
    "# загружаем JSON-файл с границами округов Москвы\n",
    "state_geo = '/datasets/admin_level_geomap.geojson'\n",
    "# moscow_lat - широта центра Москвы, moscow_lng - долгота центра Москвы\n",
    "moscow_lat, moscow_lng = 55.751244, 37.618423\n",
    "\n",
    "# создаём карту Москвы\n",
    "m = Map(location=[moscow_lat, moscow_lng], zoom_start=10, tiles='Cartodb Positron')\n",
    "\n",
    "# создаём хороплет с помощью конструктора Choropleth и добавляем его на карту\n",
    "Choropleth(\n",
    "    geo_data=state_geo,\n",
    "    data=bill_per_district,\n",
    "    columns=['district', 'middle_avg_bill'],\n",
    "    key_on='feature.name',\n",
    "    fill_color='YlGn',\n",
    "    fill_opacity=0.8,\n",
    "    legend_name='Медианный чек по районам',\n",
    ").add_to(m)\n",
    "\n",
    "# выводим карту\n",
    "#m\n",
    "# Save the map to an HTML file\n",
    "m.save(\"my_map.html\")\n",
    "\n",
    "# Display the saved map in the notebook\n",
    "IFrame(\"my_map.html\", width=700, height=500)"
   ]
  },
  {
   "cell_type": "markdown",
   "metadata": {},
   "source": [
    "Не удивительно, что самые высокие цены в районах ЦАО и ЗАО, самые дорогие районы Москвы, средний чек - 1000 руб.\n",
    "\n",
    "Самые бюджетные цены в районах СВАО, ЮАО и ЮВАО, средний чек 450-500 руб."
   ]
  },
  {
   "cell_type": "markdown",
   "metadata": {},
   "source": [
    "## Выводы"
   ]
  },
  {
   "cell_type": "markdown",
   "metadata": {},
   "source": [
    "+ **Более** всех среди общепитов **распространены** *кафе, рестораны и кофейни*. **Менее** всех - *булочные, столовые и быстрое питание (fast-food)*;\n",
    "\n",
    "\n",
    "+ В среднем, **больше** всего **посадочных мест** в *ресторанах, барах, пабах и кофейнях*. **Меньше** всего - в *булочных, пиццериях и кафе*;\n",
    "\n",
    "\n",
    "+ Доля **несетевых** заведений - 61.9%. Доля **сетевых** в 1.6 раза **ниже**;\n",
    "\n",
    "\n",
    "+ **Максимальная** доля сетевых заведений в *булочных* - 60%. Также **высокие** доли у *пиццерий и кофеен*; \n",
    "\n",
    "\n",
    "+ **Минимальная** доля сетевых заведений у *баров, пабов* - 22%. Также **низкие** доли у *столовых и кафе*;\n",
    "\n",
    "\n",
    "+ Самые **популярные** сети общепита в Москве (топ-5): \"*Шоколадница*\", \"*Домино'с Пицца*\", \"*Додо Пицца*\", \"*One Price Coffee*\" и \"*Яндекс Лавка*\"; открыто **более** 70 точек;\n",
    "\n",
    "\n",
    "+ **Средние рейтинги** по категориям заведений находятся в диапазоне 4-4.5. Больше всего **низких** оценок ставят *кафе и быстрому питанию*;\n",
    "\n",
    "\n",
    "+ Имеются данные по заведениям из 9 районов Москвы. **Больше** всего заведений находится в ЦАО. **Меньше** всего - в СЗАО;\n",
    "\n",
    "\n",
    "+ Самый **высокий** средний **рейтинг** у заведений в ЦАО - 4.38. У заведений СВАО и ЮВАО **минимальный** средний **рейтинг** по Москве - **ниже** 4.15. У остальных заведений в оставшихся районов рейтинг **средний**;\n",
    "\n",
    "\n",
    "+ **Больше** всего заведений находится на проспекте Мира - 184. Далее идут Профсоюзная улица, проспект Вернадского, Ленинский и Ленинградский проспект - **более** 90 заведений. Вероятно, там выгодно открывать точки;\n",
    "\n",
    "\n",
    "+ Больше всего заведений **без конкурентов** на улице расположено в ЦАО, СВАО, ВАО и САО;\n",
    "\n",
    "\n",
    "+ Самые **высокие** цены в районах ЦАО и ЗАО, средний чек - 1000 руб;\n",
    "\n",
    "\n",
    "+ Самые **бюджетные** цены в районах СВАО, ЮАО и ЮВАО, средний чек 450-500 руб."
   ]
  },
  {
   "cell_type": "markdown",
   "metadata": {},
   "source": [
    "# Кейс кофейня\n",
    "Рассмотрим более детально информацию по кофейням"
   ]
  },
  {
   "cell_type": "markdown",
   "metadata": {},
   "source": [
    "## Число кофеен по районам"
   ]
  },
  {
   "cell_type": "code",
   "execution_count": 34,
   "metadata": {},
   "outputs": [
    {
     "name": "stdout",
     "output_type": "stream",
     "text": [
      "Всего кофеен в Москве 1413, что составляет 16.8% от общего числа заведений\n"
     ]
    }
   ],
   "source": [
    "coffee_stat = data.query('category == \"кофейня\"')\n",
    "print(f'Всего кофеен в Москве {len(coffee_stat)}, что составляет {round(100*len(coffee_stat)/len(data),1)}% от общего числа заведений' )"
   ]
  },
  {
   "cell_type": "code",
   "execution_count": 35,
   "metadata": {},
   "outputs": [
    {
     "data": {
      "text/html": [
       "<div>\n",
       "<style scoped>\n",
       "    .dataframe tbody tr th:only-of-type {\n",
       "        vertical-align: middle;\n",
       "    }\n",
       "\n",
       "    .dataframe tbody tr th {\n",
       "        vertical-align: top;\n",
       "    }\n",
       "\n",
       "    .dataframe thead th {\n",
       "        text-align: right;\n",
       "    }\n",
       "</style>\n",
       "<table border=\"1\" class=\"dataframe\">\n",
       "  <thead>\n",
       "    <tr style=\"text-align: right;\">\n",
       "      <th></th>\n",
       "      <th>district</th>\n",
       "      <th>name</th>\n",
       "      <th>middle_coffee_cup</th>\n",
       "    </tr>\n",
       "  </thead>\n",
       "  <tbody>\n",
       "    <tr>\n",
       "      <th>0</th>\n",
       "      <td>Центральный административный округ</td>\n",
       "      <td>428</td>\n",
       "      <td>190.00</td>\n",
       "    </tr>\n",
       "    <tr>\n",
       "      <th>1</th>\n",
       "      <td>Северный административный округ</td>\n",
       "      <td>193</td>\n",
       "      <td>159.00</td>\n",
       "    </tr>\n",
       "    <tr>\n",
       "      <th>2</th>\n",
       "      <td>Северо-Восточный административный округ</td>\n",
       "      <td>159</td>\n",
       "      <td>162.50</td>\n",
       "    </tr>\n",
       "    <tr>\n",
       "      <th>3</th>\n",
       "      <td>Западный административный округ</td>\n",
       "      <td>150</td>\n",
       "      <td>189.00</td>\n",
       "    </tr>\n",
       "    <tr>\n",
       "      <th>4</th>\n",
       "      <td>Южный административный округ</td>\n",
       "      <td>131</td>\n",
       "      <td>150.00</td>\n",
       "    </tr>\n",
       "    <tr>\n",
       "      <th>5</th>\n",
       "      <td>Восточный административный округ</td>\n",
       "      <td>105</td>\n",
       "      <td>135.00</td>\n",
       "    </tr>\n",
       "    <tr>\n",
       "      <th>6</th>\n",
       "      <td>Юго-Западный административный округ</td>\n",
       "      <td>96</td>\n",
       "      <td>198.00</td>\n",
       "    </tr>\n",
       "    <tr>\n",
       "      <th>7</th>\n",
       "      <td>Юго-Восточный административный округ</td>\n",
       "      <td>89</td>\n",
       "      <td>147.50</td>\n",
       "    </tr>\n",
       "    <tr>\n",
       "      <th>8</th>\n",
       "      <td>Северо-Западный административный округ</td>\n",
       "      <td>62</td>\n",
       "      <td>165.00</td>\n",
       "    </tr>\n",
       "  </tbody>\n",
       "</table>\n",
       "</div>"
      ],
      "text/plain": [
       "                                  district  name  middle_coffee_cup\n",
       "0  Центральный административный округ       428  190.00            \n",
       "1  Северный административный округ          193  159.00            \n",
       "2  Северо-Восточный административный округ  159  162.50            \n",
       "3  Западный административный округ          150  189.00            \n",
       "4  Южный административный округ             131  150.00            \n",
       "5  Восточный административный округ         105  135.00            \n",
       "6  Юго-Западный административный округ      96   198.00            \n",
       "7  Юго-Восточный административный округ     89   147.50            \n",
       "8  Северо-Западный административный округ   62   165.00            "
      ]
     },
     "execution_count": 35,
     "metadata": {},
     "output_type": "execute_result"
    }
   ],
   "source": [
    "coffee_stat_district = coffee_stat.groupby('district', as_index=False).agg({'name':'count', 'middle_coffee_cup':'median'})\\\n",
    "                                  .sort_values(by='name',ascending=False).reset_index(drop=True)\n",
    "coffee_stat_district"
   ]
  },
  {
   "cell_type": "code",
   "execution_count": 36,
   "metadata": {},
   "outputs": [
    {
     "data": {
      "image/png": "[encoded data removed]"
     },
     "metadata": {},
     "output_type": "display_data"
    }
   ],
   "source": [
    "fig = go.Figure()\n",
    "fig.add_trace(go.Box(x=coffee_stat['district'],y=coffee_stat['middle_coffee_cup']))\n",
    "fig.update_layout(title='Цена чашки кофе по районам')\n",
    "fig.show('png')"
   ]
  },
  {
   "cell_type": "markdown",
   "metadata": {},
   "source": [
    "Больше всего кофеен расположено в ЦАО, САО и СВАО.\n",
    "\n",
    "Самую дорогую чашку кофе вы сможете купить в ЦАО, ЗАО и ЮЗАО"
   ]
  },
  {
   "cell_type": "code",
   "execution_count": 37,
   "metadata": {
    "scrolled": false
   },
   "outputs": [
    {
     "data": {
      "text/html": [
       "\n",
       "        <iframe\n",
       "            width=\"700\"\n",
       "            height=\"500\"\n",
       "            src=\"my_map.html\"\n",
       "            frameborder=\"0\"\n",
       "            allowfullscreen\n",
       "        ></iframe>\n",
       "        "
      ],
      "text/plain": [
       "<IPython.lib.display.IFrame at 0x7fe7852e0190>"
      ]
     },
     "execution_count": 37,
     "metadata": {},
     "output_type": "execute_result"
    }
   ],
   "source": [
    "# moscow_lat - широта центра Москвы, moscow_lng - долгота центра Москвы\n",
    "moscow_lat, moscow_lng = 55.751244, 37.618423\n",
    "# создаём карту Москвы\n",
    "m = Map(location=[moscow_lat, moscow_lng], zoom_start=10, tiles='Cartodb Positron')\n",
    "# создаём пустой кластер, добавляем его на карту\n",
    "marker_cluster = MarkerCluster().add_to(m)\n",
    "\n",
    "def create_clusters(row):\n",
    "    # сохраняем URL-адрес изображения со значком торгового центра с icons8,\n",
    "    # это путь к файлу на сервере icons8\n",
    "    icon_url = row['url']  \n",
    "    # создаём объект с собственной иконкой размером 30x30\n",
    "    icon = CustomIcon(icon_url, icon_size=(30, 30))\n",
    "    # создаём маркер с иконкой icon и добавляем его в кластер\n",
    "    Marker(\n",
    "        [row['lat'], row['lng']],\n",
    "        popup=f\"{row['name']} {row['rating']}\",\n",
    "        icon=icon,\n",
    "    ).add_to(marker_cluster)\n",
    "\n",
    "# применяем функцию для создания кластеров к каждой строке датафрейма\n",
    "coffee_stat.apply(create_clusters, axis=1)\n",
    "\n",
    "# выводим карту\n",
    "#m\n",
    "# Save the map to an HTML file\n",
    "m.save(\"my_map.html\")\n",
    "\n",
    "# Display the saved map in the notebook\n",
    "IFrame(\"my_map.html\", width=700, height=500)"
   ]
  },
  {
   "cell_type": "markdown",
   "metadata": {},
   "source": [
    "В ЗАО чашка кофе стоит также, как в ЦАО, однако кофеен там почти в 3 раза меньше. ЗАО - хороший район для открытия точки"
   ]
  },
  {
   "cell_type": "markdown",
   "metadata": {},
   "source": [
    "## Круглосуточные кофейни"
   ]
  },
  {
   "cell_type": "code",
   "execution_count": 38,
   "metadata": {
    "scrolled": true
   },
   "outputs": [
    {
     "data": {
      "text/html": [
       "<div>\n",
       "<style scoped>\n",
       "    .dataframe tbody tr th:only-of-type {\n",
       "        vertical-align: middle;\n",
       "    }\n",
       "\n",
       "    .dataframe tbody tr th {\n",
       "        vertical-align: top;\n",
       "    }\n",
       "\n",
       "    .dataframe thead th {\n",
       "        text-align: right;\n",
       "    }\n",
       "</style>\n",
       "<table border=\"1\" class=\"dataframe\">\n",
       "  <thead>\n",
       "    <tr style=\"text-align: right;\">\n",
       "      <th></th>\n",
       "      <th>district</th>\n",
       "      <th>is_24/7</th>\n",
       "      <th>total</th>\n",
       "      <th>%</th>\n",
       "    </tr>\n",
       "  </thead>\n",
       "  <tbody>\n",
       "    <tr>\n",
       "      <th>0</th>\n",
       "      <td>Юго-Западный административный округ</td>\n",
       "      <td>7</td>\n",
       "      <td>96</td>\n",
       "      <td>7.29</td>\n",
       "    </tr>\n",
       "    <tr>\n",
       "      <th>1</th>\n",
       "      <td>Центральный административный округ</td>\n",
       "      <td>26</td>\n",
       "      <td>428</td>\n",
       "      <td>6.07</td>\n",
       "    </tr>\n",
       "    <tr>\n",
       "      <th>2</th>\n",
       "      <td>Западный административный округ</td>\n",
       "      <td>9</td>\n",
       "      <td>150</td>\n",
       "      <td>6.00</td>\n",
       "    </tr>\n",
       "    <tr>\n",
       "      <th>3</th>\n",
       "      <td>Восточный административный округ</td>\n",
       "      <td>5</td>\n",
       "      <td>105</td>\n",
       "      <td>4.76</td>\n",
       "    </tr>\n",
       "    <tr>\n",
       "      <th>4</th>\n",
       "      <td>Северо-Западный административный округ</td>\n",
       "      <td>2</td>\n",
       "      <td>62</td>\n",
       "      <td>3.23</td>\n",
       "    </tr>\n",
       "    <tr>\n",
       "      <th>5</th>\n",
       "      <td>Северный административный округ</td>\n",
       "      <td>5</td>\n",
       "      <td>193</td>\n",
       "      <td>2.59</td>\n",
       "    </tr>\n",
       "    <tr>\n",
       "      <th>6</th>\n",
       "      <td>Северо-Восточный административный округ</td>\n",
       "      <td>3</td>\n",
       "      <td>159</td>\n",
       "      <td>1.89</td>\n",
       "    </tr>\n",
       "    <tr>\n",
       "      <th>7</th>\n",
       "      <td>Юго-Восточный административный округ</td>\n",
       "      <td>1</td>\n",
       "      <td>89</td>\n",
       "      <td>1.12</td>\n",
       "    </tr>\n",
       "    <tr>\n",
       "      <th>8</th>\n",
       "      <td>Южный административный округ</td>\n",
       "      <td>1</td>\n",
       "      <td>131</td>\n",
       "      <td>0.76</td>\n",
       "    </tr>\n",
       "  </tbody>\n",
       "</table>\n",
       "</div>"
      ],
      "text/plain": [
       "                                  district  is_24/7  total    %\n",
       "0  Юго-Западный административный округ      7        96    7.29\n",
       "1  Центральный административный округ       26       428   6.07\n",
       "2  Западный административный округ          9        150   6.00\n",
       "3  Восточный административный округ         5        105   4.76\n",
       "4  Северо-Западный административный округ   2        62    3.23\n",
       "5  Северный административный округ          5        193   2.59\n",
       "6  Северо-Восточный административный округ  3        159   1.89\n",
       "7  Юго-Восточный административный округ     1        89    1.12\n",
       "8  Южный административный округ             1        131   0.76"
      ]
     },
     "execution_count": 38,
     "metadata": {},
     "output_type": "execute_result"
    }
   ],
   "source": [
    "coffee_stat_time = coffee_stat.groupby('district',as_index=False).agg({'is_24/7':'sum', 'name':'count'})\n",
    "coffee_stat_time.columns=['district','is_24/7','total']\n",
    "coffee_stat_time['%'] = 100*coffee_stat_time['is_24/7']/coffee_stat_time['total']\n",
    "coffee_stat_time.sort_values(by='%', ascending=False).reset_index(drop=True)"
   ]
  },
  {
   "cell_type": "markdown",
   "metadata": {},
   "source": [
    "В ЗАО каждая 17я кофейня работает 24/7. В ЗАО поток людей в ночное время значительно меньше, чем в ЦАО, поэтому открывать кофейню 24/7 не очень выгодно"
   ]
  },
  {
   "cell_type": "markdown",
   "metadata": {},
   "source": [
    "## Рейтинг"
   ]
  },
  {
   "cell_type": "code",
   "execution_count": 39,
   "metadata": {},
   "outputs": [
    {
     "data": {
      "text/html": [
       "\n",
       "        <iframe\n",
       "            width=\"700\"\n",
       "            height=\"500\"\n",
       "            src=\"my_map.html\"\n",
       "            frameborder=\"0\"\n",
       "            allowfullscreen\n",
       "        ></iframe>\n",
       "        "
      ],
      "text/plain": [
       "<IPython.lib.display.IFrame at 0x7fe784b4d850>"
      ]
     },
     "execution_count": 39,
     "metadata": {},
     "output_type": "execute_result"
    }
   ],
   "source": [
    "rating_coffee = coffee_stat.groupby('district', as_index=False).agg({'rating':'mean'})# загружаем JSON-файл с границами округов Москвы\n",
    "state_geo = '/datasets/admin_level_geomap.geojson'\n",
    "# moscow_lat - широта центра Москвы, moscow_lng - долгота центра Москвы\n",
    "moscow_lat, moscow_lng = 55.751244, 37.618423\n",
    "\n",
    "# создаём карту Москвы\n",
    "m = Map(location=[moscow_lat, moscow_lng], zoom_start=10, tiles='Cartodb Positron')\n",
    "\n",
    "# создаём хороплет с помощью конструктора Choropleth и добавляем его на карту\n",
    "Choropleth(\n",
    "    geo_data=state_geo,\n",
    "    data=rating_coffee,\n",
    "    columns=['district', 'rating'],\n",
    "    key_on='feature.name',\n",
    "    fill_color='YlGn',\n",
    "    fill_opacity=0.8,\n",
    "    legend_name='Средний рейтинг заведений по районам',\n",
    ").add_to(m)\n",
    "\n",
    "# выводим карту\n",
    "#m\n",
    "# Save the map to an HTML file\n",
    "m.save(\"my_map.html\")\n",
    "\n",
    "# Display the saved map in the notebook\n",
    "IFrame(\"my_map.html\", width=700, height=500)"
   ]
  },
  {
   "cell_type": "markdown",
   "metadata": {},
   "source": [
    "В ЗАО и СВАО рейтинг кофеен ниже, чем в других районах. Значит, кофейня с качественным кофе и сервисом, будет ярче выделяться на фоне конкурентов."
   ]
  },
  {
   "cell_type": "markdown",
   "metadata": {},
   "source": [
    "## Выводы\n",
    "+ Всего кофеен в Москве 1413, что составляет 16.8% от общего числа заведений;\n",
    "\n",
    "\n",
    "+ Больше всего кофеен расположено в ЦАО, САО и СВАО;\n",
    "\n",
    "\n",
    "+ Самую дорогую чашку кофе вы сможете купить в ЦАО, ЗАО и ЮЗАО (~ 190 руб.);\n",
    "\n",
    "\n",
    "+ В ЗАО чашка кофе стоит также, как в ЦАО, однако кофеен там почти в 3 раза меньше - 150;\n",
    "\n",
    "\n",
    "+ В ЗАО каждая 17я кофейня работает 24/7;\n",
    "\n",
    "\n",
    "+ В ЗАО и СВАО рейтинг кофеен ниже, чем в других районах."
   ]
  },
  {
   "cell_type": "markdown",
   "metadata": {},
   "source": [
    "# Рекомендации\n",
    "1. ЗАО - хороший район для открытия кофейни, так как конкурентов меньше, чем в ЦАО, однако цены от ЦАО не отличаются.\n",
    "\n",
    "\n",
    "2. В ЗАО низкий поток людей в ночное время, из-за большого числа спальных районов и парков, поэтому открывать кофейню 24/7, вероятно, не стоит. \n",
    "\n",
    "\n",
    "3. В ЗАО рейтинг кофеен ниже, чем в других районах. Значит, кофейня с качественным кофе и сервисом, будет ярче выделяться на фоне конкурентов.\n",
    "\n",
    "\n",
    "4. Для установления цены чашки кофе, нужно определиться с ЦА: \n",
    "    +  если это студенты, то стоимость должна быть близка к медианной по району: 189 руб., а расположение у станций метро, где находятся университеты (или же просто высокий человеко-поток): такие как Университет , Юго-Западная и проспект Вернадского. \n",
    "    +  если это не студенты, то стоимость может быть близка к q3: 250 руб., а расположение вблизи офисов (или же там, где высокий человеко-поток), главный фокус на качестве кофе и сервиса.\n",
    "    \n",
    "    \n",
    "5. Число посадочных мест определяется миссией кофейни: \n",
    "    + если подразумевается более тесное взаимодействие с клиентами - определенно стоит сделать зону для отдыха.  \n",
    "    + если нет - можно обойтись без посадочных мест.\n",
    "\n",
    "\n",
    "6. У кофейни есть потенциал стать сетевой, так как их доля по Москве - 50%."
   ]
  }
 ],
 "metadata": {
  "ExecuteTimeLog": [
   {
    "duration": 400,
    "start_time": "2023-09-25T07:54:26.371Z"
   },
   {
    "duration": 258,
    "start_time": "2023-09-25T07:54:44.215Z"
   },
   {
    "duration": 393,
    "start_time": "2023-09-27T13:07:34.364Z"
   },
   {
    "duration": 250,
    "start_time": "2023-09-27T13:07:34.759Z"
   },
   {
    "duration": 247,
    "start_time": "2023-09-27T13:07:38.519Z"
   },
   {
    "duration": 1385,
    "start_time": "2023-09-27T13:10:04.224Z"
   },
   {
    "duration": 13858,
    "start_time": "2023-09-27T13:12:13.398Z"
   },
   {
    "duration": 5,
    "start_time": "2023-09-27T13:17:39.719Z"
   },
   {
    "duration": 13395,
    "start_time": "2023-09-27T13:20:57.509Z"
   },
   {
    "duration": 13655,
    "start_time": "2023-09-27T13:26:26.296Z"
   },
   {
    "duration": 13744,
    "start_time": "2023-09-27T13:28:52.474Z"
   },
   {
    "duration": 126,
    "start_time": "2023-09-27T13:37:57.222Z"
   },
   {
    "duration": 48,
    "start_time": "2023-09-27T13:40:25.322Z"
   },
   {
    "duration": 50,
    "start_time": "2023-09-27T13:40:28.343Z"
   },
   {
    "duration": 12,
    "start_time": "2023-09-27T13:44:31.569Z"
   },
   {
    "duration": 10,
    "start_time": "2023-09-27T13:44:49.847Z"
   },
   {
    "duration": 11,
    "start_time": "2023-09-27T13:45:41.874Z"
   },
   {
    "duration": 9,
    "start_time": "2023-09-27T13:45:46.441Z"
   },
   {
    "duration": 9,
    "start_time": "2023-09-27T13:45:57.822Z"
   },
   {
    "duration": 17,
    "start_time": "2023-09-27T13:46:46.922Z"
   },
   {
    "duration": 13,
    "start_time": "2023-09-27T13:46:52.838Z"
   },
   {
    "duration": 18,
    "start_time": "2023-09-27T13:47:52.634Z"
   },
   {
    "duration": 8,
    "start_time": "2023-09-27T13:48:30.868Z"
   },
   {
    "duration": 15,
    "start_time": "2023-09-27T13:52:08.804Z"
   },
   {
    "duration": 63,
    "start_time": "2023-09-27T13:52:51.096Z"
   },
   {
    "duration": 44,
    "start_time": "2023-09-27T13:56:40.421Z"
   },
   {
    "duration": 57,
    "start_time": "2023-09-27T13:57:01.500Z"
   },
   {
    "duration": 13682,
    "start_time": "2023-09-27T13:58:17.652Z"
   },
   {
    "duration": 16,
    "start_time": "2023-09-27T14:03:38.205Z"
   },
   {
    "duration": 13197,
    "start_time": "2023-09-27T14:03:42.883Z"
   },
   {
    "duration": 13,
    "start_time": "2023-09-27T14:06:40.819Z"
   },
   {
    "duration": 730,
    "start_time": "2023-09-27T14:12:59.144Z"
   },
   {
    "duration": 88,
    "start_time": "2023-09-27T14:12:59.876Z"
   },
   {
    "duration": 5,
    "start_time": "2023-09-27T14:12:59.966Z"
   },
   {
    "duration": 105,
    "start_time": "2023-09-27T14:12:59.972Z"
   },
   {
    "duration": 13678,
    "start_time": "2023-09-27T14:13:00.079Z"
   },
   {
    "duration": 1941,
    "start_time": "2023-09-27T14:17:56.912Z"
   },
   {
    "duration": 78,
    "start_time": "2023-09-27T14:17:58.855Z"
   },
   {
    "duration": 125,
    "start_time": "2023-09-27T14:17:58.935Z"
   },
   {
    "duration": 6,
    "start_time": "2023-09-27T14:17:59.062Z"
   },
   {
    "duration": 23,
    "start_time": "2023-09-27T14:17:59.072Z"
   },
   {
    "duration": 15134,
    "start_time": "2023-09-27T14:17:59.097Z"
   },
   {
    "duration": 1467,
    "start_time": "2023-09-27T14:21:08.396Z"
   },
   {
    "duration": 65,
    "start_time": "2023-09-27T14:21:09.865Z"
   },
   {
    "duration": 88,
    "start_time": "2023-09-27T14:21:09.932Z"
   },
   {
    "duration": 4,
    "start_time": "2023-09-27T14:21:10.022Z"
   },
   {
    "duration": 38,
    "start_time": "2023-09-27T14:21:10.028Z"
   },
   {
    "duration": 13342,
    "start_time": "2023-09-27T14:21:10.068Z"
   },
   {
    "duration": 11,
    "start_time": "2023-09-27T14:59:16.094Z"
   },
   {
    "duration": 20,
    "start_time": "2023-09-27T14:59:55.230Z"
   },
   {
    "duration": 112,
    "start_time": "2023-09-27T15:13:56.210Z"
   },
   {
    "duration": 11,
    "start_time": "2023-09-27T15:14:01.831Z"
   },
   {
    "duration": 6,
    "start_time": "2023-09-27T15:14:07.506Z"
   },
   {
    "duration": 14,
    "start_time": "2023-09-27T15:14:16.761Z"
   },
   {
    "duration": 10,
    "start_time": "2023-09-27T15:14:24.499Z"
   },
   {
    "duration": 11,
    "start_time": "2023-09-27T15:14:29.998Z"
   },
   {
    "duration": 9,
    "start_time": "2023-09-27T15:15:06.375Z"
   },
   {
    "duration": 6,
    "start_time": "2023-09-27T15:15:10.874Z"
   },
   {
    "duration": 6,
    "start_time": "2023-09-27T15:15:19.438Z"
   },
   {
    "duration": 390,
    "start_time": "2023-09-27T15:15:24.713Z"
   },
   {
    "duration": 7,
    "start_time": "2023-09-27T15:15:27.311Z"
   },
   {
    "duration": 13,
    "start_time": "2023-09-27T15:15:36.842Z"
   },
   {
    "duration": 13,
    "start_time": "2023-09-27T15:15:47.785Z"
   },
   {
    "duration": 10,
    "start_time": "2023-09-27T15:15:59.598Z"
   },
   {
    "duration": 12,
    "start_time": "2023-09-27T15:16:59.720Z"
   },
   {
    "duration": 11,
    "start_time": "2023-09-27T15:17:07.686Z"
   },
   {
    "duration": 13,
    "start_time": "2023-09-27T15:18:04.764Z"
   },
   {
    "duration": 19,
    "start_time": "2023-09-27T15:18:25.194Z"
   },
   {
    "duration": 13,
    "start_time": "2023-09-27T15:18:31.081Z"
   },
   {
    "duration": 12,
    "start_time": "2023-09-27T15:19:20.039Z"
   },
   {
    "duration": 13,
    "start_time": "2023-09-27T15:20:49.486Z"
   },
   {
    "duration": 16,
    "start_time": "2023-09-27T15:20:51.209Z"
   },
   {
    "duration": 21,
    "start_time": "2023-09-27T15:21:29.112Z"
   },
   {
    "duration": 26,
    "start_time": "2023-09-27T15:21:34.503Z"
   },
   {
    "duration": 16,
    "start_time": "2023-09-27T15:36:09.291Z"
   },
   {
    "duration": 9,
    "start_time": "2023-09-27T15:38:59.899Z"
   },
   {
    "duration": 10,
    "start_time": "2023-09-27T15:39:21.114Z"
   },
   {
    "duration": 18,
    "start_time": "2023-09-27T15:39:36.127Z"
   },
   {
    "duration": 19,
    "start_time": "2023-09-27T15:39:40.029Z"
   },
   {
    "duration": 1373,
    "start_time": "2023-09-27T16:17:55.742Z"
   },
   {
    "duration": 72,
    "start_time": "2023-09-27T16:17:57.117Z"
   },
   {
    "duration": 83,
    "start_time": "2023-09-27T16:17:57.191Z"
   },
   {
    "duration": 13,
    "start_time": "2023-09-27T16:17:57.276Z"
   },
   {
    "duration": 17,
    "start_time": "2023-09-27T16:17:57.313Z"
   },
   {
    "duration": 16,
    "start_time": "2023-09-27T16:17:57.332Z"
   },
   {
    "duration": 10,
    "start_time": "2023-09-27T16:17:57.350Z"
   },
   {
    "duration": 51,
    "start_time": "2023-09-27T16:17:57.362Z"
   },
   {
    "duration": 8,
    "start_time": "2023-09-27T16:17:57.415Z"
   },
   {
    "duration": 25,
    "start_time": "2023-09-27T16:17:57.424Z"
   },
   {
    "duration": 17,
    "start_time": "2023-09-27T16:17:57.451Z"
   },
   {
    "duration": 13789,
    "start_time": "2023-09-27T16:17:57.470Z"
   },
   {
    "duration": 9,
    "start_time": "2023-09-27T16:24:27.309Z"
   },
   {
    "duration": 10,
    "start_time": "2023-09-27T16:25:40.524Z"
   },
   {
    "duration": 23,
    "start_time": "2023-09-27T16:25:41.719Z"
   },
   {
    "duration": 15,
    "start_time": "2023-09-27T16:26:38.563Z"
   },
   {
    "duration": 121,
    "start_time": "2023-09-27T16:27:41.309Z"
   },
   {
    "duration": 15,
    "start_time": "2023-09-27T16:29:39.820Z"
   },
   {
    "duration": 8,
    "start_time": "2023-09-27T16:29:56.285Z"
   },
   {
    "duration": 21,
    "start_time": "2023-09-27T16:29:57.624Z"
   },
   {
    "duration": 12,
    "start_time": "2023-09-27T16:30:43.710Z"
   },
   {
    "duration": 15,
    "start_time": "2023-09-27T16:30:53.740Z"
   },
   {
    "duration": 19,
    "start_time": "2023-09-27T16:31:48.118Z"
   },
   {
    "duration": 21,
    "start_time": "2023-09-27T16:34:08.598Z"
   },
   {
    "duration": 9,
    "start_time": "2023-09-27T16:35:07.391Z"
   },
   {
    "duration": 16,
    "start_time": "2023-09-27T16:35:08.611Z"
   },
   {
    "duration": 8,
    "start_time": "2023-09-27T16:35:11.929Z"
   },
   {
    "duration": 15,
    "start_time": "2023-09-27T16:35:13.366Z"
   },
   {
    "duration": 17,
    "start_time": "2023-09-27T16:35:17.313Z"
   },
   {
    "duration": 30,
    "start_time": "2023-09-27T16:41:35.367Z"
   },
   {
    "duration": 22,
    "start_time": "2023-09-27T16:41:58.392Z"
   },
   {
    "duration": 32,
    "start_time": "2023-09-27T16:42:01.728Z"
   },
   {
    "duration": 25,
    "start_time": "2023-09-27T16:42:26.046Z"
   },
   {
    "duration": 1129,
    "start_time": "2023-09-27T16:42:46.286Z"
   },
   {
    "duration": 1072,
    "start_time": "2023-09-27T16:42:57.968Z"
   },
   {
    "duration": 20,
    "start_time": "2023-09-27T16:43:12.364Z"
   },
   {
    "duration": 33,
    "start_time": "2023-09-27T16:43:21.848Z"
   },
   {
    "duration": 994,
    "start_time": "2023-09-27T16:43:37.127Z"
   },
   {
    "duration": 19,
    "start_time": "2023-09-27T16:45:09.788Z"
   },
   {
    "duration": 10,
    "start_time": "2023-09-27T16:46:00.193Z"
   },
   {
    "duration": 24,
    "start_time": "2023-09-27T16:47:26.544Z"
   },
   {
    "duration": 20,
    "start_time": "2023-09-27T16:47:49.821Z"
   },
   {
    "duration": 1407,
    "start_time": "2023-09-27T16:47:57.689Z"
   },
   {
    "duration": 63,
    "start_time": "2023-09-27T16:47:59.098Z"
   },
   {
    "duration": 80,
    "start_time": "2023-09-27T16:47:59.163Z"
   },
   {
    "duration": 8,
    "start_time": "2023-09-27T16:47:59.244Z"
   },
   {
    "duration": 13,
    "start_time": "2023-09-27T16:47:59.254Z"
   },
   {
    "duration": 11,
    "start_time": "2023-09-27T16:47:59.268Z"
   },
   {
    "duration": 33,
    "start_time": "2023-09-27T16:47:59.280Z"
   },
   {
    "duration": 16,
    "start_time": "2023-09-27T16:47:59.314Z"
   },
   {
    "duration": 4,
    "start_time": "2023-09-27T16:47:59.332Z"
   },
   {
    "duration": 24,
    "start_time": "2023-09-27T16:47:59.337Z"
   },
   {
    "duration": 20,
    "start_time": "2023-09-27T16:47:59.362Z"
   },
   {
    "duration": 13355,
    "start_time": "2023-09-27T16:47:59.384Z"
   },
   {
    "duration": 22,
    "start_time": "2023-09-27T16:48:49.191Z"
   },
   {
    "duration": 4,
    "start_time": "2023-09-27T16:51:45.120Z"
   },
   {
    "duration": 21,
    "start_time": "2023-09-27T16:51:47.906Z"
   },
   {
    "duration": 1363,
    "start_time": "2023-09-27T16:51:54.325Z"
   },
   {
    "duration": 64,
    "start_time": "2023-09-27T16:51:55.690Z"
   },
   {
    "duration": 228,
    "start_time": "2023-09-27T16:51:55.756Z"
   },
   {
    "duration": 9,
    "start_time": "2023-09-27T16:51:55.986Z"
   },
   {
    "duration": 30,
    "start_time": "2023-09-27T16:51:55.996Z"
   },
   {
    "duration": 16,
    "start_time": "2023-09-27T16:51:56.028Z"
   },
   {
    "duration": 26,
    "start_time": "2023-09-27T16:51:56.045Z"
   },
   {
    "duration": 46,
    "start_time": "2023-09-27T16:51:56.073Z"
   },
   {
    "duration": 23,
    "start_time": "2023-09-27T16:51:56.121Z"
   },
   {
    "duration": 25,
    "start_time": "2023-09-27T16:51:56.145Z"
   },
   {
    "duration": 22,
    "start_time": "2023-09-27T16:51:56.172Z"
   },
   {
    "duration": 13495,
    "start_time": "2023-09-27T16:51:56.196Z"
   },
   {
    "duration": 24,
    "start_time": "2023-09-27T16:54:28.065Z"
   },
   {
    "duration": 21,
    "start_time": "2023-09-27T16:56:08.789Z"
   },
   {
    "duration": 5,
    "start_time": "2023-09-27T16:59:07.869Z"
   },
   {
    "duration": 108,
    "start_time": "2023-09-27T17:00:31.378Z"
   },
   {
    "duration": 14,
    "start_time": "2023-09-27T17:00:37.083Z"
   },
   {
    "duration": 10,
    "start_time": "2023-09-27T17:00:42.898Z"
   },
   {
    "duration": 10,
    "start_time": "2023-09-27T17:00:42.963Z"
   },
   {
    "duration": 11,
    "start_time": "2023-09-27T17:00:59.593Z"
   },
   {
    "duration": 203,
    "start_time": "2023-09-27T17:01:04.782Z"
   },
   {
    "duration": 198,
    "start_time": "2023-09-27T17:01:21.524Z"
   },
   {
    "duration": 182,
    "start_time": "2023-09-27T17:05:39.402Z"
   },
   {
    "duration": 1226,
    "start_time": "2023-09-27T17:05:42.322Z"
   },
   {
    "duration": 4,
    "start_time": "2023-09-27T17:06:54.095Z"
   },
   {
    "duration": 5,
    "start_time": "2023-09-27T17:07:02.611Z"
   },
   {
    "duration": 2256,
    "start_time": "2023-09-27T17:07:07.299Z"
   },
   {
    "duration": 2169,
    "start_time": "2023-09-27T17:07:36.101Z"
   },
   {
    "duration": 5,
    "start_time": "2023-09-27T17:08:37.528Z"
   },
   {
    "duration": 2205,
    "start_time": "2023-09-27T17:08:42.502Z"
   },
   {
    "duration": 15,
    "start_time": "2023-09-27T17:09:21.911Z"
   },
   {
    "duration": 16,
    "start_time": "2023-09-27T17:09:36.971Z"
   },
   {
    "duration": 16,
    "start_time": "2023-09-27T17:09:44.942Z"
   },
   {
    "duration": 17,
    "start_time": "2023-09-27T17:10:51.533Z"
   },
   {
    "duration": 1393,
    "start_time": "2023-09-27T17:12:03.722Z"
   },
   {
    "duration": 64,
    "start_time": "2023-09-27T17:12:05.117Z"
   },
   {
    "duration": 77,
    "start_time": "2023-09-27T17:12:05.182Z"
   },
   {
    "duration": 9,
    "start_time": "2023-09-27T17:12:05.261Z"
   },
   {
    "duration": 47,
    "start_time": "2023-09-27T17:12:05.272Z"
   },
   {
    "duration": 11,
    "start_time": "2023-09-27T17:12:05.321Z"
   },
   {
    "duration": 21,
    "start_time": "2023-09-27T17:12:05.333Z"
   },
   {
    "duration": 34,
    "start_time": "2023-09-27T17:12:05.355Z"
   },
   {
    "duration": 4,
    "start_time": "2023-09-27T17:12:05.391Z"
   },
   {
    "duration": 31,
    "start_time": "2023-09-27T17:12:05.397Z"
   },
   {
    "duration": 22,
    "start_time": "2023-09-27T17:12:05.429Z"
   },
   {
    "duration": 14,
    "start_time": "2023-09-27T17:12:05.453Z"
   },
   {
    "duration": 13259,
    "start_time": "2023-09-27T17:12:05.468Z"
   },
   {
    "duration": 14,
    "start_time": "2023-09-27T17:17:05.986Z"
   },
   {
    "duration": 22,
    "start_time": "2023-09-27T17:17:23.677Z"
   },
   {
    "duration": 3,
    "start_time": "2023-09-27T17:29:38.161Z"
   },
   {
    "duration": 2280,
    "start_time": "2023-09-27T17:29:43.056Z"
   },
   {
    "duration": 3,
    "start_time": "2023-09-27T17:32:18.420Z"
   },
   {
    "duration": 5,
    "start_time": "2023-09-27T17:35:08.405Z"
   },
   {
    "duration": 4,
    "start_time": "2023-09-27T17:35:54.228Z"
   },
   {
    "duration": 5,
    "start_time": "2023-09-27T17:35:59.404Z"
   },
   {
    "duration": 5,
    "start_time": "2023-09-27T17:38:31.413Z"
   },
   {
    "duration": 9,
    "start_time": "2023-09-27T17:39:42.043Z"
   },
   {
    "duration": 150,
    "start_time": "2023-09-27T17:39:59.537Z"
   },
   {
    "duration": 13,
    "start_time": "2023-09-27T17:40:05.258Z"
   },
   {
    "duration": 13,
    "start_time": "2023-09-27T17:40:41.997Z"
   },
   {
    "duration": 12,
    "start_time": "2023-09-27T17:40:57.378Z"
   },
   {
    "duration": 12,
    "start_time": "2023-09-27T17:41:48.594Z"
   },
   {
    "duration": 16,
    "start_time": "2023-09-27T17:44:57.461Z"
   },
   {
    "duration": 28,
    "start_time": "2023-09-27T17:48:43.238Z"
   },
   {
    "duration": 26,
    "start_time": "2023-09-27T17:48:47.994Z"
   },
   {
    "duration": 26,
    "start_time": "2023-09-27T17:48:54.406Z"
   },
   {
    "duration": 29,
    "start_time": "2023-09-27T17:49:02.461Z"
   },
   {
    "duration": 26,
    "start_time": "2023-09-27T17:49:10.866Z"
   },
   {
    "duration": 25,
    "start_time": "2023-09-27T17:49:20.606Z"
   },
   {
    "duration": 30,
    "start_time": "2023-09-27T17:49:49.525Z"
   },
   {
    "duration": 17,
    "start_time": "2023-09-27T17:50:04.027Z"
   },
   {
    "duration": 1518,
    "start_time": "2023-09-27T17:50:29.835Z"
   },
   {
    "duration": 231,
    "start_time": "2023-09-27T17:51:39.865Z"
   },
   {
    "duration": 15,
    "start_time": "2023-09-27T17:52:38.928Z"
   },
   {
    "duration": 102,
    "start_time": "2023-09-27T17:53:41.967Z"
   },
   {
    "duration": 224,
    "start_time": "2023-09-27T17:53:47.424Z"
   },
   {
    "duration": 15,
    "start_time": "2023-09-27T17:56:10.086Z"
   },
   {
    "duration": 14,
    "start_time": "2023-09-27T17:56:27.806Z"
   },
   {
    "duration": 15,
    "start_time": "2023-09-27T17:57:20.639Z"
   },
   {
    "duration": 18,
    "start_time": "2023-09-27T17:59:34.281Z"
   },
   {
    "duration": 17,
    "start_time": "2023-09-27T17:59:45.460Z"
   },
   {
    "duration": 10,
    "start_time": "2023-09-27T18:52:51.203Z"
   },
   {
    "duration": 10,
    "start_time": "2023-09-27T18:53:24.272Z"
   },
   {
    "duration": 12,
    "start_time": "2023-09-27T18:53:32.970Z"
   },
   {
    "duration": 8,
    "start_time": "2023-09-27T18:53:44.007Z"
   },
   {
    "duration": 6,
    "start_time": "2023-09-27T18:56:00.790Z"
   },
   {
    "duration": 21,
    "start_time": "2023-09-27T18:56:43.976Z"
   },
   {
    "duration": 196,
    "start_time": "2023-09-27T18:56:59.347Z"
   },
   {
    "duration": 194,
    "start_time": "2023-09-27T18:58:26.778Z"
   },
   {
    "duration": 198,
    "start_time": "2023-09-27T18:58:33.910Z"
   },
   {
    "duration": 148,
    "start_time": "2023-09-27T18:59:23.674Z"
   },
   {
    "duration": 356,
    "start_time": "2023-09-27T19:00:20.458Z"
   },
   {
    "duration": 1551,
    "start_time": "2023-09-27T19:01:23.417Z"
   },
   {
    "duration": 72,
    "start_time": "2023-09-27T19:01:24.970Z"
   },
   {
    "duration": 159,
    "start_time": "2023-09-27T19:01:25.045Z"
   },
   {
    "duration": 20,
    "start_time": "2023-09-27T19:01:25.206Z"
   },
   {
    "duration": 16,
    "start_time": "2023-09-27T19:01:25.229Z"
   },
   {
    "duration": 22,
    "start_time": "2023-09-27T19:01:25.247Z"
   },
   {
    "duration": 260,
    "start_time": "2023-09-27T19:01:25.271Z"
   },
   {
    "duration": 23,
    "start_time": "2023-09-27T19:01:25.535Z"
   },
   {
    "duration": 96,
    "start_time": "2023-09-27T19:01:25.560Z"
   },
   {
    "duration": 82,
    "start_time": "2023-09-27T19:01:25.658Z"
   },
   {
    "duration": 123,
    "start_time": "2023-09-27T19:01:25.742Z"
   },
   {
    "duration": 75,
    "start_time": "2023-09-27T19:01:25.866Z"
   },
   {
    "duration": 136,
    "start_time": "2023-09-27T19:01:25.943Z"
   },
   {
    "duration": 79,
    "start_time": "2023-09-27T19:01:26.081Z"
   },
   {
    "duration": 422,
    "start_time": "2023-09-27T19:01:26.163Z"
   },
   {
    "duration": 14629,
    "start_time": "2023-09-27T19:01:26.587Z"
   },
   {
    "duration": 305,
    "start_time": "2023-09-27T19:01:55.759Z"
   },
   {
    "duration": 315,
    "start_time": "2023-09-27T19:02:01.203Z"
   },
   {
    "duration": 219,
    "start_time": "2023-09-27T19:02:12.541Z"
   },
   {
    "duration": 228,
    "start_time": "2023-09-27T19:02:17.043Z"
   },
   {
    "duration": 1630,
    "start_time": "2023-09-27T19:03:28.551Z"
   },
   {
    "duration": 73,
    "start_time": "2023-09-27T19:03:30.183Z"
   },
   {
    "duration": 397,
    "start_time": "2023-09-27T19:03:30.258Z"
   },
   {
    "duration": 230,
    "start_time": "2023-09-27T19:03:30.658Z"
   },
   {
    "duration": 328,
    "start_time": "2023-09-27T19:03:30.890Z"
   },
   {
    "duration": 178,
    "start_time": "2023-09-27T19:03:31.221Z"
   },
   {
    "duration": 362,
    "start_time": "2023-09-27T19:03:31.401Z"
   },
   {
    "duration": 17,
    "start_time": "2023-09-27T19:03:31.764Z"
   },
   {
    "duration": 83,
    "start_time": "2023-09-27T19:03:31.782Z"
   },
   {
    "duration": 277,
    "start_time": "2023-09-27T19:03:31.868Z"
   },
   {
    "duration": 223,
    "start_time": "2023-09-27T19:03:32.147Z"
   },
   {
    "duration": 172,
    "start_time": "2023-09-27T19:03:32.372Z"
   },
   {
    "duration": 44,
    "start_time": "2023-09-27T19:03:32.546Z"
   },
   {
    "duration": 71,
    "start_time": "2023-09-27T19:03:32.592Z"
   },
   {
    "duration": 191,
    "start_time": "2023-09-27T19:03:32.665Z"
   },
   {
    "duration": 14244,
    "start_time": "2023-09-27T19:03:32.857Z"
   },
   {
    "duration": 318,
    "start_time": "2023-09-27T19:03:47.105Z"
   },
   {
    "duration": 127,
    "start_time": "2023-09-27T19:14:44.588Z"
   },
   {
    "duration": 381,
    "start_time": "2023-09-27T19:14:58.907Z"
   },
   {
    "duration": 414,
    "start_time": "2023-09-27T19:15:40.261Z"
   },
   {
    "duration": 392,
    "start_time": "2023-09-27T19:15:50.259Z"
   },
   {
    "duration": 439,
    "start_time": "2023-09-27T19:16:28.970Z"
   },
   {
    "duration": 409,
    "start_time": "2023-09-27T19:16:59.807Z"
   },
   {
    "duration": 20,
    "start_time": "2023-09-27T19:18:29.552Z"
   },
   {
    "duration": 12,
    "start_time": "2023-09-27T19:28:15.589Z"
   },
   {
    "duration": 8,
    "start_time": "2023-09-27T19:28:23.466Z"
   },
   {
    "duration": 112,
    "start_time": "2023-09-27T19:28:35.880Z"
   },
   {
    "duration": 8,
    "start_time": "2023-09-27T19:28:43.520Z"
   },
   {
    "duration": 12,
    "start_time": "2023-09-27T19:28:47.226Z"
   },
   {
    "duration": 15,
    "start_time": "2023-09-27T19:28:52.183Z"
   },
   {
    "duration": 21,
    "start_time": "2023-09-27T19:28:56.535Z"
   },
   {
    "duration": 1204,
    "start_time": "2023-09-27T19:29:33.082Z"
   },
   {
    "duration": 17,
    "start_time": "2023-09-27T19:29:44.432Z"
   },
   {
    "duration": 16,
    "start_time": "2023-09-27T19:29:56.037Z"
   },
   {
    "duration": 101,
    "start_time": "2023-09-27T19:30:06.421Z"
   },
   {
    "duration": 112,
    "start_time": "2023-09-27T19:30:22.709Z"
   },
   {
    "duration": 320,
    "start_time": "2023-09-27T19:31:46.496Z"
   },
   {
    "duration": 218,
    "start_time": "2023-09-28T03:15:12.270Z"
   },
   {
    "duration": 18,
    "start_time": "2023-09-28T03:16:05.866Z"
   },
   {
    "duration": 10,
    "start_time": "2023-09-28T03:16:15.241Z"
   },
   {
    "duration": 4,
    "start_time": "2023-09-28T03:16:27.192Z"
   },
   {
    "duration": 7,
    "start_time": "2023-09-28T03:16:38.248Z"
   },
   {
    "duration": 10,
    "start_time": "2023-09-28T03:16:59.939Z"
   },
   {
    "duration": 1489,
    "start_time": "2023-09-28T03:26:09.902Z"
   },
   {
    "duration": 0,
    "start_time": "2023-09-28T03:26:11.393Z"
   },
   {
    "duration": 0,
    "start_time": "2023-09-28T03:26:11.394Z"
   },
   {
    "duration": 0,
    "start_time": "2023-09-28T03:26:11.395Z"
   },
   {
    "duration": 0,
    "start_time": "2023-09-28T03:26:11.396Z"
   },
   {
    "duration": 0,
    "start_time": "2023-09-28T03:26:11.396Z"
   },
   {
    "duration": 0,
    "start_time": "2023-09-28T03:26:11.398Z"
   },
   {
    "duration": 0,
    "start_time": "2023-09-28T03:26:11.398Z"
   },
   {
    "duration": 0,
    "start_time": "2023-09-28T03:26:11.399Z"
   },
   {
    "duration": 0,
    "start_time": "2023-09-28T03:26:11.400Z"
   },
   {
    "duration": 0,
    "start_time": "2023-09-28T03:26:11.401Z"
   },
   {
    "duration": 0,
    "start_time": "2023-09-28T03:26:11.413Z"
   },
   {
    "duration": 0,
    "start_time": "2023-09-28T03:26:11.414Z"
   },
   {
    "duration": 0,
    "start_time": "2023-09-28T03:26:11.415Z"
   },
   {
    "duration": 0,
    "start_time": "2023-09-28T03:26:11.416Z"
   },
   {
    "duration": 0,
    "start_time": "2023-09-28T03:26:11.417Z"
   },
   {
    "duration": 0,
    "start_time": "2023-09-28T03:26:11.418Z"
   },
   {
    "duration": 0,
    "start_time": "2023-09-28T03:26:11.419Z"
   },
   {
    "duration": 0,
    "start_time": "2023-09-28T03:26:11.420Z"
   },
   {
    "duration": 1417,
    "start_time": "2023-09-28T03:26:50.487Z"
   },
   {
    "duration": 69,
    "start_time": "2023-09-28T03:26:51.906Z"
   },
   {
    "duration": 80,
    "start_time": "2023-09-28T03:26:51.977Z"
   },
   {
    "duration": 11,
    "start_time": "2023-09-28T03:26:52.059Z"
   },
   {
    "duration": 36,
    "start_time": "2023-09-28T03:26:52.073Z"
   },
   {
    "duration": 23,
    "start_time": "2023-09-28T03:26:52.111Z"
   },
   {
    "duration": 252,
    "start_time": "2023-09-28T03:26:52.135Z"
   },
   {
    "duration": 14,
    "start_time": "2023-09-28T03:26:52.388Z"
   },
   {
    "duration": 29,
    "start_time": "2023-09-28T03:26:52.403Z"
   },
   {
    "duration": 117,
    "start_time": "2023-09-28T03:26:52.434Z"
   },
   {
    "duration": 22,
    "start_time": "2023-09-28T03:26:52.552Z"
   },
   {
    "duration": 38,
    "start_time": "2023-09-28T03:26:52.575Z"
   },
   {
    "duration": 43,
    "start_time": "2023-09-28T03:26:52.614Z"
   },
   {
    "duration": 36,
    "start_time": "2023-09-28T03:26:52.660Z"
   },
   {
    "duration": 234,
    "start_time": "2023-09-28T03:26:52.697Z"
   },
   {
    "duration": 389,
    "start_time": "2023-09-28T03:26:52.932Z"
   },
   {
    "duration": 115,
    "start_time": "2023-09-28T03:26:53.322Z"
   },
   {
    "duration": 0,
    "start_time": "2023-09-28T03:26:53.439Z"
   },
   {
    "duration": 0,
    "start_time": "2023-09-28T03:26:53.440Z"
   },
   {
    "duration": 10,
    "start_time": "2023-09-28T03:28:23.218Z"
   },
   {
    "duration": 192,
    "start_time": "2023-09-28T03:28:30.770Z"
   },
   {
    "duration": 1344,
    "start_time": "2023-09-28T03:29:48.855Z"
   },
   {
    "duration": 65,
    "start_time": "2023-09-28T03:29:50.201Z"
   },
   {
    "duration": 77,
    "start_time": "2023-09-28T03:29:50.268Z"
   },
   {
    "duration": 9,
    "start_time": "2023-09-28T03:29:50.347Z"
   },
   {
    "duration": 30,
    "start_time": "2023-09-28T03:29:50.358Z"
   },
   {
    "duration": 46,
    "start_time": "2023-09-28T03:29:50.390Z"
   },
   {
    "duration": 252,
    "start_time": "2023-09-28T03:29:50.438Z"
   },
   {
    "duration": 22,
    "start_time": "2023-09-28T03:29:50.692Z"
   },
   {
    "duration": 62,
    "start_time": "2023-09-28T03:29:50.716Z"
   },
   {
    "duration": 40,
    "start_time": "2023-09-28T03:29:50.780Z"
   },
   {
    "duration": 23,
    "start_time": "2023-09-28T03:29:50.821Z"
   },
   {
    "duration": 33,
    "start_time": "2023-09-28T03:29:50.845Z"
   },
   {
    "duration": 53,
    "start_time": "2023-09-28T03:29:50.880Z"
   },
   {
    "duration": 23,
    "start_time": "2023-09-28T03:29:50.935Z"
   },
   {
    "duration": 172,
    "start_time": "2023-09-28T03:29:50.960Z"
   },
   {
    "duration": 368,
    "start_time": "2023-09-28T03:29:51.133Z"
   },
   {
    "duration": 143,
    "start_time": "2023-09-28T03:29:51.503Z"
   },
   {
    "duration": 6,
    "start_time": "2023-09-28T03:29:51.648Z"
   },
   {
    "duration": 13712,
    "start_time": "2023-09-28T03:29:51.655Z"
   },
   {
    "duration": 1487,
    "start_time": "2023-09-28T03:32:17.744Z"
   },
   {
    "duration": 385,
    "start_time": "2023-09-28T03:32:43.362Z"
   },
   {
    "duration": 195,
    "start_time": "2023-09-28T03:33:50.721Z"
   },
   {
    "duration": 127,
    "start_time": "2023-09-28T03:34:36.484Z"
   },
   {
    "duration": 26,
    "start_time": "2023-09-28T03:34:57.098Z"
   },
   {
    "duration": 27,
    "start_time": "2023-09-28T03:35:08.547Z"
   },
   {
    "duration": 26,
    "start_time": "2023-09-28T03:35:18.875Z"
   },
   {
    "duration": 141,
    "start_time": "2023-09-28T03:36:35.507Z"
   },
   {
    "duration": 140,
    "start_time": "2023-09-28T03:36:46.475Z"
   },
   {
    "duration": 1440,
    "start_time": "2023-09-28T03:37:45.296Z"
   },
   {
    "duration": 66,
    "start_time": "2023-09-28T03:37:46.737Z"
   },
   {
    "duration": 80,
    "start_time": "2023-09-28T03:37:46.805Z"
   },
   {
    "duration": 30,
    "start_time": "2023-09-28T03:37:46.887Z"
   },
   {
    "duration": 3,
    "start_time": "2023-09-28T03:37:46.919Z"
   },
   {
    "duration": 37,
    "start_time": "2023-09-28T03:37:46.924Z"
   },
   {
    "duration": 243,
    "start_time": "2023-09-28T03:37:46.963Z"
   },
   {
    "duration": 17,
    "start_time": "2023-09-28T03:37:47.209Z"
   },
   {
    "duration": 19,
    "start_time": "2023-09-28T03:37:47.227Z"
   },
   {
    "duration": 17,
    "start_time": "2023-09-28T03:37:47.247Z"
   },
   {
    "duration": 7,
    "start_time": "2023-09-28T03:37:47.265Z"
   },
   {
    "duration": 48,
    "start_time": "2023-09-28T03:37:47.274Z"
   },
   {
    "duration": 116,
    "start_time": "2023-09-28T03:37:47.324Z"
   },
   {
    "duration": 29,
    "start_time": "2023-09-28T03:37:47.443Z"
   },
   {
    "duration": 162,
    "start_time": "2023-09-28T03:37:47.473Z"
   },
   {
    "duration": 388,
    "start_time": "2023-09-28T03:37:47.637Z"
   },
   {
    "duration": 145,
    "start_time": "2023-09-28T03:37:48.027Z"
   },
   {
    "duration": 661,
    "start_time": "2023-09-28T03:37:48.174Z"
   },
   {
    "duration": 13831,
    "start_time": "2023-09-28T03:37:48.837Z"
   },
   {
    "duration": 143,
    "start_time": "2023-09-28T03:38:37.721Z"
   },
   {
    "duration": 141,
    "start_time": "2023-09-28T03:41:47.755Z"
   },
   {
    "duration": 143,
    "start_time": "2023-09-28T03:42:08.825Z"
   },
   {
    "duration": 1483,
    "start_time": "2023-09-28T03:42:19.299Z"
   },
   {
    "duration": 68,
    "start_time": "2023-09-28T03:42:20.783Z"
   },
   {
    "duration": 90,
    "start_time": "2023-09-28T03:42:20.853Z"
   },
   {
    "duration": 12,
    "start_time": "2023-09-28T03:42:20.945Z"
   },
   {
    "duration": 61,
    "start_time": "2023-09-28T03:42:20.960Z"
   },
   {
    "duration": 17,
    "start_time": "2023-09-28T03:42:21.022Z"
   },
   {
    "duration": 274,
    "start_time": "2023-09-28T03:42:21.041Z"
   },
   {
    "duration": 21,
    "start_time": "2023-09-28T03:42:21.316Z"
   },
   {
    "duration": 24,
    "start_time": "2023-09-28T03:42:21.339Z"
   },
   {
    "duration": 50,
    "start_time": "2023-09-28T03:42:21.364Z"
   },
   {
    "duration": 15,
    "start_time": "2023-09-28T03:42:21.416Z"
   },
   {
    "duration": 44,
    "start_time": "2023-09-28T03:42:21.433Z"
   },
   {
    "duration": 41,
    "start_time": "2023-09-28T03:42:21.478Z"
   },
   {
    "duration": 33,
    "start_time": "2023-09-28T03:42:21.521Z"
   },
   {
    "duration": 181,
    "start_time": "2023-09-28T03:42:21.555Z"
   },
   {
    "duration": 380,
    "start_time": "2023-09-28T03:42:21.737Z"
   },
   {
    "duration": 138,
    "start_time": "2023-09-28T03:42:22.119Z"
   },
   {
    "duration": 643,
    "start_time": "2023-09-28T03:42:22.259Z"
   },
   {
    "duration": 14152,
    "start_time": "2023-09-28T03:42:22.903Z"
   },
   {
    "duration": 135,
    "start_time": "2023-09-28T03:43:36.817Z"
   },
   {
    "duration": 144,
    "start_time": "2023-09-28T03:43:44.457Z"
   },
   {
    "duration": 133,
    "start_time": "2023-09-28T03:43:49.373Z"
   },
   {
    "duration": 144,
    "start_time": "2023-09-28T03:43:56.174Z"
   },
   {
    "duration": 148,
    "start_time": "2023-09-28T03:45:58.312Z"
   },
   {
    "duration": 7,
    "start_time": "2023-09-28T03:46:48.532Z"
   },
   {
    "duration": 1398,
    "start_time": "2023-09-28T03:46:57.061Z"
   },
   {
    "duration": 67,
    "start_time": "2023-09-28T03:46:58.461Z"
   },
   {
    "duration": 97,
    "start_time": "2023-09-28T03:46:58.529Z"
   },
   {
    "duration": 11,
    "start_time": "2023-09-28T03:46:58.627Z"
   },
   {
    "duration": 16,
    "start_time": "2023-09-28T03:46:58.640Z"
   },
   {
    "duration": 25,
    "start_time": "2023-09-28T03:46:58.657Z"
   },
   {
    "duration": 299,
    "start_time": "2023-09-28T03:46:58.684Z"
   },
   {
    "duration": 16,
    "start_time": "2023-09-28T03:46:58.986Z"
   },
   {
    "duration": 20,
    "start_time": "2023-09-28T03:46:59.003Z"
   },
   {
    "duration": 23,
    "start_time": "2023-09-28T03:46:59.024Z"
   },
   {
    "duration": 8,
    "start_time": "2023-09-28T03:46:59.049Z"
   },
   {
    "duration": 39,
    "start_time": "2023-09-28T03:46:59.059Z"
   },
   {
    "duration": 29,
    "start_time": "2023-09-28T03:46:59.100Z"
   },
   {
    "duration": 32,
    "start_time": "2023-09-28T03:46:59.131Z"
   },
   {
    "duration": 173,
    "start_time": "2023-09-28T03:46:59.164Z"
   },
   {
    "duration": 457,
    "start_time": "2023-09-28T03:46:59.339Z"
   },
   {
    "duration": 149,
    "start_time": "2023-09-28T03:46:59.798Z"
   },
   {
    "duration": 661,
    "start_time": "2023-09-28T03:46:59.948Z"
   },
   {
    "duration": 13427,
    "start_time": "2023-09-28T03:47:00.612Z"
   },
   {
    "duration": 387,
    "start_time": "2023-09-28T03:47:22.769Z"
   },
   {
    "duration": 442,
    "start_time": "2023-09-28T03:50:06.148Z"
   },
   {
    "duration": 388,
    "start_time": "2023-09-28T03:50:12.827Z"
   },
   {
    "duration": 138,
    "start_time": "2023-09-28T03:50:47.764Z"
   },
   {
    "duration": 140,
    "start_time": "2023-09-28T03:51:11.750Z"
   },
   {
    "duration": 320,
    "start_time": "2023-09-28T03:52:43.754Z"
   },
   {
    "duration": 499,
    "start_time": "2023-09-28T03:54:31.196Z"
   },
   {
    "duration": 598,
    "start_time": "2023-09-28T03:54:54.923Z"
   },
   {
    "duration": 12,
    "start_time": "2023-09-28T03:57:17.104Z"
   },
   {
    "duration": 356,
    "start_time": "2023-09-28T03:57:23.941Z"
   },
   {
    "duration": 7,
    "start_time": "2023-09-28T03:58:21.257Z"
   },
   {
    "duration": 12,
    "start_time": "2023-09-28T03:58:26.536Z"
   },
   {
    "duration": 12,
    "start_time": "2023-09-28T03:58:26.760Z"
   },
   {
    "duration": 12,
    "start_time": "2023-09-28T03:58:56.841Z"
   },
   {
    "duration": 11,
    "start_time": "2023-09-28T03:59:18.692Z"
   },
   {
    "duration": 12,
    "start_time": "2023-09-28T03:59:23.343Z"
   },
   {
    "duration": 8,
    "start_time": "2023-09-28T04:03:07.586Z"
   },
   {
    "duration": 8,
    "start_time": "2023-09-28T04:05:02.081Z"
   },
   {
    "duration": 150,
    "start_time": "2023-09-28T04:05:06.107Z"
   },
   {
    "duration": 11,
    "start_time": "2023-09-28T04:05:25.537Z"
   },
   {
    "duration": 12,
    "start_time": "2023-09-28T04:06:34.070Z"
   },
   {
    "duration": 15,
    "start_time": "2023-09-28T04:07:29.800Z"
   },
   {
    "duration": 144,
    "start_time": "2023-09-28T04:07:43.155Z"
   },
   {
    "duration": 10,
    "start_time": "2023-09-28T04:13:24.007Z"
   },
   {
    "duration": 12,
    "start_time": "2023-09-28T04:13:28.921Z"
   },
   {
    "duration": 11,
    "start_time": "2023-09-28T04:13:43.310Z"
   },
   {
    "duration": 9,
    "start_time": "2023-09-28T04:13:49.714Z"
   },
   {
    "duration": 13,
    "start_time": "2023-09-28T04:14:21.538Z"
   },
   {
    "duration": 12,
    "start_time": "2023-09-28T04:14:29.230Z"
   },
   {
    "duration": 9,
    "start_time": "2023-09-28T04:14:34.626Z"
   },
   {
    "duration": 8,
    "start_time": "2023-09-28T04:14:59.428Z"
   },
   {
    "duration": 7,
    "start_time": "2023-09-28T04:35:45.595Z"
   },
   {
    "duration": 11,
    "start_time": "2023-09-28T04:35:52.406Z"
   },
   {
    "duration": 9,
    "start_time": "2023-09-28T04:36:22.618Z"
   },
   {
    "duration": 8,
    "start_time": "2023-09-28T04:37:16.822Z"
   },
   {
    "duration": 14,
    "start_time": "2023-09-28T04:37:28.842Z"
   },
   {
    "duration": 22,
    "start_time": "2023-09-28T04:37:53.196Z"
   },
   {
    "duration": 15,
    "start_time": "2023-09-28T04:38:03.284Z"
   },
   {
    "duration": 15,
    "start_time": "2023-09-28T04:38:33.769Z"
   },
   {
    "duration": 13,
    "start_time": "2023-09-28T04:40:40.771Z"
   },
   {
    "duration": 14,
    "start_time": "2023-09-28T04:40:53.980Z"
   },
   {
    "duration": 15,
    "start_time": "2023-09-28T04:41:41.165Z"
   },
   {
    "duration": 378,
    "start_time": "2023-09-28T04:41:44.174Z"
   },
   {
    "duration": 9,
    "start_time": "2023-09-28T04:42:03.115Z"
   },
   {
    "duration": 372,
    "start_time": "2023-09-28T04:42:04.991Z"
   },
   {
    "duration": 365,
    "start_time": "2023-09-28T04:42:48.489Z"
   },
   {
    "duration": 347,
    "start_time": "2023-09-28T04:42:58.442Z"
   },
   {
    "duration": 15,
    "start_time": "2023-09-28T04:43:23.514Z"
   },
   {
    "duration": 338,
    "start_time": "2023-09-28T04:44:17.761Z"
   },
   {
    "duration": 353,
    "start_time": "2023-09-28T04:44:24.200Z"
   },
   {
    "duration": 347,
    "start_time": "2023-09-28T04:44:36.892Z"
   },
   {
    "duration": 333,
    "start_time": "2023-09-28T04:44:48.050Z"
   },
   {
    "duration": 327,
    "start_time": "2023-09-28T04:45:03.939Z"
   },
   {
    "duration": 345,
    "start_time": "2023-09-28T04:45:09.753Z"
   },
   {
    "duration": 357,
    "start_time": "2023-09-28T04:45:17.588Z"
   },
   {
    "duration": 336,
    "start_time": "2023-09-28T04:45:22.516Z"
   },
   {
    "duration": 375,
    "start_time": "2023-09-28T04:45:29.319Z"
   },
   {
    "duration": 313,
    "start_time": "2023-09-28T04:46:04.632Z"
   },
   {
    "duration": 357,
    "start_time": "2023-09-28T04:46:12.176Z"
   },
   {
    "duration": 324,
    "start_time": "2023-09-28T04:46:30.049Z"
   },
   {
    "duration": 689,
    "start_time": "2023-09-28T04:47:07.574Z"
   },
   {
    "duration": 323,
    "start_time": "2023-09-28T04:47:37.045Z"
   },
   {
    "duration": 324,
    "start_time": "2023-09-28T04:47:46.638Z"
   },
   {
    "duration": 340,
    "start_time": "2023-09-28T04:47:53.735Z"
   },
   {
    "duration": 13,
    "start_time": "2023-09-28T04:53:48.733Z"
   },
   {
    "duration": 218,
    "start_time": "2023-09-28T04:54:02.077Z"
   },
   {
    "duration": 19,
    "start_time": "2023-09-28T04:54:35.790Z"
   },
   {
    "duration": 206,
    "start_time": "2023-09-28T04:54:42.212Z"
   },
   {
    "duration": 17,
    "start_time": "2023-09-28T04:54:56.006Z"
   },
   {
    "duration": 17,
    "start_time": "2023-09-28T04:57:18.974Z"
   },
   {
    "duration": 17,
    "start_time": "2023-09-28T04:57:46.942Z"
   },
   {
    "duration": 16,
    "start_time": "2023-09-28T04:58:23.742Z"
   },
   {
    "duration": 19,
    "start_time": "2023-09-28T04:58:48.231Z"
   },
   {
    "duration": 19,
    "start_time": "2023-09-28T04:58:53.879Z"
   },
   {
    "duration": 18,
    "start_time": "2023-09-28T04:58:54.567Z"
   },
   {
    "duration": 28,
    "start_time": "2023-09-28T04:58:58.206Z"
   },
   {
    "duration": 17,
    "start_time": "2023-09-28T04:58:59.154Z"
   },
   {
    "duration": 17,
    "start_time": "2023-09-28T04:58:59.714Z"
   },
   {
    "duration": 18,
    "start_time": "2023-09-28T04:59:00.505Z"
   },
   {
    "duration": 16,
    "start_time": "2023-09-28T04:59:01.290Z"
   },
   {
    "duration": 18,
    "start_time": "2023-09-28T04:59:02.027Z"
   },
   {
    "duration": 16,
    "start_time": "2023-09-28T04:59:07.218Z"
   },
   {
    "duration": 14,
    "start_time": "2023-09-28T05:01:26.184Z"
   },
   {
    "duration": 18,
    "start_time": "2023-09-28T05:01:29.359Z"
   },
   {
    "duration": 17,
    "start_time": "2023-09-28T05:01:36.599Z"
   },
   {
    "duration": 214,
    "start_time": "2023-09-28T05:01:46.312Z"
   },
   {
    "duration": 213,
    "start_time": "2023-09-28T05:01:57.111Z"
   },
   {
    "duration": 200,
    "start_time": "2023-09-28T05:02:36.446Z"
   },
   {
    "duration": 1404,
    "start_time": "2023-09-28T05:03:11.747Z"
   },
   {
    "duration": 69,
    "start_time": "2023-09-28T05:03:13.152Z"
   },
   {
    "duration": 101,
    "start_time": "2023-09-28T05:03:13.223Z"
   },
   {
    "duration": 10,
    "start_time": "2023-09-28T05:03:13.326Z"
   },
   {
    "duration": 21,
    "start_time": "2023-09-28T05:03:13.338Z"
   },
   {
    "duration": 16,
    "start_time": "2023-09-28T05:03:13.361Z"
   },
   {
    "duration": 248,
    "start_time": "2023-09-28T05:03:13.379Z"
   },
   {
    "duration": 16,
    "start_time": "2023-09-28T05:03:13.628Z"
   },
   {
    "duration": 17,
    "start_time": "2023-09-28T05:03:13.645Z"
   },
   {
    "duration": 17,
    "start_time": "2023-09-28T05:03:13.664Z"
   },
   {
    "duration": 5,
    "start_time": "2023-09-28T05:03:13.683Z"
   },
   {
    "duration": 22,
    "start_time": "2023-09-28T05:03:13.713Z"
   },
   {
    "duration": 23,
    "start_time": "2023-09-28T05:03:13.736Z"
   },
   {
    "duration": 41,
    "start_time": "2023-09-28T05:03:13.762Z"
   },
   {
    "duration": 16,
    "start_time": "2023-09-28T05:03:13.804Z"
   },
   {
    "duration": 175,
    "start_time": "2023-09-28T05:03:13.822Z"
   },
   {
    "duration": 345,
    "start_time": "2023-09-28T05:03:13.999Z"
   },
   {
    "duration": 8,
    "start_time": "2023-09-28T05:03:14.346Z"
   },
   {
    "duration": 152,
    "start_time": "2023-09-28T05:03:14.356Z"
   },
   {
    "duration": 15,
    "start_time": "2023-09-28T05:03:14.510Z"
   },
   {
    "duration": 524,
    "start_time": "2023-09-28T05:03:14.526Z"
   },
   {
    "duration": 18,
    "start_time": "2023-09-28T05:03:15.052Z"
   },
   {
    "duration": 274,
    "start_time": "2023-09-28T05:03:15.071Z"
   },
   {
    "duration": 13917,
    "start_time": "2023-09-28T05:03:15.346Z"
   },
   {
    "duration": 22,
    "start_time": "2023-09-28T05:03:53.913Z"
   },
   {
    "duration": 138,
    "start_time": "2023-09-28T05:03:56.015Z"
   },
   {
    "duration": 18,
    "start_time": "2023-09-28T05:04:03.347Z"
   },
   {
    "duration": 215,
    "start_time": "2023-09-28T05:04:07.037Z"
   },
   {
    "duration": 221,
    "start_time": "2023-09-28T05:04:54.940Z"
   },
   {
    "duration": 125,
    "start_time": "2023-09-28T05:07:53.925Z"
   },
   {
    "duration": 7,
    "start_time": "2023-09-28T05:07:58.694Z"
   },
   {
    "duration": 11,
    "start_time": "2023-09-28T05:08:02.929Z"
   },
   {
    "duration": 11,
    "start_time": "2023-09-28T05:08:18.506Z"
   },
   {
    "duration": 161,
    "start_time": "2023-09-28T05:08:41.884Z"
   },
   {
    "duration": 13,
    "start_time": "2023-09-28T05:08:50.934Z"
   },
   {
    "duration": 237,
    "start_time": "2023-09-28T05:10:59.837Z"
   },
   {
    "duration": 223,
    "start_time": "2023-09-28T05:11:32.749Z"
   },
   {
    "duration": 189,
    "start_time": "2023-09-28T05:12:12.512Z"
   },
   {
    "duration": 28,
    "start_time": "2023-09-28T05:14:45.300Z"
   },
   {
    "duration": 232,
    "start_time": "2023-09-28T05:16:28.827Z"
   },
   {
    "duration": 215,
    "start_time": "2023-09-28T05:16:46.546Z"
   },
   {
    "duration": 213,
    "start_time": "2023-09-28T05:17:06.174Z"
   },
   {
    "duration": 238,
    "start_time": "2023-09-28T05:17:30.344Z"
   },
   {
    "duration": 225,
    "start_time": "2023-09-28T05:17:53.496Z"
   },
   {
    "duration": 227,
    "start_time": "2023-09-28T05:18:54.066Z"
   },
   {
    "duration": 212,
    "start_time": "2023-09-28T05:19:23.253Z"
   },
   {
    "duration": 210,
    "start_time": "2023-09-28T05:19:39.029Z"
   },
   {
    "duration": 1461,
    "start_time": "2023-09-28T05:33:57.945Z"
   },
   {
    "duration": 73,
    "start_time": "2023-09-28T05:33:59.408Z"
   },
   {
    "duration": 90,
    "start_time": "2023-09-28T05:33:59.483Z"
   },
   {
    "duration": 13,
    "start_time": "2023-09-28T05:33:59.576Z"
   },
   {
    "duration": 5,
    "start_time": "2023-09-28T05:33:59.615Z"
   },
   {
    "duration": 13,
    "start_time": "2023-09-28T05:33:59.622Z"
   },
   {
    "duration": 266,
    "start_time": "2023-09-28T05:33:59.637Z"
   },
   {
    "duration": 22,
    "start_time": "2023-09-28T05:33:59.905Z"
   },
   {
    "duration": 16,
    "start_time": "2023-09-28T05:33:59.929Z"
   },
   {
    "duration": 42,
    "start_time": "2023-09-28T05:33:59.946Z"
   },
   {
    "duration": 69,
    "start_time": "2023-09-28T05:33:59.990Z"
   },
   {
    "duration": 113,
    "start_time": "2023-09-28T05:34:00.061Z"
   },
   {
    "duration": 194,
    "start_time": "2023-09-28T05:34:00.176Z"
   },
   {
    "duration": 139,
    "start_time": "2023-09-28T05:34:00.373Z"
   },
   {
    "duration": 182,
    "start_time": "2023-09-28T05:34:00.514Z"
   },
   {
    "duration": 242,
    "start_time": "2023-09-28T05:34:00.698Z"
   },
   {
    "duration": 343,
    "start_time": "2023-09-28T05:34:00.942Z"
   },
   {
    "duration": 10,
    "start_time": "2023-09-28T05:34:01.287Z"
   },
   {
    "duration": 233,
    "start_time": "2023-09-28T05:34:01.298Z"
   },
   {
    "duration": 15,
    "start_time": "2023-09-28T05:34:01.533Z"
   },
   {
    "duration": 816,
    "start_time": "2023-09-28T05:34:01.550Z"
   },
   {
    "duration": 18,
    "start_time": "2023-09-28T05:34:02.368Z"
   },
   {
    "duration": 502,
    "start_time": "2023-09-28T05:34:02.387Z"
   },
   {
    "duration": 12,
    "start_time": "2023-09-28T05:34:02.891Z"
   },
   {
    "duration": 280,
    "start_time": "2023-09-28T05:34:02.904Z"
   },
   {
    "duration": 14086,
    "start_time": "2023-09-28T05:34:03.185Z"
   },
   {
    "duration": 1414,
    "start_time": "2023-09-28T05:45:55.641Z"
   },
   {
    "duration": 69,
    "start_time": "2023-09-28T05:45:57.057Z"
   },
   {
    "duration": 103,
    "start_time": "2023-09-28T05:45:57.128Z"
   },
   {
    "duration": 10,
    "start_time": "2023-09-28T05:45:57.233Z"
   },
   {
    "duration": 38,
    "start_time": "2023-09-28T05:45:57.245Z"
   },
   {
    "duration": 56,
    "start_time": "2023-09-28T05:45:57.285Z"
   },
   {
    "duration": 280,
    "start_time": "2023-09-28T05:45:57.343Z"
   },
   {
    "duration": 21,
    "start_time": "2023-09-28T05:45:57.625Z"
   },
   {
    "duration": 39,
    "start_time": "2023-09-28T05:45:57.648Z"
   },
   {
    "duration": 19,
    "start_time": "2023-09-28T05:45:57.689Z"
   },
   {
    "duration": 21,
    "start_time": "2023-09-28T05:45:57.710Z"
   },
   {
    "duration": 55,
    "start_time": "2023-09-28T05:45:57.733Z"
   },
   {
    "duration": 44,
    "start_time": "2023-09-28T05:45:57.790Z"
   },
   {
    "duration": 38,
    "start_time": "2023-09-28T05:45:57.837Z"
   },
   {
    "duration": 13,
    "start_time": "2023-09-28T05:45:57.877Z"
   },
   {
    "duration": 167,
    "start_time": "2023-09-28T05:45:57.892Z"
   },
   {
    "duration": 376,
    "start_time": "2023-09-28T05:45:58.061Z"
   },
   {
    "duration": 9,
    "start_time": "2023-09-28T05:45:58.439Z"
   },
   {
    "duration": 166,
    "start_time": "2023-09-28T05:45:58.450Z"
   },
   {
    "duration": 16,
    "start_time": "2023-09-28T05:45:58.618Z"
   },
   {
    "duration": 536,
    "start_time": "2023-09-28T05:45:58.636Z"
   },
   {
    "duration": 18,
    "start_time": "2023-09-28T05:45:59.174Z"
   },
   {
    "duration": 233,
    "start_time": "2023-09-28T05:45:59.194Z"
   },
   {
    "duration": 13,
    "start_time": "2023-09-28T05:45:59.429Z"
   },
   {
    "duration": 211,
    "start_time": "2023-09-28T05:45:59.444Z"
   },
   {
    "duration": 14269,
    "start_time": "2023-09-28T05:45:59.657Z"
   },
   {
    "duration": 20,
    "start_time": "2023-09-28T05:47:02.574Z"
   },
   {
    "duration": 346,
    "start_time": "2023-09-28T05:47:24.730Z"
   },
   {
    "duration": 19,
    "start_time": "2023-09-28T05:48:17.672Z"
   },
   {
    "duration": 19,
    "start_time": "2023-09-28T05:49:50.068Z"
   },
   {
    "duration": 14,
    "start_time": "2023-09-28T05:50:04.261Z"
   },
   {
    "duration": 1575,
    "start_time": "2023-09-28T05:50:23.503Z"
   },
   {
    "duration": 70,
    "start_time": "2023-09-28T05:50:25.080Z"
   },
   {
    "duration": 101,
    "start_time": "2023-09-28T05:50:25.152Z"
   },
   {
    "duration": 10,
    "start_time": "2023-09-28T05:50:25.255Z"
   },
   {
    "duration": 19,
    "start_time": "2023-09-28T05:50:25.267Z"
   },
   {
    "duration": 26,
    "start_time": "2023-09-28T05:50:25.288Z"
   },
   {
    "duration": 255,
    "start_time": "2023-09-28T05:50:25.316Z"
   },
   {
    "duration": 16,
    "start_time": "2023-09-28T05:50:25.573Z"
   },
   {
    "duration": 30,
    "start_time": "2023-09-28T05:50:25.591Z"
   },
   {
    "duration": 19,
    "start_time": "2023-09-28T05:50:25.623Z"
   },
   {
    "duration": 23,
    "start_time": "2023-09-28T05:50:25.644Z"
   },
   {
    "duration": 40,
    "start_time": "2023-09-28T05:50:25.669Z"
   },
   {
    "duration": 34,
    "start_time": "2023-09-28T05:50:25.711Z"
   },
   {
    "duration": 43,
    "start_time": "2023-09-28T05:50:25.748Z"
   },
   {
    "duration": 45,
    "start_time": "2023-09-28T05:50:25.794Z"
   },
   {
    "duration": 193,
    "start_time": "2023-09-28T05:50:25.842Z"
   },
   {
    "duration": 350,
    "start_time": "2023-09-28T05:50:26.037Z"
   },
   {
    "duration": 10,
    "start_time": "2023-09-28T05:50:26.390Z"
   },
   {
    "duration": 160,
    "start_time": "2023-09-28T05:50:26.402Z"
   },
   {
    "duration": 54,
    "start_time": "2023-09-28T05:50:26.564Z"
   },
   {
    "duration": 550,
    "start_time": "2023-09-28T05:50:26.621Z"
   },
   {
    "duration": 18,
    "start_time": "2023-09-28T05:50:27.173Z"
   },
   {
    "duration": 257,
    "start_time": "2023-09-28T05:50:27.192Z"
   },
   {
    "duration": 13,
    "start_time": "2023-09-28T05:50:27.451Z"
   },
   {
    "duration": 152,
    "start_time": "2023-09-28T05:50:27.466Z"
   },
   {
    "duration": 0,
    "start_time": "2023-09-28T05:50:27.620Z"
   },
   {
    "duration": 16,
    "start_time": "2023-09-28T05:50:37.139Z"
   },
   {
    "duration": 18,
    "start_time": "2023-09-28T05:51:07.877Z"
   },
   {
    "duration": 17,
    "start_time": "2023-09-28T05:51:16.140Z"
   },
   {
    "duration": 20,
    "start_time": "2023-09-28T05:51:54.134Z"
   },
   {
    "duration": 21,
    "start_time": "2023-09-28T05:53:29.575Z"
   },
   {
    "duration": 16,
    "start_time": "2023-09-28T05:53:35.281Z"
   },
   {
    "duration": 114,
    "start_time": "2023-09-28T05:55:09.026Z"
   },
   {
    "duration": 9,
    "start_time": "2023-09-28T05:55:18.100Z"
   },
   {
    "duration": 13,
    "start_time": "2023-09-28T05:56:23.330Z"
   },
   {
    "duration": 19,
    "start_time": "2023-09-28T05:56:54.693Z"
   },
   {
    "duration": 12,
    "start_time": "2023-09-28T05:57:11.375Z"
   },
   {
    "duration": 17,
    "start_time": "2023-09-28T05:57:13.488Z"
   },
   {
    "duration": 14,
    "start_time": "2023-09-28T05:59:18.906Z"
   },
   {
    "duration": 11,
    "start_time": "2023-09-28T06:00:25.372Z"
   },
   {
    "duration": 11,
    "start_time": "2023-09-28T06:00:39.500Z"
   },
   {
    "duration": 107,
    "start_time": "2023-09-28T06:00:57.407Z"
   },
   {
    "duration": 228,
    "start_time": "2023-09-28T06:01:16.879Z"
   },
   {
    "duration": 7,
    "start_time": "2023-09-28T06:03:05.838Z"
   },
   {
    "duration": 17,
    "start_time": "2023-09-28T06:03:10.773Z"
   },
   {
    "duration": 6,
    "start_time": "2023-09-28T06:04:10.191Z"
   },
   {
    "duration": 51,
    "start_time": "2023-09-28T06:04:44.940Z"
   },
   {
    "duration": 51,
    "start_time": "2023-09-28T06:05:00.145Z"
   },
   {
    "duration": 51,
    "start_time": "2023-09-28T06:05:35.977Z"
   },
   {
    "duration": 60,
    "start_time": "2023-09-28T06:06:20.687Z"
   },
   {
    "duration": 61,
    "start_time": "2023-09-28T06:06:30.387Z"
   },
   {
    "duration": 182,
    "start_time": "2023-09-28T06:08:00.506Z"
   },
   {
    "duration": 8,
    "start_time": "2023-09-28T06:09:11.013Z"
   },
   {
    "duration": 73,
    "start_time": "2023-09-28T06:09:12.278Z"
   },
   {
    "duration": 18,
    "start_time": "2023-09-28T06:10:02.592Z"
   },
   {
    "duration": 7,
    "start_time": "2023-09-28T06:10:04.540Z"
   },
   {
    "duration": 73,
    "start_time": "2023-09-28T06:10:05.562Z"
   },
   {
    "duration": 75,
    "start_time": "2023-09-28T06:11:11.916Z"
   },
   {
    "duration": 71,
    "start_time": "2023-09-28T06:11:37.871Z"
   },
   {
    "duration": 76,
    "start_time": "2023-09-28T06:12:15.456Z"
   },
   {
    "duration": 73,
    "start_time": "2023-09-28T06:12:32.738Z"
   },
   {
    "duration": 20,
    "start_time": "2023-09-28T06:14:42.242Z"
   },
   {
    "duration": 9,
    "start_time": "2023-09-28T06:14:45.976Z"
   },
   {
    "duration": 76,
    "start_time": "2023-09-28T06:15:07.700Z"
   },
   {
    "duration": 1548,
    "start_time": "2023-09-28T06:20:36.117Z"
   },
   {
    "duration": 68,
    "start_time": "2023-09-28T06:20:37.668Z"
   },
   {
    "duration": 92,
    "start_time": "2023-09-28T06:20:37.738Z"
   },
   {
    "duration": 10,
    "start_time": "2023-09-28T06:20:37.831Z"
   },
   {
    "duration": 6,
    "start_time": "2023-09-28T06:20:37.843Z"
   },
   {
    "duration": 12,
    "start_time": "2023-09-28T06:20:37.851Z"
   },
   {
    "duration": 267,
    "start_time": "2023-09-28T06:20:37.864Z"
   },
   {
    "duration": 17,
    "start_time": "2023-09-28T06:20:38.133Z"
   },
   {
    "duration": 45,
    "start_time": "2023-09-28T06:20:38.152Z"
   },
   {
    "duration": 39,
    "start_time": "2023-09-28T06:20:38.199Z"
   },
   {
    "duration": 20,
    "start_time": "2023-09-28T06:20:38.240Z"
   },
   {
    "duration": 55,
    "start_time": "2023-09-28T06:20:38.262Z"
   },
   {
    "duration": 36,
    "start_time": "2023-09-28T06:20:38.319Z"
   },
   {
    "duration": 30,
    "start_time": "2023-09-28T06:20:38.358Z"
   },
   {
    "duration": 20,
    "start_time": "2023-09-28T06:20:38.390Z"
   },
   {
    "duration": 170,
    "start_time": "2023-09-28T06:20:38.411Z"
   },
   {
    "duration": 337,
    "start_time": "2023-09-28T06:20:38.583Z"
   },
   {
    "duration": 9,
    "start_time": "2023-09-28T06:20:38.922Z"
   },
   {
    "duration": 254,
    "start_time": "2023-09-28T06:20:38.933Z"
   },
   {
    "duration": 36,
    "start_time": "2023-09-28T06:20:39.188Z"
   },
   {
    "duration": 459,
    "start_time": "2023-09-28T06:20:39.226Z"
   },
   {
    "duration": 27,
    "start_time": "2023-09-28T06:20:39.687Z"
   },
   {
    "duration": 214,
    "start_time": "2023-09-28T06:20:39.715Z"
   },
   {
    "duration": 131,
    "start_time": "2023-09-28T06:20:39.930Z"
   },
   {
    "duration": 0,
    "start_time": "2023-09-28T06:20:40.063Z"
   },
   {
    "duration": 0,
    "start_time": "2023-09-28T06:20:40.064Z"
   },
   {
    "duration": 0,
    "start_time": "2023-09-28T06:20:40.065Z"
   },
   {
    "duration": 0,
    "start_time": "2023-09-28T06:20:40.066Z"
   },
   {
    "duration": 0,
    "start_time": "2023-09-28T06:20:40.067Z"
   },
   {
    "duration": 0,
    "start_time": "2023-09-28T06:20:40.068Z"
   },
   {
    "duration": 272,
    "start_time": "2023-09-28T06:20:53.916Z"
   },
   {
    "duration": 1635,
    "start_time": "2023-09-28T06:22:15.007Z"
   },
   {
    "duration": 67,
    "start_time": "2023-09-28T06:22:16.644Z"
   },
   {
    "duration": 117,
    "start_time": "2023-09-28T06:22:16.712Z"
   },
   {
    "duration": 117,
    "start_time": "2023-09-28T06:22:16.830Z"
   },
   {
    "duration": 194,
    "start_time": "2023-09-28T06:22:16.949Z"
   },
   {
    "duration": 190,
    "start_time": "2023-09-28T06:22:17.145Z"
   },
   {
    "duration": 382,
    "start_time": "2023-09-28T06:22:17.337Z"
   },
   {
    "duration": 15,
    "start_time": "2023-09-28T06:22:17.720Z"
   },
   {
    "duration": 19,
    "start_time": "2023-09-28T06:22:17.737Z"
   },
   {
    "duration": 17,
    "start_time": "2023-09-28T06:22:17.758Z"
   },
   {
    "duration": 7,
    "start_time": "2023-09-28T06:22:17.776Z"
   },
   {
    "duration": 45,
    "start_time": "2023-09-28T06:22:17.785Z"
   },
   {
    "duration": 27,
    "start_time": "2023-09-28T06:22:17.832Z"
   },
   {
    "duration": 47,
    "start_time": "2023-09-28T06:22:17.861Z"
   },
   {
    "duration": 29,
    "start_time": "2023-09-28T06:22:17.910Z"
   },
   {
    "duration": 159,
    "start_time": "2023-09-28T06:22:17.941Z"
   },
   {
    "duration": 348,
    "start_time": "2023-09-28T06:22:18.102Z"
   },
   {
    "duration": 9,
    "start_time": "2023-09-28T06:22:18.452Z"
   },
   {
    "duration": 227,
    "start_time": "2023-09-28T06:22:18.462Z"
   },
   {
    "duration": 25,
    "start_time": "2023-09-28T06:22:18.691Z"
   },
   {
    "duration": 462,
    "start_time": "2023-09-28T06:22:18.718Z"
   },
   {
    "duration": 17,
    "start_time": "2023-09-28T06:22:19.182Z"
   },
   {
    "duration": 234,
    "start_time": "2023-09-28T06:22:19.201Z"
   },
   {
    "duration": 270,
    "start_time": "2023-09-28T06:22:19.436Z"
   },
   {
    "duration": 14540,
    "start_time": "2023-09-28T06:22:19.707Z"
   },
   {
    "duration": 232,
    "start_time": "2023-09-28T06:23:01.319Z"
   },
   {
    "duration": 224,
    "start_time": "2023-09-28T06:23:13.481Z"
   },
   {
    "duration": 219,
    "start_time": "2023-09-28T06:23:34.854Z"
   },
   {
    "duration": 213,
    "start_time": "2023-09-28T06:23:40.315Z"
   },
   {
    "duration": 228,
    "start_time": "2023-09-28T06:23:53.260Z"
   },
   {
    "duration": 9,
    "start_time": "2023-09-28T06:26:17.196Z"
   },
   {
    "duration": 1600,
    "start_time": "2023-09-28T06:26:22.325Z"
   },
   {
    "duration": 68,
    "start_time": "2023-09-28T06:26:23.927Z"
   },
   {
    "duration": 91,
    "start_time": "2023-09-28T06:26:23.997Z"
   },
   {
    "duration": 28,
    "start_time": "2023-09-28T06:26:24.089Z"
   },
   {
    "duration": 10,
    "start_time": "2023-09-28T06:26:24.119Z"
   },
   {
    "duration": 14,
    "start_time": "2023-09-28T06:26:24.131Z"
   },
   {
    "duration": 257,
    "start_time": "2023-09-28T06:26:24.146Z"
   },
   {
    "duration": 23,
    "start_time": "2023-09-28T06:26:24.405Z"
   },
   {
    "duration": 25,
    "start_time": "2023-09-28T06:26:24.430Z"
   },
   {
    "duration": 23,
    "start_time": "2023-09-28T06:26:24.457Z"
   },
   {
    "duration": 33,
    "start_time": "2023-09-28T06:26:24.482Z"
   },
   {
    "duration": 34,
    "start_time": "2023-09-28T06:26:24.517Z"
   },
   {
    "duration": 18,
    "start_time": "2023-09-28T06:26:24.553Z"
   },
   {
    "duration": 40,
    "start_time": "2023-09-28T06:26:24.574Z"
   },
   {
    "duration": 13,
    "start_time": "2023-09-28T06:26:24.616Z"
   },
   {
    "duration": 177,
    "start_time": "2023-09-28T06:26:24.632Z"
   },
   {
    "duration": 345,
    "start_time": "2023-09-28T06:26:24.812Z"
   },
   {
    "duration": 9,
    "start_time": "2023-09-28T06:26:25.159Z"
   },
   {
    "duration": 258,
    "start_time": "2023-09-28T06:26:25.170Z"
   },
   {
    "duration": 15,
    "start_time": "2023-09-28T06:26:25.430Z"
   },
   {
    "duration": 443,
    "start_time": "2023-09-28T06:26:25.447Z"
   },
   {
    "duration": 27,
    "start_time": "2023-09-28T06:26:25.891Z"
   },
   {
    "duration": 262,
    "start_time": "2023-09-28T06:26:25.919Z"
   },
   {
    "duration": 274,
    "start_time": "2023-09-28T06:26:26.182Z"
   },
   {
    "duration": 14616,
    "start_time": "2023-09-28T06:26:26.458Z"
   },
   {
    "duration": 1677,
    "start_time": "2023-09-28T06:27:04.480Z"
   },
   {
    "duration": 71,
    "start_time": "2023-09-28T06:27:06.159Z"
   },
   {
    "duration": 102,
    "start_time": "2023-09-28T06:27:06.232Z"
   },
   {
    "duration": 11,
    "start_time": "2023-09-28T06:27:06.335Z"
   },
   {
    "duration": 16,
    "start_time": "2023-09-28T06:27:06.348Z"
   },
   {
    "duration": 31,
    "start_time": "2023-09-28T06:27:06.366Z"
   },
   {
    "duration": 265,
    "start_time": "2023-09-28T06:27:06.398Z"
   },
   {
    "duration": 17,
    "start_time": "2023-09-28T06:27:06.665Z"
   },
   {
    "duration": 16,
    "start_time": "2023-09-28T06:27:06.684Z"
   },
   {
    "duration": 27,
    "start_time": "2023-09-28T06:27:06.702Z"
   },
   {
    "duration": 5,
    "start_time": "2023-09-28T06:27:06.730Z"
   },
   {
    "duration": 42,
    "start_time": "2023-09-28T06:27:06.736Z"
   },
   {
    "duration": 21,
    "start_time": "2023-09-28T06:27:06.780Z"
   },
   {
    "duration": 45,
    "start_time": "2023-09-28T06:27:06.804Z"
   },
   {
    "duration": 31,
    "start_time": "2023-09-28T06:27:06.851Z"
   },
   {
    "duration": 195,
    "start_time": "2023-09-28T06:27:06.883Z"
   },
   {
    "duration": 360,
    "start_time": "2023-09-28T06:27:07.080Z"
   },
   {
    "duration": 10,
    "start_time": "2023-09-28T06:27:07.441Z"
   },
   {
    "duration": 240,
    "start_time": "2023-09-28T06:27:07.453Z"
   },
   {
    "duration": 27,
    "start_time": "2023-09-28T06:27:07.695Z"
   },
   {
    "duration": 447,
    "start_time": "2023-09-28T06:27:07.724Z"
   },
   {
    "duration": 18,
    "start_time": "2023-09-28T06:27:08.173Z"
   },
   {
    "duration": 262,
    "start_time": "2023-09-28T06:27:08.193Z"
   },
   {
    "duration": 283,
    "start_time": "2023-09-28T06:27:08.457Z"
   },
   {
    "duration": 14891,
    "start_time": "2023-09-28T06:27:08.742Z"
   },
   {
    "duration": 168,
    "start_time": "2023-09-28T06:28:01.476Z"
   },
   {
    "duration": 1510,
    "start_time": "2023-09-28T06:28:34.246Z"
   },
   {
    "duration": 70,
    "start_time": "2023-09-28T06:28:35.758Z"
   },
   {
    "duration": 101,
    "start_time": "2023-09-28T06:28:35.830Z"
   },
   {
    "duration": 10,
    "start_time": "2023-09-28T06:28:35.933Z"
   },
   {
    "duration": 34,
    "start_time": "2023-09-28T06:28:35.945Z"
   },
   {
    "duration": 24,
    "start_time": "2023-09-28T06:28:35.981Z"
   },
   {
    "duration": 316,
    "start_time": "2023-09-28T06:28:36.007Z"
   },
   {
    "duration": 16,
    "start_time": "2023-09-28T06:28:36.325Z"
   },
   {
    "duration": 18,
    "start_time": "2023-09-28T06:28:36.342Z"
   },
   {
    "duration": 17,
    "start_time": "2023-09-28T06:28:36.361Z"
   },
   {
    "duration": 6,
    "start_time": "2023-09-28T06:28:36.379Z"
   },
   {
    "duration": 44,
    "start_time": "2023-09-28T06:28:36.387Z"
   },
   {
    "duration": 21,
    "start_time": "2023-09-28T06:28:36.433Z"
   },
   {
    "duration": 27,
    "start_time": "2023-09-28T06:28:36.456Z"
   },
   {
    "duration": 33,
    "start_time": "2023-09-28T06:28:36.486Z"
   },
   {
    "duration": 168,
    "start_time": "2023-09-28T06:28:36.521Z"
   },
   {
    "duration": 338,
    "start_time": "2023-09-28T06:28:36.692Z"
   },
   {
    "duration": 11,
    "start_time": "2023-09-28T06:28:37.032Z"
   },
   {
    "duration": 227,
    "start_time": "2023-09-28T06:28:37.045Z"
   },
   {
    "duration": 45,
    "start_time": "2023-09-28T06:28:37.274Z"
   },
   {
    "duration": 442,
    "start_time": "2023-09-28T06:28:37.321Z"
   },
   {
    "duration": 18,
    "start_time": "2023-09-28T06:28:37.765Z"
   },
   {
    "duration": 235,
    "start_time": "2023-09-28T06:28:37.785Z"
   },
   {
    "duration": 276,
    "start_time": "2023-09-28T06:28:38.021Z"
   },
   {
    "duration": 14115,
    "start_time": "2023-09-28T06:28:38.299Z"
   },
   {
    "duration": 175,
    "start_time": "2023-09-28T06:31:56.275Z"
   },
   {
    "duration": 157,
    "start_time": "2023-09-28T06:33:32.412Z"
   },
   {
    "duration": 156,
    "start_time": "2023-09-28T06:34:22.812Z"
   },
   {
    "duration": 158,
    "start_time": "2023-09-28T06:34:26.658Z"
   },
   {
    "duration": 144,
    "start_time": "2023-09-28T06:34:39.697Z"
   },
   {
    "duration": 149,
    "start_time": "2023-09-28T06:34:48.246Z"
   },
   {
    "duration": 142,
    "start_time": "2023-09-28T06:34:54.373Z"
   },
   {
    "duration": 154,
    "start_time": "2023-09-28T06:35:27.529Z"
   },
   {
    "duration": 150,
    "start_time": "2023-09-28T06:35:36.539Z"
   },
   {
    "duration": 158,
    "start_time": "2023-09-28T06:35:41.511Z"
   },
   {
    "duration": 157,
    "start_time": "2023-09-28T06:35:53.946Z"
   },
   {
    "duration": 150,
    "start_time": "2023-09-28T06:36:12.449Z"
   },
   {
    "duration": 178,
    "start_time": "2023-09-28T06:36:57.447Z"
   },
   {
    "duration": 141,
    "start_time": "2023-09-28T06:37:06.783Z"
   },
   {
    "duration": 144,
    "start_time": "2023-09-28T06:37:10.249Z"
   },
   {
    "duration": 156,
    "start_time": "2023-09-28T06:37:15.745Z"
   },
   {
    "duration": 51,
    "start_time": "2023-09-28T06:50:34.493Z"
   },
   {
    "duration": 114,
    "start_time": "2023-09-28T06:52:05.554Z"
   },
   {
    "duration": 14,
    "start_time": "2023-09-28T06:52:12.955Z"
   },
   {
    "duration": 50,
    "start_time": "2023-09-28T06:52:36.442Z"
   },
   {
    "duration": 12,
    "start_time": "2023-09-28T07:00:29.021Z"
   },
   {
    "duration": 12,
    "start_time": "2023-09-28T07:00:57.436Z"
   },
   {
    "duration": 12,
    "start_time": "2023-09-28T07:01:20.955Z"
   },
   {
    "duration": 12,
    "start_time": "2023-09-28T07:01:25.273Z"
   },
   {
    "duration": 15,
    "start_time": "2023-09-28T07:01:58.147Z"
   },
   {
    "duration": 21,
    "start_time": "2023-09-28T07:02:01.292Z"
   },
   {
    "duration": 17,
    "start_time": "2023-09-28T07:02:15.102Z"
   },
   {
    "duration": 49,
    "start_time": "2023-09-28T07:02:18.480Z"
   },
   {
    "duration": 12,
    "start_time": "2023-09-28T07:13:01.143Z"
   },
   {
    "duration": 12,
    "start_time": "2023-09-28T07:13:10.251Z"
   },
   {
    "duration": 13,
    "start_time": "2023-09-28T07:16:03.108Z"
   },
   {
    "duration": 16,
    "start_time": "2023-09-28T07:16:07.687Z"
   },
   {
    "duration": 15,
    "start_time": "2023-09-28T07:16:24.590Z"
   },
   {
    "duration": 17,
    "start_time": "2023-09-28T07:16:32.352Z"
   },
   {
    "duration": 17,
    "start_time": "2023-09-28T07:19:12.270Z"
   },
   {
    "duration": 17,
    "start_time": "2023-09-28T07:19:46.332Z"
   },
   {
    "duration": 18,
    "start_time": "2023-09-28T07:21:11.262Z"
   },
   {
    "duration": 16,
    "start_time": "2023-09-28T07:21:21.337Z"
   },
   {
    "duration": 16,
    "start_time": "2023-09-28T07:21:25.971Z"
   },
   {
    "duration": 17,
    "start_time": "2023-09-28T07:21:29.788Z"
   },
   {
    "duration": 17,
    "start_time": "2023-09-28T07:22:28.583Z"
   },
   {
    "duration": 22,
    "start_time": "2023-09-28T07:22:35.399Z"
   },
   {
    "duration": 22,
    "start_time": "2023-09-28T07:22:42.469Z"
   },
   {
    "duration": 22,
    "start_time": "2023-09-28T07:23:15.202Z"
   },
   {
    "duration": 19,
    "start_time": "2023-09-28T07:23:22.123Z"
   },
   {
    "duration": 17,
    "start_time": "2023-09-28T07:23:49.231Z"
   },
   {
    "duration": 56,
    "start_time": "2023-09-28T07:25:44.502Z"
   },
   {
    "duration": 17,
    "start_time": "2023-09-28T07:26:14.481Z"
   },
   {
    "duration": 54,
    "start_time": "2023-09-28T07:26:17.027Z"
   },
   {
    "duration": 10,
    "start_time": "2023-09-28T07:28:59.145Z"
   },
   {
    "duration": 17,
    "start_time": "2023-09-28T07:29:03.235Z"
   },
   {
    "duration": 47,
    "start_time": "2023-09-28T07:29:26.944Z"
   },
   {
    "duration": 172,
    "start_time": "2023-09-28T07:29:40.435Z"
   },
   {
    "duration": 53,
    "start_time": "2023-09-28T07:29:44.363Z"
   },
   {
    "duration": 16,
    "start_time": "2023-09-28T07:30:35.440Z"
   },
   {
    "duration": 47,
    "start_time": "2023-09-28T07:30:39.877Z"
   },
   {
    "duration": 15,
    "start_time": "2023-09-28T07:30:46.031Z"
   },
   {
    "duration": 349,
    "start_time": "2023-09-28T07:30:49.422Z"
   },
   {
    "duration": 50,
    "start_time": "2023-09-28T07:31:43.972Z"
   },
   {
    "duration": 16,
    "start_time": "2023-09-28T07:32:31.803Z"
   },
   {
    "duration": 51,
    "start_time": "2023-09-28T07:32:37.166Z"
   },
   {
    "duration": 51,
    "start_time": "2023-09-28T07:36:53.643Z"
   },
   {
    "duration": 43,
    "start_time": "2023-09-28T07:38:39.043Z"
   },
   {
    "duration": 48,
    "start_time": "2023-09-28T07:39:19.393Z"
   },
   {
    "duration": 125,
    "start_time": "2023-09-28T07:41:03.839Z"
   },
   {
    "duration": 122,
    "start_time": "2023-09-28T07:41:27.047Z"
   },
   {
    "duration": 10,
    "start_time": "2023-09-28T07:43:03.466Z"
   },
   {
    "duration": 16,
    "start_time": "2023-09-28T07:43:10.575Z"
   },
   {
    "duration": 16,
    "start_time": "2023-09-28T07:43:13.377Z"
   },
   {
    "duration": 11,
    "start_time": "2023-09-28T07:43:29.058Z"
   },
   {
    "duration": 47,
    "start_time": "2023-09-28T07:43:31.888Z"
   },
   {
    "duration": 12,
    "start_time": "2023-09-28T07:44:25.908Z"
   },
   {
    "duration": 49,
    "start_time": "2023-09-28T07:44:33.157Z"
   },
   {
    "duration": 8,
    "start_time": "2023-09-28T07:44:40.659Z"
   },
   {
    "duration": 7,
    "start_time": "2023-09-28T07:44:53.769Z"
   },
   {
    "duration": 11,
    "start_time": "2023-09-28T07:44:57.343Z"
   },
   {
    "duration": 47,
    "start_time": "2023-09-28T07:44:59.426Z"
   },
   {
    "duration": 15,
    "start_time": "2023-09-28T07:45:13.911Z"
   },
   {
    "duration": 48,
    "start_time": "2023-09-28T07:45:22.907Z"
   },
   {
    "duration": 10,
    "start_time": "2023-09-28T07:55:58.867Z"
   },
   {
    "duration": 1724,
    "start_time": "2023-09-28T07:56:47.142Z"
   },
   {
    "duration": 10,
    "start_time": "2023-09-28T07:56:55.112Z"
   },
   {
    "duration": 62,
    "start_time": "2023-09-28T07:57:28.985Z"
   },
   {
    "duration": 14,
    "start_time": "2023-09-28T07:58:07.179Z"
   },
   {
    "duration": 59,
    "start_time": "2023-09-28T07:58:15.333Z"
   },
   {
    "duration": 60,
    "start_time": "2023-09-28T08:02:19.023Z"
   },
   {
    "duration": 23,
    "start_time": "2023-09-28T08:06:02.241Z"
   },
   {
    "duration": 47,
    "start_time": "2023-09-28T08:06:08.948Z"
   },
   {
    "duration": 49,
    "start_time": "2023-09-28T08:07:21.283Z"
   },
   {
    "duration": 11,
    "start_time": "2023-09-28T08:10:10.365Z"
   },
   {
    "duration": 10,
    "start_time": "2023-09-28T08:10:13.718Z"
   },
   {
    "duration": 10,
    "start_time": "2023-09-28T08:11:26.859Z"
   },
   {
    "duration": 10,
    "start_time": "2023-09-28T08:11:54.840Z"
   },
   {
    "duration": 10,
    "start_time": "2023-09-28T08:12:00.264Z"
   },
   {
    "duration": 10,
    "start_time": "2023-09-28T08:12:07.235Z"
   },
   {
    "duration": 1550,
    "start_time": "2023-09-28T08:14:08.875Z"
   },
   {
    "duration": 68,
    "start_time": "2023-09-28T08:14:10.427Z"
   },
   {
    "duration": 84,
    "start_time": "2023-09-28T08:14:10.497Z"
   },
   {
    "duration": 10,
    "start_time": "2023-09-28T08:14:10.583Z"
   },
   {
    "duration": 137,
    "start_time": "2023-09-28T08:14:10.613Z"
   },
   {
    "duration": 159,
    "start_time": "2023-09-28T08:14:10.752Z"
   },
   {
    "duration": 283,
    "start_time": "2023-09-28T08:14:10.912Z"
   },
   {
    "duration": 23,
    "start_time": "2023-09-28T08:14:11.196Z"
   },
   {
    "duration": 33,
    "start_time": "2023-09-28T08:14:11.221Z"
   },
   {
    "duration": 18,
    "start_time": "2023-09-28T08:14:11.255Z"
   },
   {
    "duration": 10,
    "start_time": "2023-09-28T08:14:11.275Z"
   },
   {
    "duration": 31,
    "start_time": "2023-09-28T08:14:11.287Z"
   },
   {
    "duration": 18,
    "start_time": "2023-09-28T08:14:11.320Z"
   },
   {
    "duration": 31,
    "start_time": "2023-09-28T08:14:11.340Z"
   },
   {
    "duration": 11,
    "start_time": "2023-09-28T08:14:11.373Z"
   },
   {
    "duration": 443,
    "start_time": "2023-09-28T08:14:11.386Z"
   },
   {
    "duration": 119,
    "start_time": "2023-09-28T08:14:11.831Z"
   },
   {
    "duration": 62,
    "start_time": "2023-09-28T08:14:11.952Z"
   },
   {
    "duration": 9,
    "start_time": "2023-09-28T08:14:12.016Z"
   },
   {
    "duration": 18,
    "start_time": "2023-09-28T08:14:12.026Z"
   },
   {
    "duration": 93,
    "start_time": "2023-09-28T08:14:12.046Z"
   },
   {
    "duration": 18,
    "start_time": "2023-09-28T08:14:12.141Z"
   },
   {
    "duration": 61,
    "start_time": "2023-09-28T08:14:12.160Z"
   },
   {
    "duration": 90,
    "start_time": "2023-09-28T08:14:12.223Z"
   },
   {
    "duration": 14253,
    "start_time": "2023-09-28T08:14:12.315Z"
   },
   {
    "duration": 69,
    "start_time": "2023-09-28T08:21:34.529Z"
   },
   {
    "duration": 66,
    "start_time": "2023-09-28T08:25:54.456Z"
   },
   {
    "duration": 202,
    "start_time": "2023-09-28T08:34:37.354Z"
   },
   {
    "duration": 176,
    "start_time": "2023-09-28T08:35:35.807Z"
   },
   {
    "duration": 111,
    "start_time": "2023-09-28T08:35:56.571Z"
   },
   {
    "duration": 14,
    "start_time": "2023-09-28T08:36:00.674Z"
   },
   {
    "duration": 11,
    "start_time": "2023-09-28T08:38:15.197Z"
   },
   {
    "duration": 119,
    "start_time": "2023-09-28T08:38:19.074Z"
   },
   {
    "duration": 11,
    "start_time": "2023-09-28T08:39:42.373Z"
   },
   {
    "duration": 125,
    "start_time": "2023-09-28T08:39:45.458Z"
   },
   {
    "duration": 12,
    "start_time": "2023-09-28T08:40:56.030Z"
   },
   {
    "duration": 120,
    "start_time": "2023-09-28T08:41:01.749Z"
   },
   {
    "duration": 9,
    "start_time": "2023-09-28T08:44:45.814Z"
   },
   {
    "duration": 59,
    "start_time": "2023-09-28T08:44:50.155Z"
   },
   {
    "duration": 64,
    "start_time": "2023-09-28T08:45:19.896Z"
   },
   {
    "duration": 8,
    "start_time": "2023-09-28T08:47:27.149Z"
   },
   {
    "duration": 13,
    "start_time": "2023-09-28T08:47:32.111Z"
   },
   {
    "duration": 13,
    "start_time": "2023-09-28T08:47:45.496Z"
   },
   {
    "duration": 14,
    "start_time": "2023-09-28T08:48:03.691Z"
   },
   {
    "duration": 18,
    "start_time": "2023-09-28T08:49:38.635Z"
   },
   {
    "duration": 18,
    "start_time": "2023-09-28T08:50:14.102Z"
   },
   {
    "duration": 14,
    "start_time": "2023-09-28T08:51:12.641Z"
   },
   {
    "duration": 13,
    "start_time": "2023-09-28T08:51:25.492Z"
   },
   {
    "duration": 14,
    "start_time": "2023-09-28T08:51:30.092Z"
   },
   {
    "duration": 13,
    "start_time": "2023-09-28T08:51:45.206Z"
   },
   {
    "duration": 16,
    "start_time": "2023-09-28T08:52:05.980Z"
   },
   {
    "duration": 17,
    "start_time": "2023-09-28T08:52:39.274Z"
   },
   {
    "duration": 17,
    "start_time": "2023-09-28T08:52:47.120Z"
   },
   {
    "duration": 17,
    "start_time": "2023-09-28T08:53:41.608Z"
   },
   {
    "duration": 16,
    "start_time": "2023-09-28T08:53:51.074Z"
   },
   {
    "duration": 13,
    "start_time": "2023-09-28T08:54:28.766Z"
   },
   {
    "duration": 11,
    "start_time": "2023-09-28T08:54:34.197Z"
   },
   {
    "duration": 22,
    "start_time": "2023-09-28T08:54:58.886Z"
   },
   {
    "duration": 12,
    "start_time": "2023-09-28T08:55:16.547Z"
   },
   {
    "duration": 12,
    "start_time": "2023-09-28T08:55:18.504Z"
   },
   {
    "duration": 12,
    "start_time": "2023-09-28T08:55:29.317Z"
   },
   {
    "duration": 11,
    "start_time": "2023-09-28T08:55:35.201Z"
   },
   {
    "duration": 13,
    "start_time": "2023-09-28T08:55:44.550Z"
   },
   {
    "duration": 13,
    "start_time": "2023-09-28T08:56:03.565Z"
   },
   {
    "duration": 1467,
    "start_time": "2023-09-28T08:56:24.746Z"
   },
   {
    "duration": 71,
    "start_time": "2023-09-28T08:56:26.215Z"
   },
   {
    "duration": 89,
    "start_time": "2023-09-28T08:56:26.288Z"
   },
   {
    "duration": 10,
    "start_time": "2023-09-28T08:56:26.378Z"
   },
   {
    "duration": 23,
    "start_time": "2023-09-28T08:56:26.390Z"
   },
   {
    "duration": 11,
    "start_time": "2023-09-28T08:56:26.415Z"
   },
   {
    "duration": 259,
    "start_time": "2023-09-28T08:56:26.428Z"
   },
   {
    "duration": 16,
    "start_time": "2023-09-28T08:56:26.688Z"
   },
   {
    "duration": 16,
    "start_time": "2023-09-28T08:56:26.713Z"
   },
   {
    "duration": 18,
    "start_time": "2023-09-28T08:56:26.731Z"
   },
   {
    "duration": 20,
    "start_time": "2023-09-28T08:56:26.750Z"
   },
   {
    "duration": 33,
    "start_time": "2023-09-28T08:56:26.772Z"
   },
   {
    "duration": 26,
    "start_time": "2023-09-28T08:56:26.807Z"
   },
   {
    "duration": 26,
    "start_time": "2023-09-28T08:56:26.836Z"
   },
   {
    "duration": 12,
    "start_time": "2023-09-28T08:56:26.864Z"
   },
   {
    "duration": 431,
    "start_time": "2023-09-28T08:56:26.878Z"
   },
   {
    "duration": 111,
    "start_time": "2023-09-28T08:56:27.313Z"
   },
   {
    "duration": 11,
    "start_time": "2023-09-28T08:56:27.425Z"
   },
   {
    "duration": 25,
    "start_time": "2023-09-28T08:56:27.438Z"
   },
   {
    "duration": 16,
    "start_time": "2023-09-28T08:56:27.513Z"
   },
   {
    "duration": 69,
    "start_time": "2023-09-28T08:56:27.531Z"
   },
   {
    "duration": 28,
    "start_time": "2023-09-28T08:56:27.601Z"
   },
   {
    "duration": 63,
    "start_time": "2023-09-28T08:56:27.631Z"
   },
   {
    "duration": 80,
    "start_time": "2023-09-28T08:56:27.696Z"
   },
   {
    "duration": 76,
    "start_time": "2023-09-28T08:56:27.778Z"
   },
   {
    "duration": 13,
    "start_time": "2023-09-28T08:56:27.856Z"
   },
   {
    "duration": 148,
    "start_time": "2023-09-28T08:56:27.871Z"
   },
   {
    "duration": 14253,
    "start_time": "2023-09-28T08:56:28.021Z"
   },
   {
    "duration": 40,
    "start_time": "2023-09-28T08:56:42.276Z"
   },
   {
    "duration": 14,
    "start_time": "2023-09-28T08:56:53.714Z"
   },
   {
    "duration": 172,
    "start_time": "2023-09-28T08:57:03.473Z"
   },
   {
    "duration": 13,
    "start_time": "2023-09-28T08:57:10.575Z"
   },
   {
    "duration": 17,
    "start_time": "2023-09-28T08:57:29.622Z"
   },
   {
    "duration": 14,
    "start_time": "2023-09-28T08:57:35.031Z"
   },
   {
    "duration": 13,
    "start_time": "2023-09-28T08:57:39.315Z"
   },
   {
    "duration": 112,
    "start_time": "2023-09-28T09:01:36.779Z"
   },
   {
    "duration": 120,
    "start_time": "2023-09-28T09:02:43.398Z"
   },
   {
    "duration": 33,
    "start_time": "2023-09-28T09:02:47.548Z"
   },
   {
    "duration": 95,
    "start_time": "2023-09-28T09:03:02.688Z"
   },
   {
    "duration": 97,
    "start_time": "2023-09-28T09:03:53.922Z"
   },
   {
    "duration": 37,
    "start_time": "2023-09-28T09:05:05.298Z"
   },
   {
    "duration": 95,
    "start_time": "2023-09-28T09:05:23.843Z"
   },
   {
    "duration": 96,
    "start_time": "2023-09-28T09:06:40.379Z"
   },
   {
    "duration": 87,
    "start_time": "2023-09-28T09:07:54.251Z"
   },
   {
    "duration": 68,
    "start_time": "2023-09-28T09:08:58.472Z"
   },
   {
    "duration": 70,
    "start_time": "2023-09-28T09:09:17.486Z"
   },
   {
    "duration": 16,
    "start_time": "2023-09-28T09:10:22.750Z"
   },
   {
    "duration": 93,
    "start_time": "2023-09-28T09:10:49.533Z"
   },
   {
    "duration": 75,
    "start_time": "2023-09-28T09:11:41.567Z"
   },
   {
    "duration": 76,
    "start_time": "2023-09-28T09:11:47.875Z"
   },
   {
    "duration": 78,
    "start_time": "2023-09-28T09:11:53.665Z"
   },
   {
    "duration": 79,
    "start_time": "2023-09-28T09:11:59.049Z"
   },
   {
    "duration": 74,
    "start_time": "2023-09-28T09:12:20.811Z"
   },
   {
    "duration": 1558,
    "start_time": "2023-09-28T09:40:52.908Z"
   },
   {
    "duration": 69,
    "start_time": "2023-09-28T09:40:54.468Z"
   },
   {
    "duration": 101,
    "start_time": "2023-09-28T09:40:54.539Z"
   },
   {
    "duration": 67,
    "start_time": "2023-09-28T09:40:54.642Z"
   },
   {
    "duration": 45,
    "start_time": "2023-09-28T09:40:54.712Z"
   },
   {
    "duration": 98,
    "start_time": "2023-09-28T09:40:54.758Z"
   },
   {
    "duration": 317,
    "start_time": "2023-09-28T09:40:54.858Z"
   },
   {
    "duration": 16,
    "start_time": "2023-09-28T09:40:55.177Z"
   },
   {
    "duration": 25,
    "start_time": "2023-09-28T09:40:55.194Z"
   },
   {
    "duration": 20,
    "start_time": "2023-09-28T09:40:55.220Z"
   },
   {
    "duration": 11,
    "start_time": "2023-09-28T09:40:55.241Z"
   },
   {
    "duration": 36,
    "start_time": "2023-09-28T09:40:55.253Z"
   },
   {
    "duration": 39,
    "start_time": "2023-09-28T09:40:55.291Z"
   },
   {
    "duration": 25,
    "start_time": "2023-09-28T09:40:55.333Z"
   },
   {
    "duration": 40,
    "start_time": "2023-09-28T09:40:55.360Z"
   },
   {
    "duration": 469,
    "start_time": "2023-09-28T09:40:55.402Z"
   },
   {
    "duration": 88,
    "start_time": "2023-09-28T09:40:55.872Z"
   },
   {
    "duration": 11,
    "start_time": "2023-09-28T09:40:56.014Z"
   },
   {
    "duration": 28,
    "start_time": "2023-09-28T09:40:56.027Z"
   },
   {
    "duration": 30,
    "start_time": "2023-09-28T09:40:56.057Z"
   },
   {
    "duration": 74,
    "start_time": "2023-09-28T09:40:56.089Z"
   },
   {
    "duration": 16,
    "start_time": "2023-09-28T09:40:56.165Z"
   },
   {
    "duration": 67,
    "start_time": "2023-09-28T09:40:56.183Z"
   },
   {
    "duration": 82,
    "start_time": "2023-09-28T09:40:56.251Z"
   },
   {
    "duration": 61,
    "start_time": "2023-09-28T09:40:56.335Z"
   },
   {
    "duration": 26,
    "start_time": "2023-09-28T09:40:56.398Z"
   },
   {
    "duration": 140,
    "start_time": "2023-09-28T09:40:56.425Z"
   },
   {
    "duration": 14078,
    "start_time": "2023-09-28T09:40:56.567Z"
   },
   {
    "duration": 17,
    "start_time": "2023-09-28T09:41:10.647Z"
   },
   {
    "duration": 489,
    "start_time": "2023-09-28T09:41:10.665Z"
   },
   {
    "duration": 14,
    "start_time": "2023-09-28T09:42:07.655Z"
   },
   {
    "duration": 89,
    "start_time": "2023-09-28T09:42:15.431Z"
   },
   {
    "duration": 22,
    "start_time": "2023-09-28T09:42:48.262Z"
   },
   {
    "duration": 14,
    "start_time": "2023-09-28T09:43:00.111Z"
   },
   {
    "duration": 85,
    "start_time": "2023-09-28T09:43:13.008Z"
   },
   {
    "duration": 20,
    "start_time": "2023-09-28T09:43:26.411Z"
   },
   {
    "duration": 36,
    "start_time": "2023-09-28T09:43:29.026Z"
   },
   {
    "duration": 16,
    "start_time": "2023-09-28T09:46:18.832Z"
   },
   {
    "duration": 5,
    "start_time": "2023-09-28T09:46:42.085Z"
   },
   {
    "duration": 523,
    "start_time": "2023-09-28T09:47:23.890Z"
   },
   {
    "duration": 734,
    "start_time": "2023-09-28T09:49:48.074Z"
   },
   {
    "duration": 5,
    "start_time": "2023-09-28T09:56:32.687Z"
   },
   {
    "duration": 19,
    "start_time": "2023-09-28T09:56:36.111Z"
   },
   {
    "duration": 162,
    "start_time": "2023-09-28T09:56:39.529Z"
   },
   {
    "duration": 33,
    "start_time": "2023-09-28T09:58:29.886Z"
   },
   {
    "duration": 34,
    "start_time": "2023-09-28T09:59:03.698Z"
   },
   {
    "duration": 28,
    "start_time": "2023-09-28T09:59:39.724Z"
   },
   {
    "duration": 24,
    "start_time": "2023-09-28T10:00:18.040Z"
   },
   {
    "duration": 24,
    "start_time": "2023-09-28T10:00:29.799Z"
   },
   {
    "duration": 484,
    "start_time": "2023-09-28T10:00:57.471Z"
   },
   {
    "duration": 152,
    "start_time": "2023-09-28T10:01:09.243Z"
   },
   {
    "duration": 5,
    "start_time": "2023-09-28T10:01:26.021Z"
   },
   {
    "duration": 149,
    "start_time": "2023-09-28T10:01:27.192Z"
   },
   {
    "duration": 27,
    "start_time": "2023-09-28T10:01:46.001Z"
   },
   {
    "duration": 335,
    "start_time": "2023-09-28T10:02:05.975Z"
   },
   {
    "duration": 406,
    "start_time": "2023-09-28T10:02:24.004Z"
   },
   {
    "duration": 26,
    "start_time": "2023-09-28T10:02:35.315Z"
   },
   {
    "duration": 330,
    "start_time": "2023-09-28T10:03:10.023Z"
   },
   {
    "duration": 343,
    "start_time": "2023-09-28T10:03:16.389Z"
   },
   {
    "duration": 26,
    "start_time": "2023-09-28T10:03:19.956Z"
   },
   {
    "duration": 26,
    "start_time": "2023-09-28T10:03:26.033Z"
   },
   {
    "duration": 27,
    "start_time": "2023-09-28T10:03:43.334Z"
   },
   {
    "duration": 29,
    "start_time": "2023-09-28T10:04:34.366Z"
   },
   {
    "duration": 26,
    "start_time": "2023-09-28T10:05:04.508Z"
   },
   {
    "duration": 26,
    "start_time": "2023-09-28T10:05:15.572Z"
   },
   {
    "duration": 27,
    "start_time": "2023-09-28T10:05:41.801Z"
   },
   {
    "duration": 25,
    "start_time": "2023-09-28T10:06:19.671Z"
   },
   {
    "duration": 11,
    "start_time": "2023-09-28T10:09:11.638Z"
   },
   {
    "duration": 121,
    "start_time": "2023-09-28T10:14:17.953Z"
   },
   {
    "duration": 126,
    "start_time": "2023-09-28T10:14:28.940Z"
   },
   {
    "duration": 12,
    "start_time": "2023-09-28T10:17:41.568Z"
   },
   {
    "duration": 121,
    "start_time": "2023-09-28T10:17:47.127Z"
   },
   {
    "duration": 120,
    "start_time": "2023-09-28T10:18:07.404Z"
   },
   {
    "duration": 12,
    "start_time": "2023-09-28T10:19:03.880Z"
   },
   {
    "duration": 11,
    "start_time": "2023-09-28T10:19:11.541Z"
   },
   {
    "duration": 116,
    "start_time": "2023-09-28T10:19:20.131Z"
   },
   {
    "duration": 1546,
    "start_time": "2023-09-28T10:41:06.202Z"
   },
   {
    "duration": 69,
    "start_time": "2023-09-28T10:41:07.751Z"
   },
   {
    "duration": 95,
    "start_time": "2023-09-28T10:41:07.822Z"
   },
   {
    "duration": 10,
    "start_time": "2023-09-28T10:41:07.918Z"
   },
   {
    "duration": 23,
    "start_time": "2023-09-28T10:41:07.930Z"
   },
   {
    "duration": 23,
    "start_time": "2023-09-28T10:41:07.955Z"
   },
   {
    "duration": 270,
    "start_time": "2023-09-28T10:41:07.980Z"
   },
   {
    "duration": 16,
    "start_time": "2023-09-28T10:41:08.252Z"
   },
   {
    "duration": 37,
    "start_time": "2023-09-28T10:41:08.270Z"
   },
   {
    "duration": 40,
    "start_time": "2023-09-28T10:41:08.309Z"
   },
   {
    "duration": 22,
    "start_time": "2023-09-28T10:41:08.351Z"
   },
   {
    "duration": 42,
    "start_time": "2023-09-28T10:41:08.375Z"
   },
   {
    "duration": 147,
    "start_time": "2023-09-28T10:41:08.420Z"
   },
   {
    "duration": 165,
    "start_time": "2023-09-28T10:41:08.570Z"
   },
   {
    "duration": 28,
    "start_time": "2023-09-28T10:41:08.736Z"
   },
   {
    "duration": 429,
    "start_time": "2023-09-28T10:41:08.766Z"
   },
   {
    "duration": 120,
    "start_time": "2023-09-28T10:41:09.197Z"
   },
   {
    "duration": 11,
    "start_time": "2023-09-28T10:41:09.319Z"
   },
   {
    "duration": 71,
    "start_time": "2023-09-28T10:41:09.331Z"
   },
   {
    "duration": 59,
    "start_time": "2023-09-28T10:41:09.404Z"
   },
   {
    "duration": 92,
    "start_time": "2023-09-28T10:41:09.465Z"
   },
   {
    "duration": 16,
    "start_time": "2023-09-28T10:41:09.559Z"
   },
   {
    "duration": 73,
    "start_time": "2023-09-28T10:41:09.576Z"
   },
   {
    "duration": 96,
    "start_time": "2023-09-28T10:41:09.651Z"
   },
   {
    "duration": 70,
    "start_time": "2023-09-28T10:41:09.748Z"
   },
   {
    "duration": 12,
    "start_time": "2023-09-28T10:41:09.820Z"
   },
   {
    "duration": 134,
    "start_time": "2023-09-28T10:41:09.833Z"
   },
   {
    "duration": 13730,
    "start_time": "2023-09-28T10:41:09.969Z"
   },
   {
    "duration": 16,
    "start_time": "2023-09-28T10:41:23.713Z"
   },
   {
    "duration": 505,
    "start_time": "2023-09-28T10:41:23.730Z"
   },
   {
    "duration": 5,
    "start_time": "2023-09-28T10:41:24.236Z"
   },
   {
    "duration": 32,
    "start_time": "2023-09-28T10:41:24.242Z"
   },
   {
    "duration": 10,
    "start_time": "2023-09-28T10:41:24.276Z"
   },
   {
    "duration": 759,
    "start_time": "2023-09-28T10:41:24.287Z"
   },
   {
    "duration": 12,
    "start_time": "2023-09-28T10:41:25.047Z"
   },
   {
    "duration": 148,
    "start_time": "2023-09-28T10:41:25.061Z"
   },
   {
    "duration": 1920,
    "start_time": "2023-09-28T13:10:01.531Z"
   },
   {
    "duration": 254,
    "start_time": "2023-09-28T13:10:03.455Z"
   },
   {
    "duration": 91,
    "start_time": "2023-09-28T13:10:03.711Z"
   },
   {
    "duration": 9,
    "start_time": "2023-09-28T13:10:03.804Z"
   },
   {
    "duration": 24,
    "start_time": "2023-09-28T13:10:03.816Z"
   },
   {
    "duration": 26,
    "start_time": "2023-09-28T13:10:03.842Z"
   },
   {
    "duration": 279,
    "start_time": "2023-09-28T13:10:03.870Z"
   },
   {
    "duration": 17,
    "start_time": "2023-09-28T13:10:04.152Z"
   },
   {
    "duration": 55,
    "start_time": "2023-09-28T13:10:04.171Z"
   },
   {
    "duration": 30,
    "start_time": "2023-09-28T13:10:04.228Z"
   },
   {
    "duration": 8,
    "start_time": "2023-09-28T13:10:04.260Z"
   },
   {
    "duration": 29,
    "start_time": "2023-09-28T13:10:04.270Z"
   },
   {
    "duration": 64,
    "start_time": "2023-09-28T13:10:04.301Z"
   },
   {
    "duration": 48,
    "start_time": "2023-09-28T13:10:04.368Z"
   },
   {
    "duration": 66,
    "start_time": "2023-09-28T13:10:04.419Z"
   },
   {
    "duration": 534,
    "start_time": "2023-09-28T13:10:04.486Z"
   },
   {
    "duration": 157,
    "start_time": "2023-09-28T13:10:05.022Z"
   },
   {
    "duration": 12,
    "start_time": "2023-09-28T13:10:05.181Z"
   },
   {
    "duration": 78,
    "start_time": "2023-09-28T13:10:05.196Z"
   },
   {
    "duration": 16,
    "start_time": "2023-09-28T13:10:05.276Z"
   },
   {
    "duration": 103,
    "start_time": "2023-09-28T13:10:05.294Z"
   },
   {
    "duration": 23,
    "start_time": "2023-09-28T13:10:05.398Z"
   },
   {
    "duration": 53,
    "start_time": "2023-09-28T13:10:05.422Z"
   },
   {
    "duration": 92,
    "start_time": "2023-09-28T13:10:05.477Z"
   },
   {
    "duration": 66,
    "start_time": "2023-09-28T13:10:05.571Z"
   },
   {
    "duration": 29,
    "start_time": "2023-09-28T13:10:05.638Z"
   },
   {
    "duration": 220,
    "start_time": "2023-09-28T13:10:05.668Z"
   },
   {
    "duration": 15197,
    "start_time": "2023-09-28T13:10:05.890Z"
   },
   {
    "duration": 18,
    "start_time": "2023-09-28T13:10:21.089Z"
   },
   {
    "duration": 517,
    "start_time": "2023-09-28T13:10:21.109Z"
   },
   {
    "duration": 30,
    "start_time": "2023-09-28T13:10:21.628Z"
   },
   {
    "duration": 30,
    "start_time": "2023-09-28T13:10:21.661Z"
   },
   {
    "duration": 12,
    "start_time": "2023-09-28T13:10:21.693Z"
   },
   {
    "duration": 832,
    "start_time": "2023-09-28T13:10:21.707Z"
   },
   {
    "duration": 17,
    "start_time": "2023-09-28T13:10:22.541Z"
   },
   {
    "duration": 126,
    "start_time": "2023-09-28T13:10:22.560Z"
   },
   {
    "duration": 24,
    "start_time": "2023-09-28T14:50:21.269Z"
   },
   {
    "duration": 1716,
    "start_time": "2023-09-28T15:03:57.903Z"
   },
   {
    "duration": 243,
    "start_time": "2023-09-28T15:03:59.621Z"
   },
   {
    "duration": 105,
    "start_time": "2023-09-28T15:03:59.866Z"
   },
   {
    "duration": 10,
    "start_time": "2023-09-28T15:03:59.973Z"
   },
   {
    "duration": 73,
    "start_time": "2023-09-28T15:03:59.985Z"
   },
   {
    "duration": 191,
    "start_time": "2023-09-28T15:04:00.060Z"
   },
   {
    "duration": 352,
    "start_time": "2023-09-28T15:04:00.253Z"
   },
   {
    "duration": 18,
    "start_time": "2023-09-28T15:04:00.607Z"
   },
   {
    "duration": 55,
    "start_time": "2023-09-28T15:04:00.627Z"
   },
   {
    "duration": 217,
    "start_time": "2023-09-28T15:04:00.683Z"
   },
   {
    "duration": 57,
    "start_time": "2023-09-28T15:04:00.902Z"
   },
   {
    "duration": 104,
    "start_time": "2023-09-28T15:04:00.961Z"
   },
   {
    "duration": 116,
    "start_time": "2023-09-28T15:04:01.066Z"
   },
   {
    "duration": 86,
    "start_time": "2023-09-28T15:04:01.185Z"
   },
   {
    "duration": 75,
    "start_time": "2023-09-28T15:04:01.273Z"
   },
   {
    "duration": 575,
    "start_time": "2023-09-28T15:04:01.350Z"
   },
   {
    "duration": 141,
    "start_time": "2023-09-28T15:04:01.926Z"
   },
   {
    "duration": 12,
    "start_time": "2023-09-28T15:04:02.069Z"
   },
   {
    "duration": 74,
    "start_time": "2023-09-28T15:04:02.083Z"
   },
   {
    "duration": 28,
    "start_time": "2023-09-28T15:04:02.159Z"
   },
   {
    "duration": 80,
    "start_time": "2023-09-28T15:04:02.189Z"
   },
   {
    "duration": 20,
    "start_time": "2023-09-28T15:04:02.271Z"
   },
   {
    "duration": 81,
    "start_time": "2023-09-28T15:04:02.293Z"
   },
   {
    "duration": 85,
    "start_time": "2023-09-28T15:04:02.376Z"
   },
   {
    "duration": 19,
    "start_time": "2023-09-28T15:04:02.463Z"
   },
   {
    "duration": 167,
    "start_time": "2023-09-28T15:04:02.484Z"
   },
   {
    "duration": 15449,
    "start_time": "2023-09-28T15:04:02.657Z"
   },
   {
    "duration": 52,
    "start_time": "2023-09-28T15:04:18.109Z"
   },
   {
    "duration": 467,
    "start_time": "2023-09-28T15:04:18.163Z"
   },
   {
    "duration": 6,
    "start_time": "2023-09-28T15:04:18.631Z"
   },
   {
    "duration": 72,
    "start_time": "2023-09-28T15:04:18.639Z"
   },
   {
    "duration": 27,
    "start_time": "2023-09-28T15:04:18.713Z"
   },
   {
    "duration": 891,
    "start_time": "2023-09-28T15:04:18.742Z"
   },
   {
    "duration": 26,
    "start_time": "2023-09-28T15:04:19.635Z"
   },
   {
    "duration": 134,
    "start_time": "2023-09-28T15:04:19.662Z"
   },
   {
    "duration": 98,
    "start_time": "2023-09-28T15:07:47.670Z"
   },
   {
    "duration": 1858,
    "start_time": "2023-09-29T05:44:47.852Z"
   },
   {
    "duration": 132,
    "start_time": "2023-09-29T05:44:49.712Z"
   },
   {
    "duration": 96,
    "start_time": "2023-09-29T05:44:49.847Z"
   },
   {
    "duration": 10,
    "start_time": "2023-09-29T05:44:49.944Z"
   },
   {
    "duration": 18,
    "start_time": "2023-09-29T05:44:49.957Z"
   },
   {
    "duration": 12,
    "start_time": "2023-09-29T05:44:49.976Z"
   },
   {
    "duration": 293,
    "start_time": "2023-09-29T05:44:49.990Z"
   },
   {
    "duration": 16,
    "start_time": "2023-09-29T05:44:50.285Z"
   },
   {
    "duration": 17,
    "start_time": "2023-09-29T05:44:50.303Z"
   },
   {
    "duration": 20,
    "start_time": "2023-09-29T05:44:50.322Z"
   },
   {
    "duration": 6,
    "start_time": "2023-09-29T05:44:50.344Z"
   },
   {
    "duration": 32,
    "start_time": "2023-09-29T05:44:50.351Z"
   },
   {
    "duration": 22,
    "start_time": "2023-09-29T05:44:50.409Z"
   },
   {
    "duration": 38,
    "start_time": "2023-09-29T05:44:50.434Z"
   },
   {
    "duration": 15,
    "start_time": "2023-09-29T05:44:50.474Z"
   },
   {
    "duration": 484,
    "start_time": "2023-09-29T05:44:50.511Z"
   },
   {
    "duration": 121,
    "start_time": "2023-09-29T05:44:50.997Z"
   },
   {
    "duration": 15,
    "start_time": "2023-09-29T05:44:51.120Z"
   },
   {
    "duration": 78,
    "start_time": "2023-09-29T05:44:51.137Z"
   },
   {
    "duration": 54,
    "start_time": "2023-09-29T05:44:51.217Z"
   },
   {
    "duration": 150,
    "start_time": "2023-09-29T05:44:51.273Z"
   },
   {
    "duration": 22,
    "start_time": "2023-09-29T05:44:51.425Z"
   },
   {
    "duration": 76,
    "start_time": "2023-09-29T05:44:51.449Z"
   },
   {
    "duration": 87,
    "start_time": "2023-09-29T05:44:51.527Z"
   },
   {
    "duration": 19,
    "start_time": "2023-09-29T05:44:51.616Z"
   },
   {
    "duration": 215,
    "start_time": "2023-09-29T05:44:51.638Z"
   },
   {
    "duration": 15235,
    "start_time": "2023-09-29T05:44:51.855Z"
   },
   {
    "duration": 28,
    "start_time": "2023-09-29T05:45:07.092Z"
   },
   {
    "duration": 539,
    "start_time": "2023-09-29T05:45:07.122Z"
   },
   {
    "duration": 6,
    "start_time": "2023-09-29T05:45:07.663Z"
   },
   {
    "duration": 82,
    "start_time": "2023-09-29T05:45:07.671Z"
   },
   {
    "duration": 17,
    "start_time": "2023-09-29T05:45:07.756Z"
   },
   {
    "duration": 909,
    "start_time": "2023-09-29T05:45:07.775Z"
   },
   {
    "duration": 29,
    "start_time": "2023-09-29T05:45:08.686Z"
   },
   {
    "duration": 134,
    "start_time": "2023-09-29T05:45:08.716Z"
   },
   {
    "duration": 22,
    "start_time": "2023-09-29T06:07:46.415Z"
   },
   {
    "duration": 129,
    "start_time": "2023-09-29T06:08:12.205Z"
   },
   {
    "duration": 2785,
    "start_time": "2023-09-29T06:13:05.187Z"
   },
   {
    "duration": 1643,
    "start_time": "2023-09-29T06:14:10.567Z"
   },
   {
    "duration": 123,
    "start_time": "2023-09-29T06:14:12.212Z"
   },
   {
    "duration": 146,
    "start_time": "2023-09-29T06:14:12.337Z"
   },
   {
    "duration": 25,
    "start_time": "2023-09-29T06:14:12.485Z"
   },
   {
    "duration": 16,
    "start_time": "2023-09-29T06:14:12.513Z"
   },
   {
    "duration": 18,
    "start_time": "2023-09-29T06:14:12.532Z"
   },
   {
    "duration": 343,
    "start_time": "2023-09-29T06:14:12.552Z"
   },
   {
    "duration": 16,
    "start_time": "2023-09-29T06:14:12.898Z"
   },
   {
    "duration": 112,
    "start_time": "2023-09-29T06:14:12.916Z"
   },
   {
    "duration": 20,
    "start_time": "2023-09-29T06:14:13.030Z"
   },
   {
    "duration": 5,
    "start_time": "2023-09-29T06:14:13.052Z"
   },
   {
    "duration": 30,
    "start_time": "2023-09-29T06:14:13.059Z"
   },
   {
    "duration": 19,
    "start_time": "2023-09-29T06:14:13.110Z"
   },
   {
    "duration": 30,
    "start_time": "2023-09-29T06:14:13.132Z"
   },
   {
    "duration": 12,
    "start_time": "2023-09-29T06:14:13.164Z"
   },
   {
    "duration": 481,
    "start_time": "2023-09-29T06:14:13.178Z"
   },
   {
    "duration": 98,
    "start_time": "2023-09-29T06:14:13.660Z"
   },
   {
    "duration": 13,
    "start_time": "2023-09-29T06:14:13.810Z"
   },
   {
    "duration": 18,
    "start_time": "2023-09-29T06:14:13.825Z"
   },
   {
    "duration": 74,
    "start_time": "2023-09-29T06:14:13.845Z"
   },
   {
    "duration": 96,
    "start_time": "2023-09-29T06:14:13.920Z"
   },
   {
    "duration": 20,
    "start_time": "2023-09-29T06:14:14.018Z"
   },
   {
    "duration": 73,
    "start_time": "2023-09-29T06:14:14.040Z"
   },
   {
    "duration": 334,
    "start_time": "2023-09-29T06:15:25.677Z"
   },
   {
    "duration": 2443,
    "start_time": "2023-09-29T06:15:41.801Z"
   },
   {
    "duration": 186,
    "start_time": "2023-09-29T06:15:44.246Z"
   },
   {
    "duration": 200,
    "start_time": "2023-09-29T06:15:44.434Z"
   },
   {
    "duration": 11,
    "start_time": "2023-09-29T06:15:44.636Z"
   },
   {
    "duration": 63,
    "start_time": "2023-09-29T06:15:44.649Z"
   },
   {
    "duration": 8,
    "start_time": "2023-09-29T06:15:44.714Z"
   },
   {
    "duration": 395,
    "start_time": "2023-09-29T06:15:44.724Z"
   },
   {
    "duration": 17,
    "start_time": "2023-09-29T06:15:45.121Z"
   },
   {
    "duration": 25,
    "start_time": "2023-09-29T06:15:45.140Z"
   },
   {
    "duration": 23,
    "start_time": "2023-09-29T06:15:45.167Z"
   },
   {
    "duration": 6,
    "start_time": "2023-09-29T06:15:45.210Z"
   },
   {
    "duration": 139,
    "start_time": "2023-09-29T06:15:45.218Z"
   },
   {
    "duration": 93,
    "start_time": "2023-09-29T06:15:45.359Z"
   },
   {
    "duration": 37,
    "start_time": "2023-09-29T06:15:45.455Z"
   },
   {
    "duration": 14,
    "start_time": "2023-09-29T06:15:45.494Z"
   },
   {
    "duration": 472,
    "start_time": "2023-09-29T06:15:45.510Z"
   },
   {
    "duration": 174,
    "start_time": "2023-09-29T06:15:45.985Z"
   },
   {
    "duration": 55,
    "start_time": "2023-09-29T06:15:46.161Z"
   },
   {
    "duration": 17,
    "start_time": "2023-09-29T06:15:46.218Z"
   },
   {
    "duration": 19,
    "start_time": "2023-09-29T06:15:46.237Z"
   },
   {
    "duration": 89,
    "start_time": "2023-09-29T06:15:46.257Z"
   },
   {
    "duration": 21,
    "start_time": "2023-09-29T06:15:46.349Z"
   },
   {
    "duration": 77,
    "start_time": "2023-09-29T06:15:46.372Z"
   },
   {
    "duration": 1677,
    "start_time": "2023-09-29T06:16:28.416Z"
   },
   {
    "duration": 122,
    "start_time": "2023-09-29T06:16:30.096Z"
   },
   {
    "duration": 109,
    "start_time": "2023-09-29T06:16:30.221Z"
   },
   {
    "duration": 11,
    "start_time": "2023-09-29T06:16:30.332Z"
   },
   {
    "duration": 26,
    "start_time": "2023-09-29T06:16:30.345Z"
   },
   {
    "duration": 26,
    "start_time": "2023-09-29T06:16:30.373Z"
   },
   {
    "duration": 306,
    "start_time": "2023-09-29T06:16:30.401Z"
   },
   {
    "duration": 17,
    "start_time": "2023-09-29T06:16:30.709Z"
   },
   {
    "duration": 32,
    "start_time": "2023-09-29T06:16:30.727Z"
   },
   {
    "duration": 67,
    "start_time": "2023-09-29T06:16:30.761Z"
   },
   {
    "duration": 33,
    "start_time": "2023-09-29T06:16:30.830Z"
   },
   {
    "duration": 57,
    "start_time": "2023-09-29T06:16:30.865Z"
   },
   {
    "duration": 48,
    "start_time": "2023-09-29T06:16:30.925Z"
   },
   {
    "duration": 62,
    "start_time": "2023-09-29T06:16:30.978Z"
   },
   {
    "duration": 48,
    "start_time": "2023-09-29T06:16:31.042Z"
   },
   {
    "duration": 502,
    "start_time": "2023-09-29T06:16:31.092Z"
   },
   {
    "duration": 125,
    "start_time": "2023-09-29T06:16:31.596Z"
   },
   {
    "duration": 15,
    "start_time": "2023-09-29T06:16:31.723Z"
   },
   {
    "duration": 277,
    "start_time": "2023-09-29T06:16:31.740Z"
   },
   {
    "duration": 125,
    "start_time": "2023-09-29T06:16:32.018Z"
   },
   {
    "duration": 76,
    "start_time": "2023-09-29T06:16:32.145Z"
   },
   {
    "duration": 29,
    "start_time": "2023-09-29T06:16:32.222Z"
   },
   {
    "duration": 82,
    "start_time": "2023-09-29T06:16:32.253Z"
   },
   {
    "duration": 194,
    "start_time": "2023-09-29T06:16:32.336Z"
   },
   {
    "duration": 17,
    "start_time": "2023-09-29T06:16:32.532Z"
   },
   {
    "duration": 389,
    "start_time": "2023-09-29T06:16:32.551Z"
   },
   {
    "duration": 15293,
    "start_time": "2023-09-29T06:16:32.942Z"
   },
   {
    "duration": 19,
    "start_time": "2023-09-29T06:16:48.238Z"
   },
   {
    "duration": 608,
    "start_time": "2023-09-29T06:16:48.309Z"
   },
   {
    "duration": 5,
    "start_time": "2023-09-29T06:16:48.919Z"
   },
   {
    "duration": 86,
    "start_time": "2023-09-29T06:16:48.926Z"
   },
   {
    "duration": 13,
    "start_time": "2023-09-29T06:16:49.014Z"
   },
   {
    "duration": 862,
    "start_time": "2023-09-29T06:16:49.029Z"
   },
   {
    "duration": 17,
    "start_time": "2023-09-29T06:16:49.893Z"
   },
   {
    "duration": 135,
    "start_time": "2023-09-29T06:16:49.912Z"
   },
   {
    "duration": 442,
    "start_time": "2023-09-29T06:19:40.094Z"
   },
   {
    "duration": 15,
    "start_time": "2023-09-29T06:20:30.014Z"
   },
   {
    "duration": 23,
    "start_time": "2023-09-29T06:20:42.553Z"
   },
   {
    "duration": 19,
    "start_time": "2023-09-29T06:21:02.593Z"
   },
   {
    "duration": 17,
    "start_time": "2023-09-29T06:21:15.074Z"
   },
   {
    "duration": 16,
    "start_time": "2023-09-29T06:21:34.324Z"
   },
   {
    "duration": 17,
    "start_time": "2023-09-29T06:22:33.809Z"
   },
   {
    "duration": 10,
    "start_time": "2023-09-29T06:23:12.199Z"
   },
   {
    "duration": 15,
    "start_time": "2023-09-29T06:23:19.723Z"
   },
   {
    "duration": 187,
    "start_time": "2023-09-29T06:32:40.765Z"
   },
   {
    "duration": 13,
    "start_time": "2023-09-29T06:32:46.909Z"
   },
   {
    "duration": 12,
    "start_time": "2023-09-29T06:33:05.832Z"
   },
   {
    "duration": 12,
    "start_time": "2023-09-29T06:33:20.501Z"
   },
   {
    "duration": 9,
    "start_time": "2023-09-29T06:33:46.545Z"
   },
   {
    "duration": 16,
    "start_time": "2023-09-29T06:33:50.174Z"
   },
   {
    "duration": 15,
    "start_time": "2023-09-29T06:40:00.106Z"
   },
   {
    "duration": 15,
    "start_time": "2023-09-29T06:40:54.977Z"
   },
   {
    "duration": 13,
    "start_time": "2023-09-29T06:41:21.350Z"
   },
   {
    "duration": 18,
    "start_time": "2023-09-29T06:42:37.463Z"
   },
   {
    "duration": 15,
    "start_time": "2023-09-29T06:43:21.379Z"
   },
   {
    "duration": 18,
    "start_time": "2023-09-29T06:43:52.454Z"
   },
   {
    "duration": 21,
    "start_time": "2023-09-29T06:44:18.756Z"
   },
   {
    "duration": 117,
    "start_time": "2023-09-29T06:47:42.583Z"
   },
   {
    "duration": 27,
    "start_time": "2023-09-29T06:47:53.141Z"
   },
   {
    "duration": 13,
    "start_time": "2023-09-29T06:48:15.728Z"
   },
   {
    "duration": 37,
    "start_time": "2023-09-29T06:48:50.597Z"
   },
   {
    "duration": 32,
    "start_time": "2023-09-29T06:55:21.527Z"
   },
   {
    "duration": 15,
    "start_time": "2023-09-29T06:55:59.042Z"
   },
   {
    "duration": 7,
    "start_time": "2023-09-29T06:56:08.916Z"
   },
   {
    "duration": 15,
    "start_time": "2023-09-29T06:56:10.176Z"
   },
   {
    "duration": 1697,
    "start_time": "2023-09-29T06:56:23.522Z"
   },
   {
    "duration": 79,
    "start_time": "2023-09-29T06:56:25.222Z"
   },
   {
    "duration": 118,
    "start_time": "2023-09-29T06:56:25.304Z"
   },
   {
    "duration": 13,
    "start_time": "2023-09-29T06:56:25.424Z"
   },
   {
    "duration": 4,
    "start_time": "2023-09-29T06:56:25.440Z"
   },
   {
    "duration": 6,
    "start_time": "2023-09-29T06:56:25.446Z"
   },
   {
    "duration": 305,
    "start_time": "2023-09-29T06:56:25.454Z"
   },
   {
    "duration": 17,
    "start_time": "2023-09-29T06:56:25.761Z"
   },
   {
    "duration": 18,
    "start_time": "2023-09-29T06:56:25.780Z"
   },
   {
    "duration": 21,
    "start_time": "2023-09-29T06:56:25.809Z"
   },
   {
    "duration": 6,
    "start_time": "2023-09-29T06:56:25.831Z"
   },
   {
    "duration": 30,
    "start_time": "2023-09-29T06:56:25.838Z"
   },
   {
    "duration": 19,
    "start_time": "2023-09-29T06:56:25.870Z"
   },
   {
    "duration": 29,
    "start_time": "2023-09-29T06:56:25.912Z"
   },
   {
    "duration": 13,
    "start_time": "2023-09-29T06:56:25.943Z"
   },
   {
    "duration": 490,
    "start_time": "2023-09-29T06:56:25.958Z"
   },
   {
    "duration": 104,
    "start_time": "2023-09-29T06:56:26.450Z"
   },
   {
    "duration": 63,
    "start_time": "2023-09-29T06:56:26.556Z"
   },
   {
    "duration": 11,
    "start_time": "2023-09-29T06:56:26.621Z"
   },
   {
    "duration": 17,
    "start_time": "2023-09-29T06:56:26.634Z"
   },
   {
    "duration": 55,
    "start_time": "2023-09-29T06:56:26.710Z"
   },
   {
    "duration": 43,
    "start_time": "2023-09-29T06:56:26.767Z"
   },
   {
    "duration": 48,
    "start_time": "2023-09-29T06:56:26.811Z"
   },
   {
    "duration": 161,
    "start_time": "2023-09-29T06:56:26.861Z"
   },
   {
    "duration": 14,
    "start_time": "2023-09-29T06:56:27.024Z"
   },
   {
    "duration": 143,
    "start_time": "2023-09-29T06:56:27.040Z"
   },
   {
    "duration": 15756,
    "start_time": "2023-09-29T06:56:27.185Z"
   },
   {
    "duration": 18,
    "start_time": "2023-09-29T06:56:42.943Z"
   },
   {
    "duration": 524,
    "start_time": "2023-09-29T06:56:42.963Z"
   },
   {
    "duration": 22,
    "start_time": "2023-09-29T06:56:43.489Z"
   },
   {
    "duration": 49,
    "start_time": "2023-09-29T06:56:43.513Z"
   },
   {
    "duration": 13,
    "start_time": "2023-09-29T06:56:43.564Z"
   },
   {
    "duration": 851,
    "start_time": "2023-09-29T06:56:43.579Z"
   },
   {
    "duration": 18,
    "start_time": "2023-09-29T06:56:44.433Z"
   },
   {
    "duration": 187,
    "start_time": "2023-09-29T06:56:44.453Z"
   },
   {
    "duration": 7,
    "start_time": "2023-09-29T06:56:44.642Z"
   },
   {
    "duration": 24,
    "start_time": "2023-09-29T06:56:44.651Z"
   },
   {
    "duration": 50,
    "start_time": "2023-09-29T06:56:44.677Z"
   },
   {
    "duration": 14,
    "start_time": "2023-09-29T06:56:48.354Z"
   },
   {
    "duration": 7,
    "start_time": "2023-09-29T07:38:14.338Z"
   },
   {
    "duration": 5,
    "start_time": "2023-09-29T07:38:27.879Z"
   },
   {
    "duration": 10,
    "start_time": "2023-09-29T07:38:30.524Z"
   },
   {
    "duration": 8,
    "start_time": "2023-09-29T07:38:38.833Z"
   },
   {
    "duration": 11,
    "start_time": "2023-09-29T07:39:20.235Z"
   },
   {
    "duration": 9,
    "start_time": "2023-09-29T07:39:31.170Z"
   },
   {
    "duration": 11,
    "start_time": "2023-09-29T07:41:38.696Z"
   },
   {
    "duration": 1806,
    "start_time": "2023-09-29T07:59:03.948Z"
   },
   {
    "duration": 81,
    "start_time": "2023-09-29T07:59:05.756Z"
   },
   {
    "duration": 120,
    "start_time": "2023-09-29T07:59:05.839Z"
   },
   {
    "duration": 11,
    "start_time": "2023-09-29T07:59:05.960Z"
   },
   {
    "duration": 19,
    "start_time": "2023-09-29T07:59:05.973Z"
   },
   {
    "duration": 32,
    "start_time": "2023-09-29T07:59:05.994Z"
   },
   {
    "duration": 303,
    "start_time": "2023-09-29T07:59:06.029Z"
   },
   {
    "duration": 22,
    "start_time": "2023-09-29T07:59:06.334Z"
   },
   {
    "duration": 24,
    "start_time": "2023-09-29T07:59:06.358Z"
   },
   {
    "duration": 50,
    "start_time": "2023-09-29T07:59:06.384Z"
   },
   {
    "duration": 6,
    "start_time": "2023-09-29T07:59:06.436Z"
   },
   {
    "duration": 150,
    "start_time": "2023-09-29T07:59:06.444Z"
   },
   {
    "duration": 44,
    "start_time": "2023-09-29T07:59:06.597Z"
   },
   {
    "duration": 29,
    "start_time": "2023-09-29T07:59:06.645Z"
   },
   {
    "duration": 18,
    "start_time": "2023-09-29T07:59:06.677Z"
   },
   {
    "duration": 590,
    "start_time": "2023-09-29T07:59:06.697Z"
   },
   {
    "duration": 167,
    "start_time": "2023-09-29T07:59:07.289Z"
   },
   {
    "duration": 61,
    "start_time": "2023-09-29T07:59:07.459Z"
   },
   {
    "duration": 47,
    "start_time": "2023-09-29T07:59:07.522Z"
   },
   {
    "duration": 43,
    "start_time": "2023-09-29T07:59:07.571Z"
   },
   {
    "duration": 60,
    "start_time": "2023-09-29T07:59:07.618Z"
   },
   {
    "duration": 43,
    "start_time": "2023-09-29T07:59:07.679Z"
   },
   {
    "duration": 52,
    "start_time": "2023-09-29T07:59:07.724Z"
   },
   {
    "duration": 284,
    "start_time": "2023-09-29T07:59:07.778Z"
   },
   {
    "duration": 87,
    "start_time": "2023-09-29T07:59:08.064Z"
   },
   {
    "duration": 163,
    "start_time": "2023-09-29T07:59:08.153Z"
   },
   {
    "duration": 19024,
    "start_time": "2023-09-29T07:59:08.320Z"
   },
   {
    "duration": 18,
    "start_time": "2023-09-29T07:59:27.346Z"
   },
   {
    "duration": 673,
    "start_time": "2023-09-29T07:59:27.366Z"
   },
   {
    "duration": 7,
    "start_time": "2023-09-29T07:59:28.041Z"
   },
   {
    "duration": 62,
    "start_time": "2023-09-29T07:59:28.050Z"
   },
   {
    "duration": 21,
    "start_time": "2023-09-29T07:59:28.115Z"
   },
   {
    "duration": 1019,
    "start_time": "2023-09-29T07:59:28.138Z"
   },
   {
    "duration": 18,
    "start_time": "2023-09-29T07:59:29.159Z"
   },
   {
    "duration": 173,
    "start_time": "2023-09-29T07:59:29.180Z"
   },
   {
    "duration": 7,
    "start_time": "2023-09-29T07:59:29.355Z"
   },
   {
    "duration": 19,
    "start_time": "2023-09-29T07:59:29.363Z"
   },
   {
    "duration": 64,
    "start_time": "2023-09-29T07:59:29.384Z"
   },
   {
    "duration": 70,
    "start_time": "2023-09-29T07:59:29.450Z"
   },
   {
    "duration": 134,
    "start_time": "2023-09-29T08:00:22.041Z"
   },
   {
    "duration": 2711,
    "start_time": "2023-09-29T08:00:29.259Z"
   },
   {
    "duration": 17238,
    "start_time": "2023-09-29T08:00:43.087Z"
   },
   {
    "duration": 2655,
    "start_time": "2023-09-29T08:01:16.424Z"
   },
   {
    "duration": 3096,
    "start_time": "2023-09-29T08:10:53.477Z"
   },
   {
    "duration": 135,
    "start_time": "2023-09-29T08:14:22.400Z"
   },
   {
    "duration": 11,
    "start_time": "2023-09-29T08:14:29.076Z"
   },
   {
    "duration": 11,
    "start_time": "2023-09-29T08:14:52.070Z"
   },
   {
    "duration": 11,
    "start_time": "2023-09-29T08:15:05.463Z"
   },
   {
    "duration": 11,
    "start_time": "2023-09-29T08:15:15.545Z"
   },
   {
    "duration": 12,
    "start_time": "2023-09-29T08:15:39.353Z"
   },
   {
    "duration": 10,
    "start_time": "2023-09-29T08:16:10.571Z"
   },
   {
    "duration": 855,
    "start_time": "2023-09-29T08:18:44.588Z"
   },
   {
    "duration": 15,
    "start_time": "2023-09-29T08:19:06.550Z"
   },
   {
    "duration": 20,
    "start_time": "2023-09-29T08:19:57.944Z"
   },
   {
    "duration": 26,
    "start_time": "2023-09-29T08:20:03.991Z"
   },
   {
    "duration": 16,
    "start_time": "2023-09-29T08:21:05.088Z"
   },
   {
    "duration": 33,
    "start_time": "2023-09-29T08:21:29.307Z"
   },
   {
    "duration": 23,
    "start_time": "2023-09-29T08:32:24.554Z"
   },
   {
    "duration": 177,
    "start_time": "2023-09-29T08:32:41.302Z"
   },
   {
    "duration": 21,
    "start_time": "2023-09-29T09:24:41.949Z"
   },
   {
    "duration": 18,
    "start_time": "2023-09-29T09:52:02.739Z"
   },
   {
    "duration": 14,
    "start_time": "2023-09-29T09:52:08.949Z"
   },
   {
    "duration": 9,
    "start_time": "2023-09-29T09:52:12.733Z"
   },
   {
    "duration": 16,
    "start_time": "2023-09-29T09:52:19.098Z"
   },
   {
    "duration": 28,
    "start_time": "2023-09-29T09:52:21.926Z"
   },
   {
    "duration": 1867,
    "start_time": "2023-09-29T09:56:43.690Z"
   },
   {
    "duration": 97,
    "start_time": "2023-09-29T09:56:45.559Z"
   },
   {
    "duration": 123,
    "start_time": "2023-09-29T09:56:45.658Z"
   },
   {
    "duration": 14,
    "start_time": "2023-09-29T09:56:45.783Z"
   },
   {
    "duration": 6,
    "start_time": "2023-09-29T09:56:45.814Z"
   },
   {
    "duration": 22,
    "start_time": "2023-09-29T09:56:45.823Z"
   },
   {
    "duration": 5,
    "start_time": "2023-09-29T09:56:45.847Z"
   },
   {
    "duration": 62,
    "start_time": "2023-09-29T09:56:45.854Z"
   },
   {
    "duration": 24,
    "start_time": "2023-09-29T09:56:45.919Z"
   },
   {
    "duration": 54,
    "start_time": "2023-09-29T09:56:45.945Z"
   },
   {
    "duration": 17,
    "start_time": "2023-09-29T09:56:46.023Z"
   },
   {
    "duration": 565,
    "start_time": "2023-09-29T09:56:46.043Z"
   },
   {
    "duration": 221,
    "start_time": "2023-09-29T09:56:46.614Z"
   },
   {
    "duration": 12,
    "start_time": "2023-09-29T09:56:46.839Z"
   },
   {
    "duration": 60,
    "start_time": "2023-09-29T09:56:46.853Z"
   },
   {
    "duration": 27,
    "start_time": "2023-09-29T09:56:46.915Z"
   },
   {
    "duration": 110,
    "start_time": "2023-09-29T09:56:46.945Z"
   },
   {
    "duration": 18,
    "start_time": "2023-09-29T09:56:47.058Z"
   },
   {
    "duration": 68,
    "start_time": "2023-09-29T09:56:47.078Z"
   },
   {
    "duration": 93,
    "start_time": "2023-09-29T09:56:47.147Z"
   },
   {
    "duration": 18,
    "start_time": "2023-09-29T09:56:47.247Z"
   },
   {
    "duration": 201,
    "start_time": "2023-09-29T09:56:47.267Z"
   },
   {
    "duration": 17498,
    "start_time": "2023-09-29T09:56:47.471Z"
   },
   {
    "duration": 52,
    "start_time": "2023-09-29T09:57:04.972Z"
   },
   {
    "duration": 725,
    "start_time": "2023-09-29T09:57:05.026Z"
   },
   {
    "duration": 6,
    "start_time": "2023-09-29T09:57:05.753Z"
   },
   {
    "duration": 107,
    "start_time": "2023-09-29T09:57:05.761Z"
   },
   {
    "duration": 62,
    "start_time": "2023-09-29T09:57:05.871Z"
   },
   {
    "duration": 929,
    "start_time": "2023-09-29T09:57:05.935Z"
   },
   {
    "duration": 18,
    "start_time": "2023-09-29T09:57:06.866Z"
   },
   {
    "duration": 188,
    "start_time": "2023-09-29T09:57:06.886Z"
   },
   {
    "duration": 9,
    "start_time": "2023-09-29T09:57:07.076Z"
   },
   {
    "duration": 44,
    "start_time": "2023-09-29T09:57:07.087Z"
   },
   {
    "duration": 30,
    "start_time": "2023-09-29T09:57:07.133Z"
   },
   {
    "duration": 2695,
    "start_time": "2023-09-29T09:57:07.165Z"
   },
   {
    "duration": 15,
    "start_time": "2023-09-29T09:57:09.862Z"
   },
   {
    "duration": 475,
    "start_time": "2023-09-29T09:57:09.879Z"
   },
   {
    "duration": 964,
    "start_time": "2023-09-29T09:57:28.106Z"
   },
   {
    "duration": 89,
    "start_time": "2023-09-29T09:57:29.072Z"
   },
   {
    "duration": 116,
    "start_time": "2023-09-29T09:57:29.163Z"
   },
   {
    "duration": 11,
    "start_time": "2023-09-29T09:57:29.280Z"
   },
   {
    "duration": 10,
    "start_time": "2023-09-29T09:57:29.312Z"
   },
   {
    "duration": 21,
    "start_time": "2023-09-29T09:57:29.324Z"
   },
   {
    "duration": 5,
    "start_time": "2023-09-29T09:57:29.347Z"
   },
   {
    "duration": 27,
    "start_time": "2023-09-29T09:57:29.354Z"
   },
   {
    "duration": 48,
    "start_time": "2023-09-29T09:57:29.383Z"
   },
   {
    "duration": 30,
    "start_time": "2023-09-29T09:57:29.433Z"
   },
   {
    "duration": 13,
    "start_time": "2023-09-29T09:57:29.464Z"
   },
   {
    "duration": 452,
    "start_time": "2023-09-29T09:57:29.479Z"
   },
   {
    "duration": 113,
    "start_time": "2023-09-29T09:57:29.933Z"
   },
   {
    "duration": 73,
    "start_time": "2023-09-29T09:57:30.049Z"
   },
   {
    "duration": 24,
    "start_time": "2023-09-29T09:57:30.124Z"
   },
   {
    "duration": 76,
    "start_time": "2023-09-29T09:57:30.150Z"
   },
   {
    "duration": 55,
    "start_time": "2023-09-29T09:57:30.228Z"
   },
   {
    "duration": 50,
    "start_time": "2023-09-29T09:57:30.286Z"
   },
   {
    "duration": 144,
    "start_time": "2023-09-29T09:57:30.338Z"
   },
   {
    "duration": 118,
    "start_time": "2023-09-29T09:57:30.484Z"
   },
   {
    "duration": 146,
    "start_time": "2023-09-29T09:57:30.605Z"
   },
   {
    "duration": 180,
    "start_time": "2023-09-29T09:57:30.753Z"
   },
   {
    "duration": 17178,
    "start_time": "2023-09-29T09:57:30.936Z"
   },
   {
    "duration": 27,
    "start_time": "2023-09-29T09:57:48.117Z"
   },
   {
    "duration": 607,
    "start_time": "2023-09-29T09:57:48.146Z"
   },
   {
    "duration": 69,
    "start_time": "2023-09-29T09:57:48.755Z"
   },
   {
    "duration": 82,
    "start_time": "2023-09-29T09:57:48.826Z"
   },
   {
    "duration": 27,
    "start_time": "2023-09-29T09:57:48.910Z"
   },
   {
    "duration": 922,
    "start_time": "2023-09-29T09:57:48.939Z"
   },
   {
    "duration": 16,
    "start_time": "2023-09-29T09:57:49.863Z"
   },
   {
    "duration": 197,
    "start_time": "2023-09-29T09:57:49.881Z"
   },
   {
    "duration": 8,
    "start_time": "2023-09-29T09:57:50.081Z"
   },
   {
    "duration": 29,
    "start_time": "2023-09-29T09:57:50.109Z"
   },
   {
    "duration": 33,
    "start_time": "2023-09-29T09:57:50.142Z"
   },
   {
    "duration": 3154,
    "start_time": "2023-09-29T09:57:50.177Z"
   },
   {
    "duration": 23,
    "start_time": "2023-09-29T09:57:53.334Z"
   },
   {
    "duration": 219,
    "start_time": "2023-09-29T09:57:53.361Z"
   },
   {
    "duration": 790,
    "start_time": "2023-09-29T10:42:36.444Z"
   },
   {
    "duration": 70,
    "start_time": "2023-09-29T10:42:37.236Z"
   },
   {
    "duration": 91,
    "start_time": "2023-09-29T10:42:37.308Z"
   },
   {
    "duration": 9,
    "start_time": "2023-09-29T10:42:37.401Z"
   },
   {
    "duration": 3,
    "start_time": "2023-09-29T10:42:37.412Z"
   },
   {
    "duration": 45,
    "start_time": "2023-09-29T10:42:37.417Z"
   },
   {
    "duration": 5,
    "start_time": "2023-09-29T10:42:37.465Z"
   },
   {
    "duration": 23,
    "start_time": "2023-09-29T10:42:37.472Z"
   },
   {
    "duration": 41,
    "start_time": "2023-09-29T10:42:37.497Z"
   },
   {
    "duration": 35,
    "start_time": "2023-09-29T10:42:37.540Z"
   },
   {
    "duration": 12,
    "start_time": "2023-09-29T10:42:37.577Z"
   },
   {
    "duration": 434,
    "start_time": "2023-09-29T10:42:37.590Z"
   },
   {
    "duration": 123,
    "start_time": "2023-09-29T10:42:38.026Z"
   },
   {
    "duration": 15,
    "start_time": "2023-09-29T10:42:38.154Z"
   },
   {
    "duration": 11,
    "start_time": "2023-09-29T10:42:38.171Z"
   },
   {
    "duration": 74,
    "start_time": "2023-09-29T10:42:38.183Z"
   },
   {
    "duration": 90,
    "start_time": "2023-09-29T10:42:38.262Z"
   },
   {
    "duration": 23,
    "start_time": "2023-09-29T10:42:38.354Z"
   },
   {
    "duration": 121,
    "start_time": "2023-09-29T10:42:38.379Z"
   },
   {
    "duration": 88,
    "start_time": "2023-09-29T10:42:38.502Z"
   },
   {
    "duration": 16,
    "start_time": "2023-09-29T10:42:38.591Z"
   },
   {
    "duration": 155,
    "start_time": "2023-09-29T10:42:38.608Z"
   },
   {
    "duration": 14980,
    "start_time": "2023-09-29T10:42:38.765Z"
   },
   {
    "duration": 22,
    "start_time": "2023-09-29T10:42:53.748Z"
   },
   {
    "duration": 598,
    "start_time": "2023-09-29T10:42:53.773Z"
   },
   {
    "duration": 7,
    "start_time": "2023-09-29T10:42:54.373Z"
   },
   {
    "duration": 36,
    "start_time": "2023-09-29T10:42:54.381Z"
   },
   {
    "duration": 39,
    "start_time": "2023-09-29T10:42:54.419Z"
   },
   {
    "duration": 890,
    "start_time": "2023-09-29T10:42:54.460Z"
   },
   {
    "duration": 20,
    "start_time": "2023-09-29T10:42:55.352Z"
   },
   {
    "duration": 150,
    "start_time": "2023-09-29T10:42:55.374Z"
   },
   {
    "duration": 6,
    "start_time": "2023-09-29T10:42:55.526Z"
   },
   {
    "duration": 17,
    "start_time": "2023-09-29T10:42:55.546Z"
   },
   {
    "duration": 39,
    "start_time": "2023-09-29T10:42:55.566Z"
   },
   {
    "duration": 2624,
    "start_time": "2023-09-29T10:42:55.606Z"
   },
   {
    "duration": 26,
    "start_time": "2023-09-29T10:42:58.231Z"
   },
   {
    "duration": 158,
    "start_time": "2023-09-29T10:42:58.259Z"
   },
   {
    "duration": 3,
    "start_time": "2023-09-29T10:49:09.681Z"
   },
   {
    "duration": 6,
    "start_time": "2023-09-29T10:49:21.216Z"
   },
   {
    "duration": 44,
    "start_time": "2023-09-29T13:08:29.383Z"
   },
   {
    "duration": 805,
    "start_time": "2023-09-29T13:08:35.628Z"
   },
   {
    "duration": 221,
    "start_time": "2023-09-29T13:08:36.435Z"
   },
   {
    "duration": 80,
    "start_time": "2023-09-29T13:08:36.658Z"
   },
   {
    "duration": 10,
    "start_time": "2023-09-29T13:08:36.740Z"
   },
   {
    "duration": 3,
    "start_time": "2023-09-29T13:08:36.752Z"
   },
   {
    "duration": 23,
    "start_time": "2023-09-29T13:08:36.756Z"
   },
   {
    "duration": 6,
    "start_time": "2023-09-29T13:08:36.781Z"
   },
   {
    "duration": 37,
    "start_time": "2023-09-29T13:08:36.789Z"
   },
   {
    "duration": 15,
    "start_time": "2023-09-29T13:08:36.844Z"
   },
   {
    "duration": 25,
    "start_time": "2023-09-29T13:08:36.861Z"
   },
   {
    "duration": 10,
    "start_time": "2023-09-29T13:08:36.888Z"
   },
   {
    "duration": 374,
    "start_time": "2023-09-29T13:08:36.899Z"
   },
   {
    "duration": 85,
    "start_time": "2023-09-29T13:08:37.275Z"
   },
   {
    "duration": 10,
    "start_time": "2023-09-29T13:08:37.363Z"
   },
   {
    "duration": 14,
    "start_time": "2023-09-29T13:08:37.374Z"
   },
   {
    "duration": 65,
    "start_time": "2023-09-29T13:08:37.390Z"
   },
   {
    "duration": 48,
    "start_time": "2023-09-29T13:08:37.456Z"
   },
   {
    "duration": 52,
    "start_time": "2023-09-29T13:08:37.506Z"
   },
   {
    "duration": 106,
    "start_time": "2023-09-29T13:08:37.559Z"
   },
   {
    "duration": 79,
    "start_time": "2023-09-29T13:08:37.666Z"
   },
   {
    "duration": 13,
    "start_time": "2023-09-29T13:08:37.748Z"
   },
   {
    "duration": 298,
    "start_time": "2023-09-29T13:08:37.762Z"
   },
   {
    "duration": 13542,
    "start_time": "2023-09-29T13:08:38.062Z"
   },
   {
    "duration": 39,
    "start_time": "2023-09-29T13:08:51.606Z"
   },
   {
    "duration": 406,
    "start_time": "2023-09-29T13:08:51.647Z"
   },
   {
    "duration": 4,
    "start_time": "2023-09-29T13:08:52.055Z"
   },
   {
    "duration": 47,
    "start_time": "2023-09-29T13:08:52.061Z"
   },
   {
    "duration": 9,
    "start_time": "2023-09-29T13:08:52.109Z"
   },
   {
    "duration": 749,
    "start_time": "2023-09-29T13:08:52.120Z"
   },
   {
    "duration": 11,
    "start_time": "2023-09-29T13:08:52.870Z"
   },
   {
    "duration": 143,
    "start_time": "2023-09-29T13:08:52.883Z"
   },
   {
    "duration": 8,
    "start_time": "2023-09-29T13:08:53.028Z"
   },
   {
    "duration": 20,
    "start_time": "2023-09-29T13:08:53.037Z"
   },
   {
    "duration": 29,
    "start_time": "2023-09-29T13:08:53.058Z"
   },
   {
    "duration": 2406,
    "start_time": "2023-09-29T13:08:53.088Z"
   },
   {
    "duration": 19,
    "start_time": "2023-09-29T13:08:55.496Z"
   },
   {
    "duration": 130,
    "start_time": "2023-09-29T13:08:55.543Z"
   },
   {
    "duration": 11,
    "start_time": "2023-09-29T13:14:49.269Z"
   },
   {
    "duration": 15,
    "start_time": "2023-09-29T13:14:59.567Z"
   },
   {
    "duration": 59,
    "start_time": "2023-09-29T13:15:10.902Z"
   },
   {
    "duration": 56,
    "start_time": "2023-09-29T13:17:25.721Z"
   },
   {
    "duration": 6,
    "start_time": "2023-09-29T13:17:30.231Z"
   },
   {
    "duration": 61,
    "start_time": "2023-09-29T13:18:10.199Z"
   },
   {
    "duration": 7,
    "start_time": "2023-09-29T13:18:25.157Z"
   },
   {
    "duration": 46,
    "start_time": "2023-09-29T13:18:34.708Z"
   },
   {
    "duration": 68,
    "start_time": "2023-09-29T13:19:34.845Z"
   },
   {
    "duration": 60,
    "start_time": "2023-09-29T13:25:02.828Z"
   },
   {
    "duration": 65,
    "start_time": "2023-09-29T13:26:20.003Z"
   },
   {
    "duration": 58,
    "start_time": "2023-09-29T13:27:32.393Z"
   },
   {
    "duration": 16,
    "start_time": "2023-09-29T13:29:20.794Z"
   },
   {
    "duration": 51,
    "start_time": "2023-09-29T13:29:24.320Z"
   },
   {
    "duration": 129,
    "start_time": "2023-09-29T13:30:22.382Z"
   },
   {
    "duration": 9,
    "start_time": "2023-09-29T13:32:23.946Z"
   },
   {
    "duration": 111,
    "start_time": "2023-09-29T13:32:37.257Z"
   },
   {
    "duration": 115,
    "start_time": "2023-09-29T13:36:43.776Z"
   },
   {
    "duration": 9,
    "start_time": "2023-09-29T13:37:34.126Z"
   },
   {
    "duration": 67,
    "start_time": "2023-09-29T13:41:16.187Z"
   },
   {
    "duration": 21,
    "start_time": "2023-09-29T13:41:26.898Z"
   },
   {
    "duration": 19,
    "start_time": "2023-09-29T13:41:34.003Z"
   },
   {
    "duration": 68,
    "start_time": "2023-09-29T13:41:41.448Z"
   },
   {
    "duration": 74,
    "start_time": "2023-09-29T13:42:29.114Z"
   },
   {
    "duration": 65,
    "start_time": "2023-09-29T13:43:07.707Z"
   },
   {
    "duration": 68,
    "start_time": "2023-09-29T13:44:35.262Z"
   },
   {
    "duration": 755,
    "start_time": "2023-09-29T13:49:13.358Z"
   },
   {
    "duration": 76,
    "start_time": "2023-09-29T13:49:14.115Z"
   },
   {
    "duration": 113,
    "start_time": "2023-09-29T13:49:14.193Z"
   },
   {
    "duration": 11,
    "start_time": "2023-09-29T13:49:14.307Z"
   },
   {
    "duration": 34,
    "start_time": "2023-09-29T13:49:14.321Z"
   },
   {
    "duration": 5,
    "start_time": "2023-09-29T13:49:14.357Z"
   },
   {
    "duration": 38,
    "start_time": "2023-09-29T13:49:14.364Z"
   },
   {
    "duration": 16,
    "start_time": "2023-09-29T13:49:14.404Z"
   },
   {
    "duration": 30,
    "start_time": "2023-09-29T13:49:14.422Z"
   },
   {
    "duration": 12,
    "start_time": "2023-09-29T13:49:14.453Z"
   },
   {
    "duration": 343,
    "start_time": "2023-09-29T13:49:14.466Z"
   },
   {
    "duration": 1369,
    "start_time": "2023-09-29T13:50:45.021Z"
   },
   {
    "duration": 154,
    "start_time": "2023-09-29T13:50:46.391Z"
   },
   {
    "duration": 135,
    "start_time": "2023-09-29T13:50:46.546Z"
   },
   {
    "duration": 66,
    "start_time": "2023-09-29T13:50:46.683Z"
   },
   {
    "duration": 27,
    "start_time": "2023-09-29T13:50:46.751Z"
   },
   {
    "duration": 4,
    "start_time": "2023-09-29T13:50:46.780Z"
   },
   {
    "duration": 75,
    "start_time": "2023-09-29T13:50:46.785Z"
   },
   {
    "duration": 24,
    "start_time": "2023-09-29T13:50:46.861Z"
   },
   {
    "duration": 78,
    "start_time": "2023-09-29T13:50:46.886Z"
   },
   {
    "duration": 12,
    "start_time": "2023-09-29T13:50:46.965Z"
   },
   {
    "duration": 669,
    "start_time": "2023-09-29T13:50:46.978Z"
   },
   {
    "duration": 206,
    "start_time": "2023-09-29T13:50:47.649Z"
   },
   {
    "duration": 14,
    "start_time": "2023-09-29T13:50:47.857Z"
   },
   {
    "duration": 75,
    "start_time": "2023-09-29T13:50:47.873Z"
   },
   {
    "duration": 14,
    "start_time": "2023-09-29T13:50:47.949Z"
   },
   {
    "duration": 105,
    "start_time": "2023-09-29T13:50:47.965Z"
   },
   {
    "duration": 174,
    "start_time": "2023-09-29T13:50:48.071Z"
   },
   {
    "duration": 40,
    "start_time": "2023-09-29T13:50:48.247Z"
   },
   {
    "duration": 120,
    "start_time": "2023-09-29T13:50:48.345Z"
   },
   {
    "duration": 125,
    "start_time": "2023-09-29T13:50:48.467Z"
   },
   {
    "duration": 60,
    "start_time": "2023-09-29T13:50:48.594Z"
   },
   {
    "duration": 289,
    "start_time": "2023-09-29T13:50:48.656Z"
   },
   {
    "duration": 31614,
    "start_time": "2023-09-29T13:50:48.947Z"
   },
   {
    "duration": 97,
    "start_time": "2023-09-29T13:51:20.564Z"
   },
   {
    "duration": 517,
    "start_time": "2023-09-29T13:51:20.663Z"
   },
   {
    "duration": 4,
    "start_time": "2023-09-29T13:51:21.182Z"
   },
   {
    "duration": 87,
    "start_time": "2023-09-29T13:51:21.187Z"
   },
   {
    "duration": 12,
    "start_time": "2023-09-29T13:51:21.276Z"
   },
   {
    "duration": 1914,
    "start_time": "2023-09-29T13:51:21.290Z"
   },
   {
    "duration": 47,
    "start_time": "2023-09-29T13:51:23.206Z"
   },
   {
    "duration": 134,
    "start_time": "2023-09-29T13:51:23.255Z"
   },
   {
    "duration": 6,
    "start_time": "2023-09-29T13:51:23.391Z"
   },
   {
    "duration": 15,
    "start_time": "2023-09-29T13:51:23.398Z"
   },
   {
    "duration": 33,
    "start_time": "2023-09-29T13:51:23.414Z"
   },
   {
    "duration": 3295,
    "start_time": "2023-09-29T13:51:23.449Z"
   },
   {
    "duration": 13,
    "start_time": "2023-09-29T13:51:26.746Z"
   },
   {
    "duration": 224,
    "start_time": "2023-09-29T13:51:26.760Z"
   },
   {
    "duration": 71,
    "start_time": "2023-09-29T13:53:02.037Z"
   },
   {
    "duration": 68,
    "start_time": "2023-09-29T13:59:41.200Z"
   },
   {
    "duration": 8,
    "start_time": "2023-09-29T13:59:57.659Z"
   },
   {
    "duration": 1284,
    "start_time": "2023-09-29T14:01:36.001Z"
   },
   {
    "duration": 1302,
    "start_time": "2023-09-29T14:01:39.892Z"
   },
   {
    "duration": 14,
    "start_time": "2023-09-29T14:01:59.650Z"
   },
   {
    "duration": 10,
    "start_time": "2023-09-29T14:02:05.019Z"
   },
   {
    "duration": 20,
    "start_time": "2023-09-29T14:02:15.542Z"
   },
   {
    "duration": 8,
    "start_time": "2023-09-29T14:02:17.155Z"
   },
   {
    "duration": 14,
    "start_time": "2023-09-29T14:02:54.408Z"
   },
   {
    "duration": 15,
    "start_time": "2023-09-29T14:03:06.786Z"
   },
   {
    "duration": 14,
    "start_time": "2023-09-29T14:03:10.211Z"
   },
   {
    "duration": 25,
    "start_time": "2023-09-29T14:03:17.035Z"
   },
   {
    "duration": 13,
    "start_time": "2023-09-29T14:03:19.315Z"
   },
   {
    "duration": 22,
    "start_time": "2023-09-29T14:03:20.537Z"
   },
   {
    "duration": 9,
    "start_time": "2023-09-29T14:03:30.127Z"
   },
   {
    "duration": 79,
    "start_time": "2023-09-29T14:03:33.197Z"
   },
   {
    "duration": 8,
    "start_time": "2023-09-29T14:03:40.194Z"
   },
   {
    "duration": 9,
    "start_time": "2023-09-29T14:04:41.266Z"
   },
   {
    "duration": 12,
    "start_time": "2023-09-29T14:04:49.207Z"
   },
   {
    "duration": 8,
    "start_time": "2023-09-29T14:04:52.289Z"
   },
   {
    "duration": 7,
    "start_time": "2023-09-29T14:04:56.000Z"
   },
   {
    "duration": 13,
    "start_time": "2023-09-29T14:06:13.283Z"
   },
   {
    "duration": 17,
    "start_time": "2023-09-29T14:06:26.219Z"
   },
   {
    "duration": 13,
    "start_time": "2023-09-29T14:07:58.243Z"
   },
   {
    "duration": 8,
    "start_time": "2023-09-29T14:07:59.878Z"
   },
   {
    "duration": 28,
    "start_time": "2023-09-29T14:08:01.603Z"
   },
   {
    "duration": 817,
    "start_time": "2023-09-29T14:08:13.795Z"
   },
   {
    "duration": 70,
    "start_time": "2023-09-29T14:08:14.614Z"
   },
   {
    "duration": 92,
    "start_time": "2023-09-29T14:08:14.686Z"
   },
   {
    "duration": 8,
    "start_time": "2023-09-29T14:08:14.780Z"
   },
   {
    "duration": 16,
    "start_time": "2023-09-29T14:08:14.790Z"
   },
   {
    "duration": 17,
    "start_time": "2023-09-29T14:08:14.807Z"
   },
   {
    "duration": 32,
    "start_time": "2023-09-29T14:08:14.825Z"
   },
   {
    "duration": 21,
    "start_time": "2023-09-29T14:08:14.858Z"
   },
   {
    "duration": 36,
    "start_time": "2023-09-29T14:08:14.880Z"
   },
   {
    "duration": 15,
    "start_time": "2023-09-29T14:08:14.918Z"
   },
   {
    "duration": 28,
    "start_time": "2023-09-29T14:08:14.934Z"
   },
   {
    "duration": 12,
    "start_time": "2023-09-29T14:08:14.963Z"
   },
   {
    "duration": 365,
    "start_time": "2023-09-29T14:08:14.976Z"
   },
   {
    "duration": 136,
    "start_time": "2023-09-29T14:08:15.344Z"
   },
   {
    "duration": 10,
    "start_time": "2023-09-29T14:08:15.482Z"
   },
   {
    "duration": 18,
    "start_time": "2023-09-29T14:08:15.545Z"
   },
   {
    "duration": 22,
    "start_time": "2023-09-29T14:08:15.566Z"
   },
   {
    "duration": 83,
    "start_time": "2023-09-29T14:08:15.590Z"
   },
   {
    "duration": 17,
    "start_time": "2023-09-29T14:08:15.675Z"
   },
   {
    "duration": 106,
    "start_time": "2023-09-29T14:08:15.694Z"
   },
   {
    "duration": 89,
    "start_time": "2023-09-29T14:08:15.801Z"
   },
   {
    "duration": 72,
    "start_time": "2023-09-29T14:08:15.891Z"
   },
   {
    "duration": 10,
    "start_time": "2023-09-29T14:08:15.964Z"
   },
   {
    "duration": 133,
    "start_time": "2023-09-29T14:08:15.975Z"
   },
   {
    "duration": 14125,
    "start_time": "2023-09-29T14:08:16.110Z"
   },
   {
    "duration": 29,
    "start_time": "2023-09-29T14:08:30.237Z"
   },
   {
    "duration": 439,
    "start_time": "2023-09-29T14:08:30.268Z"
   },
   {
    "duration": 5,
    "start_time": "2023-09-29T14:08:30.709Z"
   },
   {
    "duration": 109,
    "start_time": "2023-09-29T14:08:30.715Z"
   },
   {
    "duration": 232,
    "start_time": "2023-09-29T14:08:30.826Z"
   },
   {
    "duration": 746,
    "start_time": "2023-09-29T14:08:31.059Z"
   },
   {
    "duration": 10,
    "start_time": "2023-09-29T14:08:31.806Z"
   },
   {
    "duration": 149,
    "start_time": "2023-09-29T14:08:31.817Z"
   },
   {
    "duration": 6,
    "start_time": "2023-09-29T14:08:31.968Z"
   },
   {
    "duration": 16,
    "start_time": "2023-09-29T14:08:31.975Z"
   },
   {
    "duration": 27,
    "start_time": "2023-09-29T14:08:31.992Z"
   },
   {
    "duration": 2448,
    "start_time": "2023-09-29T14:08:32.054Z"
   },
   {
    "duration": 55,
    "start_time": "2023-09-29T14:08:34.503Z"
   },
   {
    "duration": 124,
    "start_time": "2023-09-29T14:08:34.559Z"
   },
   {
    "duration": 15,
    "start_time": "2023-09-29T14:09:57.827Z"
   },
   {
    "duration": 793,
    "start_time": "2023-09-29T14:10:29.317Z"
   },
   {
    "duration": 23,
    "start_time": "2023-09-29T14:10:52.834Z"
   },
   {
    "duration": 2377,
    "start_time": "2023-09-29T14:12:37.555Z"
   },
   {
    "duration": 8,
    "start_time": "2023-09-29T14:12:50.803Z"
   },
   {
    "duration": 2330,
    "start_time": "2023-09-29T14:13:09.181Z"
   },
   {
    "duration": 9,
    "start_time": "2023-09-29T14:13:30.014Z"
   },
   {
    "duration": 15,
    "start_time": "2023-09-29T14:13:31.843Z"
   },
   {
    "duration": 8,
    "start_time": "2023-09-29T14:14:05.200Z"
   },
   {
    "duration": 9,
    "start_time": "2023-09-29T14:14:07.122Z"
   },
   {
    "duration": 20,
    "start_time": "2023-09-29T14:14:18.242Z"
   },
   {
    "duration": 126,
    "start_time": "2023-09-29T14:15:09.957Z"
   },
   {
    "duration": 831,
    "start_time": "2023-09-29T14:16:52.365Z"
   },
   {
    "duration": 71,
    "start_time": "2023-09-29T14:16:53.198Z"
   },
   {
    "duration": 93,
    "start_time": "2023-09-29T14:16:53.271Z"
   },
   {
    "duration": 10,
    "start_time": "2023-09-29T14:16:53.366Z"
   },
   {
    "duration": 25,
    "start_time": "2023-09-29T14:16:53.378Z"
   },
   {
    "duration": 10,
    "start_time": "2023-09-29T14:16:53.404Z"
   },
   {
    "duration": 10,
    "start_time": "2023-09-29T14:16:53.415Z"
   },
   {
    "duration": 17,
    "start_time": "2023-09-29T14:16:53.451Z"
   },
   {
    "duration": 20,
    "start_time": "2023-09-29T14:16:53.469Z"
   },
   {
    "duration": 16,
    "start_time": "2023-09-29T14:16:53.490Z"
   },
   {
    "duration": 46,
    "start_time": "2023-09-29T14:16:53.509Z"
   },
   {
    "duration": 11,
    "start_time": "2023-09-29T14:16:53.558Z"
   },
   {
    "duration": 362,
    "start_time": "2023-09-29T14:16:53.571Z"
   },
   {
    "duration": 149,
    "start_time": "2023-09-29T14:16:53.936Z"
   },
   {
    "duration": 80,
    "start_time": "2023-09-29T14:16:54.087Z"
   },
   {
    "duration": 14,
    "start_time": "2023-09-29T14:16:54.169Z"
   },
   {
    "duration": 64,
    "start_time": "2023-09-29T14:16:54.185Z"
   },
   {
    "duration": 69,
    "start_time": "2023-09-29T14:16:54.251Z"
   },
   {
    "duration": 44,
    "start_time": "2023-09-29T14:16:54.322Z"
   },
   {
    "duration": 107,
    "start_time": "2023-09-29T14:16:54.368Z"
   },
   {
    "duration": 88,
    "start_time": "2023-09-29T14:16:54.477Z"
   },
   {
    "duration": 85,
    "start_time": "2023-09-29T14:16:54.567Z"
   },
   {
    "duration": 14,
    "start_time": "2023-09-29T14:16:54.656Z"
   },
   {
    "duration": 135,
    "start_time": "2023-09-29T14:16:54.672Z"
   },
   {
    "duration": 13901,
    "start_time": "2023-09-29T14:16:54.809Z"
   },
   {
    "duration": 48,
    "start_time": "2023-09-29T14:17:08.713Z"
   },
   {
    "duration": 417,
    "start_time": "2023-09-29T14:17:08.765Z"
   },
   {
    "duration": 4,
    "start_time": "2023-09-29T14:17:09.184Z"
   },
   {
    "duration": 25,
    "start_time": "2023-09-29T14:17:09.190Z"
   },
   {
    "duration": 37,
    "start_time": "2023-09-29T14:17:09.216Z"
   },
   {
    "duration": 750,
    "start_time": "2023-09-29T14:17:09.254Z"
   },
   {
    "duration": 12,
    "start_time": "2023-09-29T14:17:10.005Z"
   },
   {
    "duration": 215,
    "start_time": "2023-09-29T14:17:10.018Z"
   },
   {
    "duration": 14,
    "start_time": "2023-09-29T14:17:10.235Z"
   },
   {
    "duration": 18,
    "start_time": "2023-09-29T14:17:10.251Z"
   },
   {
    "duration": 27,
    "start_time": "2023-09-29T14:17:10.271Z"
   },
   {
    "duration": 2439,
    "start_time": "2023-09-29T14:17:10.299Z"
   },
   {
    "duration": 25,
    "start_time": "2023-09-29T14:17:12.740Z"
   },
   {
    "duration": 154,
    "start_time": "2023-09-29T14:17:12.767Z"
   },
   {
    "duration": 94,
    "start_time": "2023-09-29T14:49:48.941Z"
   },
   {
    "duration": 87,
    "start_time": "2023-09-29T14:52:13.385Z"
   },
   {
    "duration": 71,
    "start_time": "2023-09-29T14:55:15.692Z"
   },
   {
    "duration": 69,
    "start_time": "2023-09-29T14:57:07.226Z"
   },
   {
    "duration": 61,
    "start_time": "2023-09-29T14:59:01.036Z"
   },
   {
    "duration": 800,
    "start_time": "2023-09-29T16:19:33.440Z"
   },
   {
    "duration": 72,
    "start_time": "2023-09-29T16:19:34.242Z"
   },
   {
    "duration": 77,
    "start_time": "2023-09-29T16:19:34.315Z"
   },
   {
    "duration": 9,
    "start_time": "2023-09-29T16:19:34.393Z"
   },
   {
    "duration": 14,
    "start_time": "2023-09-29T16:19:34.404Z"
   },
   {
    "duration": 28,
    "start_time": "2023-09-29T16:19:34.419Z"
   },
   {
    "duration": 13,
    "start_time": "2023-09-29T16:19:34.448Z"
   },
   {
    "duration": 11,
    "start_time": "2023-09-29T16:19:34.462Z"
   },
   {
    "duration": 17,
    "start_time": "2023-09-29T16:19:34.475Z"
   },
   {
    "duration": 15,
    "start_time": "2023-09-29T16:19:34.493Z"
   },
   {
    "duration": 54,
    "start_time": "2023-09-29T16:19:34.509Z"
   },
   {
    "duration": 12,
    "start_time": "2023-09-29T16:19:34.564Z"
   },
   {
    "duration": 343,
    "start_time": "2023-09-29T16:19:34.577Z"
   },
   {
    "duration": 134,
    "start_time": "2023-09-29T16:19:34.923Z"
   },
   {
    "duration": 10,
    "start_time": "2023-09-29T16:19:35.059Z"
   },
   {
    "duration": 32,
    "start_time": "2023-09-29T16:19:35.071Z"
   },
   {
    "duration": 52,
    "start_time": "2023-09-29T16:19:35.104Z"
   },
   {
    "duration": 44,
    "start_time": "2023-09-29T16:19:35.158Z"
   },
   {
    "duration": 17,
    "start_time": "2023-09-29T16:19:35.204Z"
   },
   {
    "duration": 99,
    "start_time": "2023-09-29T16:19:35.245Z"
   },
   {
    "duration": 71,
    "start_time": "2023-09-29T16:19:35.346Z"
   },
   {
    "duration": 88,
    "start_time": "2023-09-29T16:19:35.418Z"
   },
   {
    "duration": 10,
    "start_time": "2023-09-29T16:19:35.507Z"
   },
   {
    "duration": 132,
    "start_time": "2023-09-29T16:19:35.518Z"
   },
   {
    "duration": 12987,
    "start_time": "2023-09-29T16:19:35.652Z"
   },
   {
    "duration": 17,
    "start_time": "2023-09-29T16:19:48.644Z"
   },
   {
    "duration": 415,
    "start_time": "2023-09-29T16:19:48.663Z"
   },
   {
    "duration": 5,
    "start_time": "2023-09-29T16:19:49.079Z"
   },
   {
    "duration": 27,
    "start_time": "2023-09-29T16:19:49.085Z"
   },
   {
    "duration": 38,
    "start_time": "2023-09-29T16:19:49.113Z"
   },
   {
    "duration": 917,
    "start_time": "2023-09-29T16:19:49.153Z"
   },
   {
    "duration": 14,
    "start_time": "2023-09-29T16:19:50.071Z"
   },
   {
    "duration": 127,
    "start_time": "2023-09-29T16:19:50.087Z"
   },
   {
    "duration": 6,
    "start_time": "2023-09-29T16:19:50.216Z"
   },
   {
    "duration": 32,
    "start_time": "2023-09-29T16:19:50.224Z"
   },
   {
    "duration": 56,
    "start_time": "2023-09-29T16:19:50.258Z"
   },
   {
    "duration": 2399,
    "start_time": "2023-09-29T16:19:50.316Z"
   },
   {
    "duration": 30,
    "start_time": "2023-09-29T16:19:52.716Z"
   },
   {
    "duration": 135,
    "start_time": "2023-09-29T16:19:52.748Z"
   },
   {
    "duration": 3392,
    "start_time": "2023-09-29T16:23:32.141Z"
   },
   {
    "duration": 94,
    "start_time": "2023-09-29T16:23:46.743Z"
   },
   {
    "duration": 71,
    "start_time": "2023-09-29T16:27:06.795Z"
   },
   {
    "duration": 13,
    "start_time": "2023-09-29T17:02:46.972Z"
   },
   {
    "duration": 9,
    "start_time": "2023-09-29T17:03:06.238Z"
   },
   {
    "duration": 111,
    "start_time": "2023-09-29T18:14:45.718Z"
   },
   {
    "duration": 751,
    "start_time": "2023-09-29T18:48:29.189Z"
   },
   {
    "duration": 69,
    "start_time": "2023-09-29T18:48:29.942Z"
   },
   {
    "duration": 85,
    "start_time": "2023-09-29T18:48:30.013Z"
   },
   {
    "duration": 11,
    "start_time": "2023-09-29T18:48:30.100Z"
   },
   {
    "duration": 41,
    "start_time": "2023-09-29T18:48:30.113Z"
   },
   {
    "duration": 31,
    "start_time": "2023-09-29T18:48:30.156Z"
   },
   {
    "duration": 59,
    "start_time": "2023-09-29T18:48:30.189Z"
   },
   {
    "duration": 65,
    "start_time": "2023-09-29T18:48:30.250Z"
   },
   {
    "duration": 57,
    "start_time": "2023-09-29T18:48:30.317Z"
   },
   {
    "duration": 32,
    "start_time": "2023-09-29T18:48:30.376Z"
   },
   {
    "duration": 40,
    "start_time": "2023-09-29T18:48:30.410Z"
   },
   {
    "duration": 55,
    "start_time": "2023-09-29T18:48:30.453Z"
   },
   {
    "duration": 403,
    "start_time": "2023-09-29T18:48:30.510Z"
   },
   {
    "duration": 128,
    "start_time": "2023-09-29T18:48:30.916Z"
   },
   {
    "duration": 16,
    "start_time": "2023-09-29T18:48:31.047Z"
   },
   {
    "duration": 80,
    "start_time": "2023-09-29T18:48:31.065Z"
   },
   {
    "duration": 16,
    "start_time": "2023-09-29T18:48:31.147Z"
   },
   {
    "duration": 67,
    "start_time": "2023-09-29T18:48:31.165Z"
   },
   {
    "duration": 22,
    "start_time": "2023-09-29T18:48:31.234Z"
   },
   {
    "duration": 115,
    "start_time": "2023-09-29T18:48:31.258Z"
   },
   {
    "duration": 100,
    "start_time": "2023-09-29T18:48:31.375Z"
   },
   {
    "duration": 79,
    "start_time": "2023-09-29T18:48:31.477Z"
   },
   {
    "duration": 10,
    "start_time": "2023-09-29T18:48:31.557Z"
   },
   {
    "duration": 146,
    "start_time": "2023-09-29T18:48:31.569Z"
   },
   {
    "duration": 13869,
    "start_time": "2023-09-29T18:48:31.717Z"
   },
   {
    "duration": 19,
    "start_time": "2023-09-29T18:48:45.588Z"
   },
   {
    "duration": 635,
    "start_time": "2023-09-29T18:48:45.609Z"
   },
   {
    "duration": 37,
    "start_time": "2023-09-29T18:48:46.246Z"
   },
   {
    "duration": 0,
    "start_time": "2023-09-29T18:48:46.285Z"
   },
   {
    "duration": 0,
    "start_time": "2023-09-29T18:48:46.286Z"
   },
   {
    "duration": 0,
    "start_time": "2023-09-29T18:48:46.288Z"
   },
   {
    "duration": 0,
    "start_time": "2023-09-29T18:48:46.290Z"
   },
   {
    "duration": 0,
    "start_time": "2023-09-29T18:48:46.292Z"
   },
   {
    "duration": 0,
    "start_time": "2023-09-29T18:48:46.294Z"
   },
   {
    "duration": 0,
    "start_time": "2023-09-29T18:48:46.295Z"
   },
   {
    "duration": 0,
    "start_time": "2023-09-29T18:48:46.297Z"
   },
   {
    "duration": 0,
    "start_time": "2023-09-29T18:48:46.298Z"
   },
   {
    "duration": 0,
    "start_time": "2023-09-29T18:48:46.299Z"
   },
   {
    "duration": 0,
    "start_time": "2023-09-29T18:48:46.301Z"
   },
   {
    "duration": 45,
    "start_time": "2023-09-29T18:49:29.536Z"
   },
   {
    "duration": 808,
    "start_time": "2023-09-29T18:49:45.348Z"
   },
   {
    "duration": 68,
    "start_time": "2023-09-29T18:49:46.158Z"
   },
   {
    "duration": 91,
    "start_time": "2023-09-29T18:49:46.227Z"
   },
   {
    "duration": 32,
    "start_time": "2023-09-29T18:49:46.319Z"
   },
   {
    "duration": 14,
    "start_time": "2023-09-29T18:49:46.354Z"
   },
   {
    "duration": 9,
    "start_time": "2023-09-29T18:49:46.370Z"
   },
   {
    "duration": 16,
    "start_time": "2023-09-29T18:49:46.380Z"
   },
   {
    "duration": 12,
    "start_time": "2023-09-29T18:49:46.398Z"
   },
   {
    "duration": 30,
    "start_time": "2023-09-29T18:49:46.445Z"
   },
   {
    "duration": 21,
    "start_time": "2023-09-29T18:49:46.477Z"
   },
   {
    "duration": 64,
    "start_time": "2023-09-29T18:49:46.500Z"
   },
   {
    "duration": 16,
    "start_time": "2023-09-29T18:49:46.566Z"
   },
   {
    "duration": 407,
    "start_time": "2023-09-29T18:49:46.584Z"
   },
   {
    "duration": 164,
    "start_time": "2023-09-29T18:49:46.994Z"
   },
   {
    "duration": 11,
    "start_time": "2023-09-29T18:49:47.160Z"
   },
   {
    "duration": 72,
    "start_time": "2023-09-29T18:49:47.172Z"
   },
   {
    "duration": 14,
    "start_time": "2023-09-29T18:49:47.246Z"
   },
   {
    "duration": 46,
    "start_time": "2023-09-29T18:49:47.262Z"
   },
   {
    "duration": 20,
    "start_time": "2023-09-29T18:49:47.343Z"
   },
   {
    "duration": 122,
    "start_time": "2023-09-29T18:49:47.365Z"
   },
   {
    "duration": 89,
    "start_time": "2023-09-29T18:49:47.488Z"
   },
   {
    "duration": 89,
    "start_time": "2023-09-29T18:49:47.578Z"
   },
   {
    "duration": 10,
    "start_time": "2023-09-29T18:49:47.669Z"
   },
   {
    "duration": 141,
    "start_time": "2023-09-29T18:49:47.681Z"
   },
   {
    "duration": 14741,
    "start_time": "2023-09-29T18:49:47.823Z"
   },
   {
    "duration": 17,
    "start_time": "2023-09-29T18:50:02.567Z"
   },
   {
    "duration": 505,
    "start_time": "2023-09-29T18:50:02.586Z"
   },
   {
    "duration": 70,
    "start_time": "2023-09-29T18:50:03.093Z"
   },
   {
    "duration": 0,
    "start_time": "2023-09-29T18:50:03.165Z"
   },
   {
    "duration": 0,
    "start_time": "2023-09-29T18:50:03.167Z"
   },
   {
    "duration": 0,
    "start_time": "2023-09-29T18:50:03.168Z"
   },
   {
    "duration": 0,
    "start_time": "2023-09-29T18:50:03.169Z"
   },
   {
    "duration": 0,
    "start_time": "2023-09-29T18:50:03.170Z"
   },
   {
    "duration": 0,
    "start_time": "2023-09-29T18:50:03.172Z"
   },
   {
    "duration": 0,
    "start_time": "2023-09-29T18:50:03.173Z"
   },
   {
    "duration": 0,
    "start_time": "2023-09-29T18:50:03.174Z"
   },
   {
    "duration": 0,
    "start_time": "2023-09-29T18:50:03.176Z"
   },
   {
    "duration": 0,
    "start_time": "2023-09-29T18:50:03.177Z"
   },
   {
    "duration": 0,
    "start_time": "2023-09-29T18:50:03.178Z"
   },
   {
    "duration": 9,
    "start_time": "2023-09-29T18:50:24.070Z"
   },
   {
    "duration": 7,
    "start_time": "2023-09-29T18:50:40.249Z"
   },
   {
    "duration": 5,
    "start_time": "2023-09-29T18:50:52.882Z"
   },
   {
    "duration": 33,
    "start_time": "2023-09-29T18:50:52.889Z"
   },
   {
    "duration": 11,
    "start_time": "2023-09-29T18:50:52.924Z"
   },
   {
    "duration": 27,
    "start_time": "2023-09-29T18:50:52.938Z"
   },
   {
    "duration": 12,
    "start_time": "2023-09-29T18:50:52.966Z"
   },
   {
    "duration": 135,
    "start_time": "2023-09-29T18:50:52.980Z"
   },
   {
    "duration": 8,
    "start_time": "2023-09-29T18:50:53.116Z"
   },
   {
    "duration": 31,
    "start_time": "2023-09-29T18:50:53.125Z"
   },
   {
    "duration": 28,
    "start_time": "2023-09-29T18:50:53.159Z"
   },
   {
    "duration": 2786,
    "start_time": "2023-09-29T18:50:53.189Z"
   },
   {
    "duration": 16,
    "start_time": "2023-09-29T18:50:55.977Z"
   },
   {
    "duration": 211,
    "start_time": "2023-09-29T18:50:55.994Z"
   },
   {
    "duration": 21,
    "start_time": "2023-09-29T18:51:57.413Z"
   },
   {
    "duration": 7,
    "start_time": "2023-09-29T18:52:07.191Z"
   },
   {
    "duration": 10,
    "start_time": "2023-09-29T18:53:48.449Z"
   },
   {
    "duration": 9,
    "start_time": "2023-09-29T18:53:58.630Z"
   },
   {
    "duration": 36,
    "start_time": "2023-09-29T18:54:38.832Z"
   },
   {
    "duration": 36,
    "start_time": "2023-09-29T18:55:05.782Z"
   },
   {
    "duration": 8,
    "start_time": "2023-09-29T18:55:09.605Z"
   },
   {
    "duration": 767,
    "start_time": "2023-09-29T19:35:12.562Z"
   },
   {
    "duration": 74,
    "start_time": "2023-09-29T19:35:13.330Z"
   },
   {
    "duration": 86,
    "start_time": "2023-09-29T19:35:13.406Z"
   },
   {
    "duration": 9,
    "start_time": "2023-09-29T19:35:13.493Z"
   },
   {
    "duration": 15,
    "start_time": "2023-09-29T19:35:13.505Z"
   },
   {
    "duration": 33,
    "start_time": "2023-09-29T19:35:13.522Z"
   },
   {
    "duration": 10,
    "start_time": "2023-09-29T19:35:13.556Z"
   },
   {
    "duration": 11,
    "start_time": "2023-09-29T19:35:13.568Z"
   },
   {
    "duration": 18,
    "start_time": "2023-09-29T19:35:13.580Z"
   },
   {
    "duration": 14,
    "start_time": "2023-09-29T19:35:13.600Z"
   },
   {
    "duration": 50,
    "start_time": "2023-09-29T19:35:13.615Z"
   },
   {
    "duration": 10,
    "start_time": "2023-09-29T19:35:13.667Z"
   },
   {
    "duration": 384,
    "start_time": "2023-09-29T19:35:13.679Z"
   },
   {
    "duration": 179,
    "start_time": "2023-09-29T19:35:14.069Z"
   },
   {
    "duration": 12,
    "start_time": "2023-09-29T19:35:14.250Z"
   },
   {
    "duration": 20,
    "start_time": "2023-09-29T19:35:14.264Z"
   },
   {
    "duration": 72,
    "start_time": "2023-09-29T19:35:14.286Z"
   },
   {
    "duration": 53,
    "start_time": "2023-09-29T19:35:14.360Z"
   },
   {
    "duration": 34,
    "start_time": "2023-09-29T19:35:14.414Z"
   },
   {
    "duration": 105,
    "start_time": "2023-09-29T19:35:14.455Z"
   },
   {
    "duration": 74,
    "start_time": "2023-09-29T19:35:14.561Z"
   },
   {
    "duration": 67,
    "start_time": "2023-09-29T19:35:14.645Z"
   },
   {
    "duration": 32,
    "start_time": "2023-09-29T19:35:14.714Z"
   },
   {
    "duration": 127,
    "start_time": "2023-09-29T19:35:14.748Z"
   },
   {
    "duration": 13731,
    "start_time": "2023-09-29T19:35:14.877Z"
   },
   {
    "duration": 49,
    "start_time": "2023-09-29T19:35:28.609Z"
   },
   {
    "duration": 430,
    "start_time": "2023-09-29T19:35:28.660Z"
   },
   {
    "duration": 4,
    "start_time": "2023-09-29T19:35:29.092Z"
   },
   {
    "duration": 62,
    "start_time": "2023-09-29T19:35:29.097Z"
   },
   {
    "duration": 12,
    "start_time": "2023-09-29T19:35:29.160Z"
   },
   {
    "duration": 737,
    "start_time": "2023-09-29T19:35:29.173Z"
   },
   {
    "duration": 10,
    "start_time": "2023-09-29T19:35:29.912Z"
   },
   {
    "duration": 141,
    "start_time": "2023-09-29T19:35:29.944Z"
   },
   {
    "duration": 7,
    "start_time": "2023-09-29T19:35:30.086Z"
   },
   {
    "duration": 65,
    "start_time": "2023-09-29T19:35:30.095Z"
   },
   {
    "duration": 47,
    "start_time": "2023-09-29T19:35:30.162Z"
   },
   {
    "duration": 2544,
    "start_time": "2023-09-29T19:35:30.211Z"
   },
   {
    "duration": 19,
    "start_time": "2023-09-29T19:35:32.756Z"
   },
   {
    "duration": 152,
    "start_time": "2023-09-29T19:35:32.777Z"
   },
   {
    "duration": 790,
    "start_time": "2023-09-29T20:03:51.541Z"
   },
   {
    "duration": 125,
    "start_time": "2023-09-29T20:03:52.333Z"
   },
   {
    "duration": 79,
    "start_time": "2023-09-29T20:03:52.461Z"
   },
   {
    "duration": 22,
    "start_time": "2023-09-29T20:03:52.542Z"
   },
   {
    "duration": 14,
    "start_time": "2023-09-29T20:03:52.566Z"
   },
   {
    "duration": 24,
    "start_time": "2023-09-29T20:03:52.581Z"
   },
   {
    "duration": 40,
    "start_time": "2023-09-29T20:03:52.607Z"
   },
   {
    "duration": 34,
    "start_time": "2023-09-29T20:03:52.648Z"
   },
   {
    "duration": 18,
    "start_time": "2023-09-29T20:03:52.683Z"
   },
   {
    "duration": 22,
    "start_time": "2023-09-29T20:03:52.703Z"
   },
   {
    "duration": 34,
    "start_time": "2023-09-29T20:03:52.726Z"
   },
   {
    "duration": 10,
    "start_time": "2023-09-29T20:03:52.761Z"
   },
   {
    "duration": 418,
    "start_time": "2023-09-29T20:03:52.773Z"
   },
   {
    "duration": 188,
    "start_time": "2023-09-29T20:03:53.195Z"
   },
   {
    "duration": 14,
    "start_time": "2023-09-29T20:03:53.385Z"
   },
   {
    "duration": 30,
    "start_time": "2023-09-29T20:03:53.451Z"
   },
   {
    "duration": 30,
    "start_time": "2023-09-29T20:03:53.483Z"
   },
   {
    "duration": 51,
    "start_time": "2023-09-29T20:03:53.514Z"
   },
   {
    "duration": 16,
    "start_time": "2023-09-29T20:03:53.567Z"
   },
   {
    "duration": 110,
    "start_time": "2023-09-29T20:03:53.584Z"
   },
   {
    "duration": 85,
    "start_time": "2023-09-29T20:03:53.695Z"
   },
   {
    "duration": 82,
    "start_time": "2023-09-29T20:03:53.781Z"
   },
   {
    "duration": 10,
    "start_time": "2023-09-29T20:03:53.865Z"
   },
   {
    "duration": 195,
    "start_time": "2023-09-29T20:03:53.877Z"
   },
   {
    "duration": 13491,
    "start_time": "2023-09-29T20:03:54.073Z"
   },
   {
    "duration": 15,
    "start_time": "2023-09-29T20:04:07.566Z"
   },
   {
    "duration": 515,
    "start_time": "2023-09-29T20:04:07.582Z"
   },
   {
    "duration": 5,
    "start_time": "2023-09-29T20:04:08.099Z"
   },
   {
    "duration": 54,
    "start_time": "2023-09-29T20:04:08.106Z"
   },
   {
    "duration": 20,
    "start_time": "2023-09-29T20:04:08.162Z"
   },
   {
    "duration": 817,
    "start_time": "2023-09-29T20:04:08.184Z"
   },
   {
    "duration": 14,
    "start_time": "2023-09-29T20:04:09.003Z"
   },
   {
    "duration": 146,
    "start_time": "2023-09-29T20:04:09.018Z"
   },
   {
    "duration": 7,
    "start_time": "2023-09-29T20:04:09.165Z"
   },
   {
    "duration": 45,
    "start_time": "2023-09-29T20:04:09.174Z"
   },
   {
    "duration": 60,
    "start_time": "2023-09-29T20:04:09.221Z"
   },
   {
    "duration": 2447,
    "start_time": "2023-09-29T20:04:09.282Z"
   },
   {
    "duration": 41,
    "start_time": "2023-09-29T20:04:11.731Z"
   },
   {
    "duration": 181,
    "start_time": "2023-09-29T20:04:11.774Z"
   },
   {
    "duration": 837,
    "start_time": "2023-09-30T06:02:47.836Z"
   },
   {
    "duration": 126,
    "start_time": "2023-09-30T06:02:48.675Z"
   },
   {
    "duration": 106,
    "start_time": "2023-09-30T06:02:48.803Z"
   },
   {
    "duration": 10,
    "start_time": "2023-09-30T06:02:48.912Z"
   },
   {
    "duration": 16,
    "start_time": "2023-09-30T06:02:48.924Z"
   },
   {
    "duration": 10,
    "start_time": "2023-09-30T06:02:48.942Z"
   },
   {
    "duration": 21,
    "start_time": "2023-09-30T06:02:48.954Z"
   },
   {
    "duration": 42,
    "start_time": "2023-09-30T06:02:48.977Z"
   },
   {
    "duration": 27,
    "start_time": "2023-09-30T06:02:49.022Z"
   },
   {
    "duration": 18,
    "start_time": "2023-09-30T06:02:49.052Z"
   },
   {
    "duration": 57,
    "start_time": "2023-09-30T06:02:49.072Z"
   },
   {
    "duration": 14,
    "start_time": "2023-09-30T06:02:49.131Z"
   },
   {
    "duration": 449,
    "start_time": "2023-09-30T06:02:49.147Z"
   },
   {
    "duration": 134,
    "start_time": "2023-09-30T06:02:49.598Z"
   },
   {
    "duration": 11,
    "start_time": "2023-09-30T06:02:49.733Z"
   },
   {
    "duration": 67,
    "start_time": "2023-09-30T06:02:49.746Z"
   },
   {
    "duration": 17,
    "start_time": "2023-09-30T06:02:49.815Z"
   },
   {
    "duration": 62,
    "start_time": "2023-09-30T06:02:49.834Z"
   },
   {
    "duration": 19,
    "start_time": "2023-09-30T06:02:49.910Z"
   },
   {
    "duration": 121,
    "start_time": "2023-09-30T06:02:49.931Z"
   },
   {
    "duration": 108,
    "start_time": "2023-09-30T06:02:50.054Z"
   },
   {
    "duration": 88,
    "start_time": "2023-09-30T06:02:50.164Z"
   },
   {
    "duration": 11,
    "start_time": "2023-09-30T06:02:50.254Z"
   },
   {
    "duration": 215,
    "start_time": "2023-09-30T06:02:50.267Z"
   },
   {
    "duration": 14793,
    "start_time": "2023-09-30T06:02:50.484Z"
   },
   {
    "duration": 44,
    "start_time": "2023-09-30T06:03:05.279Z"
   },
   {
    "duration": 497,
    "start_time": "2023-09-30T06:03:05.325Z"
   },
   {
    "duration": 5,
    "start_time": "2023-09-30T06:03:05.825Z"
   },
   {
    "duration": 37,
    "start_time": "2023-09-30T06:03:05.831Z"
   },
   {
    "duration": 31,
    "start_time": "2023-09-30T06:03:05.869Z"
   },
   {
    "duration": 816,
    "start_time": "2023-09-30T06:03:05.901Z"
   },
   {
    "duration": 12,
    "start_time": "2023-09-30T06:03:06.719Z"
   },
   {
    "duration": 137,
    "start_time": "2023-09-30T06:03:06.733Z"
   },
   {
    "duration": 8,
    "start_time": "2023-09-30T06:03:06.872Z"
   },
   {
    "duration": 37,
    "start_time": "2023-09-30T06:03:06.882Z"
   },
   {
    "duration": 38,
    "start_time": "2023-09-30T06:03:06.921Z"
   },
   {
    "duration": 2566,
    "start_time": "2023-09-30T06:03:06.961Z"
   },
   {
    "duration": 16,
    "start_time": "2023-09-30T06:03:09.529Z"
   },
   {
    "duration": 162,
    "start_time": "2023-09-30T06:03:09.547Z"
   },
   {
    "duration": 826,
    "start_time": "2023-10-03T10:16:28.632Z"
   },
   {
    "duration": 114,
    "start_time": "2023-10-03T10:16:29.461Z"
   },
   {
    "duration": 84,
    "start_time": "2023-10-03T10:16:29.577Z"
   },
   {
    "duration": 10,
    "start_time": "2023-10-03T10:16:29.664Z"
   },
   {
    "duration": 19,
    "start_time": "2023-10-03T10:16:29.676Z"
   },
   {
    "duration": 9,
    "start_time": "2023-10-03T10:16:29.696Z"
   },
   {
    "duration": 38,
    "start_time": "2023-10-03T10:16:29.706Z"
   },
   {
    "duration": 17,
    "start_time": "2023-10-03T10:16:29.745Z"
   },
   {
    "duration": 25,
    "start_time": "2023-10-03T10:16:29.763Z"
   },
   {
    "duration": 17,
    "start_time": "2023-10-03T10:16:29.791Z"
   },
   {
    "duration": 49,
    "start_time": "2023-10-03T10:16:29.809Z"
   },
   {
    "duration": 10,
    "start_time": "2023-10-03T10:16:29.860Z"
   },
   {
    "duration": 364,
    "start_time": "2023-10-03T10:16:29.872Z"
   },
   {
    "duration": 122,
    "start_time": "2023-10-03T10:16:30.238Z"
   },
   {
    "duration": 10,
    "start_time": "2023-10-03T10:16:30.362Z"
   },
   {
    "duration": 76,
    "start_time": "2023-10-03T10:16:30.374Z"
   },
   {
    "duration": 74,
    "start_time": "2023-10-03T10:16:30.452Z"
   },
   {
    "duration": 84,
    "start_time": "2023-10-03T10:16:30.528Z"
   },
   {
    "duration": 18,
    "start_time": "2023-10-03T10:16:30.614Z"
   },
   {
    "duration": 134,
    "start_time": "2023-10-03T10:16:30.634Z"
   },
   {
    "duration": 103,
    "start_time": "2023-10-03T10:16:30.770Z"
   },
   {
    "duration": 70,
    "start_time": "2023-10-03T10:16:30.874Z"
   },
   {
    "duration": 10,
    "start_time": "2023-10-03T10:16:30.945Z"
   },
   {
    "duration": 274,
    "start_time": "2023-10-03T10:16:30.957Z"
   },
   {
    "duration": 13793,
    "start_time": "2023-10-03T10:16:31.233Z"
   },
   {
    "duration": 26,
    "start_time": "2023-10-03T10:16:45.028Z"
   },
   {
    "duration": 432,
    "start_time": "2023-10-03T10:16:45.056Z"
   },
   {
    "duration": 4,
    "start_time": "2023-10-03T10:16:45.491Z"
   },
   {
    "duration": 42,
    "start_time": "2023-10-03T10:16:45.496Z"
   },
   {
    "duration": 15,
    "start_time": "2023-10-03T10:16:45.540Z"
   },
   {
    "duration": 753,
    "start_time": "2023-10-03T10:16:45.557Z"
   },
   {
    "duration": 11,
    "start_time": "2023-10-03T10:16:46.311Z"
   },
   {
    "duration": 120,
    "start_time": "2023-10-03T10:16:46.344Z"
   },
   {
    "duration": 7,
    "start_time": "2023-10-03T10:16:46.466Z"
   },
   {
    "duration": 35,
    "start_time": "2023-10-03T10:16:46.475Z"
   },
   {
    "duration": 39,
    "start_time": "2023-10-03T10:16:46.511Z"
   },
   {
    "duration": 2329,
    "start_time": "2023-10-03T10:16:46.552Z"
   },
   {
    "duration": 14,
    "start_time": "2023-10-03T10:16:48.883Z"
   },
   {
    "duration": 134,
    "start_time": "2023-10-03T10:16:48.898Z"
   },
   {
    "duration": 53,
    "start_time": "2023-10-03T10:24:04.818Z"
   },
   {
    "duration": 7890,
    "start_time": "2023-10-03T10:26:36.278Z"
   },
   {
    "duration": 62,
    "start_time": "2023-10-03T10:26:46.516Z"
   },
   {
    "duration": 836,
    "start_time": "2023-10-03T10:26:53.868Z"
   },
   {
    "duration": 67,
    "start_time": "2023-10-03T10:26:54.706Z"
   },
   {
    "duration": 93,
    "start_time": "2023-10-03T10:26:54.775Z"
   },
   {
    "duration": 9,
    "start_time": "2023-10-03T10:26:54.870Z"
   },
   {
    "duration": 22,
    "start_time": "2023-10-03T10:26:54.881Z"
   },
   {
    "duration": 9,
    "start_time": "2023-10-03T10:26:54.905Z"
   },
   {
    "duration": 42,
    "start_time": "2023-10-03T10:26:54.915Z"
   },
   {
    "duration": 20,
    "start_time": "2023-10-03T10:26:54.959Z"
   },
   {
    "duration": 40,
    "start_time": "2023-10-03T10:26:54.981Z"
   },
   {
    "duration": 46,
    "start_time": "2023-10-03T10:26:55.023Z"
   },
   {
    "duration": 38,
    "start_time": "2023-10-03T10:26:55.070Z"
   },
   {
    "duration": 28,
    "start_time": "2023-10-03T10:26:55.110Z"
   },
   {
    "duration": 2509,
    "start_time": "2023-10-03T10:26:55.140Z"
   },
   {
    "duration": 1119,
    "start_time": "2023-10-03T10:26:57.652Z"
   },
   {
    "duration": 195,
    "start_time": "2023-10-03T10:26:58.773Z"
   },
   {
    "duration": 11,
    "start_time": "2023-10-03T10:26:58.970Z"
   },
   {
    "duration": 70,
    "start_time": "2023-10-03T10:26:58.982Z"
   },
   {
    "duration": 22,
    "start_time": "2023-10-03T10:26:59.054Z"
   },
   {
    "duration": 109,
    "start_time": "2023-10-03T10:26:59.078Z"
   },
   {
    "duration": 18,
    "start_time": "2023-10-03T10:26:59.189Z"
   },
   {
    "duration": 140,
    "start_time": "2023-10-03T10:26:59.209Z"
   },
   {
    "duration": 94,
    "start_time": "2023-10-03T10:26:59.350Z"
   },
   {
    "duration": 67,
    "start_time": "2023-10-03T10:26:59.445Z"
   },
   {
    "duration": 32,
    "start_time": "2023-10-03T10:26:59.514Z"
   },
   {
    "duration": 122,
    "start_time": "2023-10-03T10:26:59.548Z"
   },
   {
    "duration": 14332,
    "start_time": "2023-10-03T10:26:59.672Z"
   },
   {
    "duration": 41,
    "start_time": "2023-10-03T10:27:14.006Z"
   },
   {
    "duration": 457,
    "start_time": "2023-10-03T10:27:14.049Z"
   },
   {
    "duration": 36,
    "start_time": "2023-10-03T10:27:14.509Z"
   },
   {
    "duration": 51,
    "start_time": "2023-10-03T10:27:14.547Z"
   },
   {
    "duration": 14,
    "start_time": "2023-10-03T10:27:14.600Z"
   },
   {
    "duration": 864,
    "start_time": "2023-10-03T10:27:14.616Z"
   },
   {
    "duration": 66,
    "start_time": "2023-10-03T10:27:15.482Z"
   },
   {
    "duration": 158,
    "start_time": "2023-10-03T10:27:15.549Z"
   },
   {
    "duration": 6,
    "start_time": "2023-10-03T10:27:15.709Z"
   },
   {
    "duration": 39,
    "start_time": "2023-10-03T10:27:15.717Z"
   },
   {
    "duration": 41,
    "start_time": "2023-10-03T10:27:15.757Z"
   },
   {
    "duration": 2515,
    "start_time": "2023-10-03T10:27:15.801Z"
   },
   {
    "duration": 16,
    "start_time": "2023-10-03T10:27:18.318Z"
   },
   {
    "duration": 2351,
    "start_time": "2023-10-03T10:27:18.335Z"
   },
   {
    "duration": 283,
    "start_time": "2023-10-03T10:27:21.520Z"
   },
   {
    "duration": 84,
    "start_time": "2023-10-03T10:27:21.805Z"
   },
   {
    "duration": 220,
    "start_time": "2023-10-03T10:27:27.228Z"
   },
   {
    "duration": 184,
    "start_time": "2023-10-03T10:27:31.978Z"
   },
   {
    "duration": 287,
    "start_time": "2023-10-03T10:27:40.012Z"
   },
   {
    "duration": 331,
    "start_time": "2023-10-03T10:27:46.334Z"
   },
   {
    "duration": 240,
    "start_time": "2023-10-03T10:28:00.968Z"
   },
   {
    "duration": 155,
    "start_time": "2023-10-03T10:28:12.339Z"
   },
   {
    "duration": 383,
    "start_time": "2023-10-03T10:29:53.694Z"
   },
   {
    "duration": 245,
    "start_time": "2023-10-03T10:30:28.859Z"
   },
   {
    "duration": 426,
    "start_time": "2023-10-03T10:32:17.196Z"
   },
   {
    "duration": 14850,
    "start_time": "2023-10-03T10:33:10.532Z"
   },
   {
    "duration": 242,
    "start_time": "2023-10-03T10:33:42.335Z"
   },
   {
    "duration": 936,
    "start_time": "2023-10-03T10:34:16.269Z"
   },
   {
    "duration": 201,
    "start_time": "2023-10-03T10:34:21.311Z"
   },
   {
    "duration": 2856,
    "start_time": "2023-10-03T10:34:29.997Z"
   },
   {
    "duration": 841,
    "start_time": "2023-10-03T10:35:38.079Z"
   },
   {
    "duration": 92,
    "start_time": "2023-10-03T10:35:48.723Z"
   },
   {
    "duration": 797,
    "start_time": "2023-10-03T10:39:12.777Z"
   },
   {
    "duration": 67,
    "start_time": "2023-10-03T10:39:13.576Z"
   },
   {
    "duration": 107,
    "start_time": "2023-10-03T10:39:13.644Z"
   },
   {
    "duration": 10,
    "start_time": "2023-10-03T10:39:13.752Z"
   },
   {
    "duration": 32,
    "start_time": "2023-10-03T10:39:13.765Z"
   },
   {
    "duration": 43,
    "start_time": "2023-10-03T10:39:13.802Z"
   },
   {
    "duration": 26,
    "start_time": "2023-10-03T10:39:13.847Z"
   },
   {
    "duration": 31,
    "start_time": "2023-10-03T10:39:13.875Z"
   },
   {
    "duration": 39,
    "start_time": "2023-10-03T10:39:13.908Z"
   },
   {
    "duration": 26,
    "start_time": "2023-10-03T10:39:13.949Z"
   },
   {
    "duration": 38,
    "start_time": "2023-10-03T10:39:13.977Z"
   },
   {
    "duration": 12,
    "start_time": "2023-10-03T10:39:14.017Z"
   },
   {
    "duration": 1181,
    "start_time": "2023-10-03T10:39:14.031Z"
   },
   {
    "duration": 266,
    "start_time": "2023-10-03T10:39:15.215Z"
   },
   {
    "duration": 11,
    "start_time": "2023-10-03T10:39:15.483Z"
   },
   {
    "duration": 85,
    "start_time": "2023-10-03T10:39:15.495Z"
   },
   {
    "duration": 15,
    "start_time": "2023-10-03T10:39:15.582Z"
   },
   {
    "duration": 198,
    "start_time": "2023-10-03T10:39:15.599Z"
   },
   {
    "duration": 54,
    "start_time": "2023-10-03T10:39:15.799Z"
   },
   {
    "duration": 257,
    "start_time": "2023-10-03T10:39:15.855Z"
   },
   {
    "duration": 276,
    "start_time": "2023-10-03T10:39:16.113Z"
   },
   {
    "duration": 258,
    "start_time": "2023-10-03T10:39:16.390Z"
   },
   {
    "duration": 10,
    "start_time": "2023-10-03T10:39:16.650Z"
   },
   {
    "duration": 242,
    "start_time": "2023-10-03T10:39:16.661Z"
   },
   {
    "duration": 13754,
    "start_time": "2023-10-03T10:39:16.905Z"
   },
   {
    "duration": 15,
    "start_time": "2023-10-03T10:39:30.661Z"
   },
   {
    "duration": 773,
    "start_time": "2023-10-03T10:39:30.677Z"
   },
   {
    "duration": 5,
    "start_time": "2023-10-03T10:39:31.451Z"
   },
   {
    "duration": 76,
    "start_time": "2023-10-03T10:39:31.457Z"
   },
   {
    "duration": 26,
    "start_time": "2023-10-03T10:39:31.535Z"
   },
   {
    "duration": 926,
    "start_time": "2023-10-03T10:39:31.563Z"
   },
   {
    "duration": 12,
    "start_time": "2023-10-03T10:39:32.491Z"
   },
   {
    "duration": 240,
    "start_time": "2023-10-03T10:39:32.505Z"
   },
   {
    "duration": 7,
    "start_time": "2023-10-03T10:39:32.746Z"
   },
   {
    "duration": 46,
    "start_time": "2023-10-03T10:39:32.754Z"
   },
   {
    "duration": 160,
    "start_time": "2023-10-03T10:39:32.802Z"
   },
   {
    "duration": 2850,
    "start_time": "2023-10-03T10:39:32.964Z"
   },
   {
    "duration": 14,
    "start_time": "2023-10-03T10:39:35.815Z"
   },
   {
    "duration": 293,
    "start_time": "2023-10-03T10:39:35.831Z"
   }
  ],
  "kernelspec": {
   "display_name": "Python 3 (ipykernel)",
   "language": "python",
   "name": "python3"
  },
  "language_info": {
   "codemirror_mode": {
    "name": "ipython",
    "version": 3
   },
   "file_extension": ".py",
   "mimetype": "text/x-python",
   "name": "python",
   "nbconvert_exporter": "python",
   "pygments_lexer": "ipython3",
   "version": "3.9.5"
  },
  "toc": {
   "base_numbering": 1,
   "nav_menu": {},
   "number_sections": true,
   "sideBar": true,
   "skip_h1_title": false,
   "title_cell": "Table of Contents",
   "title_sidebar": "Contents",
   "toc_cell": false,
   "toc_position": {
    "height": "calc(100% - 180px)",
    "left": "10px",
    "top": "150px",
    "width": "248.906px"
   },
   "toc_section_display": true,
   "toc_window_display": false
  }
 },
 "nbformat": 4,
 "nbformat_minor": 2
}
