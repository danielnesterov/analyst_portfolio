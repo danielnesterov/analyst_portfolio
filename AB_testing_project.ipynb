{
 "cells": [
  {
   "cell_type": "markdown",
   "metadata": {},
   "source": [
    "#  Приоритизация гипотез и оценка результатов АВ-теста в интернет-магазине\n",
    "\n",
    "**Проблема**\n",
    "\n",
    "Вместе с отделом маркетинга подготовлены несколько гипотез по увеличению выручки, которые нужно проверить с помощью A/B-теста.\n",
    "\n",
    "**Цель**\n",
    "\n",
    "Приоритизировать гипотезы по увеличению выручки методами **ICE** и **RICE**, а также провести анализ A/B-теста, чтобы максимально повысить выручку интернет-магазина.\n",
    "\n",
    "**Задачи**\n",
    "\n",
    "1. Приоритизировать гипотезы;\n",
    "2. Провести A/B-тест;\n",
    "3. Проанализировать результаты A/B-теста.\n",
    "\n",
    "\n",
    "**План**\n",
    "\n",
    "1. Подготовка данных.\n",
    "\n",
    "2. Приоритизация гипотез.\n",
    "\n",
    "3. Исследовательский анализ A/B-теста.\n",
    "\n",
    "4. Статистический анализ A/B-теста.\n",
    "\n",
    "5. Общие выводы\n",
    "\n",
    "**Описание данных**\n",
    "\n",
    "В файле `/datasets/hypothesis.csv` 9 гипотез по увеличению выручки интернет-магазина с указанными параметрами `Reach`, `Impact`, `Confidence`, `Effort`."
   ]
  },
  {
   "cell_type": "markdown",
   "metadata": {},
   "source": [
    "# Подготовка данных\n",
    "\n",
    "## Импорт библиотек и загрузка данных"
   ]
  },
  {
   "cell_type": "code",
   "execution_count": 1,
   "metadata": {},
   "outputs": [],
   "source": [
    "# импорт библиотек\n",
    "import pandas as pd                             # для анализа данных\n",
    "import numpy as np                              # для математических вычислений\n",
    "\n",
    "import seaborn as sns                           # для визуализации данных\n",
    "from matplotlib import pyplot as plt            # для визуализации данных\n",
    "%matplotlib inline\n",
    "\n",
    "import datetime as dt                           # для преобразования к типу данных\n",
    "from datetime import datetime      \n",
    "import scipy.stats as stats                     # для высокоуровневых математических вычислений                  \n",
    "\n",
    "import warnings                                 # для предупреждений в программе \n",
    "warnings.filterwarnings('ignore')               # игнорировать предупреждения"
   ]
  },
  {
   "cell_type": "code",
   "execution_count": 2,
   "metadata": {},
   "outputs": [],
   "source": [
    "# создание переменных с датафреймами  \n",
    "hypothesis = pd.read_csv('/datasets/hypothesis.csv') # гипотезы\n",
    "orders = pd.read_csv('/datasets/orders.csv')         # заказы\n",
    "visitors = pd.read_csv('/datasets/visitors.csv')     # пользователи\n",
    "\n",
    "# с помощью pd.option настроим вывод так, чтобы:\n",
    "pd.options.display.max_columns = None\n",
    "pd.options.display.max_colwidth = -1                 # текст в ячейке отражался полностью вне зависимости от длины;\n",
    "pd.options.display.float_format = '{:.2f}'.format    # все числа отражались с двумя знаками после запятой."
   ]
  },
  {
   "cell_type": "markdown",
   "metadata": {},
   "source": [
    "## Обзор данных\n",
    "\n",
    "### Таблица `hypothesis`\n",
    "\n",
    "+ `Hypothesis` — краткое описание гипотезы;\n",
    "\n",
    "+ `Reach` — охват пользователей по 10-балльной шкале;\n",
    "\n",
    "+ `Impact` — влияние на пользователей по 10-балльной шкале;\n",
    "\n",
    "+ `Confidence` — уверенность в гипотезе по 10-балльной шкале;\n",
    "\n",
    "+ `Efforts` — затраты ресурсов на проверку гипотезы по 10-балльной шкале. Чем больше значение Efforts, тем дороже проверка гипотезы."
   ]
  },
  {
   "cell_type": "code",
   "execution_count": 3,
   "metadata": {},
   "outputs": [
    {
     "data": {
      "text/plain": [
       "'5 первых строк таблицы:'"
      ]
     },
     "metadata": {},
     "output_type": "display_data"
    },
    {
     "data": {
      "text/html": [
       "<div>\n",
       "<style scoped>\n",
       "    .dataframe tbody tr th:only-of-type {\n",
       "        vertical-align: middle;\n",
       "    }\n",
       "\n",
       "    .dataframe tbody tr th {\n",
       "        vertical-align: top;\n",
       "    }\n",
       "\n",
       "    .dataframe thead th {\n",
       "        text-align: right;\n",
       "    }\n",
       "</style>\n",
       "<table border=\"1\" class=\"dataframe\">\n",
       "  <thead>\n",
       "    <tr style=\"text-align: right;\">\n",
       "      <th></th>\n",
       "      <th>Hypothesis</th>\n",
       "      <th>Reach</th>\n",
       "      <th>Impact</th>\n",
       "      <th>Confidence</th>\n",
       "      <th>Efforts</th>\n",
       "    </tr>\n",
       "  </thead>\n",
       "  <tbody>\n",
       "    <tr>\n",
       "      <th>0</th>\n",
       "      <td>Добавить два новых канала привлечения трафика, что позволит привлекать на 30% больше пользователей</td>\n",
       "      <td>3</td>\n",
       "      <td>10</td>\n",
       "      <td>8</td>\n",
       "      <td>6</td>\n",
       "    </tr>\n",
       "    <tr>\n",
       "      <th>1</th>\n",
       "      <td>Запустить собственную службу доставки, что сократит срок доставки заказов</td>\n",
       "      <td>2</td>\n",
       "      <td>5</td>\n",
       "      <td>4</td>\n",
       "      <td>10</td>\n",
       "    </tr>\n",
       "    <tr>\n",
       "      <th>2</th>\n",
       "      <td>Добавить блоки рекомендаций товаров на сайт интернет магазина, чтобы повысить конверсию и средний чек заказа</td>\n",
       "      <td>8</td>\n",
       "      <td>3</td>\n",
       "      <td>7</td>\n",
       "      <td>3</td>\n",
       "    </tr>\n",
       "    <tr>\n",
       "      <th>3</th>\n",
       "      <td>Изменить структура категорий, что увеличит конверсию, т.к. пользователи быстрее найдут нужный товар</td>\n",
       "      <td>8</td>\n",
       "      <td>3</td>\n",
       "      <td>3</td>\n",
       "      <td>8</td>\n",
       "    </tr>\n",
       "    <tr>\n",
       "      <th>4</th>\n",
       "      <td>Изменить цвет фона главной страницы, чтобы увеличить вовлеченность пользователей</td>\n",
       "      <td>3</td>\n",
       "      <td>1</td>\n",
       "      <td>1</td>\n",
       "      <td>1</td>\n",
       "    </tr>\n",
       "  </tbody>\n",
       "</table>\n",
       "</div>"
      ],
      "text/plain": [
       "                                                                                                     Hypothesis  \\\n",
       "0  Добавить два новых канала привлечения трафика, что позволит привлекать на 30% больше пользователей             \n",
       "1  Запустить собственную службу доставки, что сократит срок доставки заказов                                      \n",
       "2  Добавить блоки рекомендаций товаров на сайт интернет магазина, чтобы повысить конверсию и средний чек заказа   \n",
       "3  Изменить структура категорий, что увеличит конверсию, т.к. пользователи быстрее найдут нужный товар            \n",
       "4  Изменить цвет фона главной страницы, чтобы увеличить вовлеченность пользователей                               \n",
       "\n",
       "   Reach  Impact  Confidence  Efforts  \n",
       "0  3      10      8           6        \n",
       "1  2      5       4           10       \n",
       "2  8      3       7           3        \n",
       "3  8      3       3           8        \n",
       "4  3      1       1           1        "
      ]
     },
     "metadata": {},
     "output_type": "display_data"
    },
    {
     "data": {
      "text/plain": [
       "'Статистика данных:'"
      ]
     },
     "metadata": {},
     "output_type": "display_data"
    },
    {
     "data": {
      "text/html": [
       "<div>\n",
       "<style scoped>\n",
       "    .dataframe tbody tr th:only-of-type {\n",
       "        vertical-align: middle;\n",
       "    }\n",
       "\n",
       "    .dataframe tbody tr th {\n",
       "        vertical-align: top;\n",
       "    }\n",
       "\n",
       "    .dataframe thead th {\n",
       "        text-align: right;\n",
       "    }\n",
       "</style>\n",
       "<table border=\"1\" class=\"dataframe\">\n",
       "  <thead>\n",
       "    <tr style=\"text-align: right;\">\n",
       "      <th></th>\n",
       "      <th>Reach</th>\n",
       "      <th>Impact</th>\n",
       "      <th>Confidence</th>\n",
       "      <th>Efforts</th>\n",
       "    </tr>\n",
       "  </thead>\n",
       "  <tbody>\n",
       "    <tr>\n",
       "      <th>count</th>\n",
       "      <td>9.00</td>\n",
       "      <td>9.00</td>\n",
       "      <td>9.00</td>\n",
       "      <td>9.00</td>\n",
       "    </tr>\n",
       "    <tr>\n",
       "      <th>mean</th>\n",
       "      <td>4.78</td>\n",
       "      <td>4.78</td>\n",
       "      <td>5.56</td>\n",
       "      <td>4.89</td>\n",
       "    </tr>\n",
       "    <tr>\n",
       "      <th>std</th>\n",
       "      <td>3.15</td>\n",
       "      <td>3.19</td>\n",
       "      <td>3.05</td>\n",
       "      <td>2.80</td>\n",
       "    </tr>\n",
       "    <tr>\n",
       "      <th>min</th>\n",
       "      <td>1.00</td>\n",
       "      <td>1.00</td>\n",
       "      <td>1.00</td>\n",
       "      <td>1.00</td>\n",
       "    </tr>\n",
       "    <tr>\n",
       "      <th>25%</th>\n",
       "      <td>3.00</td>\n",
       "      <td>3.00</td>\n",
       "      <td>3.00</td>\n",
       "      <td>3.00</td>\n",
       "    </tr>\n",
       "    <tr>\n",
       "      <th>50%</th>\n",
       "      <td>3.00</td>\n",
       "      <td>3.00</td>\n",
       "      <td>7.00</td>\n",
       "      <td>5.00</td>\n",
       "    </tr>\n",
       "    <tr>\n",
       "      <th>75%</th>\n",
       "      <td>8.00</td>\n",
       "      <td>7.00</td>\n",
       "      <td>8.00</td>\n",
       "      <td>6.00</td>\n",
       "    </tr>\n",
       "    <tr>\n",
       "      <th>max</th>\n",
       "      <td>10.00</td>\n",
       "      <td>10.00</td>\n",
       "      <td>9.00</td>\n",
       "      <td>10.00</td>\n",
       "    </tr>\n",
       "  </tbody>\n",
       "</table>\n",
       "</div>"
      ],
      "text/plain": [
       "       Reach  Impact  Confidence  Efforts\n",
       "count 9.00   9.00    9.00        9.00    \n",
       "mean  4.78   4.78    5.56        4.89    \n",
       "std   3.15   3.19    3.05        2.80    \n",
       "min   1.00   1.00    1.00        1.00    \n",
       "25%   3.00   3.00    3.00        3.00    \n",
       "50%   3.00   3.00    7.00        5.00    \n",
       "75%   8.00   7.00    8.00        6.00    \n",
       "max   10.00  10.00   9.00        10.00   "
      ]
     },
     "metadata": {},
     "output_type": "display_data"
    },
    {
     "data": {
      "text/plain": [
       "'Общая информация о данных:'"
      ]
     },
     "metadata": {},
     "output_type": "display_data"
    },
    {
     "name": "stdout",
     "output_type": "stream",
     "text": [
      "<class 'pandas.core.frame.DataFrame'>\n",
      "RangeIndex: 9 entries, 0 to 8\n",
      "Data columns (total 5 columns):\n",
      " #   Column      Non-Null Count  Dtype \n",
      "---  ------      --------------  ----- \n",
      " 0   Hypothesis  9 non-null      object\n",
      " 1   Reach       9 non-null      int64 \n",
      " 2   Impact      9 non-null      int64 \n",
      " 3   Confidence  9 non-null      int64 \n",
      " 4   Efforts     9 non-null      int64 \n",
      "dtypes: int64(4), object(1)\n",
      "memory usage: 488.0+ bytes\n"
     ]
    }
   ],
   "source": [
    "# случайная выборка, статистика и общая информация о датафрейме в одной мини-функции\n",
    "\n",
    "def info_dataframe(dataframe):\n",
    "    display(\"5 первых строк таблицы:\")\n",
    "    display(dataframe.head())\n",
    "    display(\"Статистика данных:\")\n",
    "    display(dataframe.describe())\n",
    "    display(\"Общая информация о данных:\")\n",
    "    dataframe.info()\n",
    "    \n",
    "info_dataframe(hypothesis)"
   ]
  },
  {
   "cell_type": "markdown",
   "metadata": {},
   "source": [
    "### Таблица `orders`\n",
    "\n",
    "+ `transactionId` — идентификатор заказа;\n",
    "\n",
    "+ `visitorId` — идентификатор пользователя, совершившего заказ;\n",
    "\n",
    "+ `date` — дата, когда был совершён заказ;\n",
    "\n",
    "+ `revenue` — выручка заказа;\n",
    "\n",
    "+ `group` — группа A/B-теста, в которую попал заказ."
   ]
  },
  {
   "cell_type": "code",
   "execution_count": 4,
   "metadata": {},
   "outputs": [
    {
     "data": {
      "text/plain": [
       "'5 первых строк таблицы:'"
      ]
     },
     "metadata": {},
     "output_type": "display_data"
    },
    {
     "data": {
      "text/html": [
       "<div>\n",
       "<style scoped>\n",
       "    .dataframe tbody tr th:only-of-type {\n",
       "        vertical-align: middle;\n",
       "    }\n",
       "\n",
       "    .dataframe tbody tr th {\n",
       "        vertical-align: top;\n",
       "    }\n",
       "\n",
       "    .dataframe thead th {\n",
       "        text-align: right;\n",
       "    }\n",
       "</style>\n",
       "<table border=\"1\" class=\"dataframe\">\n",
       "  <thead>\n",
       "    <tr style=\"text-align: right;\">\n",
       "      <th></th>\n",
       "      <th>transactionId</th>\n",
       "      <th>visitorId</th>\n",
       "      <th>date</th>\n",
       "      <th>revenue</th>\n",
       "      <th>group</th>\n",
       "    </tr>\n",
       "  </thead>\n",
       "  <tbody>\n",
       "    <tr>\n",
       "      <th>0</th>\n",
       "      <td>3667963787</td>\n",
       "      <td>3312258926</td>\n",
       "      <td>2019-08-15</td>\n",
       "      <td>1650</td>\n",
       "      <td>B</td>\n",
       "    </tr>\n",
       "    <tr>\n",
       "      <th>1</th>\n",
       "      <td>2804400009</td>\n",
       "      <td>3642806036</td>\n",
       "      <td>2019-08-15</td>\n",
       "      <td>730</td>\n",
       "      <td>B</td>\n",
       "    </tr>\n",
       "    <tr>\n",
       "      <th>2</th>\n",
       "      <td>2961555356</td>\n",
       "      <td>4069496402</td>\n",
       "      <td>2019-08-15</td>\n",
       "      <td>400</td>\n",
       "      <td>A</td>\n",
       "    </tr>\n",
       "    <tr>\n",
       "      <th>3</th>\n",
       "      <td>3797467345</td>\n",
       "      <td>1196621759</td>\n",
       "      <td>2019-08-15</td>\n",
       "      <td>9759</td>\n",
       "      <td>B</td>\n",
       "    </tr>\n",
       "    <tr>\n",
       "      <th>4</th>\n",
       "      <td>2282983706</td>\n",
       "      <td>2322279887</td>\n",
       "      <td>2019-08-15</td>\n",
       "      <td>2308</td>\n",
       "      <td>B</td>\n",
       "    </tr>\n",
       "  </tbody>\n",
       "</table>\n",
       "</div>"
      ],
      "text/plain": [
       "   transactionId   visitorId        date  revenue group\n",
       "0  3667963787     3312258926  2019-08-15  1650     B   \n",
       "1  2804400009     3642806036  2019-08-15  730      B   \n",
       "2  2961555356     4069496402  2019-08-15  400      A   \n",
       "3  3797467345     1196621759  2019-08-15  9759     B   \n",
       "4  2282983706     2322279887  2019-08-15  2308     B   "
      ]
     },
     "metadata": {},
     "output_type": "display_data"
    },
    {
     "data": {
      "text/plain": [
       "'Статистика данных:'"
      ]
     },
     "metadata": {},
     "output_type": "display_data"
    },
    {
     "data": {
      "text/html": [
       "<div>\n",
       "<style scoped>\n",
       "    .dataframe tbody tr th:only-of-type {\n",
       "        vertical-align: middle;\n",
       "    }\n",
       "\n",
       "    .dataframe tbody tr th {\n",
       "        vertical-align: top;\n",
       "    }\n",
       "\n",
       "    .dataframe thead th {\n",
       "        text-align: right;\n",
       "    }\n",
       "</style>\n",
       "<table border=\"1\" class=\"dataframe\">\n",
       "  <thead>\n",
       "    <tr style=\"text-align: right;\">\n",
       "      <th></th>\n",
       "      <th>transactionId</th>\n",
       "      <th>visitorId</th>\n",
       "      <th>revenue</th>\n",
       "    </tr>\n",
       "  </thead>\n",
       "  <tbody>\n",
       "    <tr>\n",
       "      <th>count</th>\n",
       "      <td>1197.00</td>\n",
       "      <td>1197.00</td>\n",
       "      <td>1197.00</td>\n",
       "    </tr>\n",
       "    <tr>\n",
       "      <th>mean</th>\n",
       "      <td>2155621385.53</td>\n",
       "      <td>2165960143.10</td>\n",
       "      <td>8348.01</td>\n",
       "    </tr>\n",
       "    <tr>\n",
       "      <th>std</th>\n",
       "      <td>1229084904.76</td>\n",
       "      <td>1236014192.15</td>\n",
       "      <td>39191.13</td>\n",
       "    </tr>\n",
       "    <tr>\n",
       "      <th>min</th>\n",
       "      <td>1062393.00</td>\n",
       "      <td>5114589.00</td>\n",
       "      <td>50.00</td>\n",
       "    </tr>\n",
       "    <tr>\n",
       "      <th>25%</th>\n",
       "      <td>1166775572.00</td>\n",
       "      <td>1111826046.00</td>\n",
       "      <td>1220.00</td>\n",
       "    </tr>\n",
       "    <tr>\n",
       "      <th>50%</th>\n",
       "      <td>2145193898.00</td>\n",
       "      <td>2217984702.00</td>\n",
       "      <td>2978.00</td>\n",
       "    </tr>\n",
       "    <tr>\n",
       "      <th>75%</th>\n",
       "      <td>3237740112.00</td>\n",
       "      <td>3177606451.00</td>\n",
       "      <td>8290.00</td>\n",
       "    </tr>\n",
       "    <tr>\n",
       "      <th>max</th>\n",
       "      <td>4293855558.00</td>\n",
       "      <td>4283872382.00</td>\n",
       "      <td>1294500.00</td>\n",
       "    </tr>\n",
       "  </tbody>\n",
       "</table>\n",
       "</div>"
      ],
      "text/plain": [
       "       transactionId     visitorId    revenue\n",
       "count 1197.00        1197.00       1197.00   \n",
       "mean  2155621385.53  2165960143.10 8348.01   \n",
       "std   1229084904.76  1236014192.15 39191.13  \n",
       "min   1062393.00     5114589.00    50.00     \n",
       "25%   1166775572.00  1111826046.00 1220.00   \n",
       "50%   2145193898.00  2217984702.00 2978.00   \n",
       "75%   3237740112.00  3177606451.00 8290.00   \n",
       "max   4293855558.00  4283872382.00 1294500.00"
      ]
     },
     "metadata": {},
     "output_type": "display_data"
    },
    {
     "data": {
      "text/plain": [
       "'Общая информация о данных:'"
      ]
     },
     "metadata": {},
     "output_type": "display_data"
    },
    {
     "name": "stdout",
     "output_type": "stream",
     "text": [
      "<class 'pandas.core.frame.DataFrame'>\n",
      "RangeIndex: 1197 entries, 0 to 1196\n",
      "Data columns (total 5 columns):\n",
      " #   Column         Non-Null Count  Dtype \n",
      "---  ------         --------------  ----- \n",
      " 0   transactionId  1197 non-null   int64 \n",
      " 1   visitorId      1197 non-null   int64 \n",
      " 2   date           1197 non-null   object\n",
      " 3   revenue        1197 non-null   int64 \n",
      " 4   group          1197 non-null   object\n",
      "dtypes: int64(3), object(2)\n",
      "memory usage: 46.9+ KB\n"
     ]
    }
   ],
   "source": [
    "info_dataframe(orders)"
   ]
  },
  {
   "cell_type": "markdown",
   "metadata": {},
   "source": [
    "### Таблица `visitors`\n",
    "\n",
    "+ `date` — дата;\n",
    "\n",
    "+ `group` — группа A/B-теста;\n",
    "\n",
    "+ `visitors` — количество пользователей в указанную дату в указанной группе A/B-теста\n"
   ]
  },
  {
   "cell_type": "code",
   "execution_count": 5,
   "metadata": {},
   "outputs": [
    {
     "data": {
      "text/plain": [
       "'5 первых строк таблицы:'"
      ]
     },
     "metadata": {},
     "output_type": "display_data"
    },
    {
     "data": {
      "text/html": [
       "<div>\n",
       "<style scoped>\n",
       "    .dataframe tbody tr th:only-of-type {\n",
       "        vertical-align: middle;\n",
       "    }\n",
       "\n",
       "    .dataframe tbody tr th {\n",
       "        vertical-align: top;\n",
       "    }\n",
       "\n",
       "    .dataframe thead th {\n",
       "        text-align: right;\n",
       "    }\n",
       "</style>\n",
       "<table border=\"1\" class=\"dataframe\">\n",
       "  <thead>\n",
       "    <tr style=\"text-align: right;\">\n",
       "      <th></th>\n",
       "      <th>date</th>\n",
       "      <th>group</th>\n",
       "      <th>visitors</th>\n",
       "    </tr>\n",
       "  </thead>\n",
       "  <tbody>\n",
       "    <tr>\n",
       "      <th>0</th>\n",
       "      <td>2019-08-01</td>\n",
       "      <td>A</td>\n",
       "      <td>719</td>\n",
       "    </tr>\n",
       "    <tr>\n",
       "      <th>1</th>\n",
       "      <td>2019-08-02</td>\n",
       "      <td>A</td>\n",
       "      <td>619</td>\n",
       "    </tr>\n",
       "    <tr>\n",
       "      <th>2</th>\n",
       "      <td>2019-08-03</td>\n",
       "      <td>A</td>\n",
       "      <td>507</td>\n",
       "    </tr>\n",
       "    <tr>\n",
       "      <th>3</th>\n",
       "      <td>2019-08-04</td>\n",
       "      <td>A</td>\n",
       "      <td>717</td>\n",
       "    </tr>\n",
       "    <tr>\n",
       "      <th>4</th>\n",
       "      <td>2019-08-05</td>\n",
       "      <td>A</td>\n",
       "      <td>756</td>\n",
       "    </tr>\n",
       "  </tbody>\n",
       "</table>\n",
       "</div>"
      ],
      "text/plain": [
       "         date group  visitors\n",
       "0  2019-08-01  A     719     \n",
       "1  2019-08-02  A     619     \n",
       "2  2019-08-03  A     507     \n",
       "3  2019-08-04  A     717     \n",
       "4  2019-08-05  A     756     "
      ]
     },
     "metadata": {},
     "output_type": "display_data"
    },
    {
     "data": {
      "text/plain": [
       "'Статистика данных:'"
      ]
     },
     "metadata": {},
     "output_type": "display_data"
    },
    {
     "data": {
      "text/html": [
       "<div>\n",
       "<style scoped>\n",
       "    .dataframe tbody tr th:only-of-type {\n",
       "        vertical-align: middle;\n",
       "    }\n",
       "\n",
       "    .dataframe tbody tr th {\n",
       "        vertical-align: top;\n",
       "    }\n",
       "\n",
       "    .dataframe thead th {\n",
       "        text-align: right;\n",
       "    }\n",
       "</style>\n",
       "<table border=\"1\" class=\"dataframe\">\n",
       "  <thead>\n",
       "    <tr style=\"text-align: right;\">\n",
       "      <th></th>\n",
       "      <th>visitors</th>\n",
       "    </tr>\n",
       "  </thead>\n",
       "  <tbody>\n",
       "    <tr>\n",
       "      <th>count</th>\n",
       "      <td>62.00</td>\n",
       "    </tr>\n",
       "    <tr>\n",
       "      <th>mean</th>\n",
       "      <td>607.29</td>\n",
       "    </tr>\n",
       "    <tr>\n",
       "      <th>std</th>\n",
       "      <td>114.40</td>\n",
       "    </tr>\n",
       "    <tr>\n",
       "      <th>min</th>\n",
       "      <td>361.00</td>\n",
       "    </tr>\n",
       "    <tr>\n",
       "      <th>25%</th>\n",
       "      <td>534.00</td>\n",
       "    </tr>\n",
       "    <tr>\n",
       "      <th>50%</th>\n",
       "      <td>624.50</td>\n",
       "    </tr>\n",
       "    <tr>\n",
       "      <th>75%</th>\n",
       "      <td>710.50</td>\n",
       "    </tr>\n",
       "    <tr>\n",
       "      <th>max</th>\n",
       "      <td>770.00</td>\n",
       "    </tr>\n",
       "  </tbody>\n",
       "</table>\n",
       "</div>"
      ],
      "text/plain": [
       "       visitors\n",
       "count 62.00    \n",
       "mean  607.29   \n",
       "std   114.40   \n",
       "min   361.00   \n",
       "25%   534.00   \n",
       "50%   624.50   \n",
       "75%   710.50   \n",
       "max   770.00   "
      ]
     },
     "metadata": {},
     "output_type": "display_data"
    },
    {
     "data": {
      "text/plain": [
       "'Общая информация о данных:'"
      ]
     },
     "metadata": {},
     "output_type": "display_data"
    },
    {
     "name": "stdout",
     "output_type": "stream",
     "text": [
      "<class 'pandas.core.frame.DataFrame'>\n",
      "RangeIndex: 62 entries, 0 to 61\n",
      "Data columns (total 3 columns):\n",
      " #   Column    Non-Null Count  Dtype \n",
      "---  ------    --------------  ----- \n",
      " 0   date      62 non-null     object\n",
      " 1   group     62 non-null     object\n",
      " 2   visitors  62 non-null     int64 \n",
      "dtypes: int64(1), object(2)\n",
      "memory usage: 1.6+ KB\n"
     ]
    }
   ],
   "source": [
    "info_dataframe(visitors)"
   ]
  },
  {
   "cell_type": "markdown",
   "metadata": {},
   "source": [
    "***Выводы***\n",
    "\n",
    "1. Данные за период с 1.08.2019 по 31.08.2019 распределены в 3 датасетах. \n",
    "\n",
    "    1.1. Датасет `hypothesis` содержит информацию о 9 гипотезах по увеличению выручки интернет-магазина. \n",
    "\n",
    "    1.2. Датасет `orders` о заказах, пользователях, из совершивших и группе A/B-теста, в которую попал заказ. \n",
    "\n",
    "    1.3. Датасет `visitors` о количестве пользователей в указанную дату в указанной группе A/B-теста.\n",
    "\n",
    "2. Проблемы со стилем в заголовках во всех датасетах.\n",
    "\n",
    "3. Неверный тип данных в датасетах `orders` (колонка `date`) и `visitors` (колонка `date`)."
   ]
  },
  {
   "cell_type": "markdown",
   "metadata": {},
   "source": [
    "## Обработка данных\n",
    "### Стиль заголовков\n",
    "Исправим стиль заголовков и переименуем некоторые колонки для большего удобства:"
   ]
  },
  {
   "cell_type": "code",
   "execution_count": 6,
   "metadata": {
    "scrolled": true
   },
   "outputs": [
    {
     "name": "stdout",
     "output_type": "stream",
     "text": [
      "Стиль заголовков исправлен:\n",
      "\n",
      "Index(['hypothesis', 'reach', 'impact', 'confidence', 'efforts'], dtype='object')\n",
      "Index(['order_id', 'user_id', 'date', 'revenue', 'group'], dtype='object')\n"
     ]
    },
    {
     "data": {
      "text/plain": [
       "Index(['date', 'group', 'visitors'], dtype='object')"
      ]
     },
     "execution_count": 6,
     "metadata": {},
     "output_type": "execute_result"
    }
   ],
   "source": [
    "# приведём заголовки к нижнему регистру\n",
    "hypothesis.columns = hypothesis.columns.str.lower()\n",
    "\n",
    "# переименуем колонки с неправильным стилем \n",
    "# и колнку transactionId на order_id, и visitorId на user_id\n",
    "orders.columns = ['order_id', 'user_id', 'date', 'revenue', 'group']\n",
    "visitors.columns = ['date', 'group', 'visitors']\n",
    "\n",
    "print('Стиль заголовков исправлен:\\n')\n",
    "print(hypothesis.columns)\n",
    "print(orders.columns)\n",
    "visitors.columns"
   ]
  },
  {
   "cell_type": "markdown",
   "metadata": {},
   "source": [
    "### Обработка пропусков\n",
    "Посмотрим наличие пропусков:"
   ]
  },
  {
   "cell_type": "code",
   "execution_count": 7,
   "metadata": {},
   "outputs": [
    {
     "data": {
      "text/plain": [
       "'Количество пропусков в датафрейме visits:'"
      ]
     },
     "metadata": {},
     "output_type": "display_data"
    },
    {
     "data": {
      "text/plain": [
       "hypothesis    0\n",
       "reach         0\n",
       "impact        0\n",
       "confidence    0\n",
       "efforts       0\n",
       "dtype: int64"
      ]
     },
     "metadata": {},
     "output_type": "display_data"
    },
    {
     "data": {
      "text/plain": [
       "'Количество пропусков в датафрейме orders:'"
      ]
     },
     "metadata": {},
     "output_type": "display_data"
    },
    {
     "data": {
      "text/plain": [
       "order_id    0\n",
       "user_id     0\n",
       "date        0\n",
       "revenue     0\n",
       "group       0\n",
       "dtype: int64"
      ]
     },
     "metadata": {},
     "output_type": "display_data"
    },
    {
     "data": {
      "text/plain": [
       "'Количество пропусков в датафрейме costs:'"
      ]
     },
     "metadata": {},
     "output_type": "display_data"
    },
    {
     "data": {
      "text/plain": [
       "date        0\n",
       "group       0\n",
       "visitors    0\n",
       "dtype: int64"
      ]
     },
     "metadata": {},
     "output_type": "display_data"
    }
   ],
   "source": [
    "display('Количество пропусков в датафрейме visits:', hypothesis.isna().sum())\n",
    "display('Количество пропусков в датафрейме orders:', orders.isna().sum())\n",
    "display('Количество пропусков в датафрейме costs:', visitors.isna().sum())"
   ]
  },
  {
   "cell_type": "markdown",
   "metadata": {},
   "source": [
    "Пропусков нет."
   ]
  },
  {
   "cell_type": "markdown",
   "metadata": {},
   "source": [
    "### Изменение типа данных\n",
    "Изменим тип данных в колонках:\n",
    "\n",
    "Датасет `orders`:\n",
    "\n",
    "+ `date` (на datetime - столбец содержит значения даты).\n",
    "\n",
    "Датасет `visitors`:\n",
    "\n",
    "+ `date` (на datetime - столбец содержит значения даты)."
   ]
  },
  {
   "cell_type": "code",
   "execution_count": 8,
   "metadata": {},
   "outputs": [],
   "source": [
    "orders['date'] = pd.to_datetime(orders['date'], format='%Y-%m-%d')\n",
    "visitors['date'] = pd.to_datetime(visitors['date'], format='%Y-%m-%d')"
   ]
  },
  {
   "cell_type": "markdown",
   "metadata": {},
   "source": [
    "### Обработка дубликатов\n",
    "Проверим таблицы на явные дубликаты:"
   ]
  },
  {
   "cell_type": "code",
   "execution_count": 9,
   "metadata": {},
   "outputs": [
    {
     "name": "stdout",
     "output_type": "stream",
     "text": [
      "Количество строк-дубликатов в датафрейме hypothesis: 0\n",
      "Количество строк-дубликатов в датафрейме orders: 0\n",
      "Количество строк-дубликатов в датафрейме visitors: 0\n"
     ]
    }
   ],
   "source": [
    "print('Количество строк-дубликатов в датафрейме hypothesis:', hypothesis.duplicated().sum())\n",
    "print('Количество строк-дубликатов в датафрейме orders:', orders.duplicated().sum())\n",
    "print('Количество строк-дубликатов в датафрейме visitors:', visitors.duplicated().sum())"
   ]
  },
  {
   "cell_type": "markdown",
   "metadata": {},
   "source": [
    "Дубликатов не обнаружено."
   ]
  },
  {
   "cell_type": "markdown",
   "metadata": {},
   "source": [
    "### Минимальная и максимальная дата\n",
    "Посмотрим за какой период имеются данные."
   ]
  },
  {
   "cell_type": "code",
   "execution_count": 10,
   "metadata": {},
   "outputs": [
    {
     "data": {
      "text/plain": [
       "'Дата первого заказа:'"
      ]
     },
     "metadata": {},
     "output_type": "display_data"
    },
    {
     "data": {
      "text/plain": [
       "Timestamp('2019-08-01 00:00:00')"
      ]
     },
     "metadata": {},
     "output_type": "display_data"
    },
    {
     "data": {
      "text/plain": [
       "'Дата первого визита:'"
      ]
     },
     "metadata": {},
     "output_type": "display_data"
    },
    {
     "data": {
      "text/plain": [
       "Timestamp('2019-08-01 00:00:00')"
      ]
     },
     "metadata": {},
     "output_type": "display_data"
    }
   ],
   "source": [
    "display('Дата первого заказа:', orders['date'].min())\n",
    "display('Дата первого визита:', visitors['date'].min())"
   ]
  },
  {
   "cell_type": "code",
   "execution_count": 11,
   "metadata": {},
   "outputs": [
    {
     "data": {
      "text/plain": [
       "'Дата последнего заказа:'"
      ]
     },
     "metadata": {},
     "output_type": "display_data"
    },
    {
     "data": {
      "text/plain": [
       "Timestamp('2019-08-31 00:00:00')"
      ]
     },
     "metadata": {},
     "output_type": "display_data"
    },
    {
     "data": {
      "text/plain": [
       "'Дата последнего визита:'"
      ]
     },
     "metadata": {},
     "output_type": "display_data"
    },
    {
     "data": {
      "text/plain": [
       "Timestamp('2019-08-31 00:00:00')"
      ]
     },
     "metadata": {},
     "output_type": "display_data"
    }
   ],
   "source": [
    "# дата регистрации последнего пользователя в 2018 году\n",
    "display('Дата последнего заказа:', orders['date'].max())\n",
    "display('Дата последнего визита:', visitors['date'].max())"
   ]
  },
  {
   "cell_type": "markdown",
   "metadata": {},
   "source": [
    "## Проверим корректность групп для А/В теста\n",
    "### Количество групп А/В теста"
   ]
  },
  {
   "cell_type": "code",
   "execution_count": 12,
   "metadata": {},
   "outputs": [
    {
     "name": "stdout",
     "output_type": "stream",
     "text": [
      "Всего групп 2 : ['A' 'B']\n"
     ]
    }
   ],
   "source": [
    "print('Всего групп',visitors['group'].nunique(),':',visitors['group'].unique())"
   ]
  },
  {
   "cell_type": "markdown",
   "metadata": {},
   "source": [
    "### Количество пользователей в каждой группе"
   ]
  },
  {
   "cell_type": "code",
   "execution_count": 13,
   "metadata": {},
   "outputs": [
    {
     "data": {
      "text/html": [
       "<div>\n",
       "<style scoped>\n",
       "    .dataframe tbody tr th:only-of-type {\n",
       "        vertical-align: middle;\n",
       "    }\n",
       "\n",
       "    .dataframe tbody tr th {\n",
       "        vertical-align: top;\n",
       "    }\n",
       "\n",
       "    .dataframe thead th {\n",
       "        text-align: right;\n",
       "    }\n",
       "</style>\n",
       "<table border=\"1\" class=\"dataframe\">\n",
       "  <thead>\n",
       "    <tr style=\"text-align: right;\">\n",
       "      <th></th>\n",
       "      <th>group</th>\n",
       "      <th>user_id</th>\n",
       "    </tr>\n",
       "  </thead>\n",
       "  <tbody>\n",
       "    <tr>\n",
       "      <th>0</th>\n",
       "      <td>A</td>\n",
       "      <td>503</td>\n",
       "    </tr>\n",
       "    <tr>\n",
       "      <th>1</th>\n",
       "      <td>B</td>\n",
       "      <td>586</td>\n",
       "    </tr>\n",
       "  </tbody>\n",
       "</table>\n",
       "</div>"
      ],
      "text/plain": [
       "  group  user_id\n",
       "0  A     503    \n",
       "1  B     586    "
      ]
     },
     "execution_count": 13,
     "metadata": {},
     "output_type": "execute_result"
    }
   ],
   "source": [
    "orders.groupby(by='group', as_index=False).agg({'user_id':'nunique'})"
   ]
  },
  {
   "cell_type": "markdown",
   "metadata": {},
   "source": [
    "### Количество пользователей в обеих группах"
   ]
  },
  {
   "cell_type": "code",
   "execution_count": 14,
   "metadata": {},
   "outputs": [
    {
     "name": "stdout",
     "output_type": "stream",
     "text": [
      "Количество пользователей, попавших в обе группы равно: 58\n"
     ]
    }
   ],
   "source": [
    "duplicated_users = orders.groupby(by='user_id').agg({'group' : ['nunique', 'unique']})\n",
    "duplicated_users.columns = ['groups', 'group_names']\n",
    "duplicated_users = duplicated_users.query('groups > 1')\n",
    "print('Количество пользователей, попавших в обе группы равно:', len(duplicated_users))"
   ]
  },
  {
   "cell_type": "markdown",
   "metadata": {},
   "source": [
    "**Итоги**\n",
    "1. Пользоветелей в группе В на 16% больше, чем в группе А.\n",
    "2. 58 пользователей попали в обе группы А/В теста.\n",
    "**Вывод**\n",
    "\n",
    "Таким образом, **результаты** А/В теста **не будут корректными** из-за наличия пользователей, попавших в обе группы и их нужно **исключить** из выборки."
   ]
  },
  {
   "cell_type": "markdown",
   "metadata": {},
   "source": [
    "## Выводы\n",
    "\n",
    "1. Исправлен стиль заголовков во всех датасетах.\n",
    "2. Пропусков и дубликатов не обнаружено.\n",
    "3. Изменен тип данных в датасетах `orders` (колонка `date`) и `visitors` (колонка `date`) на datetime.\n",
    "4. **Данные готовы для анализа**."
   ]
  },
  {
   "cell_type": "markdown",
   "metadata": {},
   "source": [
    "# Приоритизация гипотез\n",
    "\n",
    "В датасете `hypothesis` 9 гипотез по увеличению выручки интернет-магазина с указанными параметрами `Reach`, `Impact`, `Confidence`, `Effort`.\n",
    "\n",
    "Проведем приоритизацию гипотез."
   ]
  },
  {
   "cell_type": "code",
   "execution_count": 15,
   "metadata": {
    "scrolled": true
   },
   "outputs": [
    {
     "data": {
      "text/html": [
       "<div>\n",
       "<style scoped>\n",
       "    .dataframe tbody tr th:only-of-type {\n",
       "        vertical-align: middle;\n",
       "    }\n",
       "\n",
       "    .dataframe tbody tr th {\n",
       "        vertical-align: top;\n",
       "    }\n",
       "\n",
       "    .dataframe thead th {\n",
       "        text-align: right;\n",
       "    }\n",
       "</style>\n",
       "<table border=\"1\" class=\"dataframe\">\n",
       "  <thead>\n",
       "    <tr style=\"text-align: right;\">\n",
       "      <th></th>\n",
       "      <th>hypothesis</th>\n",
       "      <th>reach</th>\n",
       "      <th>impact</th>\n",
       "      <th>confidence</th>\n",
       "      <th>efforts</th>\n",
       "    </tr>\n",
       "  </thead>\n",
       "  <tbody>\n",
       "    <tr>\n",
       "      <th>0</th>\n",
       "      <td>Добавить два новых канала привлечения трафика, что позволит привлекать на 30% больше пользователей</td>\n",
       "      <td>3</td>\n",
       "      <td>10</td>\n",
       "      <td>8</td>\n",
       "      <td>6</td>\n",
       "    </tr>\n",
       "    <tr>\n",
       "      <th>1</th>\n",
       "      <td>Запустить собственную службу доставки, что сократит срок доставки заказов</td>\n",
       "      <td>2</td>\n",
       "      <td>5</td>\n",
       "      <td>4</td>\n",
       "      <td>10</td>\n",
       "    </tr>\n",
       "    <tr>\n",
       "      <th>2</th>\n",
       "      <td>Добавить блоки рекомендаций товаров на сайт интернет магазина, чтобы повысить конверсию и средний чек заказа</td>\n",
       "      <td>8</td>\n",
       "      <td>3</td>\n",
       "      <td>7</td>\n",
       "      <td>3</td>\n",
       "    </tr>\n",
       "    <tr>\n",
       "      <th>3</th>\n",
       "      <td>Изменить структура категорий, что увеличит конверсию, т.к. пользователи быстрее найдут нужный товар</td>\n",
       "      <td>8</td>\n",
       "      <td>3</td>\n",
       "      <td>3</td>\n",
       "      <td>8</td>\n",
       "    </tr>\n",
       "    <tr>\n",
       "      <th>4</th>\n",
       "      <td>Изменить цвет фона главной страницы, чтобы увеличить вовлеченность пользователей</td>\n",
       "      <td>3</td>\n",
       "      <td>1</td>\n",
       "      <td>1</td>\n",
       "      <td>1</td>\n",
       "    </tr>\n",
       "    <tr>\n",
       "      <th>5</th>\n",
       "      <td>Добавить страницу отзывов клиентов о магазине, что позволит увеличить количество заказов</td>\n",
       "      <td>3</td>\n",
       "      <td>2</td>\n",
       "      <td>2</td>\n",
       "      <td>3</td>\n",
       "    </tr>\n",
       "    <tr>\n",
       "      <th>6</th>\n",
       "      <td>Показать на главной странице баннеры с актуальными акциями и распродажами, чтобы увеличить конверсию</td>\n",
       "      <td>5</td>\n",
       "      <td>3</td>\n",
       "      <td>8</td>\n",
       "      <td>3</td>\n",
       "    </tr>\n",
       "    <tr>\n",
       "      <th>7</th>\n",
       "      <td>Добавить форму подписки на все основные страницы, чтобы собрать базу клиентов для email-рассылок</td>\n",
       "      <td>10</td>\n",
       "      <td>7</td>\n",
       "      <td>8</td>\n",
       "      <td>5</td>\n",
       "    </tr>\n",
       "    <tr>\n",
       "      <th>8</th>\n",
       "      <td>Запустить акцию, дающую скидку на товар в день рождения</td>\n",
       "      <td>1</td>\n",
       "      <td>9</td>\n",
       "      <td>9</td>\n",
       "      <td>5</td>\n",
       "    </tr>\n",
       "  </tbody>\n",
       "</table>\n",
       "</div>"
      ],
      "text/plain": [
       "                                                                                                     hypothesis  \\\n",
       "0  Добавить два новых канала привлечения трафика, что позволит привлекать на 30% больше пользователей             \n",
       "1  Запустить собственную службу доставки, что сократит срок доставки заказов                                      \n",
       "2  Добавить блоки рекомендаций товаров на сайт интернет магазина, чтобы повысить конверсию и средний чек заказа   \n",
       "3  Изменить структура категорий, что увеличит конверсию, т.к. пользователи быстрее найдут нужный товар            \n",
       "4  Изменить цвет фона главной страницы, чтобы увеличить вовлеченность пользователей                               \n",
       "5  Добавить страницу отзывов клиентов о магазине, что позволит увеличить количество заказов                       \n",
       "6  Показать на главной странице баннеры с актуальными акциями и распродажами, чтобы увеличить конверсию           \n",
       "7  Добавить форму подписки на все основные страницы, чтобы собрать базу клиентов для email-рассылок               \n",
       "8  Запустить акцию, дающую скидку на товар в день рождения                                                        \n",
       "\n",
       "   reach  impact  confidence  efforts  \n",
       "0  3      10      8           6        \n",
       "1  2      5       4           10       \n",
       "2  8      3       7           3        \n",
       "3  8      3       3           8        \n",
       "4  3      1       1           1        \n",
       "5  3      2       2           3        \n",
       "6  5      3       8           3        \n",
       "7  10     7       8           5        \n",
       "8  1      9       9           5        "
      ]
     },
     "metadata": {},
     "output_type": "display_data"
    }
   ],
   "source": [
    "display(hypothesis)"
   ]
  },
  {
   "cell_type": "markdown",
   "metadata": {},
   "source": [
    "## Приоритизация фреймворком ICE\n",
    "\n",
    "ICE (impact, confidence, efforts) - способ приоритизации задач, анализирует три фактора:\n",
    "\n",
    "`IMPACT` - влияние на метрики;\n",
    "\n",
    "`CONFIDENCE` -  уверенность в оценках;\n",
    "\n",
    "`EFFORTS`- простота реализации.\n",
    "\n",
    "$$ \\text{ICE}  = {\\text{IMPACT * CONFIDENCE}\\over \\text{EFFORTS} }$$"
   ]
  },
  {
   "cell_type": "code",
   "execution_count": 16,
   "metadata": {},
   "outputs": [
    {
     "data": {
      "text/html": [
       "<div>\n",
       "<style scoped>\n",
       "    .dataframe tbody tr th:only-of-type {\n",
       "        vertical-align: middle;\n",
       "    }\n",
       "\n",
       "    .dataframe tbody tr th {\n",
       "        vertical-align: top;\n",
       "    }\n",
       "\n",
       "    .dataframe thead th {\n",
       "        text-align: right;\n",
       "    }\n",
       "</style>\n",
       "<table border=\"1\" class=\"dataframe\">\n",
       "  <thead>\n",
       "    <tr style=\"text-align: right;\">\n",
       "      <th></th>\n",
       "      <th>hypothesis</th>\n",
       "      <th>ICE</th>\n",
       "    </tr>\n",
       "  </thead>\n",
       "  <tbody>\n",
       "    <tr>\n",
       "      <th>8</th>\n",
       "      <td>Запустить акцию, дающую скидку на товар в день рождения</td>\n",
       "      <td>16.20</td>\n",
       "    </tr>\n",
       "    <tr>\n",
       "      <th>0</th>\n",
       "      <td>Добавить два новых канала привлечения трафика, что позволит привлекать на 30% больше пользователей</td>\n",
       "      <td>13.33</td>\n",
       "    </tr>\n",
       "    <tr>\n",
       "      <th>7</th>\n",
       "      <td>Добавить форму подписки на все основные страницы, чтобы собрать базу клиентов для email-рассылок</td>\n",
       "      <td>11.20</td>\n",
       "    </tr>\n",
       "    <tr>\n",
       "      <th>6</th>\n",
       "      <td>Показать на главной странице баннеры с актуальными акциями и распродажами, чтобы увеличить конверсию</td>\n",
       "      <td>8.00</td>\n",
       "    </tr>\n",
       "    <tr>\n",
       "      <th>2</th>\n",
       "      <td>Добавить блоки рекомендаций товаров на сайт интернет магазина, чтобы повысить конверсию и средний чек заказа</td>\n",
       "      <td>7.00</td>\n",
       "    </tr>\n",
       "    <tr>\n",
       "      <th>1</th>\n",
       "      <td>Запустить собственную службу доставки, что сократит срок доставки заказов</td>\n",
       "      <td>2.00</td>\n",
       "    </tr>\n",
       "    <tr>\n",
       "      <th>5</th>\n",
       "      <td>Добавить страницу отзывов клиентов о магазине, что позволит увеличить количество заказов</td>\n",
       "      <td>1.33</td>\n",
       "    </tr>\n",
       "    <tr>\n",
       "      <th>3</th>\n",
       "      <td>Изменить структура категорий, что увеличит конверсию, т.к. пользователи быстрее найдут нужный товар</td>\n",
       "      <td>1.12</td>\n",
       "    </tr>\n",
       "    <tr>\n",
       "      <th>4</th>\n",
       "      <td>Изменить цвет фона главной страницы, чтобы увеличить вовлеченность пользователей</td>\n",
       "      <td>1.00</td>\n",
       "    </tr>\n",
       "  </tbody>\n",
       "</table>\n",
       "</div>"
      ],
      "text/plain": [
       "                                                                                                     hypothesis  \\\n",
       "8  Запустить акцию, дающую скидку на товар в день рождения                                                        \n",
       "0  Добавить два новых канала привлечения трафика, что позволит привлекать на 30% больше пользователей             \n",
       "7  Добавить форму подписки на все основные страницы, чтобы собрать базу клиентов для email-рассылок               \n",
       "6  Показать на главной странице баннеры с актуальными акциями и распродажами, чтобы увеличить конверсию           \n",
       "2  Добавить блоки рекомендаций товаров на сайт интернет магазина, чтобы повысить конверсию и средний чек заказа   \n",
       "1  Запустить собственную службу доставки, что сократит срок доставки заказов                                      \n",
       "5  Добавить страницу отзывов клиентов о магазине, что позволит увеличить количество заказов                       \n",
       "3  Изменить структура категорий, что увеличит конверсию, т.к. пользователи быстрее найдут нужный товар            \n",
       "4  Изменить цвет фона главной страницы, чтобы увеличить вовлеченность пользователей                               \n",
       "\n",
       "    ICE  \n",
       "8 16.20  \n",
       "0 13.33  \n",
       "7 11.20  \n",
       "6 8.00   \n",
       "2 7.00   \n",
       "1 2.00   \n",
       "5 1.33   \n",
       "3 1.12   \n",
       "4 1.00   "
      ]
     },
     "metadata": {},
     "output_type": "display_data"
    }
   ],
   "source": [
    "# создание колонки ice с результатами расчета фреймворка\n",
    "hypothesis['ICE'] = hypothesis['impact'] * hypothesis['confidence'] / hypothesis['efforts']\n",
    "\n",
    "display(hypothesis[['hypothesis', 'ICE']].sort_values(by='ICE', ascending=False))"
   ]
  },
  {
   "cell_type": "markdown",
   "metadata": {},
   "source": [
    "**Приоритетная гипотеза № 8**: \n",
    "\n",
    "Запустить акцию, дающую скидку на товар в день рождения."
   ]
  },
  {
   "cell_type": "markdown",
   "metadata": {},
   "source": [
    "## Приоритизация фреймворком RICE\n",
    "\n",
    "RICE (reach,impact, confidence, efforts) - способ приоритизации задач, анализирует четыре фактора:\n",
    "\n",
    "`REACH` - охват;\n",
    "\n",
    "`IMPACT` - влияние на метрики;\n",
    "\n",
    "`CONFIDENCE` -  уверенность в оценках;\n",
    "\n",
    "`EFFORTS`- простота реализации.\n",
    "\n",
    "\n",
    "$$ \\text{RICE}  = {\\text{REACH* IMPACT * CONFIDENCE}\\over \\text{EFFORTS} }$$"
   ]
  },
  {
   "cell_type": "code",
   "execution_count": 17,
   "metadata": {},
   "outputs": [
    {
     "data": {
      "text/html": [
       "<div>\n",
       "<style scoped>\n",
       "    .dataframe tbody tr th:only-of-type {\n",
       "        vertical-align: middle;\n",
       "    }\n",
       "\n",
       "    .dataframe tbody tr th {\n",
       "        vertical-align: top;\n",
       "    }\n",
       "\n",
       "    .dataframe thead th {\n",
       "        text-align: right;\n",
       "    }\n",
       "</style>\n",
       "<table border=\"1\" class=\"dataframe\">\n",
       "  <thead>\n",
       "    <tr style=\"text-align: right;\">\n",
       "      <th></th>\n",
       "      <th>hypothesis</th>\n",
       "      <th>RICE</th>\n",
       "    </tr>\n",
       "  </thead>\n",
       "  <tbody>\n",
       "    <tr>\n",
       "      <th>7</th>\n",
       "      <td>Добавить форму подписки на все основные страницы, чтобы собрать базу клиентов для email-рассылок</td>\n",
       "      <td>112.00</td>\n",
       "    </tr>\n",
       "    <tr>\n",
       "      <th>2</th>\n",
       "      <td>Добавить блоки рекомендаций товаров на сайт интернет магазина, чтобы повысить конверсию и средний чек заказа</td>\n",
       "      <td>56.00</td>\n",
       "    </tr>\n",
       "    <tr>\n",
       "      <th>0</th>\n",
       "      <td>Добавить два новых канала привлечения трафика, что позволит привлекать на 30% больше пользователей</td>\n",
       "      <td>40.00</td>\n",
       "    </tr>\n",
       "    <tr>\n",
       "      <th>6</th>\n",
       "      <td>Показать на главной странице баннеры с актуальными акциями и распродажами, чтобы увеличить конверсию</td>\n",
       "      <td>40.00</td>\n",
       "    </tr>\n",
       "    <tr>\n",
       "      <th>8</th>\n",
       "      <td>Запустить акцию, дающую скидку на товар в день рождения</td>\n",
       "      <td>16.20</td>\n",
       "    </tr>\n",
       "    <tr>\n",
       "      <th>3</th>\n",
       "      <td>Изменить структура категорий, что увеличит конверсию, т.к. пользователи быстрее найдут нужный товар</td>\n",
       "      <td>9.00</td>\n",
       "    </tr>\n",
       "    <tr>\n",
       "      <th>1</th>\n",
       "      <td>Запустить собственную службу доставки, что сократит срок доставки заказов</td>\n",
       "      <td>4.00</td>\n",
       "    </tr>\n",
       "    <tr>\n",
       "      <th>5</th>\n",
       "      <td>Добавить страницу отзывов клиентов о магазине, что позволит увеличить количество заказов</td>\n",
       "      <td>4.00</td>\n",
       "    </tr>\n",
       "    <tr>\n",
       "      <th>4</th>\n",
       "      <td>Изменить цвет фона главной страницы, чтобы увеличить вовлеченность пользователей</td>\n",
       "      <td>3.00</td>\n",
       "    </tr>\n",
       "  </tbody>\n",
       "</table>\n",
       "</div>"
      ],
      "text/plain": [
       "                                                                                                     hypothesis  \\\n",
       "7  Добавить форму подписки на все основные страницы, чтобы собрать базу клиентов для email-рассылок               \n",
       "2  Добавить блоки рекомендаций товаров на сайт интернет магазина, чтобы повысить конверсию и средний чек заказа   \n",
       "0  Добавить два новых канала привлечения трафика, что позволит привлекать на 30% больше пользователей             \n",
       "6  Показать на главной странице баннеры с актуальными акциями и распродажами, чтобы увеличить конверсию           \n",
       "8  Запустить акцию, дающую скидку на товар в день рождения                                                        \n",
       "3  Изменить структура категорий, что увеличит конверсию, т.к. пользователи быстрее найдут нужный товар            \n",
       "1  Запустить собственную службу доставки, что сократит срок доставки заказов                                      \n",
       "5  Добавить страницу отзывов клиентов о магазине, что позволит увеличить количество заказов                       \n",
       "4  Изменить цвет фона главной страницы, чтобы увеличить вовлеченность пользователей                               \n",
       "\n",
       "    RICE  \n",
       "7 112.00  \n",
       "2 56.00   \n",
       "0 40.00   \n",
       "6 40.00   \n",
       "8 16.20   \n",
       "3 9.00    \n",
       "1 4.00    \n",
       "5 4.00    \n",
       "4 3.00    "
      ]
     },
     "metadata": {},
     "output_type": "display_data"
    }
   ],
   "source": [
    "# создание колонки rice с результатами расчета фреймворка\n",
    "hypothesis['RICE'] = hypothesis['reach'] * hypothesis['impact'] * hypothesis['confidence'] / hypothesis['efforts']\n",
    "\n",
    "display(hypothesis[['hypothesis', 'RICE']].sort_values(by='RICE', ascending=False))"
   ]
  },
  {
   "cell_type": "markdown",
   "metadata": {},
   "source": [
    "**Приоритетная гипотеза № 7**: \n",
    "\n",
    "Добавить форму подписки на все основные страницы, чтобы собрать базу клиентов для email-рассылок\t."
   ]
  },
  {
   "cell_type": "markdown",
   "metadata": {},
   "source": [
    "## Вывод\n",
    "\n",
    "Гипотезы не совпали, значит приоритетной будет та, которая получена методом **RICE**, так как с учетом охвата пользователей ее показатель в 7 раз выше, чем у приоритетной гипотезы, полученной методом ICE."
   ]
  },
  {
   "cell_type": "markdown",
   "metadata": {},
   "source": [
    "# Исследовательский анализ A/B-теста\n",
    "\n",
    "Проанализируем результаты A/B-теста, которые содержатся в датасетах `orders` и `visitors` с помощью линейных и точечных графиков, а также расчета перцентилей."
   ]
  },
  {
   "cell_type": "markdown",
   "metadata": {},
   "source": [
    "## Датафрейм `cumulative_data`\n",
    "Чтобы построить графики, нужно собрать кумулятивные данные. Создадим датафрейм `cumulative_data` с колонками:\n",
    "\n",
    "+ `date` — дата;\n",
    "\n",
    "+ `group` — группа A/B-теста;\n",
    "\n",
    "+ `orders` — кумулятивное количество заказов на указанную дату в указанной группе;\n",
    "\n",
    "+ `buyers` — кумулятивное количество пользователей, совершивших хотя бы один заказ, на указанную дату в указанной группе;\n",
    "\n",
    "+ `revenue` — кумулятивная выручка на указанную дату в указанной группе (средний чек);\n",
    "\n",
    "+ `visitors` — кумулятивное количество посетителей интернет-магазина на указанную дату в определённой группе."
   ]
  },
  {
   "cell_type": "code",
   "execution_count": 18,
   "metadata": {
    "scrolled": false
   },
   "outputs": [
    {
     "data": {
      "text/html": [
       "<div>\n",
       "<style scoped>\n",
       "    .dataframe tbody tr th:only-of-type {\n",
       "        vertical-align: middle;\n",
       "    }\n",
       "\n",
       "    .dataframe tbody tr th {\n",
       "        vertical-align: top;\n",
       "    }\n",
       "\n",
       "    .dataframe thead th {\n",
       "        text-align: right;\n",
       "    }\n",
       "</style>\n",
       "<table border=\"1\" class=\"dataframe\">\n",
       "  <thead>\n",
       "    <tr style=\"text-align: right;\">\n",
       "      <th></th>\n",
       "      <th>date</th>\n",
       "      <th>group</th>\n",
       "      <th>orders</th>\n",
       "      <th>buyers</th>\n",
       "      <th>revenue</th>\n",
       "      <th>visitors</th>\n",
       "    </tr>\n",
       "  </thead>\n",
       "  <tbody>\n",
       "    <tr>\n",
       "      <th>0</th>\n",
       "      <td>2019-08-01</td>\n",
       "      <td>A</td>\n",
       "      <td>24</td>\n",
       "      <td>20</td>\n",
       "      <td>148579</td>\n",
       "      <td>719</td>\n",
       "    </tr>\n",
       "    <tr>\n",
       "      <th>1</th>\n",
       "      <td>2019-08-01</td>\n",
       "      <td>B</td>\n",
       "      <td>21</td>\n",
       "      <td>20</td>\n",
       "      <td>101217</td>\n",
       "      <td>713</td>\n",
       "    </tr>\n",
       "    <tr>\n",
       "      <th>2</th>\n",
       "      <td>2019-08-02</td>\n",
       "      <td>A</td>\n",
       "      <td>44</td>\n",
       "      <td>38</td>\n",
       "      <td>242401</td>\n",
       "      <td>1338</td>\n",
       "    </tr>\n",
       "    <tr>\n",
       "      <th>3</th>\n",
       "      <td>2019-08-02</td>\n",
       "      <td>B</td>\n",
       "      <td>45</td>\n",
       "      <td>43</td>\n",
       "      <td>266748</td>\n",
       "      <td>1294</td>\n",
       "    </tr>\n",
       "    <tr>\n",
       "      <th>4</th>\n",
       "      <td>2019-08-03</td>\n",
       "      <td>A</td>\n",
       "      <td>68</td>\n",
       "      <td>62</td>\n",
       "      <td>354874</td>\n",
       "      <td>1845</td>\n",
       "    </tr>\n",
       "    <tr>\n",
       "      <th>5</th>\n",
       "      <td>2019-08-03</td>\n",
       "      <td>B</td>\n",
       "      <td>61</td>\n",
       "      <td>59</td>\n",
       "      <td>380996</td>\n",
       "      <td>1803</td>\n",
       "    </tr>\n",
       "    <tr>\n",
       "      <th>6</th>\n",
       "      <td>2019-08-04</td>\n",
       "      <td>A</td>\n",
       "      <td>84</td>\n",
       "      <td>77</td>\n",
       "      <td>425699</td>\n",
       "      <td>2562</td>\n",
       "    </tr>\n",
       "    <tr>\n",
       "      <th>7</th>\n",
       "      <td>2019-08-04</td>\n",
       "      <td>B</td>\n",
       "      <td>78</td>\n",
       "      <td>75</td>\n",
       "      <td>489567</td>\n",
       "      <td>2573</td>\n",
       "    </tr>\n",
       "    <tr>\n",
       "      <th>8</th>\n",
       "      <td>2019-08-05</td>\n",
       "      <td>A</td>\n",
       "      <td>109</td>\n",
       "      <td>100</td>\n",
       "      <td>549917</td>\n",
       "      <td>3318</td>\n",
       "    </tr>\n",
       "    <tr>\n",
       "      <th>9</th>\n",
       "      <td>2019-08-05</td>\n",
       "      <td>B</td>\n",
       "      <td>101</td>\n",
       "      <td>98</td>\n",
       "      <td>581995</td>\n",
       "      <td>3280</td>\n",
       "    </tr>\n",
       "  </tbody>\n",
       "</table>\n",
       "</div>"
      ],
      "text/plain": [
       "        date group  orders  buyers  revenue  visitors\n",
       "0 2019-08-01  A     24      20      148579   719     \n",
       "1 2019-08-01  B     21      20      101217   713     \n",
       "2 2019-08-02  A     44      38      242401   1338    \n",
       "3 2019-08-02  B     45      43      266748   1294    \n",
       "4 2019-08-03  A     68      62      354874   1845    \n",
       "5 2019-08-03  B     61      59      380996   1803    \n",
       "6 2019-08-04  A     84      77      425699   2562    \n",
       "7 2019-08-04  B     78      75      489567   2573    \n",
       "8 2019-08-05  A     109     100     549917   3318    \n",
       "9 2019-08-05  B     101     98      581995   3280    "
      ]
     },
     "execution_count": 18,
     "metadata": {},
     "output_type": "execute_result"
    }
   ],
   "source": [
    "# создаем массив уникальных пар значений дат и групп теста\n",
    "dates_groups = orders[['date','group']].drop_duplicates()\n",
    "\n",
    "# получаем агрегированные кумулятивные по дням данные о заказах \n",
    "orders_aggregated = ( dates_groups.apply(lambda x: orders[np.logical_and(orders['date'] <= x['date'],\n",
    "                                 orders['group'] == x['group'])]\n",
    "                                 .agg({'date' : 'max', 'group' : 'max', 'order_id' : 'nunique',\n",
    "                                       'user_id' : 'nunique', 'revenue' : 'sum'}), axis=1)\n",
    "                                 .sort_values(by=['date','group'])\n",
    "                   )\n",
    "\n",
    "# получаем агрегированные кумулятивные по дням данные о посетителях интернет-магазина \n",
    "visitors_aggregated = ( dates_groups.apply(lambda x: visitors[np.logical_and(visitors['date'] <= x['date'], \n",
    "                                          visitors['group'] == x['group'])]\n",
    "                                  .agg({'date' : 'max', 'group' : 'max', 'visitors' : 'sum'}), axis=1)\n",
    "                                  .sort_values(by=['date','group'])\n",
    "                     )\n",
    "\n",
    "# объединяем кумулятивные данные в одной таблице и присваиваем ее столбцам понятные названия\n",
    "cumulative_data = orders_aggregated.merge(\n",
    "    visitors_aggregated, left_on=['date', 'group'], right_on=['date', 'group']\n",
    ")\n",
    "cumulative_data.columns = ['date', 'group', 'orders', 'buyers', 'revenue', 'visitors'] \n",
    "cumulative_data.head(10)"
   ]
  },
  {
   "cell_type": "markdown",
   "metadata": {},
   "source": [
    "Проверим, совпадают ли даты с полученными в разделе `Обработка данных`:"
   ]
  },
  {
   "cell_type": "code",
   "execution_count": 19,
   "metadata": {},
   "outputs": [
    {
     "data": {
      "text/plain": [
       "'Дата первого заказа:'"
      ]
     },
     "metadata": {},
     "output_type": "display_data"
    },
    {
     "data": {
      "text/plain": [
       "Timestamp('2019-08-01 00:00:00')"
      ]
     },
     "metadata": {},
     "output_type": "display_data"
    },
    {
     "data": {
      "text/plain": [
       "'Дата последнего заказа:'"
      ]
     },
     "metadata": {},
     "output_type": "display_data"
    },
    {
     "data": {
      "text/plain": [
       "Timestamp('2019-08-31 00:00:00')"
      ]
     },
     "metadata": {},
     "output_type": "display_data"
    }
   ],
   "source": [
    "display('Дата первого заказа:', cumulative_data['date'].min())\n",
    "display('Дата последнего заказа:', cumulative_data['date'].max())"
   ]
  },
  {
   "cell_type": "markdown",
   "metadata": {},
   "source": [
    "Даты совпадают, двигаемся дальше."
   ]
  },
  {
   "cell_type": "markdown",
   "metadata": {},
   "source": [
    "### График кумулятивной выручки"
   ]
  },
  {
   "cell_type": "code",
   "execution_count": 20,
   "metadata": {},
   "outputs": [
    {
     "data": {
      "image/png": "[encoded data removed]",
      "text/plain": [
       "<Figure size 1008x576 with 1 Axes>"
      ]
     },
     "metadata": {
      "needs_background": "light"
     },
     "output_type": "display_data"
    }
   ],
   "source": [
    "# датафрейм с кумулятивным количеством заказов и кумулятивной выручкой по дням в группе А\n",
    "cumulative_revenue_a = cumulative_data[cumulative_data['group']=='A'][['date','revenue', 'orders']]\n",
    "\n",
    "# датафрейм с кумулятивным количеством заказов и кумулятивной выручкой по дням в группе B\n",
    "cumulative_revenue_b = cumulative_data[cumulative_data['group']=='B'][['date','revenue', 'orders']]\n",
    "\n",
    "# Строим график выручки группы А\n",
    "plt.figure(figsize=(14, 8))\n",
    "plt.xticks(rotation=45)\n",
    "\n",
    "plt.plot(cumulative_revenue_a['date'], cumulative_revenue_a['revenue'], label='А', marker='o', color='blue')\n",
    "\n",
    "# Строим график выручки группы B\n",
    "plt.plot(cumulative_revenue_b['date'], cumulative_revenue_b['revenue'], label='B', marker='o', color='red')\n",
    "\n",
    "plt.ylabel('Кумулятивная выручка')\n",
    "plt.xlabel('Дата')\n",
    "plt.title('Кумулятивная выручка по группам A/B-теста', fontsize=16)\n",
    "plt.legend()\n",
    "plt.show()"
   ]
  },
  {
   "cell_type": "markdown",
   "metadata": {},
   "source": [
    "Несмотря на то, что в обеих группах **выручка** продолжает активно расти, очевидно, что **в группе B** она **существенно выше** и относительность роста между группами стабильна с середины августа.\n",
    "\n",
    "Также можно отметить резкий скачок выручки в группе B, произошедший 19.08 и определивший основное преимущество группы B. Этот всплеск может быть связан либо с большим числом заказов (возможно акция), либо с отдельными дорогими заказами."
   ]
  },
  {
   "cell_type": "markdown",
   "metadata": {},
   "source": [
    "### График кумулятивного среднего чека"
   ]
  },
  {
   "cell_type": "code",
   "execution_count": 21,
   "metadata": {},
   "outputs": [
    {
     "data": {
      "image/png": "[encoded data removed]",
      "text/plain": [
       "<Figure size 1008x576 with 1 Axes>"
      ]
     },
     "metadata": {
      "needs_background": "light"
     },
     "output_type": "display_data"
    }
   ],
   "source": [
    "# Строим график выручки группы А\n",
    "plt.figure(figsize=(14, 8))\n",
    "plt.xticks(rotation=45)\n",
    "\n",
    "plt.plot(cumulative_revenue_a['date'], cumulative_revenue_a['revenue']/cumulative_revenue_a['orders'],\n",
    "         label='А', marker='o', color='navy')\n",
    "\n",
    "# Строим график выручки группы B\n",
    "plt.plot(cumulative_revenue_b['date'], cumulative_revenue_b['revenue']/cumulative_revenue_b['orders'],\n",
    "         label='B', marker='o', color='orange')\n",
    "\n",
    "plt.ylabel('Кумулятивная выручка')\n",
    "plt.xlabel('Дата')\n",
    "plt.title('Кумулятивный средний чек по группам A/B-теста', fontsize=16)\n",
    "plt.legend()\n",
    "plt.show()"
   ]
  },
  {
   "cell_type": "markdown",
   "metadata": {},
   "source": [
    "На этом графике скачок 19.08 в группе B еще более резкий. После него наблюдается стабильное падение размера среднего чека, в отличие от медленного роста в группе А. \n",
    "\n",
    "Нужно больше данных, чтобы средний чек в группе В пришел к реальному значению."
   ]
  },
  {
   "cell_type": "markdown",
   "metadata": {},
   "source": [
    "### График относительного изменения кумулятивного среднего чека группы B к группе A"
   ]
  },
  {
   "cell_type": "code",
   "execution_count": 22,
   "metadata": {},
   "outputs": [
    {
     "data": {
      "text/html": [
       "<div>\n",
       "<style scoped>\n",
       "    .dataframe tbody tr th:only-of-type {\n",
       "        vertical-align: middle;\n",
       "    }\n",
       "\n",
       "    .dataframe tbody tr th {\n",
       "        vertical-align: top;\n",
       "    }\n",
       "\n",
       "    .dataframe thead th {\n",
       "        text-align: right;\n",
       "    }\n",
       "</style>\n",
       "<table border=\"1\" class=\"dataframe\">\n",
       "  <thead>\n",
       "    <tr style=\"text-align: right;\">\n",
       "      <th></th>\n",
       "      <th>date</th>\n",
       "      <th>revenueA</th>\n",
       "      <th>ordersA</th>\n",
       "      <th>revenueB</th>\n",
       "      <th>ordersB</th>\n",
       "    </tr>\n",
       "  </thead>\n",
       "  <tbody>\n",
       "    <tr>\n",
       "      <th>0</th>\n",
       "      <td>2019-08-01</td>\n",
       "      <td>148579</td>\n",
       "      <td>24</td>\n",
       "      <td>101217</td>\n",
       "      <td>21</td>\n",
       "    </tr>\n",
       "    <tr>\n",
       "      <th>19</th>\n",
       "      <td>2019-08-20</td>\n",
       "      <td>2469529</td>\n",
       "      <td>362</td>\n",
       "      <td>4263815</td>\n",
       "      <td>423</td>\n",
       "    </tr>\n",
       "    <tr>\n",
       "      <th>1</th>\n",
       "      <td>2019-08-02</td>\n",
       "      <td>242401</td>\n",
       "      <td>44</td>\n",
       "      <td>266748</td>\n",
       "      <td>45</td>\n",
       "    </tr>\n",
       "  </tbody>\n",
       "</table>\n",
       "</div>"
      ],
      "text/plain": [
       "         date  revenueA  ordersA  revenueB  ordersB\n",
       "0  2019-08-01  148579    24       101217    21     \n",
       "19 2019-08-20  2469529   362      4263815   423    \n",
       "1  2019-08-02  242401    44       266748    45     "
      ]
     },
     "execution_count": 22,
     "metadata": {},
     "output_type": "execute_result"
    }
   ],
   "source": [
    "# собираем данные в одном датафрейме\n",
    "cumulative_revenue = cumulative_revenue_a.merge(cumulative_revenue_b, left_on='date', right_on='date', how='left', \n",
    "                                                     suffixes=['A', 'B'])\n",
    "\n",
    "cumulative_revenue.sample(3)"
   ]
  },
  {
   "cell_type": "code",
   "execution_count": 23,
   "metadata": {
    "scrolled": false
   },
   "outputs": [
    {
     "data": {
      "image/png": "[encoded data removed]",
      "text/plain": [
       "<Figure size 1008x576 with 1 Axes>"
      ]
     },
     "metadata": {
      "needs_background": "light"
     },
     "output_type": "display_data"
    }
   ],
   "source": [
    "plt.figure(figsize=(14, 8))\n",
    "plt.xticks(rotation=45)\n",
    "\n",
    "# cтроим отношение средних чеков\n",
    "plt.plot(cumulative_revenue['date'], (cumulative_revenue['revenueB']/cumulative_revenue['ordersB'])/\n",
    "                                          (cumulative_revenue['revenueA']/cumulative_revenue['ordersA'])-1, label='B',\n",
    "                                           marker='o', color='orange')\n",
    "\n",
    "# добавляем ось X\n",
    "plt.axhline(y=0, color='black', linestyle='--')\n",
    "\n",
    "plt.ylabel('Отношение кумулятивных средних чеков')\n",
    "plt.xlabel('Дата')\n",
    "plt.title('Относительное изменение кумулятивного среднего чека группы B к группе A', fontsize=16)\n",
    "plt.legend()\n",
    "plt.show()"
   ]
  },
  {
   "cell_type": "markdown",
   "metadata": {},
   "source": [
    "Наблюдаем более выраженно падение выручки в группе B и ее приближение к уровню в группе А.\n",
    "\n",
    "+ Несмотря на то, что в обеих группах **выручка** продолжает активно расти, **в группе B** она **существенно выше**.\n",
    "+ 19.08 в группе B произошел сильный подъем выручки, который и определил дальнейшее преимущество.\n",
    "+ Предположительно данный скачок связан с какой-то разовой акцией или крупными заказами.\n",
    "+ В дальнейшем средний чек группы B показал **стабильное падение**, а группы А **рост**.\n",
    "+ Средний чек в группе B **не соответствует** реальному среднему чеку, т.к. искажен вышеописанным выбросом."
   ]
  },
  {
   "cell_type": "markdown",
   "metadata": {},
   "source": [
    "### График кумулятивного количества заказов на пользователя"
   ]
  },
  {
   "cell_type": "code",
   "execution_count": 24,
   "metadata": {},
   "outputs": [
    {
     "data": {
      "image/png": "[encoded data removed]",
      "text/plain": [
       "<Figure size 1008x576 with 1 Axes>"
      ]
     },
     "metadata": {
      "needs_background": "light"
     },
     "output_type": "display_data"
    }
   ],
   "source": [
    "# создаем новую колонку с расчетом кумулятивой конверсии\n",
    "cumulative_data['conversion'] = cumulative_data['orders']/cumulative_data['visitors']\n",
    "\n",
    "# отделяем данные по группе A\n",
    "cumulative_data_a = cumulative_data[cumulative_data['group']=='A']\n",
    "\n",
    "# отделяем данные по группе B\n",
    "cumulative_data_b = cumulative_data[cumulative_data['group']=='B']\n",
    "\n",
    "# строим графики\n",
    "plt.figure(figsize=(14, 8))\n",
    "plt.xticks(rotation=45)\n",
    "\n",
    "plt.plot(cumulative_data_a['date'], cumulative_data_a['conversion'], label='A', marker='o', color='crimson')\n",
    "plt.plot(cumulative_data_b['date'], cumulative_data_b['conversion'], label='B', marker='o', color='green')\n",
    "\n",
    "# задаем масштаб осей\n",
    "plt.axis([pd.to_datetime(\"2019-08-01\"), pd.to_datetime('2019-08-31'), 0, 0.05])\n",
    "\n",
    "plt.ylabel('Кумулятивное количество заказов на пользователя')\n",
    "plt.xlabel('Дата')\n",
    "plt.title('Кумулятивное количество заказов на пользователя по группам A/B-теста', fontsize=16)\n",
    "plt.legend()\n",
    "plt.show()"
   ]
  },
  {
   "cell_type": "markdown",
   "metadata": {},
   "source": [
    "Динамика стабилизировалась с середины августа. Небольшое преимущество за группой В."
   ]
  },
  {
   "cell_type": "markdown",
   "metadata": {},
   "source": [
    "### График относительного изменения кумулятивного количества заказов на пользователя группы B к группе A"
   ]
  },
  {
   "cell_type": "code",
   "execution_count": 25,
   "metadata": {},
   "outputs": [
    {
     "data": {
      "image/png": "[encoded data removed]",
      "text/plain": [
       "<Figure size 1008x576 with 1 Axes>"
      ]
     },
     "metadata": {
      "needs_background": "light"
     },
     "output_type": "display_data"
    }
   ],
   "source": [
    "cumulative_conversions = ( cumulative_data_a[['date','conversion']].merge(cumulative_data_b[['date','conversion']], \n",
    "                                                                             left_on='date', right_on='date', how='left', \n",
    "                                                                             suffixes=['A', 'B'])\n",
    "                              )\n",
    "\n",
    "plt.figure(figsize=(14, 8))\n",
    "plt.xticks(rotation=45)\n",
    "\n",
    "plt.plot(cumulative_conversions['date'], \n",
    "         cumulative_conversions['conversionB']/cumulative_conversions['conversionA']-1, label='В', \n",
    "         marker='o', color='green')\n",
    "plt.ylabel('Кумулятивное количество заказов на пользователя')\n",
    "plt.xlabel('Дата')\n",
    "plt.title('Относительное изменение кумулятивного количества заказов на пользователя группы B к группе A', fontsize=16)\n",
    "plt.legend()\n",
    "\n",
    "plt.axhline(y=0, color='black', linestyle='--')\n",
    "plt.axhline(y=0.11, color='grey', linestyle='--')\n",
    "plt.axis([pd.to_datetime(\"2019-08-01\"), pd.to_datetime('2019-09-01'), -0.13, 0.22])\n",
    "plt.show()"
   ]
  },
  {
   "cell_type": "markdown",
   "metadata": {},
   "source": [
    "Количество заказов на пользователя в группе В обогнало группу А на 21% к середине августа, затем, после постепенного снижения, привысило от 10 до 14% в последней трети августа.\n",
    "\n",
    "Количество заказов на пользователя в группе B выше, чем в группе А в среднем на 11%."
   ]
  },
  {
   "cell_type": "markdown",
   "metadata": {},
   "source": [
    "### График количества заказов по пользователям"
   ]
  },
  {
   "cell_type": "code",
   "execution_count": 26,
   "metadata": {},
   "outputs": [
    {
     "data": {
      "text/html": [
       "<div>\n",
       "<style scoped>\n",
       "    .dataframe tbody tr th:only-of-type {\n",
       "        vertical-align: middle;\n",
       "    }\n",
       "\n",
       "    .dataframe tbody tr th {\n",
       "        vertical-align: top;\n",
       "    }\n",
       "\n",
       "    .dataframe thead th {\n",
       "        text-align: right;\n",
       "    }\n",
       "</style>\n",
       "<table border=\"1\" class=\"dataframe\">\n",
       "  <thead>\n",
       "    <tr style=\"text-align: right;\">\n",
       "      <th></th>\n",
       "      <th>user_id</th>\n",
       "      <th>orders</th>\n",
       "    </tr>\n",
       "  </thead>\n",
       "  <tbody>\n",
       "    <tr>\n",
       "      <th>1023</th>\n",
       "      <td>4256040402</td>\n",
       "      <td>11</td>\n",
       "    </tr>\n",
       "    <tr>\n",
       "      <th>591</th>\n",
       "      <td>2458001652</td>\n",
       "      <td>11</td>\n",
       "    </tr>\n",
       "    <tr>\n",
       "      <th>569</th>\n",
       "      <td>2378935119</td>\n",
       "      <td>9</td>\n",
       "    </tr>\n",
       "    <tr>\n",
       "      <th>487</th>\n",
       "      <td>2038680547</td>\n",
       "      <td>8</td>\n",
       "    </tr>\n",
       "    <tr>\n",
       "      <th>44</th>\n",
       "      <td>199603092</td>\n",
       "      <td>5</td>\n",
       "    </tr>\n",
       "    <tr>\n",
       "      <th>744</th>\n",
       "      <td>3062433592</td>\n",
       "      <td>5</td>\n",
       "    </tr>\n",
       "    <tr>\n",
       "      <th>55</th>\n",
       "      <td>237748145</td>\n",
       "      <td>5</td>\n",
       "    </tr>\n",
       "    <tr>\n",
       "      <th>917</th>\n",
       "      <td>3803269165</td>\n",
       "      <td>5</td>\n",
       "    </tr>\n",
       "    <tr>\n",
       "      <th>299</th>\n",
       "      <td>1230306981</td>\n",
       "      <td>5</td>\n",
       "    </tr>\n",
       "    <tr>\n",
       "      <th>897</th>\n",
       "      <td>3717692402</td>\n",
       "      <td>5</td>\n",
       "    </tr>\n",
       "  </tbody>\n",
       "</table>\n",
       "</div>"
      ],
      "text/plain": [
       "         user_id  orders\n",
       "1023  4256040402  11    \n",
       "591   2458001652  11    \n",
       "569   2378935119  9     \n",
       "487   2038680547  8     \n",
       "44    199603092   5     \n",
       "744   3062433592  5     \n",
       "55    237748145   5     \n",
       "917   3803269165  5     \n",
       "299   1230306981  5     \n",
       "897   3717692402  5     "
      ]
     },
     "metadata": {},
     "output_type": "display_data"
    }
   ],
   "source": [
    "# подсчитаем количество заказов по пользователям \n",
    "orders_by_users = orders.drop(['group', 'revenue', 'date'], axis=1)\\\n",
    "                      .groupby('user_id', as_index=False)\\\n",
    "                      .agg({'order_id' : pd.Series.nunique})\n",
    "orders_by_users.columns = ['user_id','orders']\n",
    "\n",
    "display(orders_by_users.sort_values(by='orders', ascending=False).head(10)) "
   ]
  },
  {
   "cell_type": "code",
   "execution_count": 27,
   "metadata": {
    "scrolled": false
   },
   "outputs": [
    {
     "data": {
      "image/png": "[encoded data removed]",
      "text/plain": [
       "<Figure size 1008x576 with 1 Axes>"
      ]
     },
     "metadata": {
      "needs_background": "light"
     },
     "output_type": "display_data"
    }
   ],
   "source": [
    "# серия из чисел от 0 до количества наблюдений в orders_by_users\n",
    "x_values = pd.Series(range(0,len(orders_by_users)))\n",
    "\n",
    "# построим точечный график количества заказов по пользователям\n",
    "plt.figure(figsize=(14, 8))\n",
    "plt.scatter(x_values, orders_by_users['orders'], color='deepskyblue')\n",
    "plt.xlabel('Пользователи')\n",
    "plt.ylabel('Заказы')\n",
    "plt.title('Количество заказов по пользователям', fontsize=16)\n",
    "plt.show()"
   ]
  },
  {
   "cell_type": "markdown",
   "metadata": {},
   "source": [
    "Распределение заказов по пользователям выглядит нормальным: подавляющая часть сделала по 1 заказу, достаточно много тех, кто сделал 2 заказа, совсем мало сделавших более 2. Посмотрим более точные доли в расчете перцентилей."
   ]
  },
  {
   "cell_type": "markdown",
   "metadata": {},
   "source": [
    "### Перцентили количества заказов на пользователя\n",
    "Посчитаем 95-й и 99-й перцентили количества заказов на пользователя."
   ]
  },
  {
   "cell_type": "code",
   "execution_count": 28,
   "metadata": {},
   "outputs": [
    {
     "name": "stdout",
     "output_type": "stream",
     "text": [
      "95-й перцентиль количества заказов на пользователя: 2.0 заказа\n",
      "99-й перцентиль количества заказов на пользователя: 4.0 заказа\n"
     ]
    }
   ],
   "source": [
    "percentiles = np.percentile(orders_by_users['orders'], [95, 99])\n",
    "print('95-й перцентиль количества заказов на пользователя: {} заказа'.format(percentiles[0]))\n",
    "print('99-й перцентиль количества заказов на пользователя: {} заказа'.format(percentiles[1]))"
   ]
  },
  {
   "cell_type": "markdown",
   "metadata": {},
   "source": [
    "+ Не более 5% пользователей оформили больше, чем 2 заказа.\n",
    "\n",
    "Возьмем эту границу как верхнюю - пользователей с более, чем 2 заказами будем считать аномальными."
   ]
  },
  {
   "cell_type": "markdown",
   "metadata": {},
   "source": [
    "### График стоимостей заказов"
   ]
  },
  {
   "cell_type": "code",
   "execution_count": 29,
   "metadata": {},
   "outputs": [
    {
     "data": {
      "image/png": "[encoded data removed]",
      "text/plain": [
       "<Figure size 1008x576 with 1 Axes>"
      ]
     },
     "metadata": {
      "needs_background": "light"
     },
     "output_type": "display_data"
    },
    {
     "data": {
      "text/plain": [
       "count   1197.00   \n",
       "mean    8348.01   \n",
       "std     39191.13  \n",
       "min     50.00     \n",
       "25%     1220.00   \n",
       "50%     2978.00   \n",
       "75%     8290.00   \n",
       "max     1294500.00\n",
       "Name: revenue, dtype: float64"
      ]
     },
     "execution_count": 29,
     "metadata": {},
     "output_type": "execute_result"
    }
   ],
   "source": [
    "# серия из чисел от 0 до количества наблюдений в orders\n",
    "x_values = pd.Series(range(0,len(orders)))\n",
    "\n",
    "# построим точечный график стоимостей заказов\n",
    "plt.figure(figsize=(14, 8))\n",
    "plt.scatter(x_values, orders['revenue'], color='maroon')\n",
    "plt.xlabel('Заказы')\n",
    "plt.ylabel('Стоимости заказов')\n",
    "plt.title('Cтоимости заказов', fontsize=16)\n",
    "plt.axis([0, 1200, 0, 100000])\n",
    "plt.show()\n",
    "orders['revenue'].describe()"
   ]
  },
  {
   "cell_type": "markdown",
   "metadata": {},
   "source": [
    "Основная часть заказов стоит меньше 10 000, границу аномальных заказов можно установить от 20 000. Есть и супераномальные заказы, такие как за 1 294 500. Они сильно искажают средние значения.\n",
    "\n",
    "Для окончательного определения нормальных границ рассчитаем перцентили."
   ]
  },
  {
   "cell_type": "markdown",
   "metadata": {},
   "source": [
    "### Перцентили стоимости заказов\n",
    "Посчитаем 95-й и 99-й перцентили стоимости заказов."
   ]
  },
  {
   "cell_type": "code",
   "execution_count": 30,
   "metadata": {},
   "outputs": [
    {
     "name": "stdout",
     "output_type": "stream",
     "text": [
      "95-й перцентиль стоимости заказов: 28000\n",
      "99-й перцентиль стоимости заказов: 58233\n"
     ]
    }
   ],
   "source": [
    "percentiles = np.percentile(orders['revenue'], [95, 99])\n",
    "print('95-й перцентиль стоимости заказов: {:.0f}'.format(percentiles[0]))\n",
    "print('99-й перцентиль стоимости заказов: {:.0f}'.format(percentiles[1]))"
   ]
  },
  {
   "cell_type": "markdown",
   "metadata": {},
   "source": [
    "+ Не более 5% заказов стоят больше, чем 28 000.\n",
    "\n",
    "Возьмем эту границу как верхнюю - заказы дороже 28 000 будем считать **аномальными**."
   ]
  },
  {
   "cell_type": "markdown",
   "metadata": {},
   "source": [
    "## Выводы\n",
    "\n",
    "1. Графики **среднего чека** показывают, что результаты группы B лучше группы A. Но это преимущество связано с **большим выбросом**.\n",
    "2. Графики **конверсии** показывают, что она выше в группе B на 11%.\n",
    "3. Графики количества и стоимостей заказов показывают наличие аномальных значений, а расчет перцентилей уточняет их число: аномальными решено считать количество заказов выше 2 и стоимость выше 28 000."
   ]
  },
  {
   "cell_type": "markdown",
   "metadata": {},
   "source": [
    "# Статистический анализ A/B-теста\n",
    "\n",
    "Проанализируем результаты A/B-теста, которые содержатся в датасетах `orders` и `visitors`, используя критерий Уилкоксона-Манна-Уитни и расчета относительных значений между группами по \"сырым\" и \"очищенным\" данным."
   ]
  },
  {
   "cell_type": "markdown",
   "metadata": {},
   "source": [
    "## Датафрейм `data` и выборки с \"сырыми\" данными\n",
    "Создадим датафрейм `data`, в котором объединим необходимые для статистического анализа кумулятивные данные."
   ]
  },
  {
   "cell_type": "code",
   "execution_count": 31,
   "metadata": {},
   "outputs": [
    {
     "data": {
      "text/html": [
       "<div>\n",
       "<style scoped>\n",
       "    .dataframe tbody tr th:only-of-type {\n",
       "        vertical-align: middle;\n",
       "    }\n",
       "\n",
       "    .dataframe tbody tr th {\n",
       "        vertical-align: top;\n",
       "    }\n",
       "\n",
       "    .dataframe thead th {\n",
       "        text-align: right;\n",
       "    }\n",
       "</style>\n",
       "<table border=\"1\" class=\"dataframe\">\n",
       "  <thead>\n",
       "    <tr style=\"text-align: right;\">\n",
       "      <th></th>\n",
       "      <th>date</th>\n",
       "      <th>orders_per_date_a</th>\n",
       "      <th>revenue_per_date_a</th>\n",
       "      <th>orders_per_date_b</th>\n",
       "      <th>revenue_per_date_b</th>\n",
       "      <th>orders_cummulative_a</th>\n",
       "      <th>revenue_cummulative_a</th>\n",
       "      <th>orders_cummulative_b</th>\n",
       "      <th>revenue_cummulative_b</th>\n",
       "      <th>visitors_per_date_a</th>\n",
       "      <th>visitors_per_date_b</th>\n",
       "      <th>visitors_cummulative_a</th>\n",
       "      <th>visitors_cummulative_b</th>\n",
       "    </tr>\n",
       "  </thead>\n",
       "  <tbody>\n",
       "    <tr>\n",
       "      <th>0</th>\n",
       "      <td>2019-08-01</td>\n",
       "      <td>24</td>\n",
       "      <td>148579</td>\n",
       "      <td>21</td>\n",
       "      <td>101217</td>\n",
       "      <td>24</td>\n",
       "      <td>148579</td>\n",
       "      <td>21</td>\n",
       "      <td>101217</td>\n",
       "      <td>719</td>\n",
       "      <td>713</td>\n",
       "      <td>719</td>\n",
       "      <td>713</td>\n",
       "    </tr>\n",
       "    <tr>\n",
       "      <th>1</th>\n",
       "      <td>2019-08-02</td>\n",
       "      <td>20</td>\n",
       "      <td>93822</td>\n",
       "      <td>24</td>\n",
       "      <td>165531</td>\n",
       "      <td>44</td>\n",
       "      <td>242401</td>\n",
       "      <td>45</td>\n",
       "      <td>266748</td>\n",
       "      <td>619</td>\n",
       "      <td>581</td>\n",
       "      <td>1338</td>\n",
       "      <td>1294</td>\n",
       "    </tr>\n",
       "    <tr>\n",
       "      <th>2</th>\n",
       "      <td>2019-08-03</td>\n",
       "      <td>24</td>\n",
       "      <td>112473</td>\n",
       "      <td>16</td>\n",
       "      <td>114248</td>\n",
       "      <td>68</td>\n",
       "      <td>354874</td>\n",
       "      <td>61</td>\n",
       "      <td>380996</td>\n",
       "      <td>507</td>\n",
       "      <td>509</td>\n",
       "      <td>1845</td>\n",
       "      <td>1803</td>\n",
       "    </tr>\n",
       "  </tbody>\n",
       "</table>\n",
       "</div>"
      ],
      "text/plain": [
       "        date  orders_per_date_a  revenue_per_date_a  orders_per_date_b  \\\n",
       "0 2019-08-01  24                 148579              21                  \n",
       "1 2019-08-02  20                 93822               24                  \n",
       "2 2019-08-03  24                 112473              16                  \n",
       "\n",
       "   revenue_per_date_b  orders_cummulative_a  revenue_cummulative_a  \\\n",
       "0  101217              24                    148579                  \n",
       "1  165531              44                    242401                  \n",
       "2  114248              68                    354874                  \n",
       "\n",
       "   orders_cummulative_b  revenue_cummulative_b  visitors_per_date_a  \\\n",
       "0  21                    101217                 719                   \n",
       "1  45                    266748                 619                   \n",
       "2  61                    380996                 507                   \n",
       "\n",
       "   visitors_per_date_b  visitors_cummulative_a  visitors_cummulative_b  \n",
       "0  713                  719                     713                     \n",
       "1  581                  1338                    1294                    \n",
       "2  509                  1845                    1803                    "
      ]
     },
     "execution_count": 31,
     "metadata": {},
     "output_type": "execute_result"
    }
   ],
   "source": [
    "# количество пользователей в выбранную дату в группе A\n",
    "visitors_a_daily = visitors[visitors['group']=='A'][['date', 'visitors']]\n",
    "visitors_a_daily.columns = ['date', 'visitors_per_date_a']\n",
    "\n",
    "# количество пользователей до выбранной даты включительно в группе A\n",
    "visitors_a_cummulative = visitors_a_daily.apply(lambda x: visitors_a_daily[visitors_a_daily['date'] <=x['date']]\\\n",
    "                                     .agg({'date' : 'max', 'visitors_per_date_a' : 'sum'}), axis=1)\n",
    "visitors_a_cummulative.columns = ['date', 'visitors_cummulative_a']\n",
    "\n",
    "# количество пользователей в выбранную дату в группе B\n",
    "visitors_b_daily = visitors[visitors['group']=='B'][['date', 'visitors']]\n",
    "visitors_b_daily.columns = ['date', 'visitors_per_date_b']\n",
    "\n",
    "# количество пользователей до выбранной даты включительно в группе В\n",
    "visitors_b_cummulative = visitors_b_daily.apply(lambda x: visitors_b_daily[visitors_b_daily['date'] <=x['date']]\\\n",
    "                                     .agg({'date' : 'max', 'visitors_per_date_b' : 'sum'}), axis=1)\n",
    "visitors_b_cummulative.columns = ['date', 'visitors_cummulative_b']\n",
    "\n",
    "# количество заказов и суммарная выручка в выбранную дату в группе A\n",
    "orders_a_daily = orders[orders['group']=='A'][['date', 'order_id', 'user_id', 'revenue']].groupby('date', as_index=False)\\\n",
    "                                     .agg({'order_id' : pd.Series.nunique, 'revenue' : 'sum'})\n",
    "orders_a_daily.columns = ['date', 'orders_per_date_a', 'revenue_per_date_a']\n",
    "\n",
    "# суммарное число заказов и суммарная выручка до выбранной даты включительно в группе A\n",
    "orders_a_cummulative = orders_a_daily.apply(lambda x: orders_a_daily[orders_a_daily['date'] <= x['date']]\\\n",
    "                                 .agg({'date' : 'max', 'orders_per_date_a' : 'sum', 'revenue_per_date_a' : 'sum'}), axis=1)\\\n",
    "                                 .sort_values(by=['date'])\n",
    "orders_a_cummulative.columns = ['date', 'orders_cummulative_a', 'revenue_cummulative_a']\n",
    "\n",
    "# количество заказов и суммарная выручка в выбранную дату в группе B\n",
    "orders_b_daily = orders[orders['group']=='B'][['date', 'order_id', 'user_id', 'revenue']].groupby('date', as_index=False)\\\n",
    "                                     .agg({'order_id' : pd.Series.nunique, 'revenue' : 'sum'})\n",
    "orders_b_daily.columns = ['date', 'orders_per_date_b', 'revenue_per_date_b']\n",
    "\n",
    "# суммарное число заказов и суммарная выручка до выбранной даты включительно в группе В\n",
    "orders_b_cummulative = orders_b_daily.apply(lambda x: orders_b_daily[orders_b_daily['date'] <= x['date']]\\\n",
    "                                 .agg({'date' : 'max', 'orders_per_date_b' : 'sum', 'revenue_per_date_b' : 'sum'}), axis=1)\\\n",
    "                                 .sort_values(by=['date'])\n",
    "orders_b_cummulative.columns = ['date', 'orders_cummulative_b', 'revenue_cummulative_b']\n",
    "\n",
    "# объединение в один датафрейм data\n",
    "data = orders_a_daily.merge(orders_b_daily, left_on='date', right_on='date', how='left')\\\n",
    "                   .merge(orders_a_cummulative, left_on='date', right_on='date', how='left')\\\n",
    "                   .merge(orders_b_cummulative, left_on='date', right_on='date', how='left')\\\n",
    "                   .merge(visitors_a_daily, left_on='date', right_on='date', how='left')\\\n",
    "                   .merge(visitors_b_daily, left_on='date', right_on='date', how='left')\\\n",
    "                   .merge(visitors_a_cummulative, left_on='date', right_on='date', how='left')\\\n",
    "                   .merge(visitors_b_cummulative, left_on='date', right_on='date', how='left')\n",
    "\n",
    "data.head(3)"
   ]
  },
  {
   "cell_type": "markdown",
   "metadata": {},
   "source": [
    "Описание данных датафрейма `data`:\n",
    "\n",
    "+ `date` — дата;\n",
    "+ `orders_per_date_a` — количество заказов в выбранную дату в группе A;\n",
    "+ `revenue_per_date_a` — суммарная выручка в выбранную дату в группе A;\n",
    "+ `orders_per_date_b` — количество заказов в выбранную дату в группе B;\n",
    "+ `revenue_per_date_b` — суммарная выручка в выбранную дату в группе B;\n",
    "+ `orders_cummulative_a` — суммарное число заказов до выбранной даты включительно в группе A;\n",
    "+ `revenue_cummulative_a` — суммарная выручка до выбранной даты включительно в группе A;\n",
    "+ `orders_cummulative_b` — суммарное количество заказов до выбранной даты включительно в группе B;\n",
    "+ `revenue_cummulative_b` — суммарная выручка до выбранной даты включительно в группе B;\n",
    "+ `visitors_per_date_a` — количество пользователей в выбранную дату в группе A;\n",
    "+ `visitors_per_date_b` — количество пользователей в выбранную дату в группе B;\n",
    "+ `visitors_cummulative_a` — количество пользователей до выбранной даты включительно в группе A;\n",
    "+ `visitors_cummulative_b` — количество пользователей до выбранной даты включительно в группе B.\n",
    "\n",
    "Подготовим выборки с \"сырыми\" (содержащими аномальные значения) данными."
   ]
  },
  {
   "cell_type": "code",
   "execution_count": 32,
   "metadata": {},
   "outputs": [],
   "source": [
    "# создадим переменные orders_by_users_a и orders_by_users_b со столбцами ['user_id', 'orders'] \n",
    "# в них для каждого пользователя, который сделал хотя бы 1 заказ будет указано количество совершённых заказов\n",
    "orders_by_users_a = orders[orders['group']=='A'].groupby('user_id', as_index=False).agg({'order_id' : pd.Series.nunique})\n",
    "orders_by_users_a.columns = ['user_id', 'orders']\n",
    "\n",
    "orders_by_users_b = orders[orders['group']=='B'].groupby('user_id', as_index=False).agg({'order_id' : pd.Series.nunique})\n",
    "orders_by_users_b.columns = ['user_id', 'orders']\n",
    "\n",
    "# объявим переменные sample_a и sample_b, в которых пользователям из каждой группы А/В теста \n",
    "# будет соответствовать количество совершённых заказов \n",
    "# тем, кто ничего не заказал, будут соответствовать нули\n",
    "sample_a = pd.concat([orders_by_users_a['orders'],pd.Series(0, \n",
    "                     index=np.arange(data['visitors_per_date_a'].sum() \n",
    "                                     - len(orders_by_users_a['orders'])), name='orders')],axis=0)\n",
    "sample_b = pd.concat([orders_by_users_b['orders'],pd.Series(0, \n",
    "                     index=np.arange(data['visitors_per_date_b'].sum() \n",
    "                                     - len(orders_by_users_b['orders'])), name='orders')],axis=0)"
   ]
  },
  {
   "cell_type": "markdown",
   "metadata": {},
   "source": [
    "## Статистическая значимость различий в конверсии между группами по «сырым» данным\n",
    "Посчитаем статистическую значимость различий в конверсии между группами по «сырым» данным.\n",
    "\n",
    "Сформулируем статистические гипотезы:\n",
    "\n",
    "**H0** — конверсия в группе А и группе В одинаковая.\n",
    "\n",
    "**H1** — конверсия в группе А и группе В различается.\n",
    "\n",
    "Применим статистический критерий Уилкоксона-Манна-Уитни к полученным выборкам."
   ]
  },
  {
   "cell_type": "code",
   "execution_count": 33,
   "metadata": {},
   "outputs": [
    {
     "name": "stdout",
     "output_type": "stream",
     "text": [
      "p-value: 0.017\n",
      "Отвергаем нулевую гипотезу: конверсия в группе А и группе В по \"сырым\" данным различается.\n",
      "Относительное значение конверсии группы B по отношению к группе A по \"сырым\" данным: 0.138\n"
     ]
    }
   ],
   "source": [
    "# критический уровень статистической значимости зададим 5% поскольку у нас двусторонняя гипотеза и \n",
    "# вероятность отклониться от центра распределения в каждую сторону уменьшится до 2,5% \n",
    "# и это стандартная величина, обычно использующаяся в статистических тестах\n",
    "alpha = .05 \n",
    "\n",
    "pvalue = stats.mannwhitneyu(sample_a, sample_b)[1]\n",
    "\n",
    "print(\"p-value: {0:.3f}\".format(pvalue))\n",
    "\n",
    "if pvalue < alpha:\n",
    "    print('Отвергаем нулевую гипотезу: конверсия в группе А и группе В по \"сырым\" данным различается.')\n",
    "else:\n",
    "    print('Не получилось отвергнуть нулевую гипотезу: конверсия в группе А и группе В по \"сырым\" данным одинаковая.')\n",
    "    \n",
    "# относительное различие в конверсии между группами\n",
    "print('Относительное значение конверсии группы B по отношению к группе A по \"сырым\" данным: {0:.3f}'\n",
    "      .format(sample_b.mean()/sample_a.mean()-1)) "
   ]
  },
  {
   "cell_type": "markdown",
   "metadata": {},
   "source": [
    "**Выводы** \n",
    "1. Статистическая проверка по \"сырым\" данным подтвердила, что **конверсия** в группах А/В теста **различается**.\n",
    "2. Прирост конверсии группы B по отношению к группе A равен 13,8%."
   ]
  },
  {
   "cell_type": "markdown",
   "metadata": {},
   "source": [
    "## Статистическая значимость различий в среднем чеке между группами по «сырым» данным\n",
    "Сформулируем статистические гипотезы:\n",
    "\n",
    "**H0** — средний чек в группе А и группе В одинаковый.\n",
    "\n",
    "**H1** — средний чек в группе А и группе В различается.\n",
    "\n",
    "Применим статистический критерий Уилкоксона-Манна-Уитни."
   ]
  },
  {
   "cell_type": "code",
   "execution_count": 34,
   "metadata": {
    "scrolled": true
   },
   "outputs": [
    {
     "name": "stdout",
     "output_type": "stream",
     "text": [
      "p-value: 0.729\n",
      "Не получилось отвергнуть нулевую гипотезу: средний чек в группе А и группе В по \"сырым\" данным одинаковый.\n",
      "Относительное значение среднего чека группы B по отношению к группе A по \"сырым\" данным: 0.259\n"
     ]
    }
   ],
   "source": [
    "# критический уровень статистической значимости зададим 5% \n",
    "alpha = .05 \n",
    "\n",
    "# передадим критерию mannwhitneyu() данные о выручке с заказов\n",
    "pvalue = stats.mannwhitneyu(orders[orders['group']=='A']['revenue'], orders[orders['group']=='B']['revenue'])[1]\n",
    "\n",
    "print(\"p-value: {0:.3f}\".format(pvalue))\n",
    "\n",
    "if pvalue < alpha:\n",
    "    print('Отвергаем нулевую гипотезу: средний чек в группе А и группе В по \"сырым\" данным различается.')\n",
    "else:\n",
    "    print('Не получилось отвергнуть нулевую гипотезу: средний чек в группе А и группе В по \"сырым\" данным одинаковый.')\n",
    "    \n",
    "# относительное различие в конверсии между группами\n",
    "print('Относительное значение среднего чека группы B по отношению к группе A по \"сырым\" данным: {0:.3f}'\n",
    "      .format(orders[orders['group']=='B']['revenue'].mean()/orders[orders['group']=='A']['revenue'].mean()-1)) "
   ]
  },
  {
   "cell_type": "markdown",
   "metadata": {},
   "source": [
    "**Выводы** \n",
    "\n",
    "1. Статистическая проверка по \"сырым\" данным показала, что **средний чек** в группах А/В **одинаковый**. Что подтверждает наше предположение об искажении этой метрики выбросом.\n",
    "2. При этом прирост среднего чека группы B по отношению к группе A равен 25,9%."
   ]
  },
  {
   "cell_type": "markdown",
   "metadata": {},
   "source": [
    "## Датафрейм `abnormal_date` и выборки с \"очищенными\" данными\n",
    "\n",
    "Для \"очистки\" данных применим определенные ранее границы для аномальных значений: не более 2 заказов или стоимость заказа не выше 28 000. Так мы уберём 5% пользователей с аномальным количеством заказов и от 1% до 5% пользователей с аномально дорогими заказами.\n",
    "\n",
    "Подготовим датафрейм `abnormal_date` с соответствующими срезами:"
   ]
  },
  {
   "cell_type": "code",
   "execution_count": 35,
   "metadata": {},
   "outputs": [
    {
     "name": "stdout",
     "output_type": "stream",
     "text": [
      "Всего аномальных пользователей: 74\n"
     ]
    }
   ],
   "source": [
    "# срез пользователей, совершивших заказы дороже 28 000 — `usersWithExpensiveOrders`. \n",
    "\n",
    "#  срезы пользователей с числом заказов больше 2 — `usersWithManyOrders`\n",
    "users_many_orders = pd.concat(\n",
    "    [\n",
    "        orders_by_users_a[orders_by_users_a['orders'] > orders_by_users_a['orders'].quantile(0.95)]['user_id'], \n",
    "        orders_by_users_b[orders_by_users_b['orders'] > orders_by_users_b['orders'].quantile(0.95)]['user_id'], \n",
    "    ],           \n",
    "                          axis = 0,\n",
    "                          )\n",
    "\n",
    "users_expensive_orders = orders[orders['revenue'] > orders['revenue'].quantile(0.95)]['user_id']\n",
    "\n",
    "# объединим их в таблице abnormal_date\n",
    "abnormal_date = pd.concat([users_many_orders, users_expensive_orders], axis=0).drop_duplicates().sort_values()\n",
    "\n",
    "# сколько всего аномальных пользователей\n",
    "print('Всего аномальных пользователей: {}'.format(len(abnormal_date))) "
   ]
  },
  {
   "cell_type": "markdown",
   "metadata": {},
   "source": [
    "Подготовим выборки c \"очищенными\" данными."
   ]
  },
  {
   "cell_type": "code",
   "execution_count": 36,
   "metadata": {},
   "outputs": [],
   "source": [
    "sample_a_filtered = pd.concat([orders_by_users_a[np.logical_not(orders_by_users_a['user_id']\n",
    "                                                           .isin(abnormal_date))]['orders'], \n",
    "                               pd.Series(0, index=np.arange(data['visitors_per_date_a'].sum() \n",
    "                                                            - len(orders_by_users_a['orders'])),\n",
    "                                         name='orders')],axis=0)\n",
    "\n",
    "sample_b_filtered = pd.concat([orders_by_users_b[np.logical_not(orders_by_users_b['user_id']\n",
    "                                                           .isin(abnormal_date))]['orders'],\n",
    "                               pd.Series(0, index=np.arange(data['visitors_per_date_b'].sum() \n",
    "                                                            - len(orders_by_users_b['orders'])),\n",
    "                                         name='orders')],axis=0)"
   ]
  },
  {
   "cell_type": "markdown",
   "metadata": {},
   "source": [
    "## Статистическая значимость различий в конверсии между группами по «очищенным» данным\n",
    "Сформулируем статистические гипотезы:\n",
    "\n",
    "**H0** — конверсия в группе А и группе В одинаковая.\n",
    "\n",
    "**H1** — конверсия в группе А и группе В различается.\n",
    "\n",
    "Применим статистический критерий Уилкоксона-Манна-Уитни к полученным выборкам."
   ]
  },
  {
   "cell_type": "code",
   "execution_count": 37,
   "metadata": {},
   "outputs": [
    {
     "name": "stdout",
     "output_type": "stream",
     "text": [
      "p-value: 0.013\n",
      "Отвергаем нулевую гипотезу: конверсия в группе А и группе В по \"очищенным\" данным различается.\n",
      "Относительное значение конверсии группы B по отношению к группе A по \"очищенным\" данным: 0.173\n"
     ]
    }
   ],
   "source": [
    "# критический уровень статистической значимости зададим 5% \n",
    "alpha = .05 \n",
    "\n",
    "pvalue = stats.mannwhitneyu(sample_a_filtered, sample_b_filtered)[1]\n",
    "\n",
    "print(\"p-value: {0:.3f}\".format(pvalue))\n",
    "\n",
    "if pvalue < alpha:\n",
    "    print('Отвергаем нулевую гипотезу: конверсия в группе А и группе В по \"очищенным\" данным различается.')\n",
    "else:\n",
    "    print('Не получилось отвергнуть нулевую гипотезу: конверсия в группе А и группе В по \"очищенным\" данным одинаковая.')\n",
    "    \n",
    "# относительное различие в конверсии между группами\n",
    "print('Относительное значение конверсии группы B по отношению к группе A по \"очищенным\" данным: {0:.3f}'\n",
    "      .format(sample_b_filtered.mean()/sample_a_filtered.mean()-1)) "
   ]
  },
  {
   "cell_type": "markdown",
   "metadata": {},
   "source": [
    "**Выводы**\n",
    "\n",
    "1. Статистическая проверка по \"очищенным\" данным показала такой же результат, как и по \"сырым\" - **конверсия** в группах А/В теста **различается**.\n",
    "2. Прирост конверсии группы B по отношению к группе A по \"очищенным\" данным вырос на 3,5% по сравнению с результатом по \"сырым\" данным и равен 17,3%. Значит, **аномальных пользователей в группе А** было **больше**."
   ]
  },
  {
   "cell_type": "markdown",
   "metadata": {},
   "source": [
    "## Статистическая значимость различий в среднем чеке между группами по «очищенным» данным\n",
    "Сформулируем статистические гипотезы:\n",
    "\n",
    "**H0** — средний чек в группе А и группе В одинаковый.\n",
    "\n",
    "**H1** — средний чек в группе А и группе В различается.\n",
    "\n",
    "Применим статистический критерий Уилкоксона-Манна-Уитни."
   ]
  },
  {
   "cell_type": "code",
   "execution_count": 38,
   "metadata": {},
   "outputs": [
    {
     "name": "stdout",
     "output_type": "stream",
     "text": [
      "p-value: 0.738\n",
      "Не получилось отвергнуть нулевую гипотезу: средний чек в группе А и группе В по \"очищенным\" данным одинаковый\n",
      "Относительное значение среднего чека группы B по отношению к группе A по \"очищенным\" данным: -0.020\n"
     ]
    }
   ],
   "source": [
    "# критический уровень статистической значимости зададим 5% \n",
    "alpha = .05 \n",
    "\n",
    "# передадим критерию mannwhitneyu() данные о выручке с заказов\n",
    "pvalue = stats.mannwhitneyu(\n",
    "    orders[np.logical_and(orders['group']=='A', np.logical_not(orders['user_id'].isin(abnormal_date)))]['revenue'], \n",
    "    orders[np.logical_and(orders['group']=='B', np.logical_not(orders['user_id'].isin(abnormal_date)))]['revenue'])[1]\n",
    "\n",
    "print(\"p-value: {0:.3f}\".format(pvalue))\n",
    "\n",
    "if pvalue < alpha:\n",
    "    print('Отвергаем нулевую гипотезу: средний чек в группе А и группе В по \"очищенным\" данным различается.')\n",
    "else:\n",
    "    print('Не получилось отвергнуть нулевую гипотезу: средний чек в группе А и группе В по \"очищенным\" данным одинаковый')\n",
    "    \n",
    "# относительное различие в конверсии между группами\n",
    "print('Относительное значение среднего чека группы B по отношению к группе A по \"очищенным\" данным: {0:.3f}'\n",
    "      .format(orders[np.logical_and(orders['group']=='B', np.logical_not(\n",
    "                 orders['user_id'].isin(abnormal_date)))]['revenue'].mean()/orders[np.logical_and(\n",
    "                    orders['group']=='A', np.logical_not(orders['user_id'].isin(abnormal_date)))]['revenue'].mean() - 1)) "
   ]
  },
  {
   "cell_type": "markdown",
   "metadata": {},
   "source": [
    "**Выводы**\n",
    "1. Статистическая проверка по \"очищенным\" данным показала такой же результат, как и по \"сырым\" - **средний чек** в группах А/В теста **одинаковый**.\n",
    "2. Значение среднего чека группы B по отношению к группе A по \"очищенным\" данным по сравнению со значением по \"сырым\" **радикально изменилось**, упав с 25,9% до - 2%. Влияние аномалий в данном случае было очень существенно."
   ]
  },
  {
   "cell_type": "markdown",
   "metadata": {},
   "source": [
    "## Выводы\n",
    "\n",
    "1. **Конверсия** по\"сырым\" по \"очищенным\" данным в группах А/В теста **различается**. Прирост конверсии группы B по отношению к группе A по \"очищенным\" данным вырос на 3,5% по сравнению с результатом по \"сырым\" данным и равен 17,3%.\n",
    "2. **Средний чек** по\"сырым\" по \"очищенным\" данным в группах А/В теста **одинаковый**. Падение среднего чека группы B по отношению к группе A по \"очищенным\" данным по сравнению со значением по \"сырым\" составило с 25,9% до - 2%.\n"
   ]
  },
  {
   "cell_type": "markdown",
   "metadata": {},
   "source": [
    "# Общие выводы\n",
    "1. По результатам RICE **приоритетной** была определена **гипотеза №7** - \"Добавить форму подписки на все основные страницы, чтобы собрать базу клиентов для email-рассылок\". У нее 112 баллов против 56 баллов следующей за ней **гипотезы №2**: \"Добавить блоки рекомендаций товаров на сайт интернет магазина, чтобы повысить конверсию и средний чек заказа\".\n",
    "2. В результате исследовательского и статистического анализа среднего чека и конверсии двух групп A/B теста принято решение **остановить тест**, т.к. несмотря на то, что средний чек в группах одинаковый, конверсия имеет статистически значимые различия и в группе В больше, чем в группе А на 17%, поэтому мы можем зафиксировать **победу группы В**."
   ]
  }
 ],
 "metadata": {
  "ExecuteTimeLog": [
   {
    "duration": 47,
    "start_time": "2023-08-31T11:08:28.773Z"
   },
   {
    "duration": 427,
    "start_time": "2023-08-31T11:08:31.168Z"
   },
   {
    "duration": 71,
    "start_time": "2023-08-31T11:08:32.631Z"
   },
   {
    "duration": 39,
    "start_time": "2023-08-31T11:08:40.972Z"
   },
   {
    "duration": 85,
    "start_time": "2023-08-31T11:10:06.880Z"
   },
   {
    "duration": 45,
    "start_time": "2023-08-31T11:10:09.500Z"
   },
   {
    "duration": 9,
    "start_time": "2023-08-31T11:10:18.317Z"
   },
   {
    "duration": 46,
    "start_time": "2023-09-01T13:07:30.154Z"
   },
   {
    "duration": 0,
    "start_time": "2023-09-01T13:07:30.201Z"
   },
   {
    "duration": 6,
    "start_time": "2023-09-01T13:08:10.259Z"
   },
   {
    "duration": 1496,
    "start_time": "2023-09-01T13:10:07.440Z"
   },
   {
    "duration": 199,
    "start_time": "2023-09-01T13:10:21.842Z"
   },
   {
    "duration": 108,
    "start_time": "2023-09-01T13:10:44.722Z"
   },
   {
    "duration": 59,
    "start_time": "2023-09-01T13:11:20.801Z"
   },
   {
    "duration": 49,
    "start_time": "2023-09-01T13:12:44.414Z"
   },
   {
    "duration": 53,
    "start_time": "2023-09-01T13:12:49.013Z"
   },
   {
    "duration": 51,
    "start_time": "2023-09-01T13:12:58.313Z"
   },
   {
    "duration": 57,
    "start_time": "2023-09-01T13:13:05.735Z"
   },
   {
    "duration": 44,
    "start_time": "2023-09-01T13:13:18.467Z"
   },
   {
    "duration": 40,
    "start_time": "2023-09-01T13:14:08.840Z"
   },
   {
    "duration": 48,
    "start_time": "2023-09-01T13:14:40.607Z"
   },
   {
    "duration": 93,
    "start_time": "2023-09-01T13:15:16.780Z"
   },
   {
    "duration": 4,
    "start_time": "2023-09-01T13:20:09.459Z"
   },
   {
    "duration": 9,
    "start_time": "2023-09-01T13:20:24.957Z"
   },
   {
    "duration": 4,
    "start_time": "2023-09-01T13:21:56.589Z"
   },
   {
    "duration": 3,
    "start_time": "2023-09-01T13:22:08.996Z"
   },
   {
    "duration": 3,
    "start_time": "2023-09-01T13:22:15.746Z"
   },
   {
    "duration": 1222,
    "start_time": "2023-09-01T13:22:23.735Z"
   },
   {
    "duration": 77,
    "start_time": "2023-09-01T13:22:24.959Z"
   },
   {
    "duration": 45,
    "start_time": "2023-09-01T13:22:25.039Z"
   },
   {
    "duration": 59,
    "start_time": "2023-09-01T13:22:25.085Z"
   },
   {
    "duration": 49,
    "start_time": "2023-09-01T13:22:25.147Z"
   },
   {
    "duration": 4,
    "start_time": "2023-09-01T13:22:25.224Z"
   },
   {
    "duration": 14,
    "start_time": "2023-09-01T13:22:25.230Z"
   },
   {
    "duration": 18,
    "start_time": "2023-09-01T13:25:35.062Z"
   },
   {
    "duration": 18,
    "start_time": "2023-09-01T13:25:52.647Z"
   },
   {
    "duration": 16,
    "start_time": "2023-09-01T13:25:56.663Z"
   },
   {
    "duration": 16,
    "start_time": "2023-09-01T13:25:58.496Z"
   },
   {
    "duration": 18,
    "start_time": "2023-09-01T13:26:09.590Z"
   },
   {
    "duration": 97,
    "start_time": "2023-09-01T13:26:15.511Z"
   },
   {
    "duration": 14,
    "start_time": "2023-09-01T13:26:32.778Z"
   },
   {
    "duration": 25,
    "start_time": "2023-09-01T13:26:36.925Z"
   },
   {
    "duration": 80,
    "start_time": "2023-09-01T13:26:58.976Z"
   },
   {
    "duration": 12,
    "start_time": "2023-09-01T13:27:08.659Z"
   },
   {
    "duration": 13,
    "start_time": "2023-09-01T13:27:12.299Z"
   },
   {
    "duration": 17,
    "start_time": "2023-09-01T13:27:30.915Z"
   },
   {
    "duration": 12,
    "start_time": "2023-09-01T13:27:38.586Z"
   },
   {
    "duration": 17,
    "start_time": "2023-09-01T13:27:46.888Z"
   },
   {
    "duration": 6,
    "start_time": "2023-09-01T13:29:13.355Z"
   },
   {
    "duration": 13,
    "start_time": "2023-09-01T13:29:46.531Z"
   },
   {
    "duration": 79,
    "start_time": "2023-09-01T13:30:49.998Z"
   },
   {
    "duration": 8,
    "start_time": "2023-09-01T13:34:44.455Z"
   },
   {
    "duration": 7,
    "start_time": "2023-09-01T13:34:52.344Z"
   },
   {
    "duration": 9,
    "start_time": "2023-09-01T13:39:08.954Z"
   },
   {
    "duration": 6,
    "start_time": "2023-09-01T13:40:05.102Z"
   },
   {
    "duration": 9,
    "start_time": "2023-09-01T13:40:09.416Z"
   },
   {
    "duration": 1221,
    "start_time": "2023-09-01T13:41:39.105Z"
   },
   {
    "duration": 81,
    "start_time": "2023-09-01T13:41:40.329Z"
   },
   {
    "duration": 59,
    "start_time": "2023-09-01T13:41:40.412Z"
   },
   {
    "duration": 79,
    "start_time": "2023-09-01T13:41:40.473Z"
   },
   {
    "duration": 39,
    "start_time": "2023-09-01T13:41:40.554Z"
   },
   {
    "duration": 39,
    "start_time": "2023-09-01T13:41:40.595Z"
   },
   {
    "duration": 29,
    "start_time": "2023-09-01T13:41:40.639Z"
   },
   {
    "duration": 22,
    "start_time": "2023-09-01T13:41:40.670Z"
   },
   {
    "duration": 131,
    "start_time": "2023-09-01T13:41:40.693Z"
   },
   {
    "duration": 187,
    "start_time": "2023-09-01T13:41:40.827Z"
   },
   {
    "duration": 103,
    "start_time": "2023-09-01T13:41:41.015Z"
   },
   {
    "duration": 31,
    "start_time": "2023-09-01T13:41:41.119Z"
   },
   {
    "duration": 1230,
    "start_time": "2023-09-01T13:45:28.291Z"
   },
   {
    "duration": 87,
    "start_time": "2023-09-01T13:45:29.524Z"
   },
   {
    "duration": 61,
    "start_time": "2023-09-01T13:45:29.612Z"
   },
   {
    "duration": 63,
    "start_time": "2023-09-01T13:45:29.675Z"
   },
   {
    "duration": 46,
    "start_time": "2023-09-01T13:45:29.740Z"
   },
   {
    "duration": 39,
    "start_time": "2023-09-01T13:45:29.787Z"
   },
   {
    "duration": 32,
    "start_time": "2023-09-01T13:45:29.828Z"
   },
   {
    "duration": 6,
    "start_time": "2023-09-01T13:45:29.862Z"
   },
   {
    "duration": 12,
    "start_time": "2023-09-01T13:45:29.869Z"
   },
   {
    "duration": 8,
    "start_time": "2023-09-01T13:45:29.883Z"
   },
   {
    "duration": 20,
    "start_time": "2023-09-01T13:45:29.925Z"
   },
   {
    "duration": 11,
    "start_time": "2023-09-01T13:45:29.947Z"
   },
   {
    "duration": 84,
    "start_time": "2023-09-01T13:51:49.416Z"
   },
   {
    "duration": 1325,
    "start_time": "2023-09-01T13:52:00.035Z"
   },
   {
    "duration": 90,
    "start_time": "2023-09-01T13:52:01.362Z"
   },
   {
    "duration": 49,
    "start_time": "2023-09-01T13:52:01.454Z"
   },
   {
    "duration": 87,
    "start_time": "2023-09-01T13:52:01.505Z"
   },
   {
    "duration": 74,
    "start_time": "2023-09-01T13:52:01.594Z"
   },
   {
    "duration": 6,
    "start_time": "2023-09-01T13:52:01.670Z"
   },
   {
    "duration": 222,
    "start_time": "2023-09-01T13:52:01.678Z"
   },
   {
    "duration": 160,
    "start_time": "2023-09-01T13:52:01.902Z"
   },
   {
    "duration": 129,
    "start_time": "2023-09-01T13:52:02.064Z"
   },
   {
    "duration": 140,
    "start_time": "2023-09-01T13:52:02.195Z"
   },
   {
    "duration": 71,
    "start_time": "2023-09-01T13:52:02.337Z"
   },
   {
    "duration": 148,
    "start_time": "2023-09-01T13:52:02.410Z"
   },
   {
    "duration": 22,
    "start_time": "2023-09-01T13:52:26.835Z"
   },
   {
    "duration": 10,
    "start_time": "2023-09-01T13:52:35.693Z"
   },
   {
    "duration": 11,
    "start_time": "2023-09-01T13:52:49.079Z"
   },
   {
    "duration": 15,
    "start_time": "2023-09-01T13:55:06.336Z"
   },
   {
    "duration": 19,
    "start_time": "2023-09-01T13:55:23.734Z"
   },
   {
    "duration": 307,
    "start_time": "2023-09-01T14:01:45.356Z"
   },
   {
    "duration": 354,
    "start_time": "2023-09-01T14:04:12.211Z"
   },
   {
    "duration": 258,
    "start_time": "2023-09-01T14:05:26.846Z"
   },
   {
    "duration": 24,
    "start_time": "2023-09-01T14:09:08.015Z"
   },
   {
    "duration": 390,
    "start_time": "2023-09-01T14:09:18.091Z"
   },
   {
    "duration": 1283,
    "start_time": "2023-09-01T14:10:40.538Z"
   },
   {
    "duration": 79,
    "start_time": "2023-09-01T14:10:41.823Z"
   },
   {
    "duration": 63,
    "start_time": "2023-09-01T14:10:41.904Z"
   },
   {
    "duration": 71,
    "start_time": "2023-09-01T14:10:41.968Z"
   },
   {
    "duration": 40,
    "start_time": "2023-09-01T14:10:42.042Z"
   },
   {
    "duration": 7,
    "start_time": "2023-09-01T14:10:42.084Z"
   },
   {
    "duration": 51,
    "start_time": "2023-09-01T14:10:42.092Z"
   },
   {
    "duration": 6,
    "start_time": "2023-09-01T14:10:42.147Z"
   },
   {
    "duration": 21,
    "start_time": "2023-09-01T14:10:42.154Z"
   },
   {
    "duration": 8,
    "start_time": "2023-09-01T14:10:42.177Z"
   },
   {
    "duration": 42,
    "start_time": "2023-09-01T14:10:42.186Z"
   },
   {
    "duration": 13,
    "start_time": "2023-09-01T14:10:42.231Z"
   },
   {
    "duration": 22,
    "start_time": "2023-09-01T14:10:42.247Z"
   },
   {
    "duration": 13,
    "start_time": "2023-09-01T14:10:42.272Z"
   },
   {
    "duration": 326,
    "start_time": "2023-09-01T14:10:42.287Z"
   },
   {
    "duration": 381,
    "start_time": "2023-09-01T14:10:42.614Z"
   },
   {
    "duration": 260,
    "start_time": "2023-09-01T14:10:42.997Z"
   },
   {
    "duration": 13,
    "start_time": "2023-09-01T14:10:43.258Z"
   },
   {
    "duration": 378,
    "start_time": "2023-09-01T14:10:43.273Z"
   },
   {
    "duration": 361,
    "start_time": "2023-09-01T14:11:01.554Z"
   },
   {
    "duration": 410,
    "start_time": "2023-09-01T14:11:09.009Z"
   },
   {
    "duration": 373,
    "start_time": "2023-09-01T14:12:13.141Z"
   },
   {
    "duration": 236,
    "start_time": "2023-09-01T14:32:41.912Z"
   },
   {
    "duration": 462,
    "start_time": "2023-09-01T14:34:20.057Z"
   },
   {
    "duration": 183,
    "start_time": "2023-09-01T14:35:56.146Z"
   },
   {
    "duration": 177,
    "start_time": "2023-09-01T14:36:12.144Z"
   },
   {
    "duration": 8,
    "start_time": "2023-09-01T14:38:10.555Z"
   },
   {
    "duration": 83,
    "start_time": "2023-09-01T14:39:28.217Z"
   },
   {
    "duration": 197,
    "start_time": "2023-09-01T14:39:33.784Z"
   },
   {
    "duration": 204,
    "start_time": "2023-09-01T14:41:39.057Z"
   },
   {
    "duration": 261,
    "start_time": "2023-09-01T14:41:46.148Z"
   },
   {
    "duration": 202,
    "start_time": "2023-09-01T14:42:04.075Z"
   },
   {
    "duration": 215,
    "start_time": "2023-09-01T14:48:27.314Z"
   },
   {
    "duration": 193,
    "start_time": "2023-09-01T14:48:31.359Z"
   },
   {
    "duration": 180,
    "start_time": "2023-09-01T14:51:46.249Z"
   },
   {
    "duration": 5,
    "start_time": "2023-09-01T14:55:16.193Z"
   },
   {
    "duration": 223,
    "start_time": "2023-09-01T15:00:06.809Z"
   },
   {
    "duration": 129,
    "start_time": "2023-09-01T15:01:09.395Z"
   },
   {
    "duration": 139,
    "start_time": "2023-09-01T15:01:14.355Z"
   },
   {
    "duration": 27,
    "start_time": "2023-09-01T15:03:18.953Z"
   },
   {
    "duration": 14,
    "start_time": "2023-09-01T15:06:30.837Z"
   },
   {
    "duration": 210,
    "start_time": "2023-09-01T17:11:50.682Z"
   },
   {
    "duration": 212,
    "start_time": "2023-09-01T17:12:06.235Z"
   },
   {
    "duration": 11,
    "start_time": "2023-09-01T17:13:39.920Z"
   },
   {
    "duration": 8,
    "start_time": "2023-09-01T17:14:04.986Z"
   },
   {
    "duration": 30,
    "start_time": "2023-09-01T17:16:27.408Z"
   },
   {
    "duration": 13,
    "start_time": "2023-09-01T17:18:17.098Z"
   },
   {
    "duration": 1102,
    "start_time": "2023-09-01T17:35:06.956Z"
   },
   {
    "duration": 77,
    "start_time": "2023-09-01T17:35:08.060Z"
   },
   {
    "duration": 46,
    "start_time": "2023-09-01T17:35:08.139Z"
   },
   {
    "duration": 50,
    "start_time": "2023-09-01T17:35:08.187Z"
   },
   {
    "duration": 35,
    "start_time": "2023-09-01T17:35:08.239Z"
   },
   {
    "duration": 7,
    "start_time": "2023-09-01T17:35:08.276Z"
   },
   {
    "duration": 51,
    "start_time": "2023-09-01T17:35:08.285Z"
   },
   {
    "duration": 6,
    "start_time": "2023-09-01T17:35:08.337Z"
   },
   {
    "duration": 12,
    "start_time": "2023-09-01T17:35:08.345Z"
   },
   {
    "duration": 8,
    "start_time": "2023-09-01T17:35:08.359Z"
   },
   {
    "duration": 7,
    "start_time": "2023-09-01T17:35:08.369Z"
   },
   {
    "duration": 49,
    "start_time": "2023-09-01T17:35:08.377Z"
   },
   {
    "duration": 17,
    "start_time": "2023-09-01T17:35:08.428Z"
   },
   {
    "duration": 19,
    "start_time": "2023-09-01T17:35:08.449Z"
   },
   {
    "duration": 300,
    "start_time": "2023-09-01T17:35:08.470Z"
   },
   {
    "duration": 323,
    "start_time": "2023-09-01T17:35:08.772Z"
   },
   {
    "duration": 235,
    "start_time": "2023-09-01T17:35:09.096Z"
   },
   {
    "duration": 11,
    "start_time": "2023-09-01T17:35:09.333Z"
   },
   {
    "duration": 370,
    "start_time": "2023-09-01T17:35:09.346Z"
   },
   {
    "duration": 230,
    "start_time": "2023-09-01T17:35:09.724Z"
   },
   {
    "duration": 340,
    "start_time": "2023-09-01T17:35:09.955Z"
   },
   {
    "duration": 174,
    "start_time": "2023-09-01T17:35:10.298Z"
   },
   {
    "duration": 167,
    "start_time": "2023-09-01T17:35:10.474Z"
   },
   {
    "duration": 5,
    "start_time": "2023-09-01T17:35:10.643Z"
   },
   {
    "duration": 186,
    "start_time": "2023-09-01T17:35:10.650Z"
   },
   {
    "duration": 4,
    "start_time": "2023-09-01T17:35:10.838Z"
   },
   {
    "duration": 322,
    "start_time": "2023-09-01T17:35:10.843Z"
   },
   {
    "duration": 132,
    "start_time": "2023-09-01T17:35:11.167Z"
   },
   {
    "duration": 31,
    "start_time": "2023-09-01T17:35:11.301Z"
   },
   {
    "duration": 11,
    "start_time": "2023-09-01T17:35:11.333Z"
   },
   {
    "duration": 13,
    "start_time": "2023-09-01T17:35:11.346Z"
   },
   {
    "duration": 7,
    "start_time": "2023-09-01T17:35:11.361Z"
   },
   {
    "duration": 23,
    "start_time": "2023-09-01T17:35:11.370Z"
   },
   {
    "duration": 42,
    "start_time": "2023-09-01T17:35:11.394Z"
   },
   {
    "duration": 1165,
    "start_time": "2023-09-01T17:48:42.687Z"
   },
   {
    "duration": 74,
    "start_time": "2023-09-01T17:48:43.855Z"
   },
   {
    "duration": 43,
    "start_time": "2023-09-01T17:48:43.930Z"
   },
   {
    "duration": 63,
    "start_time": "2023-09-01T17:48:43.974Z"
   },
   {
    "duration": 32,
    "start_time": "2023-09-01T17:48:44.039Z"
   },
   {
    "duration": 6,
    "start_time": "2023-09-01T17:48:44.073Z"
   },
   {
    "duration": 52,
    "start_time": "2023-09-01T17:48:44.081Z"
   },
   {
    "duration": 5,
    "start_time": "2023-09-01T17:48:44.135Z"
   },
   {
    "duration": 36,
    "start_time": "2023-09-01T17:48:44.141Z"
   },
   {
    "duration": 16,
    "start_time": "2023-09-01T17:48:44.179Z"
   },
   {
    "duration": 12,
    "start_time": "2023-09-01T17:48:44.196Z"
   },
   {
    "duration": 28,
    "start_time": "2023-09-01T17:48:44.210Z"
   },
   {
    "duration": 18,
    "start_time": "2023-09-01T17:48:44.240Z"
   },
   {
    "duration": 28,
    "start_time": "2023-09-01T17:48:44.261Z"
   },
   {
    "duration": 284,
    "start_time": "2023-09-01T17:48:44.290Z"
   },
   {
    "duration": 302,
    "start_time": "2023-09-01T17:48:44.575Z"
   },
   {
    "duration": 237,
    "start_time": "2023-09-01T17:48:44.879Z"
   },
   {
    "duration": 12,
    "start_time": "2023-09-01T17:48:45.123Z"
   },
   {
    "duration": 337,
    "start_time": "2023-09-01T17:48:45.136Z"
   },
   {
    "duration": 228,
    "start_time": "2023-09-01T17:48:45.475Z"
   },
   {
    "duration": 367,
    "start_time": "2023-09-01T17:48:45.704Z"
   },
   {
    "duration": 227,
    "start_time": "2023-09-01T17:48:46.073Z"
   },
   {
    "duration": 154,
    "start_time": "2023-09-01T17:48:46.301Z"
   },
   {
    "duration": 4,
    "start_time": "2023-09-01T17:48:46.457Z"
   },
   {
    "duration": 177,
    "start_time": "2023-09-01T17:48:46.462Z"
   },
   {
    "duration": 4,
    "start_time": "2023-09-01T17:48:46.641Z"
   },
   {
    "duration": 323,
    "start_time": "2023-09-01T17:48:46.647Z"
   },
   {
    "duration": 137,
    "start_time": "2023-09-01T17:48:46.972Z"
   },
   {
    "duration": 25,
    "start_time": "2023-09-01T17:48:47.111Z"
   },
   {
    "duration": 11,
    "start_time": "2023-09-01T17:48:47.137Z"
   },
   {
    "duration": 11,
    "start_time": "2023-09-01T17:48:47.150Z"
   },
   {
    "duration": 7,
    "start_time": "2023-09-01T17:48:47.163Z"
   },
   {
    "duration": 27,
    "start_time": "2023-09-01T17:48:47.171Z"
   },
   {
    "duration": 18,
    "start_time": "2023-09-01T17:48:47.224Z"
   },
   {
    "duration": 1158,
    "start_time": "2023-09-01T17:50:17.567Z"
   },
   {
    "duration": 76,
    "start_time": "2023-09-01T17:50:18.727Z"
   },
   {
    "duration": 54,
    "start_time": "2023-09-01T17:50:18.805Z"
   },
   {
    "duration": 86,
    "start_time": "2023-09-01T17:50:18.861Z"
   },
   {
    "duration": 40,
    "start_time": "2023-09-01T17:50:18.949Z"
   },
   {
    "duration": 8,
    "start_time": "2023-09-01T17:50:19.023Z"
   },
   {
    "duration": 21,
    "start_time": "2023-09-01T17:50:19.033Z"
   },
   {
    "duration": 8,
    "start_time": "2023-09-01T17:50:19.056Z"
   },
   {
    "duration": 19,
    "start_time": "2023-09-01T17:50:19.066Z"
   },
   {
    "duration": 43,
    "start_time": "2023-09-01T17:50:19.087Z"
   },
   {
    "duration": 13,
    "start_time": "2023-09-01T17:50:19.131Z"
   },
   {
    "duration": 85,
    "start_time": "2023-09-01T17:50:19.145Z"
   },
   {
    "duration": 40,
    "start_time": "2023-09-01T17:50:19.232Z"
   },
   {
    "duration": 41,
    "start_time": "2023-09-01T17:50:19.275Z"
   },
   {
    "duration": 321,
    "start_time": "2023-09-01T17:50:19.319Z"
   },
   {
    "duration": 326,
    "start_time": "2023-09-01T17:50:19.642Z"
   },
   {
    "duration": 270,
    "start_time": "2023-09-01T17:50:19.970Z"
   },
   {
    "duration": 15,
    "start_time": "2023-09-01T17:50:20.242Z"
   },
   {
    "duration": 397,
    "start_time": "2023-09-01T17:50:20.259Z"
   },
   {
    "duration": 295,
    "start_time": "2023-09-01T17:50:20.658Z"
   },
   {
    "duration": 330,
    "start_time": "2023-09-01T17:50:20.956Z"
   },
   {
    "duration": 163,
    "start_time": "2023-09-01T17:50:21.288Z"
   },
   {
    "duration": 166,
    "start_time": "2023-09-01T17:50:21.453Z"
   },
   {
    "duration": 5,
    "start_time": "2023-09-01T17:50:21.621Z"
   },
   {
    "duration": 181,
    "start_time": "2023-09-01T17:50:21.628Z"
   },
   {
    "duration": 4,
    "start_time": "2023-09-01T17:50:21.810Z"
   },
   {
    "duration": 309,
    "start_time": "2023-09-01T17:50:21.824Z"
   },
   {
    "duration": 149,
    "start_time": "2023-09-01T17:50:22.135Z"
   },
   {
    "duration": 40,
    "start_time": "2023-09-01T17:50:22.286Z"
   },
   {
    "duration": 45,
    "start_time": "2023-09-01T17:50:22.328Z"
   },
   {
    "duration": 21,
    "start_time": "2023-09-01T17:50:22.375Z"
   },
   {
    "duration": 12,
    "start_time": "2023-09-01T17:50:22.398Z"
   },
   {
    "duration": 24,
    "start_time": "2023-09-01T17:50:22.411Z"
   },
   {
    "duration": 30,
    "start_time": "2023-09-01T17:50:22.436Z"
   },
   {
    "duration": 40,
    "start_time": "2023-09-01T17:52:36.842Z"
   },
   {
    "duration": 62,
    "start_time": "2023-09-01T19:55:44.594Z"
   },
   {
    "duration": 55,
    "start_time": "2023-09-02T15:48:14.933Z"
   },
   {
    "duration": 1652,
    "start_time": "2023-09-02T15:48:39.803Z"
   },
   {
    "duration": 222,
    "start_time": "2023-09-02T15:48:41.458Z"
   },
   {
    "duration": 46,
    "start_time": "2023-09-02T15:48:41.682Z"
   },
   {
    "duration": 40,
    "start_time": "2023-09-02T15:48:41.730Z"
   },
   {
    "duration": 83,
    "start_time": "2023-09-02T15:48:41.773Z"
   },
   {
    "duration": 19,
    "start_time": "2023-09-02T15:48:41.858Z"
   },
   {
    "duration": 227,
    "start_time": "2023-09-02T15:48:41.879Z"
   },
   {
    "duration": 133,
    "start_time": "2023-09-02T15:48:42.108Z"
   },
   {
    "duration": 19,
    "start_time": "2023-09-02T15:48:42.243Z"
   },
   {
    "duration": 13,
    "start_time": "2023-09-02T15:48:42.264Z"
   },
   {
    "duration": 13,
    "start_time": "2023-09-02T15:48:42.279Z"
   },
   {
    "duration": 17,
    "start_time": "2023-09-02T15:48:42.294Z"
   },
   {
    "duration": 14,
    "start_time": "2023-09-02T15:48:42.313Z"
   },
   {
    "duration": 17,
    "start_time": "2023-09-02T15:48:42.335Z"
   },
   {
    "duration": 12,
    "start_time": "2023-09-02T15:48:42.355Z"
   },
   {
    "duration": 510,
    "start_time": "2023-09-02T15:48:42.369Z"
   },
   {
    "duration": 537,
    "start_time": "2023-09-02T15:48:42.881Z"
   },
   {
    "duration": 333,
    "start_time": "2023-09-02T15:48:43.420Z"
   },
   {
    "duration": 13,
    "start_time": "2023-09-02T15:48:43.756Z"
   },
   {
    "duration": 492,
    "start_time": "2023-09-02T15:48:43.771Z"
   },
   {
    "duration": 288,
    "start_time": "2023-09-02T15:48:44.266Z"
   },
   {
    "duration": 461,
    "start_time": "2023-09-02T15:48:44.556Z"
   },
   {
    "duration": 165,
    "start_time": "2023-09-02T15:48:45.019Z"
   },
   {
    "duration": 218,
    "start_time": "2023-09-02T15:48:45.186Z"
   },
   {
    "duration": 7,
    "start_time": "2023-09-02T15:48:45.405Z"
   },
   {
    "duration": 225,
    "start_time": "2023-09-02T15:48:45.418Z"
   },
   {
    "duration": 5,
    "start_time": "2023-09-02T15:48:45.645Z"
   },
   {
    "duration": 362,
    "start_time": "2023-09-02T15:48:45.652Z"
   },
   {
    "duration": 172,
    "start_time": "2023-09-02T15:48:46.017Z"
   },
   {
    "duration": 47,
    "start_time": "2023-09-02T15:48:46.191Z"
   },
   {
    "duration": 12,
    "start_time": "2023-09-02T15:48:46.240Z"
   },
   {
    "duration": 17,
    "start_time": "2023-09-02T15:48:46.253Z"
   },
   {
    "duration": 16,
    "start_time": "2023-09-02T15:48:46.272Z"
   },
   {
    "duration": 53,
    "start_time": "2023-09-02T15:48:46.290Z"
   },
   {
    "duration": 20,
    "start_time": "2023-09-02T15:48:46.345Z"
   },
   {
    "duration": 6,
    "start_time": "2023-09-02T15:49:53.759Z"
   },
   {
    "duration": 6,
    "start_time": "2023-09-02T15:50:37.621Z"
   },
   {
    "duration": 5,
    "start_time": "2023-09-02T15:50:43.594Z"
   },
   {
    "duration": 5,
    "start_time": "2023-09-02T15:51:29.815Z"
   },
   {
    "duration": 5,
    "start_time": "2023-09-02T15:51:36.734Z"
   },
   {
    "duration": 5,
    "start_time": "2023-09-02T15:51:40.514Z"
   },
   {
    "duration": 6,
    "start_time": "2023-09-02T15:51:52.849Z"
   },
   {
    "duration": 4,
    "start_time": "2023-09-02T15:52:01.519Z"
   },
   {
    "duration": 6,
    "start_time": "2023-09-02T15:53:26.495Z"
   },
   {
    "duration": 7,
    "start_time": "2023-09-02T15:53:46.618Z"
   },
   {
    "duration": 6,
    "start_time": "2023-09-02T15:54:04.238Z"
   },
   {
    "duration": 117,
    "start_time": "2023-09-02T15:54:10.874Z"
   },
   {
    "duration": 6,
    "start_time": "2023-09-02T15:54:14.288Z"
   },
   {
    "duration": 9,
    "start_time": "2023-09-02T15:54:33.376Z"
   },
   {
    "duration": 67,
    "start_time": "2023-09-02T15:55:54.589Z"
   },
   {
    "duration": 9,
    "start_time": "2023-09-02T15:56:07.110Z"
   },
   {
    "duration": 10,
    "start_time": "2023-09-02T15:56:20.778Z"
   },
   {
    "duration": 11,
    "start_time": "2023-09-02T15:56:23.740Z"
   },
   {
    "duration": 74,
    "start_time": "2023-09-02T15:58:45.099Z"
   },
   {
    "duration": 84,
    "start_time": "2023-09-02T15:59:32.972Z"
   },
   {
    "duration": 109,
    "start_time": "2023-09-02T16:00:02.703Z"
   },
   {
    "duration": 66,
    "start_time": "2023-09-02T16:00:10.475Z"
   },
   {
    "duration": 79,
    "start_time": "2023-09-02T16:00:20.606Z"
   },
   {
    "duration": 322,
    "start_time": "2023-09-02T16:00:47.997Z"
   },
   {
    "duration": 419,
    "start_time": "2023-09-02T16:01:50.811Z"
   },
   {
    "duration": 69,
    "start_time": "2023-09-02T16:02:01.244Z"
   },
   {
    "duration": 68,
    "start_time": "2023-09-02T16:03:10.615Z"
   },
   {
    "duration": 9,
    "start_time": "2023-09-02T16:04:47.067Z"
   },
   {
    "duration": 12,
    "start_time": "2023-09-02T16:06:11.675Z"
   },
   {
    "duration": 14,
    "start_time": "2023-09-02T16:06:14.370Z"
   },
   {
    "duration": 68,
    "start_time": "2023-09-02T16:06:21.667Z"
   },
   {
    "duration": 5,
    "start_time": "2023-09-02T16:28:22.180Z"
   },
   {
    "duration": 4,
    "start_time": "2023-09-02T16:28:40.899Z"
   },
   {
    "duration": 10,
    "start_time": "2023-09-02T16:30:04.393Z"
   },
   {
    "duration": 9,
    "start_time": "2023-09-02T16:30:08.113Z"
   },
   {
    "duration": 124,
    "start_time": "2023-09-02T16:31:05.881Z"
   },
   {
    "duration": 10,
    "start_time": "2023-09-02T16:31:26.415Z"
   },
   {
    "duration": 1287,
    "start_time": "2023-09-02T16:37:33.501Z"
   },
   {
    "duration": 80,
    "start_time": "2023-09-02T16:37:34.790Z"
   },
   {
    "duration": 40,
    "start_time": "2023-09-02T16:37:34.872Z"
   },
   {
    "duration": 33,
    "start_time": "2023-09-02T16:37:34.913Z"
   },
   {
    "duration": 60,
    "start_time": "2023-09-02T16:37:34.948Z"
   },
   {
    "duration": 9,
    "start_time": "2023-09-02T16:37:35.010Z"
   },
   {
    "duration": 22,
    "start_time": "2023-09-02T16:37:35.020Z"
   },
   {
    "duration": 6,
    "start_time": "2023-09-02T16:37:35.046Z"
   },
   {
    "duration": 11,
    "start_time": "2023-09-02T16:37:35.054Z"
   },
   {
    "duration": 49,
    "start_time": "2023-09-02T16:37:35.066Z"
   },
   {
    "duration": 26,
    "start_time": "2023-09-02T16:37:35.117Z"
   },
   {
    "duration": 6,
    "start_time": "2023-09-02T16:37:35.145Z"
   },
   {
    "duration": 16,
    "start_time": "2023-09-02T16:37:35.153Z"
   },
   {
    "duration": 147,
    "start_time": "2023-09-02T16:37:35.175Z"
   },
   {
    "duration": 12,
    "start_time": "2023-09-02T16:37:35.325Z"
   },
   {
    "duration": 13,
    "start_time": "2023-09-02T16:37:35.340Z"
   },
   {
    "duration": 19,
    "start_time": "2023-09-02T16:37:35.359Z"
   },
   {
    "duration": 339,
    "start_time": "2023-09-02T16:37:35.381Z"
   },
   {
    "duration": 12,
    "start_time": "2023-09-02T16:37:35.721Z"
   },
   {
    "duration": 394,
    "start_time": "2023-09-02T16:37:35.735Z"
   },
   {
    "duration": 270,
    "start_time": "2023-09-02T16:37:36.132Z"
   },
   {
    "duration": 17,
    "start_time": "2023-09-02T16:37:36.404Z"
   },
   {
    "duration": 363,
    "start_time": "2023-09-02T16:37:36.423Z"
   },
   {
    "duration": 244,
    "start_time": "2023-09-02T16:37:36.788Z"
   },
   {
    "duration": 358,
    "start_time": "2023-09-02T16:37:37.033Z"
   },
   {
    "duration": 189,
    "start_time": "2023-09-02T16:37:37.394Z"
   },
   {
    "duration": 187,
    "start_time": "2023-09-02T16:37:37.585Z"
   },
   {
    "duration": 5,
    "start_time": "2023-09-02T16:37:37.773Z"
   },
   {
    "duration": 196,
    "start_time": "2023-09-02T16:37:37.779Z"
   },
   {
    "duration": 5,
    "start_time": "2023-09-02T16:37:37.977Z"
   },
   {
    "duration": 333,
    "start_time": "2023-09-02T16:37:37.984Z"
   },
   {
    "duration": 160,
    "start_time": "2023-09-02T16:37:38.319Z"
   },
   {
    "duration": 40,
    "start_time": "2023-09-02T16:37:38.481Z"
   },
   {
    "duration": 12,
    "start_time": "2023-09-02T16:37:38.523Z"
   },
   {
    "duration": 23,
    "start_time": "2023-09-02T16:37:38.537Z"
   },
   {
    "duration": 9,
    "start_time": "2023-09-02T16:37:38.562Z"
   },
   {
    "duration": 51,
    "start_time": "2023-09-02T16:37:38.573Z"
   },
   {
    "duration": 17,
    "start_time": "2023-09-02T16:37:38.626Z"
   },
   {
    "duration": 363,
    "start_time": "2023-09-02T16:40:18.624Z"
   },
   {
    "duration": 233,
    "start_time": "2023-09-02T16:46:46.228Z"
   },
   {
    "duration": 388,
    "start_time": "2023-09-02T16:47:41.921Z"
   },
   {
    "duration": 246,
    "start_time": "2023-09-02T16:48:12.141Z"
   },
   {
    "duration": 1188,
    "start_time": "2023-09-02T16:48:46.440Z"
   },
   {
    "duration": 79,
    "start_time": "2023-09-02T16:48:47.630Z"
   },
   {
    "duration": 37,
    "start_time": "2023-09-02T16:48:47.711Z"
   },
   {
    "duration": 60,
    "start_time": "2023-09-02T16:48:47.749Z"
   },
   {
    "duration": 28,
    "start_time": "2023-09-02T16:48:47.813Z"
   },
   {
    "duration": 7,
    "start_time": "2023-09-02T16:48:47.842Z"
   },
   {
    "duration": 23,
    "start_time": "2023-09-02T16:48:47.851Z"
   },
   {
    "duration": 6,
    "start_time": "2023-09-02T16:48:47.910Z"
   },
   {
    "duration": 26,
    "start_time": "2023-09-02T16:48:47.918Z"
   },
   {
    "duration": 29,
    "start_time": "2023-09-02T16:48:47.946Z"
   },
   {
    "duration": 50,
    "start_time": "2023-09-02T16:48:47.976Z"
   },
   {
    "duration": 30,
    "start_time": "2023-09-02T16:48:48.028Z"
   },
   {
    "duration": 50,
    "start_time": "2023-09-02T16:48:48.059Z"
   },
   {
    "duration": 88,
    "start_time": "2023-09-02T16:48:48.112Z"
   },
   {
    "duration": 10,
    "start_time": "2023-09-02T16:48:48.202Z"
   },
   {
    "duration": 39,
    "start_time": "2023-09-02T16:48:48.214Z"
   },
   {
    "duration": 31,
    "start_time": "2023-09-02T16:48:48.255Z"
   },
   {
    "duration": 332,
    "start_time": "2023-09-02T16:48:48.287Z"
   },
   {
    "duration": 9,
    "start_time": "2023-09-02T16:48:48.620Z"
   },
   {
    "duration": 374,
    "start_time": "2023-09-02T16:48:48.630Z"
   },
   {
    "duration": 257,
    "start_time": "2023-09-02T16:48:49.006Z"
   },
   {
    "duration": 12,
    "start_time": "2023-09-02T16:48:49.266Z"
   },
   {
    "duration": 391,
    "start_time": "2023-09-02T16:48:49.279Z"
   },
   {
    "duration": 257,
    "start_time": "2023-09-02T16:48:49.672Z"
   },
   {
    "duration": 382,
    "start_time": "2023-09-02T16:48:49.931Z"
   },
   {
    "duration": 159,
    "start_time": "2023-09-02T16:48:50.315Z"
   },
   {
    "duration": 199,
    "start_time": "2023-09-02T16:48:50.476Z"
   },
   {
    "duration": 4,
    "start_time": "2023-09-02T16:48:50.677Z"
   },
   {
    "duration": 214,
    "start_time": "2023-09-02T16:48:50.683Z"
   },
   {
    "duration": 11,
    "start_time": "2023-09-02T16:48:50.899Z"
   },
   {
    "duration": 329,
    "start_time": "2023-09-02T16:48:50.911Z"
   },
   {
    "duration": 167,
    "start_time": "2023-09-02T16:48:51.242Z"
   },
   {
    "duration": 25,
    "start_time": "2023-09-02T16:48:51.412Z"
   },
   {
    "duration": 12,
    "start_time": "2023-09-02T16:48:51.439Z"
   },
   {
    "duration": 98,
    "start_time": "2023-09-02T16:48:51.452Z"
   },
   {
    "duration": 28,
    "start_time": "2023-09-02T16:48:51.552Z"
   },
   {
    "duration": 51,
    "start_time": "2023-09-02T16:48:51.582Z"
   },
   {
    "duration": 19,
    "start_time": "2023-09-02T16:48:51.635Z"
   }
  ],
  "celltoolbar": "Отсутствует",
  "kernelspec": {
   "display_name": "Python 3 (ipykernel)",
   "language": "python",
   "name": "python3"
  },
  "language_info": {
   "codemirror_mode": {
    "name": "ipython",
    "version": 3
   },
   "file_extension": ".py",
   "mimetype": "text/x-python",
   "name": "python",
   "nbconvert_exporter": "python",
   "pygments_lexer": "ipython3",
   "version": "3.9.12"
  },
  "toc": {
   "base_numbering": 1,
   "nav_menu": {},
   "number_sections": true,
   "sideBar": true,
   "skip_h1_title": false,
   "title_cell": "Table of Contents",
   "title_sidebar": "Contents",
   "toc_cell": false,
   "toc_position": {
    "height": "calc(100% - 180px)",
    "left": "10px",
    "top": "150px",
    "width": "248.892px"
   },
   "toc_section_display": true,
   "toc_window_display": false
  }
 },
 "nbformat": 4,
 "nbformat_minor": 2
}
